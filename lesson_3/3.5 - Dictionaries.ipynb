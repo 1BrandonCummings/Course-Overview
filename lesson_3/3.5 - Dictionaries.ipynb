{
 "metadata": {
  "name": ""
 },
 "nbformat": 3,
 "nbformat_minor": 0,
 "worksheets": [
  {
   "cells": [
    {
     "cell_type": "markdown",
     "metadata": {},
     "source": [
      "#Dictionaries\n",
      "\n",
      "Dictionaries are another foundational data structure. Their more technical name is a hash table or hash map however we're going to ignore the implementation of a dictionary just focus on what it gives us.\n",
      "\n",
      "Dictionaries are called hash maps because they *map* from a key *a hashable type* to a value. Keys have to be hashable, meaning they have to be immutable.\n",
      "\n",
      "Creating a dictionary can be done in several ways.\n",
      "\n",
      "It can be done with the `dict` keyword or with the {} brackets."
     ]
    },
    {
     "cell_type": "code",
     "collapsed": false,
     "input": [
      "a = dict(one=1, two=2, three=3)\n",
      "print(a)"
     ],
     "language": "python",
     "metadata": {},
     "outputs": [
      {
       "output_type": "stream",
       "stream": "stdout",
       "text": [
        "{'two': 2, 'one': 1, 'three': 3}\n"
       ]
      }
     ],
     "prompt_number": 127
    },
    {
     "cell_type": "markdown",
     "metadata": {},
     "source": [
      "You can see that their print representation is with the later way of creating them.\n",
      "\n",
      "You'll also notice right away that the order changed. That's because, unlike lists and tuples, there is no order.\n"
     ]
    },
    {
     "cell_type": "markdown",
     "metadata": {},
     "source": [
      "Here are some other ways of creating dictionaries"
     ]
    },
    {
     "cell_type": "code",
     "collapsed": false,
     "input": [
      "b = {'one': 1, 'two': 2, 'three': 3}\n",
      "c = dict(zip(['one', 'two', 'three'], [1, 2, 3]))\n",
      "d = dict([('two', 2), ('one', 1), ('three', 3)])\n",
      "e = dict({'three': 3, 'one': 1, 'two': 2})\n",
      "f = {'two':2,'three':3,'one':1}"
     ],
     "language": "python",
     "metadata": {},
     "outputs": [],
     "prompt_number": 128
    },
    {
     "cell_type": "markdown",
     "metadata": {},
     "source": [
      "You'll see that all of these are equal as well even though they're created in different ways."
     ]
    },
    {
     "cell_type": "code",
     "collapsed": false,
     "input": [
      "a == b == c == d == e == f"
     ],
     "language": "python",
     "metadata": {},
     "outputs": [
      {
       "metadata": {},
       "output_type": "pyout",
       "prompt_number": 129,
       "text": [
        "True"
       ]
      }
     ],
     "prompt_number": 129
    },
    {
     "cell_type": "markdown",
     "metadata": {},
     "source": [
      "Now dictionaries are pretty straight foward. You can deposit certain values, and then get them back and as long as the key was the same. You'll get the same value.\n",
      "\n",
      "An easy example might be a phone number for a customer."
     ]
    },
    {
     "cell_type": "code",
     "collapsed": false,
     "input": [
      "area_code = 510\n",
      "number = 5563321\n",
      "phone_number = (area_code, number)\n",
      "print(phone_number)\n",
      "rolodex = {phone_number: \"Mary\"}\n",
      "print(rolodex)"
     ],
     "language": "python",
     "metadata": {},
     "outputs": [
      {
       "output_type": "stream",
       "stream": "stdout",
       "text": [
        "(510, 5563321)\n",
        "{(510, 5563321): 'Mary'}\n"
       ]
      }
     ],
     "prompt_number": 130
    },
    {
     "cell_type": "markdown",
     "metadata": {},
     "source": [
      "So we created a tuple with the phone number, and entered in a name. Now when we get a phone call and we want to see who it is, we just enter in the phone number in the same format."
     ]
    },
    {
     "cell_type": "code",
     "collapsed": false,
     "input": [
      "print(rolodex[(510, 5563321)])"
     ],
     "language": "python",
     "metadata": {},
     "outputs": [
      {
       "output_type": "stream",
       "stream": "stdout",
       "text": [
        "Mary\n"
       ]
      }
     ],
     "prompt_number": 131
    },
    {
     "cell_type": "markdown",
     "metadata": {},
     "source": [
      "Now what happens if we were to enter in another number? Or we tried to pull out a key that wasn't there?"
     ]
    },
    {
     "cell_type": "code",
     "collapsed": false,
     "input": [
      "rolodex[(415, 5563321)]"
     ],
     "language": "python",
     "metadata": {},
     "outputs": [
      {
       "ename": "KeyError",
       "evalue": "(415, 5563321)",
       "output_type": "pyerr",
       "traceback": [
        "\u001b[0;31m---------------------------------------------------------------------------\u001b[0m\n\u001b[0;31mKeyError\u001b[0m                                  Traceback (most recent call last)",
        "\u001b[0;32m<ipython-input-132-d135251b9e55>\u001b[0m in \u001b[0;36m<module>\u001b[0;34m()\u001b[0m\n\u001b[0;32m----> 1\u001b[0;31m \u001b[0mrolodex\u001b[0m\u001b[0;34m[\u001b[0m\u001b[0;34m(\u001b[0m\u001b[0;36m415\u001b[0m\u001b[0;34m,\u001b[0m \u001b[0;36m5563321\u001b[0m\u001b[0;34m)\u001b[0m\u001b[0;34m]\u001b[0m\u001b[0;34m\u001b[0m\u001b[0m\n\u001b[0m",
        "\u001b[0;31mKeyError\u001b[0m: (415, 5563321)"
       ]
      }
     ],
     "prompt_number": 132
    },
    {
     "cell_type": "code",
     "collapsed": false,
     "input": [
      "rolodex[(415, 5563321)] = \"Jeff\""
     ],
     "language": "python",
     "metadata": {},
     "outputs": [],
     "prompt_number": 133
    },
    {
     "cell_type": "markdown",
     "metadata": {},
     "source": [
      "We got a KeyError, because that key doesn't exist. Obviously the keys are the most important part of dictionaries because if you lose them, you could be in trouble.\n",
      "\n",
      "We can delete keys similar to the way that we deleted index locations in a list."
     ]
    },
    {
     "cell_type": "code",
     "collapsed": false,
     "input": [
      "del rolodex[phone_number]"
     ],
     "language": "python",
     "metadata": {},
     "outputs": [],
     "prompt_number": 134
    },
    {
     "cell_type": "code",
     "collapsed": false,
     "input": [
      "print(rolodex)"
     ],
     "language": "python",
     "metadata": {},
     "outputs": [
      {
       "output_type": "stream",
       "stream": "stdout",
       "text": [
        "{(415, 5563321): 'Jeff'}\n"
       ]
      }
     ],
     "prompt_number": 135
    },
    {
     "cell_type": "markdown",
     "metadata": {},
     "source": [
      "we can also use the pop method that we learned with lists as well. It allows us to remove a certain key. If that key doesn't exist, then we can set a default value."
     ]
    },
    {
     "cell_type": "code",
     "collapsed": false,
     "input": [
      "rolodex.pop((415, 5563321), \"Jos\u00e9\")"
     ],
     "language": "python",
     "metadata": {},
     "outputs": [
      {
       "metadata": {},
       "output_type": "pyout",
       "prompt_number": 153,
       "text": [
        "'Jeff'"
       ]
      }
     ],
     "prompt_number": 153
    },
    {
     "cell_type": "code",
     "collapsed": false,
     "input": [
      "rolodex.pop((415, 5563321), \"Jos\u00e9\")"
     ],
     "language": "python",
     "metadata": {},
     "outputs": [
      {
       "metadata": {},
       "output_type": "pyout",
       "prompt_number": 154,
       "text": [
        "'Jos\u00e9'"
       ]
      }
     ],
     "prompt_number": 154
    },
    {
     "cell_type": "markdown",
     "metadata": {},
     "source": [
      "We can also get the number of keys in dictionary using the len command."
     ]
    },
    {
     "cell_type": "code",
     "collapsed": false,
     "input": [
      "len(rolodex)"
     ],
     "language": "python",
     "metadata": {},
     "outputs": [
      {
       "metadata": {},
       "output_type": "pyout",
       "prompt_number": 136,
       "text": [
        "1"
       ]
      }
     ],
     "prompt_number": 136
    },
    {
     "cell_type": "code",
     "collapsed": false,
     "input": [
      "eng_spanish = {\"Greetings\": [\"Hola\", \"Buenos Dias\"], \"Goodbye\": \"Adios\"}"
     ],
     "language": "python",
     "metadata": {},
     "outputs": [],
     "prompt_number": 137
    },
    {
     "cell_type": "markdown",
     "metadata": {},
     "source": [
      "One thing that's cool about dictionaries is that the values can be basically any type. They can be lists, tuples, other dictionaries."
     ]
    },
    {
     "cell_type": "code",
     "collapsed": false,
     "input": [
      "print(eng_spanish)"
     ],
     "language": "python",
     "metadata": {},
     "outputs": [
      {
       "output_type": "stream",
       "stream": "stdout",
       "text": [
        "{'Goodbye': 'Adios', 'Greetings': ['Hola', 'Buenos Dias']}\n"
       ]
      }
     ],
     "prompt_number": 138
    },
    {
     "cell_type": "code",
     "collapsed": false,
     "input": [
      "eng_spanish['Goodbye'] = {\"Traditional\":\"Adios\",\"Friendly\":\"Nos vemos\"}"
     ],
     "language": "python",
     "metadata": {},
     "outputs": [],
     "prompt_number": 139
    },
    {
     "cell_type": "code",
     "collapsed": false,
     "input": [
      "eng_spanish"
     ],
     "language": "python",
     "metadata": {},
     "outputs": [
      {
       "metadata": {},
       "output_type": "pyout",
       "prompt_number": 140,
       "text": [
        "{'Goodbye': {'Friendly': 'Nos vemos', 'Traditional': 'Adios'},\n",
        " 'Greetings': ['Hola', 'Buenos Dias']}"
       ]
      }
     ],
     "prompt_number": 140
    },
    {
     "cell_type": "markdown",
     "metadata": {},
     "source": [
      "We can check for existence if we need to, maybe before we try and pull a key from a dictionary."
     ]
    },
    {
     "cell_type": "code",
     "collapsed": false,
     "input": [
      "\"Greetings\" in eng_spanish"
     ],
     "language": "python",
     "metadata": {},
     "outputs": [
      {
       "metadata": {},
       "output_type": "pyout",
       "prompt_number": 141,
       "text": [
        "True"
       ]
      }
     ],
     "prompt_number": 141
    },
    {
     "cell_type": "code",
     "collapsed": false,
     "input": [
      "\"Interactions\" not in eng_spanish"
     ],
     "language": "python",
     "metadata": {},
     "outputs": [
      {
       "metadata": {},
       "output_type": "pyout",
       "prompt_number": 142,
       "text": [
        "True"
       ]
      }
     ],
     "prompt_number": 142
    },
    {
     "cell_type": "markdown",
     "metadata": {},
     "source": [
      "Again like in lists, we can clear out the values or create a shallow copy if we need to as well. However we remember the tricks of the `shallow copy` so we won't be falling for them again!"
     ]
    },
    {
     "cell_type": "code",
     "collapsed": false,
     "input": [
      "eng_copy = eng_spanish.copy()"
     ],
     "language": "python",
     "metadata": {},
     "outputs": [],
     "prompt_number": 143
    },
    {
     "cell_type": "code",
     "collapsed": false,
     "input": [
      "eng_copy"
     ],
     "language": "python",
     "metadata": {},
     "outputs": [
      {
       "metadata": {},
       "output_type": "pyout",
       "prompt_number": 144,
       "text": [
        "{'Goodbye': {'Friendly': 'Nos vemos', 'Traditional': 'Adios'},\n",
        " 'Greetings': ['Hola', 'Buenos Dias']}"
       ]
      }
     ],
     "prompt_number": 144
    },
    {
     "cell_type": "code",
     "collapsed": false,
     "input": [
      "eng_spanish.clear()"
     ],
     "language": "python",
     "metadata": {},
     "outputs": [],
     "prompt_number": 145
    },
    {
     "cell_type": "code",
     "collapsed": false,
     "input": [
      "eng_copy"
     ],
     "language": "python",
     "metadata": {},
     "outputs": [
      {
       "metadata": {},
       "output_type": "pyout",
       "prompt_number": 146,
       "text": [
        "{'Goodbye': {'Friendly': 'Nos vemos', 'Traditional': 'Adios'},\n",
        " 'Greetings': ['Hola', 'Buenos Dias']}"
       ]
      }
     ],
     "prompt_number": 146
    },
    {
     "cell_type": "markdown",
     "metadata": {},
     "source": [
      "One of the most helpful methods is the `get` method, that allows us to set a default for values that don't exist in a dictionary. You can use this when you hope to get something back, but if it's not there you want to create a new value right away."
     ]
    },
    {
     "cell_type": "code",
     "collapsed": false,
     "input": [
      "eng_copy.get(\"How are you?\", \"\u00bfComo Est\u00e1s?\")"
     ],
     "language": "python",
     "metadata": {},
     "outputs": [
      {
       "metadata": {},
       "output_type": "pyout",
       "prompt_number": 147,
       "text": [
        "'\u00bfComo Est\u00e1s?'"
       ]
      }
     ],
     "prompt_number": 147
    },
    {
     "cell_type": "code",
     "collapsed": false,
     "input": [
      "print(eng_copy)"
     ],
     "language": "python",
     "metadata": {},
     "outputs": [
      {
       "output_type": "stream",
       "stream": "stdout",
       "text": [
        "{'Goodbye': {'Traditional': 'Adios', 'Friendly': 'Nos vemos'}, 'Greetings': ['Hola', 'Buenos Dias']}\n"
       ]
      }
     ],
     "prompt_number": 148
    },
    {
     "cell_type": "markdown",
     "metadata": {},
     "source": [
      "One of the helpful things, is that sometimes you want to get all the keys and values in a dictionary. We've got a variety of methods to help us out with this."
     ]
    },
    {
     "cell_type": "code",
     "collapsed": false,
     "input": [
      "eng_copy.keys()"
     ],
     "language": "python",
     "metadata": {},
     "outputs": [
      {
       "metadata": {},
       "output_type": "pyout",
       "prompt_number": 149,
       "text": [
        "dict_keys(['Goodbye', 'Greetings'])"
       ]
      }
     ],
     "prompt_number": 149
    },
    {
     "cell_type": "code",
     "collapsed": false,
     "input": [
      "eng_copy.values()"
     ],
     "language": "python",
     "metadata": {},
     "outputs": [
      {
       "metadata": {},
       "output_type": "pyout",
       "prompt_number": 150,
       "text": [
        "dict_values([{'Traditional': 'Adios', 'Friendly': 'Nos vemos'}, ['Hola', 'Buenos Dias']])"
       ]
      }
     ],
     "prompt_number": 150
    },
    {
     "cell_type": "markdown",
     "metadata": {},
     "source": [
      "Gets a list of tuples in a `(Key, Value)` pairing."
     ]
    },
    {
     "cell_type": "code",
     "collapsed": false,
     "input": [
      "eng_copy.items()"
     ],
     "language": "python",
     "metadata": {},
     "outputs": [
      {
       "metadata": {},
       "output_type": "pyout",
       "prompt_number": 151,
       "text": [
        "dict_items([('Goodbye', {'Traditional': 'Adios', 'Friendly': 'Nos vemos'}), ('Greetings', ['Hola', 'Buenos Dias'])])"
       ]
      }
     ],
     "prompt_number": 151
    },
    {
     "cell_type": "markdown",
     "metadata": {},
     "source": [
      "There are some other helpful methods, we can update the values from another dictionary if we want to."
     ]
    },
    {
     "cell_type": "code",
     "collapsed": false,
     "input": [
      "eng_copy.update({\"Something\":\"Else\", \"Larry\":\"Bird\"})"
     ],
     "language": "python",
     "metadata": {},
     "outputs": [],
     "prompt_number": 159
    },
    {
     "cell_type": "code",
     "collapsed": false,
     "input": [
      "eng_copy"
     ],
     "language": "python",
     "metadata": {},
     "outputs": [
      {
       "metadata": {},
       "output_type": "pyout",
       "prompt_number": 160,
       "text": [
        "{'Goodbye': {'Friendly': 'Nos vemos', 'Traditional': 'Adios'},\n",
        " 'Greetings': ['Hola', 'Buenos Dias'],\n",
        " 'Larry': 'Bird',\n",
        " 'Something': 'Else'}"
       ]
      }
     ],
     "prompt_number": 160
    },
    {
     "cell_type": "markdown",
     "metadata": {},
     "source": [
      "Now we've covered the majority of the dictionary now. We've figured out how to create and destroy parts of a dictionary, update it, and understand the data structure itself. There's a lot under the hood of the implementation of a hash map, it's an interesting and sophisticated data structure that's truly foundational to computer science.\n",
      "\n",
      "It can certainly take some time to wrap your head around but I would encourage you to spend some time playing around with dictionaries. Try to make dictionaries from lists, to make them to include lists and dictionaries."
     ]
    }
   ],
   "metadata": {}
  }
 ]
}