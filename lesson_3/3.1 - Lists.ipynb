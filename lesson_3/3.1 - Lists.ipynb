{
 "metadata": {
  "name": ""
 },
 "nbformat": 3,
 "nbformat_minor": 0,
 "worksheets": [
  {
   "cells": [
    {
     "cell_type": "markdown",
     "metadata": {},
     "source": [
      "Every language has its own set of containers to store things in. Now there are many different ways of storing things.\n",
      "\n",
      "Let's think about it, if I have n objects, I can:\n",
      "\n",
      "- Line them up in the order that I receive them and keep adding to these as I get more\n",
      "- I can put them in a container with a specific label or name for that thing, like a dictionary.\n",
      "- I can make a package of several of them that I can't add to any longer\n",
      "\n",
      "I can even do combinations of what's mentioned above, I could have a list of dictionaries for example.\n",
      "\n",
      "Now while I've explained these plain english ideas and concepts, let's see what they look like in python. We'll start with the basics and move on to things that are slightly more advanced."
     ]
    },
    {
     "cell_type": "markdown",
     "metadata": {},
     "source": [
      "We're going to start with a list, one of the simpler structures."
     ]
    },
    {
     "cell_type": "markdown",
     "metadata": {},
     "source": [
      "#Lists"
     ]
    },
    {
     "cell_type": "markdown",
     "metadata": {},
     "source": [
      "Lists are an ordered arrangement of items. These items can be a mix of types, they can be composed of strings, integers, floats, virtually anything. You can also repeat values in a list, so they're not unique.\n",
      "\n",
      "There are a variety of ways that we can create lists, the simplest being square brackets."
     ]
    },
    {
     "cell_type": "code",
     "collapsed": false,
     "input": [
      "[]"
     ],
     "language": "python",
     "metadata": {},
     "outputs": [
      {
       "metadata": {},
       "output_type": "pyout",
       "prompt_number": 1,
       "text": [
        "[]"
       ]
      }
     ],
     "prompt_number": 1
    },
    {
     "cell_type": "markdown",
     "metadata": {},
     "source": [
      "We can also make a list by comma seperating items and putting them within the square brackets."
     ]
    },
    {
     "cell_type": "code",
     "collapsed": false,
     "input": [
      "[1,2,1,2]"
     ],
     "language": "python",
     "metadata": {},
     "outputs": [
      {
       "metadata": {},
       "output_type": "pyout",
       "prompt_number": 2,
       "text": [
        "[1, 2, 1, 2]"
       ]
      }
     ],
     "prompt_number": 2
    },
    {
     "cell_type": "markdown",
     "metadata": {},
     "source": [
      "Now in our last lesson we learned about strings, let's try and dive a bit deeper into strings and how they work.\n",
      "\n",
      "For example, you might expect that list('hello') would give you back a ['hello'] style list. This is incorrect."
     ]
    },
    {
     "cell_type": "code",
     "collapsed": false,
     "input": [
      "list('hello')"
     ],
     "language": "python",
     "metadata": {},
     "outputs": [
      {
       "metadata": {},
       "output_type": "pyout",
       "prompt_number": 3,
       "text": [
        "['h', 'e', 'l', 'l', 'o']"
       ]
      }
     ],
     "prompt_number": 3
    },
    {
     "cell_type": "markdown",
     "metadata": {},
     "source": [
      "You can see that actually what happens is that a string is treated as `a list of characters`. Formally, if the parameter passed into the list function is an `iterable` meaning that you can iterate over its items. When an item is passed into the `list` constructor, then python will extract those and treat them as an individual item.\n",
      "\n",
      "This comes up with any type that is iterable, for example a `set` behaves the same way."
     ]
    },
    {
     "cell_type": "code",
     "collapsed": false,
     "input": [
      "(5,6,7) # this is a way to construct a set\n",
      "list((5,6,7))"
     ],
     "language": "python",
     "metadata": {},
     "outputs": [
      {
       "metadata": {},
       "output_type": "pyout",
       "prompt_number": 4,
       "text": [
        "[5, 6, 7]"
       ]
      }
     ],
     "prompt_number": 4
    },
    {
     "cell_type": "markdown",
     "metadata": {},
     "source": [
      "In simplest terms, sets are like lists but they cannot change and don't have duplicate values. We'll be touching on what a set is more precisely a bit later in this section.\n",
      "\n",
      "Let's move on to creating and editing our own lists."
     ]
    },
    {
     "cell_type": "markdown",
     "metadata": {},
     "source": [
      "The word `list` is a reserved keyword in python so you can't assign something to the variable name of `list`. (hint: don't try and name your list, `list` :) )"
     ]
    },
    {
     "cell_type": "code",
     "collapsed": false,
     "input": [
      "list"
     ],
     "language": "python",
     "metadata": {},
     "outputs": [
      {
       "metadata": {},
       "output_type": "pyout",
       "prompt_number": 5,
       "text": [
        "builtins.list"
       ]
      }
     ],
     "prompt_number": 5
    },
    {
     "cell_type": "markdown",
     "metadata": {},
     "source": [
      "We learned about variable creation in previous lessons and many other names are fair game so let's try a different name besides list."
     ]
    },
    {
     "cell_type": "code",
     "collapsed": false,
     "input": [
      "first_list = [1,2,3,4,5]\n",
      "second_list = [6,7,8,9]"
     ],
     "language": "python",
     "metadata": {},
     "outputs": [],
     "prompt_number": 6
    },
    {
     "cell_type": "code",
     "collapsed": false,
     "input": [
      "first_list"
     ],
     "language": "python",
     "metadata": {},
     "outputs": [
      {
       "metadata": {},
       "output_type": "pyout",
       "prompt_number": 7,
       "text": [
        "[1, 2, 3, 4, 5]"
       ]
      }
     ],
     "prompt_number": 7
    },
    {
     "cell_type": "code",
     "collapsed": false,
     "input": [
      "second_list"
     ],
     "language": "python",
     "metadata": {},
     "outputs": [
      {
       "metadata": {},
       "output_type": "pyout",
       "prompt_number": 8,
       "text": [
        "[6, 7, 8, 9]"
       ]
      }
     ],
     "prompt_number": 8
    },
    {
     "cell_type": "markdown",
     "metadata": {},
     "source": [
      "Now creating a static list isn't too helpful, we need a simple way to change this list. \n",
      "\n",
      "Above we mentioned that we might want to create a list that we can add to. Luckily, any list is capable of doing that. \n",
      "\n",
      "In python, certain types of collections, like lists, have common operations that work on all of them. Let's explore some of those methods now."
     ]
    },
    {
     "cell_type": "markdown",
     "metadata": {},
     "source": [
      "##General Sequence Methods"
     ]
    },
    {
     "cell_type": "markdown",
     "metadata": {},
     "source": [
      "All lists share some common methods (or operations) that you can use to get information about a certain list or change that list in some way."
     ]
    },
    {
     "cell_type": "markdown",
     "metadata": {},
     "source": [
      "We can check if a certain item exists in a list with the `in` and `not` keywords.\n",
      "\n",
      "`in` will give you answer to the question, does this value exist in the following list?\n",
      "\n",
      "`not in` will give you an answer to the question, does this value not exist in my list?\n",
      "\n",
      "These will both return boolean types or just `True` `False` values."
     ]
    },
    {
     "cell_type": "code",
     "collapsed": false,
     "input": [
      "three = 3\n",
      "seven = 7"
     ],
     "language": "python",
     "metadata": {},
     "outputs": [],
     "prompt_number": 9
    },
    {
     "cell_type": "code",
     "collapsed": false,
     "input": [
      "three in first_list"
     ],
     "language": "python",
     "metadata": {},
     "outputs": [
      {
       "metadata": {},
       "output_type": "pyout",
       "prompt_number": 10,
       "text": [
        "True"
       ]
      }
     ],
     "prompt_number": 10
    },
    {
     "cell_type": "code",
     "collapsed": false,
     "input": [
      "seven in first_list"
     ],
     "language": "python",
     "metadata": {},
     "outputs": [
      {
       "metadata": {},
       "output_type": "pyout",
       "prompt_number": 11,
       "text": [
        "False"
       ]
      }
     ],
     "prompt_number": 11
    },
    {
     "cell_type": "code",
     "collapsed": false,
     "input": [
      "seven in second_list"
     ],
     "language": "python",
     "metadata": {},
     "outputs": [
      {
       "metadata": {},
       "output_type": "pyout",
       "prompt_number": 12,
       "text": [
        "True"
       ]
      }
     ],
     "prompt_number": 12
    },
    {
     "cell_type": "code",
     "collapsed": false,
     "input": [
      "three in second_list"
     ],
     "language": "python",
     "metadata": {},
     "outputs": [
      {
       "metadata": {},
       "output_type": "pyout",
       "prompt_number": 13,
       "text": [
        "False"
       ]
      }
     ],
     "prompt_number": 13
    },
    {
     "cell_type": "markdown",
     "metadata": {},
     "source": [
      "So we can check for existence in a pretty straightforward way. Another useful method is to join to two lists together. For example, first and second list should be joined to give us the numbers from 1 to 9. All we have to do to join them together is use the plus keyword. This will leave the original lists unchanged and return a new list."
     ]
    },
    {
     "cell_type": "code",
     "collapsed": false,
     "input": [
      "first_list + second_list"
     ],
     "language": "python",
     "metadata": {},
     "outputs": [
      {
       "metadata": {},
       "output_type": "pyout",
       "prompt_number": 14,
       "text": [
        "[1, 2, 3, 4, 5, 6, 7, 8, 9]"
       ]
      }
     ],
     "prompt_number": 14
    },
    {
     "cell_type": "code",
     "collapsed": false,
     "input": [
      "print(first_list)"
     ],
     "language": "python",
     "metadata": {},
     "outputs": [
      {
       "output_type": "stream",
       "stream": "stdout",
       "text": [
        "[1, 2, 3, 4, 5]\n"
       ]
      }
     ],
     "prompt_number": 15
    },
    {
     "cell_type": "code",
     "collapsed": false,
     "input": [
      "print(second_list)"
     ],
     "language": "python",
     "metadata": {},
     "outputs": [
      {
       "output_type": "stream",
       "stream": "stdout",
       "text": [
        "[6, 7, 8, 9]\n"
       ]
      }
     ],
     "prompt_number": 16
    },
    {
     "cell_type": "code",
     "collapsed": false,
     "input": [
      "third_list = first_list + second_list"
     ],
     "language": "python",
     "metadata": {},
     "outputs": [],
     "prompt_number": 17
    },
    {
     "cell_type": "code",
     "collapsed": false,
     "input": [
      "third_list"
     ],
     "language": "python",
     "metadata": {},
     "outputs": [
      {
       "metadata": {},
       "output_type": "pyout",
       "prompt_number": 18,
       "text": [
        "[1, 2, 3, 4, 5, 6, 7, 8, 9]"
       ]
      }
     ],
     "prompt_number": 18
    },
    {
     "cell_type": "markdown",
     "metadata": {},
     "source": [
      "Now we've got an entirely new list with our original lists unchanged."
     ]
    },
    {
     "cell_type": "markdown",
     "metadata": {},
     "source": [
      "We can also get items out of lists by slicing up lists."
     ]
    },
    {
     "cell_type": "code",
     "collapsed": false,
     "input": [
      "third_list[1]"
     ],
     "language": "python",
     "metadata": {},
     "outputs": [
      {
       "metadata": {},
       "output_type": "pyout",
       "prompt_number": 29,
       "text": [
        "2"
       ]
      }
     ],
     "prompt_number": 29
    },
    {
     "cell_type": "markdown",
     "metadata": {},
     "source": [
      "Now something you will likely run into is that python lists are zero-based sequences, so the first item is 0 and the second one is 1 and so on.\n",
      "\n",
      "That means that in order to get the first item we have to use 0."
     ]
    },
    {
     "cell_type": "code",
     "collapsed": false,
     "input": [
      "third_list[0]"
     ],
     "language": "python",
     "metadata": {},
     "outputs": [
      {
       "metadata": {},
       "output_type": "pyout",
       "prompt_number": 32,
       "text": [
        "1"
       ]
      }
     ],
     "prompt_number": 32
    },
    {
     "cell_type": "markdown",
     "metadata": {},
     "source": [
      "In order to get the first 5, we need to slice from 0 to 5. That's because a `slice` is not inclusive, meaning it doesn't include the last value."
     ]
    },
    {
     "cell_type": "code",
     "collapsed": false,
     "input": [
      "third_list[0:5]"
     ],
     "language": "python",
     "metadata": {},
     "outputs": [
      {
       "metadata": {},
       "output_type": "pyout",
       "prompt_number": 33,
       "text": [
        "[1, 2, 3, 4, 5]"
       ]
      }
     ],
     "prompt_number": 33
    },
    {
     "cell_type": "markdown",
     "metadata": {},
     "source": [
      "We can also do things like get every third number from this list, starting at the first position. We can do so with the step option on a slice."
     ]
    },
    {
     "cell_type": "code",
     "collapsed": false,
     "input": [
      "third_list[1::3]"
     ],
     "language": "python",
     "metadata": {},
     "outputs": [
      {
       "metadata": {},
       "output_type": "pyout",
       "prompt_number": 39,
       "text": [
        "[2, 5, 8]"
       ]
      }
     ],
     "prompt_number": 39
    },
    {
     "cell_type": "markdown",
     "metadata": {},
     "source": [
      "Now this will undoubtedly be confusing as you may be wondering why we're using two colons. \n",
      "\n",
      "What we are actually doing is slicing the initial value all the way to the end of the list. You can see that when we write it this way."
     ]
    },
    {
     "cell_type": "code",
     "collapsed": false,
     "input": [
      "third_list[1:] == third_list[1:10] # same operation"
     ],
     "language": "python",
     "metadata": {},
     "outputs": [
      {
       "metadata": {},
       "output_type": "pyout",
       "prompt_number": 44,
       "text": [
        "True"
       ]
      }
     ],
     "prompt_number": 44
    },
    {
     "cell_type": "markdown",
     "metadata": {},
     "source": [
      "If we're going to start at the beginning we can actually just omit the first value."
     ]
    },
    {
     "cell_type": "code",
     "collapsed": false,
     "input": [
      "third_list[:5]"
     ],
     "language": "python",
     "metadata": {},
     "outputs": [
      {
       "metadata": {},
       "output_type": "pyout",
       "prompt_number": 43,
       "text": [
        "[1, 2, 3, 4, 5]"
       ]
      }
     ],
     "prompt_number": 43
    },
    {
     "cell_type": "markdown",
     "metadata": {},
     "source": [
      "To return to figuring out steps, what we're doing is adding an option for a *step* that determines the spacing between the values that we are getting back.\n",
      "\n",
      "For example, this is:\n",
      "\n",
      "The values from the 0 index up to the 5th index by steps of 2"
     ]
    },
    {
     "cell_type": "code",
     "collapsed": false,
     "input": [
      "third_list[0:5:2]"
     ],
     "language": "python",
     "metadata": {},
     "outputs": [
      {
       "metadata": {},
       "output_type": "pyout",
       "prompt_number": 37,
       "text": [
        "[1, 3, 5]"
       ]
      }
     ],
     "prompt_number": 37
    },
    {
     "cell_type": "markdown",
     "metadata": {},
     "source": [
      "Which gives us the values in a list. \n",
      "\n",
      "the format is `[start:stop:step]`\n",
      "\n",
      "Slicing will always give you a list back."
     ]
    },
    {
     "cell_type": "markdown",
     "metadata": {},
     "source": [
      "Lists also give you other helpful methods, allowing you to get the length, minimum, and maximum relatively easily."
     ]
    },
    {
     "cell_type": "code",
     "collapsed": false,
     "input": [
      "print(len(third_list)) # length\n",
      "print(min(third_list))\n",
      "print(max(third_list))"
     ],
     "language": "python",
     "metadata": {},
     "outputs": [
      {
       "output_type": "stream",
       "stream": "stdout",
       "text": [
        "9\n",
        "1\n",
        "9\n"
       ]
      }
     ],
     "prompt_number": 38
    },
    {
     "cell_type": "markdown",
     "metadata": {},
     "source": [
      "We can also get occurences of a value with `index`. This basically allows us to get the index location of certain values."
     ]
    },
    {
     "cell_type": "markdown",
     "metadata": {},
     "source": [
      "We can do that by creating a new list with a couple of values in there. We can get the index location, the location in the list with index."
     ]
    },
    {
     "cell_type": "code",
     "collapsed": false,
     "input": [
      "my_list = [1,2,2,3,3,4,3]"
     ],
     "language": "python",
     "metadata": {},
     "outputs": [],
     "prompt_number": 45
    },
    {
     "cell_type": "code",
     "collapsed": false,
     "input": [
      "my_list.index(3)"
     ],
     "language": "python",
     "metadata": {},
     "outputs": [
      {
       "metadata": {},
       "output_type": "pyout",
       "prompt_number": 47,
       "text": [
        "3"
       ]
      }
     ],
     "prompt_number": 47
    },
    {
     "cell_type": "markdown",
     "metadata": {},
     "source": [
      "Once we get one value, we might want to get the next one. We can do this by setting the start and stop points of an index. This means that it will start at a certain index point and get everything up until the stop point. These are *optional* values so they don't need to be supplied (as in the example above)."
     ]
    },
    {
     "cell_type": "markdown",
     "metadata": {},
     "source": [
      "`index(value, start, stop)`"
     ]
    },
    {
     "cell_type": "code",
     "collapsed": false,
     "input": [
      "my_list.index(3,4,6) # starts at 0 index 4 and goes forward"
     ],
     "language": "python",
     "metadata": {},
     "outputs": [
      {
       "metadata": {},
       "output_type": "pyout",
       "prompt_number": 50,
       "text": [
        "4"
       ]
      }
     ],
     "prompt_number": 50
    },
    {
     "cell_type": "markdown",
     "metadata": {},
     "source": [
      "Now we can also get the counts of values in a list with the .count method, all we need to do is pass in the value that we want."
     ]
    },
    {
     "cell_type": "code",
     "collapsed": false,
     "input": [
      "my_list"
     ],
     "language": "python",
     "metadata": {},
     "outputs": [
      {
       "metadata": {},
       "output_type": "pyout",
       "prompt_number": 51,
       "text": [
        "[1, 2, 2, 3, 3, 4, 3]"
       ]
      }
     ],
     "prompt_number": 51
    },
    {
     "cell_type": "code",
     "collapsed": false,
     "input": [
      "my_list.count(3)"
     ],
     "language": "python",
     "metadata": {},
     "outputs": [
      {
       "metadata": {},
       "output_type": "pyout",
       "prompt_number": 52,
       "text": [
        "3"
       ]
      }
     ],
     "prompt_number": 52
    },
    {
     "cell_type": "markdown",
     "metadata": {},
     "source": [
      "Now every operation listed above is native to all sequences in python. That includes sets, lists, tuples, and ranges. \n",
      "\n",
      "A lot of these operations are also available with strings."
     ]
    },
    {
     "cell_type": "code",
     "collapsed": false,
     "input": [
      "\"Eggs\".count(\"g\") "
     ],
     "language": "python",
     "metadata": {},
     "outputs": [
      {
       "metadata": {},
       "output_type": "pyout",
       "prompt_number": 57,
       "text": [
        "2"
       ]
      }
     ],
     "prompt_number": 57
    },
    {
     "cell_type": "markdown",
     "metadata": {},
     "source": [
      "##List Specific Methods"
     ]
    },
    {
     "cell_type": "code",
     "collapsed": false,
     "input": [],
     "language": "python",
     "metadata": {},
     "outputs": []
    },
    {
     "cell_type": "code",
     "collapsed": false,
     "input": [],
     "language": "python",
     "metadata": {},
     "outputs": []
    },
    {
     "cell_type": "code",
     "collapsed": false,
     "input": [
      "file:///Users/bill_chambers/Library/Application%20Support/Dash/DocSets/Python_3/Python%203.docset/Contents/Resources/Documents/doc/library/stdtypes.html#typesseq-common"
     ],
     "language": "python",
     "metadata": {},
     "outputs": []
    },
    {
     "cell_type": "markdown",
     "metadata": {},
     "source": [
      "file:///Users/bill_chambers/Library/Application%20Support/Dash/DocSets/Python_3/Python%203.docset/Contents/Resources/Documents/doc/library/stdtypes.html#typesseq-common"
     ]
    },
    {
     "cell_type": "code",
     "collapsed": false,
     "input": [
      "third_list"
     ],
     "language": "python",
     "metadata": {},
     "outputs": []
    }
   ],
   "metadata": {}
  }
 ]
}