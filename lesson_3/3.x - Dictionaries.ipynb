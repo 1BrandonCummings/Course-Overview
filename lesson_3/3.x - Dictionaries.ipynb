{
 "metadata": {
  "name": ""
 },
 "nbformat": 3,
 "nbformat_minor": 0,
 "worksheets": [
  {
   "cells": [
    {
     "cell_type": "markdown",
     "metadata": {},
     "source": [
      "#Dictionaries\n",
      "\n",
      "Dictionaries are another foundational data structure. Their more technical name is a hash table or hash map however we're going to ignore the implementation of a dictionary just focus on what it gives us.\n",
      "\n"
     ]
    }
   ],
   "metadata": {}
  }
 ]
}