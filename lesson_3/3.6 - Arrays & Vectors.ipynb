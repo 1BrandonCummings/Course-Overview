{
 "cells": [
  {
   "cell_type": "markdown",
   "metadata": {},
   "source": [
    "#Arrays and Vectors\n",
    "\n",
    "The Python types we've seen so far are all *built-in* to Python.  This means that they're automatically available when you start writing Python code.  As with any modern language, however, programmers are always adding new functionality to Python and they often want to share their code with others.  The main way this is done is with packages.\n",
    "\n",
    "A package contains extra object types, functions, and variables that are not included in base Python.  Some packages are specialized to niche applications, while others are so popular that nearly every coder uses them.\n",
    "\n",
    "Now one particular package, numpy, sits as the foundation for scientific and data computing in python. Many other data science packages are built on top of numpy, so it's very important to understand its function.\n",
    "\n",
    "[Numpy](http://www.numpy.org/) is the core of the [pydata](http://pydata.org/) ecosystem.\n",
    "\n",
    "------\n",
    "\n",
    "*From the Numpy Website*\n",
    "\n",
    "NumPy is the fundamental package for scientific computing with Python. It contains among other things:\n",
    "\n",
    "- a powerful N-dimensional array object\n",
    "- sophisticated (broadcasting) functions\n",
    "- tools for integrating C/C++ and Fortran code\n",
    "- useful linear algebra, Fourier transform, and random number capabilities\n",
    "\n",
    "------\n",
    "\n",
    "We'll often use numpy to work with data.  In this notebook, we'll begin introducing its functionality with a few simple examples.\n",
    "\n",
    "To use the functionality provided by a package, we first have to import it into our program.  This is done with the import keyword.  At the point at which we import a package, we can also rename it with the `as` keyword. Traditionally, numpy is renamed to np. The reason that we do this is that there is a convention in the pydata community to import data packages with shorter names.\n"
   ]
  },
  {
   "cell_type": "code",
   "execution_count": 6,
   "metadata": {
    "collapsed": false
   },
   "outputs": [],
   "source": [
    "import numpy as np"
   ]
  },
  {
   "cell_type": "code",
   "execution_count": 7,
   "metadata": {
    "collapsed": false
   },
   "outputs": [
    {
     "data": {
      "text/plain": [
       "array([ 0,  1,  2,  3,  4,  5,  6,  7,  8,  9, 10, 11, 12, 13, 14, 15, 16,\n",
       "       17, 18, 19])"
      ]
     },
     "execution_count": 7,
     "metadata": {},
     "output_type": "execute_result"
    }
   ],
   "source": [
    "np.arange(0,20)"
   ]
  },
  {
   "cell_type": "markdown",
   "metadata": {},
   "source": [
    "Now this should look pretty familiar; the arange function is analogous to the range function we saw earlier.  Instead of returning a range, however, this function returns something we call an array.\n",
    "\n",
    "Arrays are similar to the sequences we saw earlier.  For example, we can access items by their indices."
   ]
  },
  {
   "cell_type": "code",
   "execution_count": 8,
   "metadata": {
    "collapsed": false
   },
   "outputs": [
    {
     "data": {
      "text/plain": [
       "array([ 0,  1, 12,  3,  4,  5,  6,  7,  8,  9, 10, 11, 12, 13, 14, 15, 16,\n",
       "       17, 18, 19])"
      ]
     },
     "execution_count": 8,
     "metadata": {},
     "output_type": "execute_result"
    }
   ],
   "source": [
    "my_array = np.arange(20)\n",
    "my_array[2] = 12\n",
    "my_array"
   ]
  },
  {
   "cell_type": "markdown",
   "metadata": {},
   "source": [
    "Arrays also have some unique characteristics.  For one thing, all the objects contained in an array must be the same type.  This may seem like a pesky restriction, but it allows arrays to work very efficiently on large amounts of data."
   ]
  },
  {
   "cell_type": "code",
   "execution_count": 9,
   "metadata": {
    "collapsed": false
   },
   "outputs": [
    {
     "ename": "ValueError",
     "evalue": "invalid literal for int() with base 10: 'shoe'",
     "output_type": "error",
     "traceback": [
      "\u001b[0;31m---------------------------------------------------------------------------\u001b[0m",
      "\u001b[0;31mValueError\u001b[0m                                Traceback (most recent call last)",
      "\u001b[0;32m<ipython-input-9-7b56afc93f6f>\u001b[0m in \u001b[0;36m<module>\u001b[0;34m()\u001b[0m\n\u001b[0;32m----> 1\u001b[0;31m \u001b[0mmy_array\u001b[0m\u001b[0;34m[\u001b[0m\u001b[0;36m5\u001b[0m\u001b[0;34m]\u001b[0m \u001b[0;34m=\u001b[0m \u001b[0;34m\"shoe\"\u001b[0m\u001b[0;34m\u001b[0m\u001b[0m\n\u001b[0m",
      "\u001b[0;31mValueError\u001b[0m: invalid literal for int() with base 10: 'shoe'"
     ]
    }
   ],
   "source": [
    "my_array[5] = \"shoe\""
   ]
  },
  {
   "cell_type": "markdown",
   "metadata": {},
   "source": [
    "The data type of an array can be accessed through the dtype property, this will give us information about all the objects stored in the array. That means that you can't change the type of an array once it's created (unless you work around this)."
   ]
  },
  {
   "cell_type": "code",
   "execution_count": 10,
   "metadata": {
    "collapsed": false
   },
   "outputs": [
    {
     "data": {
      "text/plain": [
       "dtype('int64')"
      ]
     },
     "execution_count": 10,
     "metadata": {},
     "output_type": "execute_result"
    }
   ],
   "source": [
    "my_array.dtype"
   ]
  },
  {
   "cell_type": "markdown",
   "metadata": {},
   "source": [
    "Another thing about arrays is that once they're created, their size is fixed. You can't pop or append to an array. That's because of the way that arrays allocate memory under the hood. The fixed size allows arrays to be optimized for high performance."
   ]
  },
  {
   "cell_type": "code",
   "execution_count": 11,
   "metadata": {
    "collapsed": false
   },
   "outputs": [],
   "source": [
    "new_array = np.array([5,10,15,20])"
   ]
  },
  {
   "cell_type": "code",
   "execution_count": 12,
   "metadata": {
    "collapsed": false
   },
   "outputs": [
    {
     "ename": "AttributeError",
     "evalue": "'numpy.ndarray' object has no attribute 'append'",
     "output_type": "error",
     "traceback": [
      "\u001b[0;31m---------------------------------------------------------------------------\u001b[0m",
      "\u001b[0;31mAttributeError\u001b[0m                            Traceback (most recent call last)",
      "\u001b[0;32m<ipython-input-12-6abe63df61d6>\u001b[0m in \u001b[0;36m<module>\u001b[0;34m()\u001b[0m\n\u001b[0;32m----> 1\u001b[0;31m \u001b[0mnew_array\u001b[0m\u001b[0;34m.\u001b[0m\u001b[0mappend\u001b[0m\u001b[0;34m(\u001b[0m\u001b[0;36m5\u001b[0m\u001b[0;34m)\u001b[0m\u001b[0;34m\u001b[0m\u001b[0m\n\u001b[0m",
      "\u001b[0;31mAttributeError\u001b[0m: 'numpy.ndarray' object has no attribute 'append'"
     ]
    }
   ],
   "source": [
    "new_array.append(5)"
   ]
  },
  {
   "cell_type": "code",
   "execution_count": 13,
   "metadata": {
    "collapsed": false
   },
   "outputs": [
    {
     "ename": "AttributeError",
     "evalue": "'numpy.ndarray' object has no attribute 'pop'",
     "output_type": "error",
     "traceback": [
      "\u001b[0;31m---------------------------------------------------------------------------\u001b[0m",
      "\u001b[0;31mAttributeError\u001b[0m                            Traceback (most recent call last)",
      "\u001b[0;32m<ipython-input-13-429e7ee3d43f>\u001b[0m in \u001b[0;36m<module>\u001b[0;34m()\u001b[0m\n\u001b[0;32m----> 1\u001b[0;31m \u001b[0mnew_array\u001b[0m\u001b[0;34m.\u001b[0m\u001b[0mpop\u001b[0m\u001b[0;34m(\u001b[0m\u001b[0;34m)\u001b[0m\u001b[0;34m\u001b[0m\u001b[0m\n\u001b[0m",
      "\u001b[0;31mAttributeError\u001b[0m: 'numpy.ndarray' object has no attribute 'pop'"
     ]
    }
   ],
   "source": [
    "new_array.pop()"
   ]
  },
  {
   "cell_type": "markdown",
   "metadata": {},
   "source": [
    "You can see in the error messages that the arrays we're dealing with have type `'numpy.ndarray'`. This stands for n-dimensional array.  We can make n anything that we want.\n",
    "\n",
    "For example, we can create a 2-dimensional matrix with normally distributed random numbers between 0 and 1."
   ]
  },
  {
   "cell_type": "code",
   "execution_count": 14,
   "metadata": {
    "collapsed": false
   },
   "outputs": [
    {
     "data": {
      "text/plain": [
       "array([[ 0.3485017 ,  0.17995236,  0.3595112 ,  0.22129269,  0.70095449],\n",
       "       [ 0.24573702,  0.25872806,  0.42839541,  0.71419389,  0.54417784],\n",
       "       [ 0.79930945,  0.86196549,  0.85641477,  0.61529105,  0.89150267],\n",
       "       [ 0.6562489 ,  0.1239075 ,  0.43037002,  0.59389352,  0.34547663],\n",
       "       [ 0.28295824,  0.84908176,  0.79929516,  0.48377836,  0.32917841]])"
      ]
     },
     "execution_count": 14,
     "metadata": {},
     "output_type": "execute_result"
    }
   ],
   "source": [
    "np.random.rand(5,5)"
   ]
  },
  {
   "cell_type": "markdown",
   "metadata": {},
   "source": [
    "Or a 3 dimensional cube of numbers."
   ]
  },
  {
   "cell_type": "code",
   "execution_count": 26,
   "metadata": {
    "collapsed": false
   },
   "outputs": [
    {
     "data": {
      "text/plain": [
       "array([[[ 0.84272158,  0.83679704,  0.5257461 ,  0.73736653,  0.45110009],\n",
       "        [ 0.13841672,  0.10757949,  0.63145918,  0.16771083,  0.64128712],\n",
       "        [ 0.80698612,  0.78004934,  0.78796473,  0.47922827,  0.70641219],\n",
       "        [ 0.43528213,  0.65893285,  0.67785015,  0.64606294,  0.3998132 ],\n",
       "        [ 0.65588931,  0.65056016,  0.53237286,  0.18387084,  0.3339849 ]],\n",
       "\n",
       "       [[ 0.5422109 ,  0.44219767,  0.39250136,  0.47459834,  0.69258357],\n",
       "        [ 0.91240791,  0.96729439,  0.14329598,  0.06610903,  0.16365455],\n",
       "        [ 0.27483066,  0.84626304,  0.71325868,  0.82706608,  0.43683008],\n",
       "        [ 0.30363783,  0.93689354,  0.72157754,  0.08772284,  0.57431791],\n",
       "        [ 0.77952137,  0.60743034,  0.98645455,  0.33540844,  0.53469506]],\n",
       "\n",
       "       [[ 0.89680185,  0.15110855,  0.43264088,  0.74135463,  0.14078825],\n",
       "        [ 0.34220042,  0.53011661,  0.90455791,  0.25400812,  0.01920023],\n",
       "        [ 0.93290593,  0.18418512,  0.43427611,  0.9612554 ,  0.45270675],\n",
       "        [ 0.61656425,  0.48235449,  0.56005975,  0.71571911,  0.88984423],\n",
       "        [ 0.85786907,  0.15633137,  0.17463434,  0.59827347,  0.76847837]],\n",
       "\n",
       "       [[ 0.62181865,  0.47832842,  0.97371463,  0.40237068,  0.00936106],\n",
       "        [ 0.90426933,  0.13635192,  0.08634701,  0.39457681,  0.852795  ],\n",
       "        [ 0.71160412,  0.73765787,  0.91346935,  0.26629898,  0.16408024],\n",
       "        [ 0.67143447,  0.5939867 ,  0.08048024,  0.25706153,  0.76734122],\n",
       "        [ 0.08246452,  0.14293104,  0.64635924,  0.92449185,  0.83659589]],\n",
       "\n",
       "       [[ 0.88169351,  0.78891202,  0.58539164,  0.60877411,  0.33291398],\n",
       "        [ 0.70031625,  0.70157239,  0.00262134,  0.21668839,  0.57927313],\n",
       "        [ 0.4876427 ,  0.6406963 ,  0.79401422,  0.27168366,  0.4560031 ],\n",
       "        [ 0.59928805,  0.21552849,  0.21995419,  0.25547993,  0.52948973],\n",
       "        [ 0.93523866,  0.26041826,  0.56529431,  0.33767782,  0.8264613 ]]])"
      ]
     },
     "execution_count": 26,
     "metadata": {},
     "output_type": "execute_result"
    }
   ],
   "source": [
    "np.random.rand(5,5,5)"
   ]
  },
  {
   "cell_type": "markdown",
   "metadata": {},
   "source": [
    "We can keep going to higher and higher dimensional spaces, but doing so is outside the scope of this course."
   ]
  },
  {
   "cell_type": "markdown",
   "metadata": {},
   "source": [
    "I hope you're starting to see the power of numpy and what it allows you to do. Let dive in a bit deeper and see if we can't figure out some other cools functions NumPy has in store for us.\n",
    "\n"
   ]
  },
  {
   "cell_type": "markdown",
   "metadata": {},
   "source": [
    "The NumPy library is huge and no class could truly cover it all, in addition, it's has a \"partner\" library,SciPy (for scientific python), that builds even further on NumPy. Let's play around with NumPy to realize a bit more of the power.\n",
    "\n",
    "First let's generate some random variables."
   ]
  },
  {
   "cell_type": "code",
   "execution_count": 24,
   "metadata": {
    "collapsed": true
   },
   "outputs": [],
   "source": [
    "np.random?"
   ]
  },
  {
   "cell_type": "markdown",
   "metadata": {},
   "source": [
    "We can see that there are a variety of functions at our disposal. We've got all sorts of random variables. Which, mathematically, map from probability space to a number space. Let's start off my getting a bunch of normally distributed random variables."
   ]
  },
  {
   "cell_type": "code",
   "execution_count": 27,
   "metadata": {
    "collapsed": false
   },
   "outputs": [
    {
     "data": {
      "text/plain": [
       "array([-0.37930757,  1.37538244,  0.41835287,  0.07467508,  0.07084404,\n",
       "        0.69637896, -1.11407639,  1.3812167 ,  0.22986012,  0.70550322,\n",
       "        1.32124292,  0.47818417,  1.00462055, -2.64293399,  0.61211059,\n",
       "        0.07565507, -1.12787497,  1.15320694, -2.24614077, -0.13124562])"
      ]
     },
     "execution_count": 27,
     "metadata": {},
     "output_type": "execute_result"
    }
   ],
   "source": [
    "np.random.randn(20)"
   ]
  },
  {
   "cell_type": "markdown",
   "metadata": {},
   "source": [
    "So simple, now let's reshape it into a matrix. It's as simple as the reshape command."
   ]
  },
  {
   "cell_type": "code",
   "execution_count": 30,
   "metadata": {
    "collapsed": false
   },
   "outputs": [
    {
     "data": {
      "text/plain": [
       "array([[-0.19982669, -1.55407586, -0.3698846 ,  0.81249391],\n",
       "       [-0.65108175, -1.36188201,  1.67887194, -0.61276092],\n",
       "       [-2.35716335,  2.43604194,  0.30002732,  1.07182352],\n",
       "       [-0.98120481, -0.47671355, -0.83111572,  0.57815578],\n",
       "       [-2.27986753,  0.72769396, -0.21231002,  0.32579555]])"
      ]
     },
     "execution_count": 30,
     "metadata": {},
     "output_type": "execute_result"
    }
   ],
   "source": [
    "np.random.randn(20).reshape(5,4)"
   ]
  },
  {
   "cell_type": "markdown",
   "metadata": {},
   "source": [
    "Now when you're working with data, many times you're going to want to calculate some statistics about it. What's awesome about numpy arrays is that they have a lot of these functions baked into the class. We're going to be learning about classses in chapter 6."
   ]
  },
  {
   "cell_type": "code",
   "execution_count": 36,
   "metadata": {
    "collapsed": true
   },
   "outputs": [],
   "source": [
    "ar = np.random.randn(20).reshape(5,4)"
   ]
  },
  {
   "cell_type": "code",
   "execution_count": 37,
   "metadata": {
    "collapsed": false
   },
   "outputs": [
    {
     "data": {
      "text/plain": [
       "array([[ 0.67035513,  0.73542613,  0.1297458 ,  0.88661091],\n",
       "       [ 0.07914825, -0.39407917, -0.71625645, -0.53719613],\n",
       "       [-0.20092974,  1.57420947, -1.32530819,  1.34538317],\n",
       "       [ 0.20595162,  3.02187901, -0.80776742,  0.11477428],\n",
       "       [ 0.14477614, -0.76935721, -0.25621458,  0.17814124]])"
      ]
     },
     "execution_count": 37,
     "metadata": {},
     "output_type": "execute_result"
    }
   ],
   "source": [
    "ar"
   ]
  },
  {
   "cell_type": "markdown",
   "metadata": {},
   "source": [
    "For example, let's get the mean of this array."
   ]
  },
  {
   "cell_type": "code",
   "execution_count": 38,
   "metadata": {
    "collapsed": false
   },
   "outputs": [
    {
     "data": {
      "text/plain": [
       "0.20396461238993449"
      ]
     },
     "execution_count": 38,
     "metadata": {},
     "output_type": "execute_result"
    }
   ],
   "source": [
    "ar.mean()"
   ]
  },
  {
   "cell_type": "markdown",
   "metadata": {},
   "source": [
    "The standard deviation is just as easy."
   ]
  },
  {
   "cell_type": "code",
   "execution_count": 41,
   "metadata": {
    "collapsed": false
   },
   "outputs": [
    {
     "data": {
      "text/plain": [
       "0.96331100760399779"
      ]
     },
     "execution_count": 41,
     "metadata": {},
     "output_type": "execute_result"
    }
   ],
   "source": [
    "ar.std()"
   ]
  },
  {
   "cell_type": "markdown",
   "metadata": {},
   "source": [
    "Of course sometime we're going to want to do these operations on columns only or on the rows. Doing so is still extremely easy."
   ]
  },
  {
   "cell_type": "markdown",
   "metadata": {},
   "source": [
    "Here are our columns"
   ]
  },
  {
   "cell_type": "code",
   "execution_count": 35,
   "metadata": {
    "collapsed": false
   },
   "outputs": [
    {
     "data": {
      "text/plain": [
       "array([-0.08367184,  0.38935699, -0.39893097,  0.43886695])"
      ]
     },
     "execution_count": 35,
     "metadata": {},
     "output_type": "execute_result"
    }
   ],
   "source": [
    "ar.mean(axis=0)"
   ]
  },
  {
   "cell_type": "markdown",
   "metadata": {},
   "source": [
    "Here are our rows."
   ]
  },
  {
   "cell_type": "code",
   "execution_count": 42,
   "metadata": {
    "collapsed": false
   },
   "outputs": [
    {
     "data": {
      "text/plain": [
       "array([ 0.60553449, -0.39209588,  0.34833868,  0.63370937, -0.1756636 ])"
      ]
     },
     "execution_count": 42,
     "metadata": {},
     "output_type": "execute_result"
    }
   ],
   "source": [
    "ar.mean(axis=1)"
   ]
  },
  {
   "cell_type": "markdown",
   "metadata": {},
   "source": [
    "We're going to be diving into all this information much more later, so I don't want to spoil the surprise but arrays and the work of the Pydata team have done wonderful things for the python ecosystem. When we're working with these libraries we're truly standing on the shoulders of giants."
   ]
  },
  {
   "cell_type": "code",
   "execution_count": null,
   "metadata": {
    "collapsed": true
   },
   "outputs": [],
   "source": []
  }
 ],
 "metadata": {
  "kernelspec": {
   "display_name": "Python 3",
   "language": "python",
   "name": "python3"
  },
  "language_info": {
   "codemirror_mode": {
    "name": "ipython",
    "version": 3
   },
   "file_extension": ".py",
   "mimetype": "text/x-python",
   "name": "python",
   "nbconvert_exporter": "python",
   "pygments_lexer": "ipython3",
   "version": "3.3.2"
  }
 },
 "nbformat": 4,
 "nbformat_minor": 0
}
