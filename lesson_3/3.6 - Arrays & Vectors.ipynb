{
 "cells": [
  {
   "cell_type": "markdown",
   "metadata": {},
   "source": [
    "#Arrays and Vectors\n",
    "\n",
    "The Python types we've seen so far all belong to the Python standard library.  This means that they're automatically available when you start writing Python code.  As with any modern language, however, programmers are always adding new functionality to Python and they often want to share their code with others.  The main way this is done is with packages.\n",
    "\n",
    "A package contains extra object types, functions, and variables that are not included in base Python.  Some packages are specialized to niche applications, while others are so popular that nearly every coder uses them.\n",
    "\n",
    "Now one particular package, numpy, sits as the foundation for scientific and data computing in python. Many other data science packages are built on top of numpy, so it's very important to understand its function.\n",
    "\n",
    "[Numpy](http://www.numpy.org/) is the core of the [pydata](http://pydata.org/) ecosystem.\n",
    "\n",
    "------\n",
    "\n",
    "*From the Numpy Website*\n",
    "\n",
    "NumPy is the fundamental package for scientific computing with Python. It contains among other things:\n",
    "\n",
    "- a powerful N-dimensional array object\n",
    "- sophisticated (broadcasting) functions\n",
    "- tools for integrating C/C++ and Fortran code\n",
    "- useful linear algebra, Fourier transform, and random number capabilities\n",
    "\n",
    "------\n",
    "\n",
    "We'll often use numpy to work with data.  In this notebook, we'll begin introducing its functionality with a few simple examples.\n",
    "\n",
    "To use the functionality provided by a package, we first have to import it into our program.  This is done with the import keyword.  At the point at which we import a package, we can also rename it with the `as` keyword. Traditionally, numpy is renamed to np. The reason that we do this is that there is a convention in the pydata community to import data packages with shorter names.\n"
   ]
  },
  {
   "cell_type": "code",
   "execution_count": 1,
   "metadata": {
    "collapsed": false
   },
   "outputs": [],
   "source": [
    "import numpy as np"
   ]
  },
  {
   "cell_type": "code",
   "execution_count": 4,
   "metadata": {
    "collapsed": false
   },
   "outputs": [
    {
     "data": {
      "text/plain": [
       "array([ 0,  1,  2,  3,  4,  5,  6,  7,  8,  9, 10, 11, 12, 13, 14, 15, 16,\n",
       "       17, 18, 19])"
      ]
     },
     "execution_count": 4,
     "metadata": {},
     "output_type": "execute_result"
    }
   ],
   "source": [
    "np.arange(0,20)"
   ]
  },
  {
   "cell_type": "markdown",
   "metadata": {},
   "source": [
    "Now this should look pretty familiar; the arange function is analogous to the range function we saw earlier.  Instead of returning a range, however, this function returns something we call an array.\n",
    "\n",
    "Arrays are similar to the sequences we saw earlier.  For example, we can access items by their indices."
   ]
  },
  {
   "cell_type": "code",
   "execution_count": 5,
   "metadata": {
    "collapsed": false
   },
   "outputs": [
    {
     "data": {
      "text/plain": [
       "array([ 0,  1, 12,  3,  4,  5,  6,  7,  8,  9, 10, 11, 12, 13, 14, 15, 16,\n",
       "       17, 18, 19])"
      ]
     },
     "execution_count": 5,
     "metadata": {},
     "output_type": "execute_result"
    }
   ],
   "source": [
    "my_array = np.arange(20)\n",
    "my_array[2] = 12\n",
    "my_array"
   ]
  },
  {
   "cell_type": "markdown",
   "metadata": {},
   "source": [
    "Arrays also have some unique characteristics.  For one thing, all the objects contained in an array must be the same type.  This may seem like a pesky restriction, but it allows arrays to work very efficiently on large amounts of data."
   ]
  },
  {
   "cell_type": "code",
   "execution_count": 14,
   "metadata": {
    "collapsed": false
   },
   "outputs": [
    {
     "ename": "ValueError",
     "evalue": "invalid literal for int() with base 10: 'shoe'",
     "output_type": "error",
     "traceback": [
      "\u001b[0;31m---------------------------------------------------------------------------\u001b[0m\n\u001b[0;31mValueError\u001b[0m                                Traceback (most recent call last)",
      "\u001b[0;32m<ipython-input-14-7b56afc93f6f>\u001b[0m in \u001b[0;36m<module>\u001b[0;34m()\u001b[0m\n\u001b[0;32m----> 1\u001b[0;31m \u001b[0mmy_array\u001b[0m\u001b[0;34m[\u001b[0m\u001b[0;36m5\u001b[0m\u001b[0;34m]\u001b[0m \u001b[0;34m=\u001b[0m \u001b[0;34m\"shoe\"\u001b[0m\u001b[0;34m\u001b[0m\u001b[0m\n\u001b[0m",
      "\u001b[0;31mValueError\u001b[0m: invalid literal for int() with base 10: 'shoe'"
     ]
    }
   ],
   "source": [
    "my_array[5] = \"shoe\""
   ]
  },
  {
   "cell_type": "markdown",
   "metadata": {},
   "source": [
    "The data type of an array can be accessed through the dtype property, this will give us information about all the objects stored in the array. That means that you can't change the type of an array once it's created (unless you work around this)."
   ]
  },
  {
   "cell_type": "code",
   "execution_count": 16,
   "metadata": {
    "collapsed": false
   },
   "outputs": [
    {
     "data": {
      "text/plain": [
       "dtype('int64')"
      ]
     },
     "execution_count": 16,
     "metadata": {},
     "output_type": "execute_result"
    }
   ],
   "source": [
    "my_array.dtype"
   ]
  },
  {
   "cell_type": "markdown",
   "metadata": {},
   "source": [
    "Another thing about arrays is that once they're created, their size is fixed. You can't pop or append to an array. That's because of the way that arrays allocate memory under the hood. The fixed size allows arrays to be optimized for high performance."
   ]
  },
  {
   "cell_type": "code",
   "execution_count": 6,
   "metadata": {
    "collapsed": false
   },
   "outputs": [],
   "source": [
    "new_array = np.array([5,10,15,20])"
   ]
  },
  {
   "cell_type": "code",
   "execution_count": 7,
   "metadata": {
    "collapsed": false
   },
   "outputs": [
    {
     "ename": "AttributeError",
     "evalue": "'numpy.ndarray' object has no attribute 'append'",
     "output_type": "error",
     "traceback": [
      "\u001b[0;31m---------------------------------------------------------------------------\u001b[0m",
      "\u001b[0;31mAttributeError\u001b[0m                            Traceback (most recent call last)",
      "\u001b[0;32m<ipython-input-7-6abe63df61d6>\u001b[0m in \u001b[0;36m<module>\u001b[0;34m()\u001b[0m\n\u001b[0;32m----> 1\u001b[0;31m \u001b[0mnew_array\u001b[0m\u001b[0;34m.\u001b[0m\u001b[0mappend\u001b[0m\u001b[0;34m(\u001b[0m\u001b[0;36m5\u001b[0m\u001b[0;34m)\u001b[0m\u001b[0;34m\u001b[0m\u001b[0m\n\u001b[0m",
      "\u001b[0;31mAttributeError\u001b[0m: 'numpy.ndarray' object has no attribute 'append'"
     ]
    }
   ],
   "source": [
    "new_array.append(5)"
   ]
  },
  {
   "cell_type": "code",
   "execution_count": 8,
   "metadata": {
    "collapsed": false
   },
   "outputs": [
    {
     "ename": "AttributeError",
     "evalue": "'numpy.ndarray' object has no attribute 'pop'",
     "output_type": "error",
     "traceback": [
      "\u001b[0;31m---------------------------------------------------------------------------\u001b[0m",
      "\u001b[0;31mAttributeError\u001b[0m                            Traceback (most recent call last)",
      "\u001b[0;32m<ipython-input-8-429e7ee3d43f>\u001b[0m in \u001b[0;36m<module>\u001b[0;34m()\u001b[0m\n\u001b[0;32m----> 1\u001b[0;31m \u001b[0mnew_array\u001b[0m\u001b[0;34m.\u001b[0m\u001b[0mpop\u001b[0m\u001b[0;34m(\u001b[0m\u001b[0;34m)\u001b[0m\u001b[0;34m\u001b[0m\u001b[0m\n\u001b[0m",
      "\u001b[0;31mAttributeError\u001b[0m: 'numpy.ndarray' object has no attribute 'pop'"
     ]
    }
   ],
   "source": [
    "new_array.pop()"
   ]
  },
  {
   "cell_type": "markdown",
   "metadata": {},
   "source": [
    "You can see in the error messages that the arrays we're dealing with have type `'numpy.ndarray'`. This stands for n-dimensional array.  We can make n anything that we want.\n",
    "\n",
    "For example, we can create a 2-dimensional matrix with random numbers between 0 and 1."
   ]
  },
  {
   "cell_type": "code",
   "execution_count": 9,
   "metadata": {
    "collapsed": false
   },
   "outputs": [
    {
     "data": {
      "text/plain": [
       "array([[ 0.23759964,  0.92623159,  0.89596264,  0.86149774,  0.61031495],\n",
       "       [ 0.34947716,  0.74066764,  0.46579163,  0.20468334,  0.79393535],\n",
       "       [ 0.84405822,  0.76617819,  0.51059147,  0.65829251,  0.31532268],\n",
       "       [ 0.57141397,  0.01661977,  0.79456107,  0.31164229,  0.72433503],\n",
       "       [ 0.24072898,  0.52185214,  0.94749936,  0.47252109,  0.74999639]])"
      ]
     },
     "execution_count": 9,
     "metadata": {},
     "output_type": "execute_result"
    }
   ],
   "source": [
    "np.random.rand(5,5)"
   ]
  },
  {
   "cell_type": "markdown",
   "metadata": {},
   "source": [
    "Or a cube."
   ]
  },
  {
   "cell_type": "code",
   "execution_count": 10,
   "metadata": {
    "collapsed": false
   },
   "outputs": [
    {
     "data": {
      "text/plain": [
       "array([[[ 0.13240316,  0.67295571,  0.39641511,  0.76284256,  0.79563024],\n",
       "        [ 0.14449041,  0.16531911,  0.29541863,  0.2832525 ,  0.84724166],\n",
       "        [ 0.93559034,  0.10699395,  0.35908563,  0.39600501,  0.93883066],\n",
       "        [ 0.83834294,  0.23477842,  0.97508993,  0.2139928 ,  0.99263925],\n",
       "        [ 0.89175956,  0.22302191,  0.43772451,  0.85588403,  0.28807383]],\n",
       "\n",
       "       [[ 0.54605163,  0.4283227 ,  0.7974993 ,  0.72614286,  0.60133047],\n",
       "        [ 0.51267086,  0.57327063,  0.89185793,  0.95383522,  0.56109371],\n",
       "        [ 0.74257783,  0.55680615,  0.85579919,  0.25425447,  0.48351766],\n",
       "        [ 0.94654672,  0.42364808,  0.59804291,  0.41736754,  0.13476915],\n",
       "        [ 0.43276291,  0.49085213,  0.10983201,  0.32395373,  0.76576228]],\n",
       "\n",
       "       [[ 0.66670408,  0.33452593,  0.83695886,  0.67013543,  0.08078705],\n",
       "        [ 0.86371776,  0.21748367,  0.04645938,  0.96619443,  0.82305266],\n",
       "        [ 0.30855464,  0.27498444,  0.84865146,  0.98669306,  0.9787175 ],\n",
       "        [ 0.30641559,  0.11871595,  0.57848111,  0.17671158,  0.33261351],\n",
       "        [ 0.68140039,  0.54785809,  0.5074705 ,  0.50366979,  0.3182807 ]],\n",
       "\n",
       "       [[ 0.77855568,  0.00117062,  0.67767616,  0.29515169,  0.38914182],\n",
       "        [ 0.95970539,  0.39918425,  0.49478481,  0.31761108,  0.6482701 ],\n",
       "        [ 0.37220989,  0.83325312,  0.06440833,  0.2003284 ,  0.89901343],\n",
       "        [ 0.76048366,  0.92770733,  0.08883267,  0.8585092 ,  0.37945398],\n",
       "        [ 0.64595037,  0.5548718 ,  0.3637423 ,  0.51238029,  0.97140189]],\n",
       "\n",
       "       [[ 0.4419363 ,  0.71126883,  0.31907826,  0.0376606 ,  0.01208445],\n",
       "        [ 0.83929648,  0.43444983,  0.63316435,  0.33674074,  0.13492815],\n",
       "        [ 0.87386044,  0.69628655,  0.60670508,  0.88045459,  0.86999041],\n",
       "        [ 0.49477393,  0.50672283,  0.11271982,  0.50168803,  0.31088654],\n",
       "        [ 0.18783498,  0.42344497,  0.01477014,  0.57277158,  0.619611  ]]])"
      ]
     },
     "execution_count": 10,
     "metadata": {},
     "output_type": "execute_result"
    }
   ],
   "source": [
    "np.random.rand(5,5,5)"
   ]
  },
  {
   "cell_type": "markdown",
   "metadata": {},
   "source": [
    "We can keep going to higher and higher dimensional spaces, but most applications only require 2 or 3 dimensions."
   ]
  },
  {
   "cell_type": "markdown",
   "metadata": {},
   "source": [
    "*now add some of the special methods that it provides*"
   ]
  },
  {
   "cell_type": "code",
   "execution_count": null,
   "metadata": {
    "collapsed": false
   },
   "outputs": [],
   "source": []
  }
 ],
 "metadata": {
  "kernelspec": {
   "display_name": "Python 3",
   "language": "python",
   "name": "python3"
  },
  "language_info": {
   "codemirror_mode": {
    "name": "ipython",
    "version": 3
   },
   "file_extension": ".py",
   "mimetype": "text/x-python",
   "name": "python",
   "nbconvert_exporter": "python",
   "pygments_lexer": "ipython3",
   "version": "3.4.3"
  }
 },
 "nbformat": 4,
 "nbformat_minor": 0
}
