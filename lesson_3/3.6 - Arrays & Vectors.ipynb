{
 "metadata": {
  "name": ""
 },
 "nbformat": 3,
 "nbformat_minor": 0,
 "worksheets": [
  {
   "cells": [
    {
     "cell_type": "markdown",
     "metadata": {},
     "source": [
      "#Arrays and Vectors\n",
      "\n",
      "Thus far we haven't covered packages too much. They're ways in which developers share code with one another. While we'll touch on later creating your own files and using them, at this point we're just going to accept that they do exist and that they provide us some useful methods and functions.\n",
      "\n",
      "Now this particular package, numpy, sits as the foundation for scientific and data computing in python. While you may not *know* you're using it everyday as a data scientist. If you're using python, you likely are.\n",
      "\n",
      "[Numpy](http://www.numpy.org/) is the core of the [pydata](http://pydata.org/) ecosystem.\n",
      "\n",
      "------\n",
      "\n",
      "*From the Numpy Website*\n",
      "\n",
      "NumPy is the fundamental package for scientific computing with Python. It contains among other things:\n",
      "\n",
      "- a powerful N-dimensional array object\n",
      "- sophisticated (broadcasting) functions\n",
      "- tools for integrating C/C++ and Fortran code\n",
      "- useful linear algebra, Fourier transform, and random number capabilities\n",
      "\n",
      "Besides its obvious scientific uses, NumPy can also be used as an efficient multi-dimensional container of generic data. Arbitrary data-types can be defined. This allows NumPy to seamlessly and speedily integrate with a wide variety of databases.\n",
      "\n",
      "------\n",
      "\n",
      "We'll be using it as a container for our data for the most part and in this notebook we're going to cover a couple of simple examples just to get your familiar with the concepts.\n",
      "\n",
      "We import packages with the import keyword and we can rename it with the `as` keyword. So we're basically just renaming numpy to np. The reason that we do that is that this is a convention in the pydata community to import these packages with shorter names.\n"
     ]
    },
    {
     "cell_type": "code",
     "collapsed": false,
     "input": [
      "import numpy as np"
     ],
     "language": "python",
     "metadata": {},
     "outputs": [],
     "prompt_number": 2
    },
    {
     "cell_type": "code",
     "collapsed": false,
     "input": [
      "np.arange(0,20)"
     ],
     "language": "python",
     "metadata": {},
     "outputs": [
      {
       "metadata": {},
       "output_type": "pyout",
       "prompt_number": 3,
       "text": [
        "array([ 0,  1,  2,  3,  4,  5,  6,  7,  8,  9, 10, 11, 12, 13, 14, 15, 16,\n",
        "       17, 18, 19])"
       ]
      }
     ],
     "prompt_number": 3
    },
    {
     "cell_type": "markdown",
     "metadata": {},
     "source": [
      "Now this should look pretty familiar, it should look just like what we did with the range function in a previous lesson.\n",
      "\n",
      "Now one thing about numpy is that the arrays have to be composed of all the same type. So far we've learned the basics of integers and floats and strings, so let's see what they really means."
     ]
    },
    {
     "cell_type": "code",
     "collapsed": false,
     "input": [
      "my_array = np.arange(20)\n",
      "my_array[2] = 12\n",
      "my_array"
     ],
     "language": "python",
     "metadata": {},
     "outputs": [
      {
       "metadata": {},
       "output_type": "pyout",
       "prompt_number": 13,
       "text": [
        "array([ 0,  1, 12,  3,  4,  5,  6,  7,  8,  9, 10, 11, 12, 13, 14, 15, 16,\n",
        "       17, 18, 19])"
       ]
      }
     ],
     "prompt_number": 13
    },
    {
     "cell_type": "code",
     "collapsed": false,
     "input": [
      "my_array[5] = \"shoe\""
     ],
     "language": "python",
     "metadata": {},
     "outputs": [
      {
       "ename": "ValueError",
       "evalue": "invalid literal for int() with base 10: 'shoe'",
       "output_type": "pyerr",
       "traceback": [
        "\u001b[0;31m---------------------------------------------------------------------------\u001b[0m\n\u001b[0;31mValueError\u001b[0m                                Traceback (most recent call last)",
        "\u001b[0;32m<ipython-input-14-7b56afc93f6f>\u001b[0m in \u001b[0;36m<module>\u001b[0;34m()\u001b[0m\n\u001b[0;32m----> 1\u001b[0;31m \u001b[0mmy_array\u001b[0m\u001b[0;34m[\u001b[0m\u001b[0;36m5\u001b[0m\u001b[0;34m]\u001b[0m \u001b[0;34m=\u001b[0m \u001b[0;34m\"shoe\"\u001b[0m\u001b[0;34m\u001b[0m\u001b[0m\n\u001b[0m",
        "\u001b[0;31mValueError\u001b[0m: invalid literal for int() with base 10: 'shoe'"
       ]
      }
     ],
     "prompt_number": 14
    },
    {
     "cell_type": "markdown",
     "metadata": {},
     "source": [
      "Each array has its own data type which can be accessed through the dtype property, this will give us information about how that specific array type. That means that you can't change it once it's created (unless you work around this)."
     ]
    },
    {
     "cell_type": "code",
     "collapsed": false,
     "input": [
      "my_array.dtype"
     ],
     "language": "python",
     "metadata": {},
     "outputs": [
      {
       "metadata": {},
       "output_type": "pyout",
       "prompt_number": 16,
       "text": [
        "dtype('int64')"
       ]
      }
     ],
     "prompt_number": 16
    },
    {
     "cell_type": "markdown",
     "metadata": {},
     "source": [
      "Another thing about arrays is that once they're created, their size is fixed. You can't pop or append to an array. That's because there is an optimization that is occurring under the hood that allocates space for the data. This is what allows it to be such a high performance package."
     ]
    },
    {
     "cell_type": "code",
     "collapsed": false,
     "input": [
      "new_array = np.array([5,10,15,20])"
     ],
     "language": "python",
     "metadata": {},
     "outputs": [],
     "prompt_number": 20
    },
    {
     "cell_type": "code",
     "collapsed": false,
     "input": [
      "new_array.append(5)"
     ],
     "language": "python",
     "metadata": {},
     "outputs": [
      {
       "ename": "AttributeError",
       "evalue": "'numpy.ndarray' object has no attribute 'append'",
       "output_type": "pyerr",
       "traceback": [
        "\u001b[0;31m---------------------------------------------------------------------------\u001b[0m\n\u001b[0;31mAttributeError\u001b[0m                            Traceback (most recent call last)",
        "\u001b[0;32m<ipython-input-21-6abe63df61d6>\u001b[0m in \u001b[0;36m<module>\u001b[0;34m()\u001b[0m\n\u001b[0;32m----> 1\u001b[0;31m \u001b[0mnew_array\u001b[0m\u001b[0;34m.\u001b[0m\u001b[0mappend\u001b[0m\u001b[0;34m(\u001b[0m\u001b[0;36m5\u001b[0m\u001b[0;34m)\u001b[0m\u001b[0;34m\u001b[0m\u001b[0m\n\u001b[0m",
        "\u001b[0;31mAttributeError\u001b[0m: 'numpy.ndarray' object has no attribute 'append'"
       ]
      }
     ],
     "prompt_number": 21
    },
    {
     "cell_type": "code",
     "collapsed": false,
     "input": [
      "new_array.pop()"
     ],
     "language": "python",
     "metadata": {},
     "outputs": [
      {
       "ename": "AttributeError",
       "evalue": "'numpy.ndarray' object has no attribute 'pop'",
       "output_type": "pyerr",
       "traceback": [
        "\u001b[0;31m---------------------------------------------------------------------------\u001b[0m\n\u001b[0;31mAttributeError\u001b[0m                            Traceback (most recent call last)",
        "\u001b[0;32m<ipython-input-22-429e7ee3d43f>\u001b[0m in \u001b[0;36m<module>\u001b[0;34m()\u001b[0m\n\u001b[0;32m----> 1\u001b[0;31m \u001b[0mnew_array\u001b[0m\u001b[0;34m.\u001b[0m\u001b[0mpop\u001b[0m\u001b[0;34m(\u001b[0m\u001b[0;34m)\u001b[0m\u001b[0;34m\u001b[0m\u001b[0m\n\u001b[0m",
        "\u001b[0;31mAttributeError\u001b[0m: 'numpy.ndarray' object has no attribute 'pop'"
       ]
      }
     ],
     "prompt_number": 22
    },
    {
     "cell_type": "markdown",
     "metadata": {},
     "source": [
      "You can see in the print outs that it's telling us that an `'numpy.ndarray'` is the core array type of numpy. This stands for an ndimensional array type, that can be any numper of dimensions.\n",
      "\n",
      "For example, we can create a matrix."
     ]
    },
    {
     "cell_type": "code",
     "collapsed": false,
     "input": [
      "np.random.rand(5,5)"
     ],
     "language": "python",
     "metadata": {},
     "outputs": [
      {
       "metadata": {},
       "output_type": "pyout",
       "prompt_number": 23,
       "text": [
        "array([[ 0.46014586,  0.69938348,  0.3691265 ,  0.51696112,  0.71665309],\n",
        "       [ 0.01912556,  0.9200239 ,  0.5859004 ,  0.53210885,  0.88253778],\n",
        "       [ 0.15190898,  0.28328517,  0.27457565,  0.77821907,  0.80996974],\n",
        "       [ 0.0610285 ,  0.52026387,  0.54570308,  0.61112672,  0.59610572],\n",
        "       [ 0.06631703,  0.37502107,  0.74551917,  0.95273445,  0.63244364]])"
       ]
      }
     ],
     "prompt_number": 23
    },
    {
     "cell_type": "markdown",
     "metadata": {},
     "source": [
      "Or a cube."
     ]
    },
    {
     "cell_type": "code",
     "collapsed": false,
     "input": [
      "np.random.rand(5,5,5)"
     ],
     "language": "python",
     "metadata": {},
     "outputs": [
      {
       "metadata": {},
       "output_type": "pyout",
       "prompt_number": 24,
       "text": [
        "array([[[ 0.41231657,  0.46473078,  0.94002952,  0.48747356,  0.95011284],\n",
        "        [ 0.31564717,  0.07469886,  0.04806575,  0.82885086,  0.42266561],\n",
        "        [ 0.85836228,  0.19610762,  0.81896768,  0.74889876,  0.87893097],\n",
        "        [ 0.42943924,  0.14126198,  0.54218126,  0.06395339,  0.60322481],\n",
        "        [ 0.88962492,  0.82706293,  0.58285277,  0.81755916,  0.55833368]],\n",
        "\n",
        "       [[ 0.63351312,  0.4607741 ,  0.45657151,  0.99731199,  0.70232559],\n",
        "        [ 0.09697204,  0.3214123 ,  0.77418185,  0.1150569 ,  0.36823936],\n",
        "        [ 0.21601111,  0.16666904,  0.44105864,  0.0310064 ,  0.66667364],\n",
        "        [ 0.808379  ,  0.20098387,  0.30774066,  0.35539578,  0.11136075],\n",
        "        [ 0.47636287,  0.14309564,  0.85935987,  0.67817316,  0.2189502 ]],\n",
        "\n",
        "       [[ 0.19558455,  0.69325623,  0.79557905,  0.40224385,  0.4836968 ],\n",
        "        [ 0.84530293,  0.69218263,  0.78202626,  0.13988344,  0.72811924],\n",
        "        [ 0.73653352,  0.3459073 ,  0.60138134,  0.03537177,  0.34877208],\n",
        "        [ 0.04589138,  0.95869315,  0.0692289 ,  0.57238625,  0.88833907],\n",
        "        [ 0.48348009,  0.50954068,  0.57265925,  0.36724882,  0.33370905]],\n",
        "\n",
        "       [[ 0.64984232,  0.58908187,  0.28681168,  0.81446845,  0.24197403],\n",
        "        [ 0.3374774 ,  0.48119882,  0.20039098,  0.14417528,  0.20609876],\n",
        "        [ 0.49629165,  0.89509138,  0.41863508,  0.45776727,  0.73942362],\n",
        "        [ 0.89884282,  0.35081394,  0.17673325,  0.45883184,  0.03325491],\n",
        "        [ 0.2915273 ,  0.26172421,  0.30970901,  0.54110928,  0.28522194]],\n",
        "\n",
        "       [[ 0.18304525,  0.08996203,  0.0804463 ,  0.37752926,  0.77420498],\n",
        "        [ 0.71043946,  0.04932044,  0.94185291,  0.30945776,  0.01949787],\n",
        "        [ 0.10099748,  0.49803483,  0.46727873,  0.21989119,  0.89233961],\n",
        "        [ 0.95575591,  0.24278081,  0.00722395,  0.73791931,  0.49718408],\n",
        "        [ 0.89975436,  0.05083813,  0.68775973,  0.94685997,  0.91490149]]])"
       ]
      }
     ],
     "prompt_number": 24
    },
    {
     "cell_type": "markdown",
     "metadata": {},
     "source": [
      "We can keep going to higher and higher dimensional spaces, however we're going to avoid that for now."
     ]
    },
    {
     "cell_type": "markdown",
     "metadata": {},
     "source": [
      "*now add some of the special methods that it provides*"
     ]
    },
    {
     "cell_type": "code",
     "collapsed": false,
     "input": [],
     "language": "python",
     "metadata": {},
     "outputs": []
    }
   ],
   "metadata": {}
  }
 ]
}