{
 "metadata": {
  "name": ""
 },
 "nbformat": 3,
 "nbformat_minor": 0,
 "worksheets": [
  {
   "cells": [
    {
     "cell_type": "markdown",
     "metadata": {},
     "source": [
      "#Tuples\n",
      "\n",
      "Now we've talked a lot about lists, their mutability, and some of their advantages. Now let's talk about tuples. They're the immutable brother of lists which means once we make them, we can't go back and change them.\n",
      "\n",
      "We can tell a tuple is different from a list because a tuple is surrounded in parentheses instead of brackets."
     ]
    },
    {
     "cell_type": "code",
     "collapsed": false,
     "input": [
      "x = (1,2,3)"
     ],
     "language": "python",
     "metadata": {},
     "outputs": [],
     "prompt_number": 1
    },
    {
     "cell_type": "markdown",
     "metadata": {},
     "source": [
      "however we can do stuff like iterate through them or get the maximum of the tuple."
     ]
    },
    {
     "cell_type": "code",
     "collapsed": false,
     "input": [
      "print(max(x))"
     ],
     "language": "python",
     "metadata": {},
     "outputs": [
      {
       "output_type": "stream",
       "stream": "stdout",
       "text": [
        "3\n"
       ]
      }
     ],
     "prompt_number": 2
    },
    {
     "cell_type": "code",
     "collapsed": false,
     "input": [
      "print(x[0])"
     ],
     "language": "python",
     "metadata": {},
     "outputs": [
      {
       "output_type": "stream",
       "stream": "stdout",
       "text": [
        "1\n"
       ]
      }
     ],
     "prompt_number": 4
    },
    {
     "cell_type": "code",
     "collapsed": false,
     "input": [
      "print(x[0::2])"
     ],
     "language": "python",
     "metadata": {},
     "outputs": [
      {
       "output_type": "stream",
       "stream": "stdout",
       "text": [
        "(1, 3)\n"
       ]
      }
     ],
     "prompt_number": 5
    },
    {
     "cell_type": "markdown",
     "metadata": {},
     "source": [
      "Notice how that last line returned a new tuple instead of a list.\n",
      "\n",
      "We can still concatenate tuples together as well to make a new one."
     ]
    },
    {
     "cell_type": "code",
     "collapsed": false,
     "input": [
      "print(x)"
     ],
     "language": "python",
     "metadata": {},
     "outputs": [
      {
       "output_type": "stream",
       "stream": "stdout",
       "text": [
        "(1, 2, 3)\n"
       ]
      }
     ],
     "prompt_number": 6
    },
    {
     "cell_type": "code",
     "collapsed": false,
     "input": [
      "x = x + (10,12,15)\n",
      "print(x)"
     ],
     "language": "python",
     "metadata": {},
     "outputs": [
      {
       "output_type": "stream",
       "stream": "stdout",
       "text": [
        "(1, 2, 3, 10, 12, 15)\n"
       ]
      }
     ],
     "prompt_number": 7
    },
    {
     "cell_type": "code",
     "collapsed": false,
     "input": [
      "x = x + x[::2]"
     ],
     "language": "python",
     "metadata": {},
     "outputs": [],
     "prompt_number": 8
    },
    {
     "cell_type": "code",
     "collapsed": false,
     "input": [
      "print(x)"
     ],
     "language": "python",
     "metadata": {},
     "outputs": [
      {
       "output_type": "stream",
       "stream": "stdout",
       "text": [
        "(1, 2, 3, 10, 12, 15, 1, 3, 12)\n"
       ]
      }
     ],
     "prompt_number": 9
    },
    {
     "cell_type": "markdown",
     "metadata": {},
     "source": [
      "A neat trick is the ability to create a tuple from a list using the tuple function."
     ]
    },
    {
     "cell_type": "code",
     "collapsed": false,
     "input": [
      "my_list = [1,2,3]"
     ],
     "language": "python",
     "metadata": {},
     "outputs": [],
     "prompt_number": 11
    },
    {
     "cell_type": "code",
     "collapsed": false,
     "input": [
      "print(tuple(my_list))"
     ],
     "language": "python",
     "metadata": {},
     "outputs": [
      {
       "output_type": "stream",
       "stream": "stdout",
       "text": [
        "(1, 2, 3)\n"
       ]
      }
     ],
     "prompt_number": 12
    },
    {
     "cell_type": "markdown",
     "metadata": {},
     "source": [
      "You can also do the opposite, create a list from a tuple."
     ]
    },
    {
     "cell_type": "code",
     "collapsed": false,
     "input": [
      "print(list(x))"
     ],
     "language": "python",
     "metadata": {},
     "outputs": [
      {
       "output_type": "stream",
       "stream": "stdout",
       "text": [
        "[1, 2, 3, 10, 12, 15, 1, 3, 12]\n"
       ]
      }
     ],
     "prompt_number": 14
    },
    {
     "cell_type": "markdown",
     "metadata": {},
     "source": [
      "That's because at the core. All these types are sequences and it's very common for sequence types to make it easy for us to convert between one type and another with just a method or function call."
     ]
    },
    {
     "cell_type": "markdown",
     "metadata": {},
     "source": [
      "An interesting way to think of tuples is as a sequence of characters. While this isn't technically correct and much of the same rules apply."
     ]
    },
    {
     "cell_type": "code",
     "collapsed": false,
     "input": [
      "x = \"goodbye\"\n",
      "print(x[0:4])\n",
      "print(list(x))\n",
      "print(x[::2])"
     ],
     "language": "python",
     "metadata": {},
     "outputs": [
      {
       "output_type": "stream",
       "stream": "stdout",
       "text": [
        "good\n",
        "['g', 'o', 'o', 'd', 'b', 'y', 'e']\n",
        "gobe\n"
       ]
      }
     ],
     "prompt_number": 21
    },
    {
     "cell_type": "markdown",
     "metadata": {},
     "source": [
      "Python treats strings really as a sequence of characters as you'll continue to see. However they cannot be changed, so they're immutable like tuples. Remember, this isn't necessarily technically correct, but it's a great way of leveraging the information that you do know (about tuples and sequences) to try and make assumptions about things that you may not know as well."
     ]
    },
    {
     "cell_type": "markdown",
     "metadata": {},
     "source": [
      "As a reminder, all that the methods that we went over in sequences are available in tuples. While it may be difficult to think of a use case for a tuple right now, they actually allow you to do a lot of cool things. We're not going to go into the details in this notebook but they come up often in data science."
     ]
    }
   ],
   "metadata": {}
  }
 ]
}