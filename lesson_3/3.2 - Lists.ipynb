{
 "cells": [
  {
   "cell_type": "markdown",
   "metadata": {},
   "source": [
    "#Lists"
   ]
  },
  {
   "cell_type": "markdown",
   "metadata": {},
   "source": [
    "Lists are one of the most intuitive data structures that exist. Humans have a long history of putting things in lines, so most list methods will seem quite familiar to you.\n",
    "\n",
    "We've already seen some of the things lists can do, but the focus so far has been on all Python Sequences.  Even though we used lists as a running example, we mostly demonstrated operations that were common to all Sequences.  Now it's time to see what makes lists special.  These operations make lists one of the most flexible - and widely used - of all data structures.\n",
    "\n",
    "One of the distinctive features of lists is that we can change them - we say that lists are *mutable* objects.  If you were paying attention, you might have noticed that we never changed ints, floats, or strings.  All we ever did was create new ones, and perhaps reassign variables to point to those new objects.  In fact, lists are the first mutable objects that we've seen.\n",
    "\n",
    "Here are some operations we can use to mutate a list."
   ]
  },
  {
   "cell_type": "code",
   "execution_count": 1,
   "metadata": {
    "collapsed": false
   },
   "outputs": [
    {
     "name": "stdout",
     "output_type": "stream",
     "text": [
      "[]\n"
     ]
    }
   ],
   "source": [
    "x = []\n",
    "print(x)"
   ]
  },
  {
   "cell_type": "code",
   "execution_count": 2,
   "metadata": {
    "collapsed": false
   },
   "outputs": [
    {
     "name": "stdout",
     "output_type": "stream",
     "text": [
      "[5]\n"
     ]
    }
   ],
   "source": [
    "x.append(5)\n",
    "print(x)"
   ]
  },
  {
   "cell_type": "markdown",
   "metadata": {},
   "source": [
    "We can use an index to swap out a value in a list"
   ]
  },
  {
   "cell_type": "code",
   "execution_count": 3,
   "metadata": {
    "collapsed": false
   },
   "outputs": [
    {
     "name": "stdout",
     "output_type": "stream",
     "text": [
      "[10]\n"
     ]
    }
   ],
   "source": [
    "x[0] = 10 # the zero indexed value\n",
    "print(x)"
   ]
  },
  {
   "cell_type": "markdown",
   "metadata": {},
   "source": [
    "We can also swap in a whole sequence of values."
   ]
  },
  {
   "cell_type": "code",
   "execution_count": 4,
   "metadata": {
    "collapsed": false
   },
   "outputs": [
    {
     "name": "stdout",
     "output_type": "stream",
     "text": [
      "[10, 12, 13]\n"
     ]
    }
   ],
   "source": [
    "x.extend([12,13])\n",
    "print(x)"
   ]
  },
  {
   "cell_type": "markdown",
   "metadata": {},
   "source": [
    "Notice how I used the `.extend()` method to extend the list to include some new values."
   ]
  },
  {
   "cell_type": "code",
   "execution_count": 5,
   "metadata": {
    "collapsed": false
   },
   "outputs": [
    {
     "name": "stdout",
     "output_type": "stream",
     "text": [
      "[15, 16, 13]\n"
     ]
    }
   ],
   "source": [
    "x[0:2] = [15,16]\n",
    "print(x)"
   ]
  },
  {
   "cell_type": "markdown",
   "metadata": {},
   "source": [
    "We can also remove values from our list used the `del` keyword. This will remove indexed values from our list. We can do this with a start and a stop or for a specific value."
   ]
  },
  {
   "cell_type": "code",
   "execution_count": 6,
   "metadata": {
    "collapsed": false
   },
   "outputs": [
    {
     "name": "stdout",
     "output_type": "stream",
     "text": [
      "[15]\n"
     ]
    }
   ],
   "source": [
    "del x[1:3]\n",
    "print(x)"
   ]
  },
  {
   "cell_type": "code",
   "execution_count": 7,
   "metadata": {
    "collapsed": false
   },
   "outputs": [
    {
     "name": "stdout",
     "output_type": "stream",
     "text": [
      "[]\n"
     ]
    }
   ],
   "source": [
    "del x[0]\n",
    "print(x)"
   ]
  },
  {
   "cell_type": "markdown",
   "metadata": {},
   "source": [
    "We can also replace with steps. Where we replace every second value for example."
   ]
  },
  {
   "cell_type": "code",
   "execution_count": 8,
   "metadata": {
    "collapsed": false
   },
   "outputs": [
    {
     "name": "stdout",
     "output_type": "stream",
     "text": [
      "[1, 2, 3, 4, 5]\n"
     ]
    }
   ],
   "source": [
    "x = [1,2,3,4,5]\n",
    "print(x)"
   ]
  },
  {
   "cell_type": "code",
   "execution_count": 9,
   "metadata": {
    "collapsed": false
   },
   "outputs": [],
   "source": [
    "y = [10, 12]"
   ]
  },
  {
   "cell_type": "code",
   "execution_count": 10,
   "metadata": {
    "collapsed": false
   },
   "outputs": [
    {
     "name": "stdout",
     "output_type": "stream",
     "text": [
      "[1, 10, 3, 12, 5]\n"
     ]
    }
   ],
   "source": [
    "x[1:5:2] = y\n",
    "print(x)"
   ]
  },
  {
   "cell_type": "markdown",
   "metadata": {},
   "source": [
    "As you might have guessed, we can also delete by this as well."
   ]
  },
  {
   "cell_type": "code",
   "execution_count": 11,
   "metadata": {
    "collapsed": false
   },
   "outputs": [
    {
     "name": "stdout",
     "output_type": "stream",
     "text": [
      "[10, 12]\n"
     ]
    }
   ],
   "source": [
    "del x[0::2]\n",
    "print(x)"
   ]
  },
  {
   "cell_type": "markdown",
   "metadata": {},
   "source": [
    "In a more extreme example, we can actually clear out an entire list without having to know what's inside of it. We do that with the `.clear()` method"
   ]
  },
  {
   "cell_type": "code",
   "execution_count": 12,
   "metadata": {
    "collapsed": false
   },
   "outputs": [
    {
     "name": "stdout",
     "output_type": "stream",
     "text": [
      "[]\n"
     ]
    }
   ],
   "source": [
    "x.clear()\n",
    "print(x)"
   ]
  },
  {
   "cell_type": "markdown",
   "metadata": {},
   "source": [
    "We can also insert values at specific locations in lists, this makes it easy to prepend values to a list or put them in the second slot of a list, and so on."
   ]
  },
  {
   "cell_type": "code",
   "execution_count": 13,
   "metadata": {
    "collapsed": false
   },
   "outputs": [
    {
     "name": "stdout",
     "output_type": "stream",
     "text": [
      "[12]\n",
      "[15, 12]\n",
      "[15, 500, 12]\n"
     ]
    }
   ],
   "source": [
    "x.insert(0, 12)\n",
    "print(x)\n",
    "x.insert(0, 15)\n",
    "print(x)\n",
    "x.insert(1,500)\n",
    "print(x)"
   ]
  },
  {
   "cell_type": "markdown",
   "metadata": {},
   "source": [
    "Lastly, it's a common operation to get the last value off of a list. We do this with the `pop` method. This will remove the value from the list."
   ]
  },
  {
   "cell_type": "code",
   "execution_count": 14,
   "metadata": {
    "collapsed": false
   },
   "outputs": [
    {
     "name": "stdout",
     "output_type": "stream",
     "text": [
      "12\n",
      "[15, 500]\n"
     ]
    }
   ],
   "source": [
    "last_val = x.pop()\n",
    "print(last_val)\n",
    "print(x)"
   ]
  },
  {
   "cell_type": "markdown",
   "metadata": {},
   "source": [
    "we can also pop a specific value if we want to, for example if we want to pop the first value from the list. Again this will remove that value from the list."
   ]
  },
  {
   "cell_type": "code",
   "execution_count": 15,
   "metadata": {
    "collapsed": false
   },
   "outputs": [
    {
     "name": "stdout",
     "output_type": "stream",
     "text": [
      "15\n",
      "[500]\n"
     ]
    }
   ],
   "source": [
    "first_val = x.pop(0)\n",
    "print(first_val)\n",
    "print(x)"
   ]
  },
  {
   "cell_type": "markdown",
   "metadata": {},
   "source": [
    "There's also a way to remove a specific value from a list with the `remove` method. However just like `index` which we learning in a previous ipython notebook, it will only remove the first value."
   ]
  },
  {
   "cell_type": "code",
   "execution_count": 16,
   "metadata": {
    "collapsed": false
   },
   "outputs": [
    {
     "name": "stdout",
     "output_type": "stream",
     "text": [
      "[500, 600, 700, 800, 500]\n",
      "[600, 700, 800, 500]\n"
     ]
    }
   ],
   "source": [
    "x.extend([600,700,800, 500])\n",
    "print(x)\n",
    "x.remove(500)\n",
    "print(x)"
   ]
  },
  {
   "cell_type": "markdown",
   "metadata": {},
   "source": [
    "See how that only removed the first value?"
   ]
  },
  {
   "cell_type": "markdown",
   "metadata": {},
   "source": [
    "Now you can also sort a list with the sort method, for example in our list above, the values are a bit jumbled."
   ]
  },
  {
   "cell_type": "code",
   "execution_count": 17,
   "metadata": {
    "collapsed": false
   },
   "outputs": [
    {
     "name": "stdout",
     "output_type": "stream",
     "text": [
      "[500, 600, 700, 800]\n"
     ]
    }
   ],
   "source": [
    "x.sort()\n",
    "print(x)"
   ]
  },
  {
   "cell_type": "markdown",
   "metadata": {},
   "source": [
    "However sometimes, you'll want a list reversed, the way to do this is extremely straightforward :)."
   ]
  },
  {
   "cell_type": "code",
   "execution_count": 18,
   "metadata": {
    "collapsed": false
   },
   "outputs": [
    {
     "name": "stdout",
     "output_type": "stream",
     "text": [
      "[800, 700, 600, 500]\n"
     ]
    }
   ],
   "source": [
    "x.reverse()\n",
    "print(x)"
   ]
  },
  {
   "cell_type": "markdown",
   "metadata": {},
   "source": [
    "## More about Mutability\n",
    "\n",
    "As we've seen, the ability to change the contents of lists makes them a much more powerful type.  Mutability becomes especially important when objects get large.  Imagine that you had a large list with millions of items - it would be rather inefficient if you had to create an entirely new list every time you changed one entry.\n",
    "\n",
    "At the same time, mutable objects present a set of challenges, and it can be easy to make mistakes as a programmer.  For example, let's see how to make a copy of a list."
   ]
  },
  {
   "cell_type": "code",
   "execution_count": 34,
   "metadata": {
    "collapsed": false
   },
   "outputs": [],
   "source": [
    "original_list = [1,2,3,4,5]"
   ]
  },
  {
   "cell_type": "markdown",
   "metadata": {},
   "source": [
    "You might think that we can create a copy by just assigning a different variable to the same list."
   ]
  },
  {
   "cell_type": "code",
   "execution_count": 36,
   "metadata": {
    "collapsed": false
   },
   "outputs": [],
   "source": [
    "second_list = original_list"
   ]
  },
  {
   "cell_type": "markdown",
   "metadata": {},
   "source": [
    "Now we have two variables, but do we have two lists? What if we don't want to change original_list and we only want to make a change to second_list? Suppose we need to make the first value in second_list equal to 1000."
   ]
  },
  {
   "cell_type": "code",
   "execution_count": 37,
   "metadata": {
    "collapsed": false
   },
   "outputs": [],
   "source": [
    "second_list[0] = 1000"
   ]
  },
  {
   "cell_type": "markdown",
   "metadata": {},
   "source": [
    "What is the value of the original list?"
   ]
  },
  {
   "cell_type": "code",
   "execution_count": 38,
   "metadata": {
    "collapsed": false
   },
   "outputs": [
    {
     "name": "stdout",
     "output_type": "stream",
     "text": [
      "[1000, 2, 3, 4, 5]\n"
     ]
    }
   ],
   "source": [
    "print(original_list)"
   ]
  },
  {
   "cell_type": "markdown",
   "metadata": {},
   "source": [
    "Woah, how did that happen? That's because we've only created a second variable (second_list), that points to the same object as first_list. In programming languages, variables prevent the computer from having to allocate memory or space for objects that are just copies of one another. Unfortunately this can lead to some frustrating issues.\n",
    "\n",
    "This is one advantage of immutable data structures - they prevent you from making this kind of mistake because you can't modify things that have already been created."
   ]
  },
  {
   "cell_type": "markdown",
   "metadata": {},
   "source": [
    "To prevent this issue, we can use the `copy()` method. However, this doesn't get to the core of the issue either (although it seems to)."
   ]
  },
  {
   "cell_type": "code",
   "execution_count": 39,
   "metadata": {
    "collapsed": false
   },
   "outputs": [
    {
     "name": "stdout",
     "output_type": "stream",
     "text": [
      "[1000, 2, 3, 4, 5]\n"
     ]
    }
   ],
   "source": [
    "third_list = original_list.copy()\n",
    "print(third_list)"
   ]
  },
  {
   "cell_type": "code",
   "execution_count": 40,
   "metadata": {
    "collapsed": false
   },
   "outputs": [
    {
     "name": "stdout",
     "output_type": "stream",
     "text": [
      "[1000, 2, 3, 4, 10020]\n"
     ]
    }
   ],
   "source": [
    "third_list[4] = 10020\n",
    "print(third_list)"
   ]
  },
  {
   "cell_type": "code",
   "execution_count": 41,
   "metadata": {
    "collapsed": false
   },
   "outputs": [
    {
     "name": "stdout",
     "output_type": "stream",
     "text": [
      "[1000, 2000, 3, 4, 5]\n"
     ]
    }
   ],
   "source": [
    "original_list[1] = 2000\n",
    "print(original_list)"
   ]
  },
  {
   "cell_type": "code",
   "execution_count": 42,
   "metadata": {
    "collapsed": false
   },
   "outputs": [
    {
     "name": "stdout",
     "output_type": "stream",
     "text": [
      "[1000, 2, 3, 4, 10020]\n"
     ]
    }
   ],
   "source": [
    "print(third_list)"
   ]
  },
  {
   "cell_type": "markdown",
   "metadata": {},
   "source": [
    "Now i know what you're thinking. It made a copy the correct way. But let me show you something else. I'm going to create a list of lists and show you that it didn't actually make a complete copy."
   ]
  },
  {
   "cell_type": "code",
   "execution_count": 43,
   "metadata": {
    "collapsed": false
   },
   "outputs": [],
   "source": [
    "original = [\"Original\"]"
   ]
  },
  {
   "cell_type": "code",
   "execution_count": 44,
   "metadata": {
    "collapsed": false
   },
   "outputs": [
    {
     "name": "stdout",
     "output_type": "stream",
     "text": [
      "[['Original'], 'now is it?']\n"
     ]
    }
   ],
   "source": [
    "combo = [original, \"now is it?\"]\n",
    "print(combo)"
   ]
  },
  {
   "cell_type": "markdown",
   "metadata": {},
   "source": [
    "In this list I've got a list and a string. Two seperate items."
   ]
  },
  {
   "cell_type": "code",
   "execution_count": 45,
   "metadata": {
    "collapsed": false
   },
   "outputs": [
    {
     "name": "stdout",
     "output_type": "stream",
     "text": [
      "[['Original'], 'now is it?']\n"
     ]
    }
   ],
   "source": [
    "new_combo = combo.copy()\n",
    "print(new_combo)"
   ]
  },
  {
   "cell_type": "markdown",
   "metadata": {},
   "source": [
    "No surprises so far, it's all pretty straightforward. But It's actually not, because what happens when we change the value of `original`?"
   ]
  },
  {
   "cell_type": "code",
   "execution_count": 46,
   "metadata": {
    "collapsed": false
   },
   "outputs": [],
   "source": [
    "original.append(\"not so easy,\")"
   ]
  },
  {
   "cell_type": "code",
   "execution_count": 47,
   "metadata": {
    "collapsed": false
   },
   "outputs": [
    {
     "name": "stdout",
     "output_type": "stream",
     "text": [
      "[['Original', 'not so easy,'], 'now is it?']\n"
     ]
    }
   ],
   "source": [
    "print(combo)"
   ]
  },
  {
   "cell_type": "code",
   "execution_count": 48,
   "metadata": {
    "collapsed": false
   },
   "outputs": [
    {
     "name": "stdout",
     "output_type": "stream",
     "text": [
      "[['Original', 'not so easy,'], 'now is it?']\n"
     ]
    }
   ],
   "source": [
    "print(new_combo)"
   ]
  },
  {
   "cell_type": "markdown",
   "metadata": {},
   "source": [
    "Woah!\n",
    "\n",
    "Look at that. That's because the `copy` method is only making a `shallow copy` of the list of combo. That means that it won't change the references to any objects with in the list. Just a high level copy of the list itself.\n",
    "\n",
    "if we want to make a `deep copy` of the list, what should we do?"
   ]
  },
  {
   "cell_type": "code",
   "execution_count": 49,
   "metadata": {
    "collapsed": false
   },
   "outputs": [
    {
     "name": "stdout",
     "output_type": "stream",
     "text": [
      "[['Original', 'not so easy,'], 'now is it?']\n",
      "[['Original', 'not so easy,'], 'now is it?']\n",
      "[['Original', 'not so easy,', 'Did I get it?'], 'now is it?']\n"
     ]
    }
   ],
   "source": [
    "deep_copy = new_combo.copy()\n",
    "deep_copy[0] = new_combo[0].copy()\n",
    "print(deep_copy)\n",
    "original.append(\"Did I get it?\")\n",
    "print(deep_copy)\n",
    "print(new_combo)"
   ]
  },
  {
   "cell_type": "markdown",
   "metadata": {},
   "source": [
    "In order to make a deep copy, we had to create a copy of each element within it. Now this isn't something that is going to come up every day but it's a great thing to be aware of because you will come across it at some point.\n",
    "\n",
    "Just a little warning: a deep copy will work its way through every object that can be reached through list references - and that could be a lot of objects.  If you're not careful, you could be waiting for a huge amount of data to be replicated."
   ]
  },
  {
   "cell_type": "markdown",
   "metadata": {},
   "source": [
    "Now I'm sure that this has been a bit confusing because it's something that gets into the nitty gritty of how computers store information, but what you need to know is pretty simple.  Remember that variables are not objects themselves, they point to objects.  Similarly, lists point to the objects they contain.  When you change an object, think about all the variables and lists that point to that object - they are all affected.\n"
   ]
  }
 ],
 "metadata": {
  "kernelspec": {
   "display_name": "Python 3",
   "language": "python",
   "name": "python3"
  },
  "language_info": {
   "codemirror_mode": {
    "name": "ipython",
    "version": 3
   },
   "file_extension": ".py",
   "mimetype": "text/x-python",
   "name": "python",
   "nbconvert_exporter": "python",
   "pygments_lexer": "ipython3",
   "version": "3.4.3"
  }
 },
 "nbformat": 4,
 "nbformat_minor": 0
}
