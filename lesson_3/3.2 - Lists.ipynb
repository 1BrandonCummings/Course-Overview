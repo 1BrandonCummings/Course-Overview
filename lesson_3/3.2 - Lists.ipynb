{
 "metadata": {
  "name": ""
 },
 "nbformat": 3,
 "nbformat_minor": 0,
 "worksheets": [
  {
   "cells": [
    {
     "cell_type": "markdown",
     "metadata": {},
     "source": [
      "#Lists"
     ]
    },
    {
     "cell_type": "markdown",
     "metadata": {},
     "source": [
      "Lists are one of the most fundamental data structures that exist. Humans have been putting things in lines forever and it's what makes lists such a powerful data structure. They're flexible but stable and easy to understand.\n",
      "\n",
      "Lists fall into the category of a \"mutable\" data structure in that we can modify them after we create them. For example here's a list. Notice how we can append to it and change it's value."
     ]
    },
    {
     "cell_type": "markdown",
     "metadata": {},
     "source": [
      "- Copy and deep copy"
     ]
    },
    {
     "cell_type": "code",
     "collapsed": false,
     "input": [
      "x = []\n",
      "print(x)"
     ],
     "language": "python",
     "metadata": {},
     "outputs": [
      {
       "output_type": "stream",
       "stream": "stdout",
       "text": [
        "[]\n"
       ]
      }
     ],
     "prompt_number": 37
    },
    {
     "cell_type": "code",
     "collapsed": false,
     "input": [
      "x.append(5)\n",
      "print(x)"
     ],
     "language": "python",
     "metadata": {},
     "outputs": [
      {
       "output_type": "stream",
       "stream": "stdout",
       "text": [
        "[5]\n"
       ]
      }
     ],
     "prompt_number": 38
    },
    {
     "cell_type": "markdown",
     "metadata": {},
     "source": [
      "We can also just swap out a value in a list"
     ]
    },
    {
     "cell_type": "code",
     "collapsed": false,
     "input": [
      "x[0] = 10 # the zero indexed value\n",
      "print(x)"
     ],
     "language": "python",
     "metadata": {},
     "outputs": [
      {
       "output_type": "stream",
       "stream": "stdout",
       "text": [
        "[10]\n"
       ]
      }
     ],
     "prompt_number": 39
    },
    {
     "cell_type": "markdown",
     "metadata": {},
     "source": [
      "We can also swap in a whole sequence of values."
     ]
    },
    {
     "cell_type": "code",
     "collapsed": false,
     "input": [
      "x.extend([12,13])\n",
      "print(x)"
     ],
     "language": "python",
     "metadata": {},
     "outputs": [
      {
       "output_type": "stream",
       "stream": "stdout",
       "text": [
        "[10, 12, 13]\n"
       ]
      }
     ],
     "prompt_number": 40
    },
    {
     "cell_type": "markdown",
     "metadata": {},
     "source": [
      "Notice how I used the `.extend()` method to extend the list to include some new values."
     ]
    },
    {
     "cell_type": "code",
     "collapsed": false,
     "input": [
      "x[0:2] = [15,16]\n",
      "print(x)"
     ],
     "language": "python",
     "metadata": {},
     "outputs": [
      {
       "output_type": "stream",
       "stream": "stdout",
       "text": [
        "[15, 16, 13]\n"
       ]
      }
     ],
     "prompt_number": 41
    },
    {
     "cell_type": "markdown",
     "metadata": {},
     "source": [
      "We can also remove values from our list used the `del` keyword. This will remove indexed values from our list. We can do this with a start and a stop or for a specific value."
     ]
    },
    {
     "cell_type": "code",
     "collapsed": false,
     "input": [
      "del x[1:3]\n",
      "print(x)"
     ],
     "language": "python",
     "metadata": {},
     "outputs": [
      {
       "output_type": "stream",
       "stream": "stdout",
       "text": [
        "[15]\n"
       ]
      }
     ],
     "prompt_number": 42
    },
    {
     "cell_type": "code",
     "collapsed": false,
     "input": [
      "del x[0]\n",
      "print(x)"
     ],
     "language": "python",
     "metadata": {},
     "outputs": [
      {
       "output_type": "stream",
       "stream": "stdout",
       "text": [
        "[]\n"
       ]
      }
     ],
     "prompt_number": 43
    },
    {
     "cell_type": "markdown",
     "metadata": {},
     "source": [
      "We can also replace with steps. Where we replace every second value for example."
     ]
    },
    {
     "cell_type": "code",
     "collapsed": false,
     "input": [
      "x = [1,2,3,4,5]\n",
      "print(x)"
     ],
     "language": "python",
     "metadata": {},
     "outputs": [
      {
       "output_type": "stream",
       "stream": "stdout",
       "text": [
        "[1, 2, 3, 4, 5]\n"
       ]
      }
     ],
     "prompt_number": 44
    },
    {
     "cell_type": "code",
     "collapsed": false,
     "input": [
      "y = [10, 12]"
     ],
     "language": "python",
     "metadata": {},
     "outputs": [],
     "prompt_number": 45
    },
    {
     "cell_type": "code",
     "collapsed": false,
     "input": [
      "x[1:5:2] = y\n",
      "print(x)"
     ],
     "language": "python",
     "metadata": {},
     "outputs": [
      {
       "output_type": "stream",
       "stream": "stdout",
       "text": [
        "[1, 10, 3, 12, 5]\n"
       ]
      }
     ],
     "prompt_number": 46
    },
    {
     "cell_type": "markdown",
     "metadata": {},
     "source": [
      "As you might have guessed, we can also delete by this as well."
     ]
    },
    {
     "cell_type": "code",
     "collapsed": false,
     "input": [
      "del x[0::2]\n",
      "print(x)"
     ],
     "language": "python",
     "metadata": {},
     "outputs": [
      {
       "output_type": "stream",
       "stream": "stdout",
       "text": [
        "[10, 12]\n"
       ]
      }
     ],
     "prompt_number": 47
    },
    {
     "cell_type": "markdown",
     "metadata": {},
     "source": [
      "In a more extreme example, we can actually clear out or entire list without having to know what's inside of it. We do that with the `.clear()` method"
     ]
    },
    {
     "cell_type": "code",
     "collapsed": false,
     "input": [
      "x.clear()\n",
      "print(x)"
     ],
     "language": "python",
     "metadata": {},
     "outputs": [
      {
       "output_type": "stream",
       "stream": "stdout",
       "text": [
        "[]\n"
       ]
      }
     ],
     "prompt_number": 131
    },
    {
     "cell_type": "markdown",
     "metadata": {},
     "source": [
      "We can also insert values at specific locations of lists, this makes it easy to prepend values to a list or put them in the second slot of a list as well."
     ]
    },
    {
     "cell_type": "code",
     "collapsed": false,
     "input": [
      "x.insert(0, 12)\n",
      "print(x)\n",
      "x.insert(0, 15)\n",
      "print(x)\n",
      "x.insert(1,500)\n",
      "print(x)"
     ],
     "language": "python",
     "metadata": {},
     "outputs": [
      {
       "output_type": "stream",
       "stream": "stdout",
       "text": [
        "[12]\n",
        "[15, 12]\n",
        "[15, 500, 12]\n"
       ]
      }
     ],
     "prompt_number": 132
    },
    {
     "cell_type": "markdown",
     "metadata": {},
     "source": [
      "Lastly, it's a common operation to get the last value off of a list. We do this with the `pop` method. This will remove the value from the list."
     ]
    },
    {
     "cell_type": "code",
     "collapsed": false,
     "input": [
      "last_val = x.pop()\n",
      "print(last_val)\n",
      "print(x)"
     ],
     "language": "python",
     "metadata": {},
     "outputs": [
      {
       "output_type": "stream",
       "stream": "stdout",
       "text": [
        "12\n",
        "[15, 500]\n"
       ]
      }
     ],
     "prompt_number": 133
    },
    {
     "cell_type": "markdown",
     "metadata": {},
     "source": [
      "we can also pop a specific value if we want to, for example if we want to pop the first value from the list. Again this will remove that value from the list."
     ]
    },
    {
     "cell_type": "code",
     "collapsed": false,
     "input": [
      "first_val = x.pop(0)\n",
      "print(first_val)\n",
      "print(x)"
     ],
     "language": "python",
     "metadata": {},
     "outputs": [
      {
       "output_type": "stream",
       "stream": "stdout",
       "text": [
        "15\n",
        "[500]\n"
       ]
      }
     ],
     "prompt_number": 134
    },
    {
     "cell_type": "markdown",
     "metadata": {},
     "source": [
      "There's also a way to remove a specific value from a list with the `remove` method. However just like `index` which we learning in a previous ipython notebook, it will only remove the first value."
     ]
    },
    {
     "cell_type": "code",
     "collapsed": false,
     "input": [
      "x.extend([600,700,800, 500])\n",
      "print(x)\n",
      "x.remove(500)\n",
      "print(x)"
     ],
     "language": "python",
     "metadata": {},
     "outputs": [
      {
       "output_type": "stream",
       "stream": "stdout",
       "text": [
        "[500, 600, 700, 800, 500]\n",
        "[600, 700, 800, 500]\n"
       ]
      }
     ],
     "prompt_number": 135
    },
    {
     "cell_type": "markdown",
     "metadata": {},
     "source": [
      "See how that only removed the first value?"
     ]
    },
    {
     "cell_type": "markdown",
     "metadata": {},
     "source": [
      "Now you can also sort a list with the sort method, for example in our list above, the values are a bit jumbled."
     ]
    },
    {
     "cell_type": "code",
     "collapsed": false,
     "input": [
      "x.sort()\n",
      "print(x)"
     ],
     "language": "python",
     "metadata": {},
     "outputs": [
      {
       "output_type": "stream",
       "stream": "stdout",
       "text": [
        "[500, 600, 700, 800]\n"
       ]
      }
     ],
     "prompt_number": 137
    },
    {
     "cell_type": "markdown",
     "metadata": {},
     "source": [
      "However sometimes, you'll want a list reversed, the way to do this is extremely straightforward :)."
     ]
    },
    {
     "cell_type": "code",
     "collapsed": false,
     "input": [
      "x.reverse()\n",
      "print(x)"
     ],
     "language": "python",
     "metadata": {},
     "outputs": [
      {
       "output_type": "stream",
       "stream": "stdout",
       "text": [
        "[800, 700, 600, 500]\n"
       ]
      }
     ],
     "prompt_number": 138
    },
    {
     "cell_type": "markdown",
     "metadata": {},
     "source": [
      "That's really all of the list methods, more or less. It's super easy and intuitive to perform list operations and many operations in python once you get a sense for the vocabulary that you need."
     ]
    },
    {
     "cell_type": "markdown",
     "metadata": {},
     "source": [
      "Now we've covered a lot of different methods for lists. Let's try a different concept altogether. This is going to be a bit harder because it opens us up to some potential tricks or difficult situations.\n",
      "\n",
      "Let's go through how we might try and make a copy of a list."
     ]
    },
    {
     "cell_type": "code",
     "collapsed": false,
     "input": [
      "original_list = [1,2,3,4,5]"
     ],
     "language": "python",
     "metadata": {},
     "outputs": [],
     "prompt_number": 106
    },
    {
     "cell_type": "markdown",
     "metadata": {},
     "source": [
      "You might think that we can create a copy by just setting a different variable to that same variable."
     ]
    },
    {
     "cell_type": "code",
     "collapsed": false,
     "input": [
      "second_list = original_list"
     ],
     "language": "python",
     "metadata": {},
     "outputs": [],
     "prompt_number": 107
    },
    {
     "cell_type": "markdown",
     "metadata": {},
     "source": [
      "But in doing this lies the power and strength of immutability. What if we don't want to change a and we only want to make a change to second_list when we're doing a computation. Imagine we've made a system that needs to do some calculations on some call records and we need to make the first value in second_list equal to 1000."
     ]
    },
    {
     "cell_type": "code",
     "collapsed": false,
     "input": [
      "second_list[0] = 1000"
     ],
     "language": "python",
     "metadata": {},
     "outputs": [],
     "prompt_number": 108
    },
    {
     "cell_type": "markdown",
     "metadata": {},
     "source": [
      "What is the value of the original list?"
     ]
    },
    {
     "cell_type": "code",
     "collapsed": false,
     "input": [
      "print(original_list)"
     ],
     "language": "python",
     "metadata": {},
     "outputs": [
      {
       "output_type": "stream",
       "stream": "stdout",
       "text": [
        "[1000, 2, 3, 4, 5]\n"
       ]
      }
     ],
     "prompt_number": 109
    },
    {
     "cell_type": "markdown",
     "metadata": {},
     "source": [
      "Woah, how did that happen? That's because we've only created a pointer (variable second_list) to variable first_list. In programming languages, pointers prevent the computer from having to allocate memory or space for objects that are just copies of one another. Unfortunately this can lead to some frustrating issues.\n",
      "\n",
      "This is one of the powers of immutable data structures, they prevent you from making this kind of mistake because you can't modify things that have already been created."
     ]
    },
    {
     "cell_type": "markdown",
     "metadata": {},
     "source": [
      "To prevent this issue, we can use the `copy()` method. However, this doesn't get to the core of the issue either (althought it seems to)."
     ]
    },
    {
     "cell_type": "code",
     "collapsed": false,
     "input": [
      "third_list = original_list.copy()\n",
      "print(c)"
     ],
     "language": "python",
     "metadata": {},
     "outputs": [
      {
       "output_type": "stream",
       "stream": "stdout",
       "text": [
        "[1000, 2, 3, 4, 10020]\n"
       ]
      }
     ],
     "prompt_number": 120
    },
    {
     "cell_type": "code",
     "collapsed": false,
     "input": [
      "third_list[4] = 10020\n",
      "print(c)"
     ],
     "language": "python",
     "metadata": {},
     "outputs": [
      {
       "output_type": "stream",
       "stream": "stdout",
       "text": [
        "[1000, 2, 3, 4, 10020]\n"
       ]
      }
     ],
     "prompt_number": 121
    },
    {
     "cell_type": "code",
     "collapsed": false,
     "input": [
      "original_list[1] = 2000\n",
      "print(original_list)"
     ],
     "language": "python",
     "metadata": {},
     "outputs": [
      {
       "output_type": "stream",
       "stream": "stdout",
       "text": [
        "[1000, 2000, 3, 4, 5]\n"
       ]
      }
     ],
     "prompt_number": 122
    },
    {
     "cell_type": "code",
     "collapsed": false,
     "input": [
      "print(third_list)"
     ],
     "language": "python",
     "metadata": {},
     "outputs": [
      {
       "output_type": "stream",
       "stream": "stdout",
       "text": [
        "[1000, 2000, 3, 4, 10020]\n"
       ]
      }
     ],
     "prompt_number": 123
    },
    {
     "cell_type": "markdown",
     "metadata": {},
     "source": [
      "Now i know what you're thinking. It made a copy the correct way. But let me show you something else. I'm going to create a list of lists and show you that it didn't actually make a complete copy."
     ]
    },
    {
     "cell_type": "code",
     "collapsed": false,
     "input": [
      "original = [\"Original\"]"
     ],
     "language": "python",
     "metadata": {},
     "outputs": [],
     "prompt_number": 141
    },
    {
     "cell_type": "code",
     "collapsed": false,
     "input": [
      "combo = [original, \"now is it?\"]\n",
      "print(combo)"
     ],
     "language": "python",
     "metadata": {},
     "outputs": [
      {
       "output_type": "stream",
       "stream": "stdout",
       "text": [
        "[['Original'], 'now is it?']\n"
       ]
      }
     ],
     "prompt_number": 142
    },
    {
     "cell_type": "markdown",
     "metadata": {},
     "source": [
      "In this list I've got a list and a string. Two seperate items."
     ]
    },
    {
     "cell_type": "code",
     "collapsed": false,
     "input": [
      "new_combo = combo.copy()\n",
      "print(new_combo)"
     ],
     "language": "python",
     "metadata": {},
     "outputs": [
      {
       "output_type": "stream",
       "stream": "stdout",
       "text": [
        "[['Original'], 'now is it?']\n"
       ]
      }
     ],
     "prompt_number": 143
    },
    {
     "cell_type": "markdown",
     "metadata": {},
     "source": [
      "No surprises so far, it's all pretty straightforward. But It's actually not, because what happens when we change the value of `original`?"
     ]
    },
    {
     "cell_type": "code",
     "collapsed": false,
     "input": [
      "original.append(\"not so easy,\")"
     ],
     "language": "python",
     "metadata": {},
     "outputs": [],
     "prompt_number": 144
    },
    {
     "cell_type": "code",
     "collapsed": false,
     "input": [
      "print(combo)"
     ],
     "language": "python",
     "metadata": {},
     "outputs": [
      {
       "output_type": "stream",
       "stream": "stdout",
       "text": [
        "[['Original', 'not so easy,'], 'now is it?']\n"
       ]
      }
     ],
     "prompt_number": 145
    },
    {
     "cell_type": "code",
     "collapsed": false,
     "input": [
      "print(new_combo)"
     ],
     "language": "python",
     "metadata": {},
     "outputs": [
      {
       "output_type": "stream",
       "stream": "stdout",
       "text": [
        "[['Original', 'not so easy,'], 'now is it?']\n"
       ]
      }
     ],
     "prompt_number": 146
    },
    {
     "cell_type": "markdown",
     "metadata": {},
     "source": [
      "Woah!\n",
      "\n",
      "Look at that. That's because the `copy` method is only making a `shallow copy` of the list of combo. That means that it won't change the references to any objects with in the list. Just a high level copy of the list itself.\n",
      "\n",
      "if we want to make a `deep copy` of the list, what should we do?"
     ]
    },
    {
     "cell_type": "code",
     "collapsed": false,
     "input": [
      "deep_copy = new_combo.copy()\n",
      "deep_copy[0] = new_combo[0].copy()\n",
      "print(deep_copy)\n",
      "original.append(\"Did I get it?\")\n",
      "print(deep_copy)\n",
      "print(new_combo)"
     ],
     "language": "python",
     "metadata": {},
     "outputs": [
      {
       "output_type": "stream",
       "stream": "stdout",
       "text": [
        "[['Original', 'not so easy,'], 'now is it?']\n",
        "[['Original', 'not so easy,'], 'now is it?']\n",
        "[['Original', 'not so easy,', 'Did I get it?'], 'now is it?']\n"
       ]
      }
     ],
     "prompt_number": 147
    },
    {
     "cell_type": "markdown",
     "metadata": {},
     "source": [
      "In order to make a deep copy, we had to create a copy of each element within it. Now this isn't something that is going to come up every day but it's a great thing to be aware of because you will come across it at some point."
     ]
    },
    {
     "cell_type": "markdown",
     "metadata": {},
     "source": [
      "Now I'm sure that this has been a bit confusing because it's something that gets into the nitty gritty of how computers store information but what you need to know is pretty simple.\n",
      "\n",
      "A variable is like a mailbox, you can put something in it. When you reference that somewhere else, you need to be clear whether or not you're referencing what is in the mailbox, or the location of the mailbox itself. This is because the contents of the mailbox can change as people check their mail, send other letters. Hopefully you get the point by now.\n",
      "\n",
      "The big takeaway is that there is a difference between a reference to another object and the actual object itself. Try to make sure that you understand it by writing your own code. Try making your own own lists or lists within lists and see if you can't make it do soemthing strange!"
     ]
    }
   ],
   "metadata": {}
  }
 ]
}