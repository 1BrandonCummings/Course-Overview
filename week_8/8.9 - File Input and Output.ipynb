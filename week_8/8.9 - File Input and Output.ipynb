{
 "cells": [
  {
   "cell_type": "markdown",
   "metadata": {},
   "source": [
    "# Data Has to Go Somewhere"
   ]
  },
  {
   "cell_type": "markdown",
   "metadata": {},
   "source": [
    "## The open and close Command"
   ]
  },
  {
   "cell_type": "markdown",
   "metadata": {},
   "source": [
    "For data processing you will eventually need to be able to read and write files. In this section, we will show you how you can manipulate files using Python."
   ]
  },
  {
   "cell_type": "markdown",
   "metadata": {},
   "source": [
    "Let's first look at the fundamental open command that will enable you to access a file within a Python application."
   ]
  },
  {
   "cell_type": "markdown",
   "metadata": {},
   "source": [
    "`fileHandle = open(path_to_file, mode)`"
   ]
  },
  {
   "cell_type": "markdown",
   "metadata": {},
   "source": [
    "`fileHandler` is the file object that will enable us to manipulate the file lead by `path_to_file`. \n",
    "\n",
    "The `path_to_file` variable is a fully qualified path and file name that tells Python where the file we want to open is located.\n",
    "\n",
    "The mode gives us the ability to tell our Python script the kind of operations we want to do on the file, and the kind of file it is.\n",
    "\n",
    "The first letter indicates the operation:\n",
    "- r means read\n",
    "- w means write, and overwrite the file if it exists\n",
    "- x means write, but only if file does not already exist\n",
    "- a means write (append): write at the end of the file if it exists\n",
    "\n",
    "The second letter of mode indicates the file type:\n",
    "- t (or nothing) means text\n",
    "- b means binary"
   ]
  },
  {
   "cell_type": "markdown",
   "metadata": {},
   "source": [
    "After opening a file and manipulating it the way you like, you must be sure to close the file as well. Closing the file ensures that Python does not maintain file handles to files it is not using anymore. This practice can keep memory usage low as well. "
   ]
  },
  {
   "cell_type": "markdown",
   "metadata": {},
   "source": [
    "## Writing a Text File Using write()"
   ]
  },
  {
   "cell_type": "markdown",
   "metadata": {},
   "source": [
    "Let's now try to write a file using Python. First, let's create some content."
   ]
  },
  {
   "cell_type": "code",
   "execution_count": 1,
   "metadata": {
    "collapsed": true
   },
   "outputs": [],
   "source": [
    "file_content = '''To be or not to be\n",
    "That is a question.'''"
   ]
  },
  {
   "cell_type": "markdown",
   "metadata": {},
   "source": [
    "We just set a string variable with a multiline string to be the content of the file we wan to create.\n",
    "\n",
    "To create a file with the content within file_content, we would do the following."
   ]
  },
  {
   "cell_type": "code",
   "execution_count": 2,
   "metadata": {
    "collapsed": true
   },
   "outputs": [],
   "source": [
    "poem_file = open('shakespeare.txt', 'wt')\n",
    "poem_file.write(file_content)\n",
    "poem_file.close()"
   ]
  },
  {
   "cell_type": "markdown",
   "metadata": {},
   "source": [
    "You should now see a file named \"shakespeare.txt\" in the folder where this IPython Notebook is located. Let's take a look."
   ]
  },
  {
   "cell_type": "code",
   "execution_count": 3,
   "metadata": {
    "collapsed": false
   },
   "outputs": [
    {
     "name": "stdout",
     "output_type": "stream",
     "text": [
      "total 576\r\n",
      "drwxr-xr-x+ 17 kashaolu  staff     578 Oct 28 09:53 \u001b[34m.\u001b[m\u001b[m\r\n",
      "drwxr-xr-x+ 19 kashaolu  staff     646 Oct 20 13:28 \u001b[34m..\u001b[m\u001b[m\r\n",
      "-rw-r--r--@  1 kashaolu  staff    6148 Oct 28 07:43 .DS_Store\r\n",
      "drwxr-xr-x+  4 Personal  staff     136 Oct 28 09:31 \u001b[34m.ipynb_checkpoints\u001b[m\u001b[m\r\n",
      "-rw-r--r--+  1 kashaolu  staff  100184 Oct 20 13:28 8.1 - Encoding Text.pptx\r\n",
      "-rw-r--r--+  1 kashaolu  staff    8825 Sep 19 11:26 8.2 - Unicode Strings.ipynb\r\n",
      "-rw-r--r--+  1 kashaolu  staff   15496 Sep 19 11:26 8.3 - Encoding.ipynb\r\n",
      "-rw-r--r--+  1 kashaolu  staff   16894 Sep 19 11:26 8.4 - Formatting.ipynb\r\n",
      "-rw-r--r--+  1 kashaolu  staff   23439 Sep 19 11:26 8.5 - Regular Expressions.ipynb\r\n",
      "-rw-r--r--+  1 kashaolu  staff   11738 Sep 19 11:26 8.6 - Binary Data.ipynb\r\n",
      "-rw-r--r--+  1 kashaolu  staff   19483 Oct 28 09:14 8.7 - File Input and Output.ipynb\r\n",
      "-rw-r--r--+  1 kashaolu  staff    4887 Oct 28 09:53 8.8 - Structured Text Files.ipynb\r\n",
      "-rw-r--r--+  1 kashaolu  staff      72 Sep 19 11:26 Week 8 Assignment.ipynb\r\n",
      "-rw-r--r--+  1 Personal  staff     255 Oct 28 07:23 binary\r\n",
      "-rw-r--r--+  1 kashaolu  staff   49596 Sep 19 11:26 cal-image.png\r\n",
      "-rw-r--r--+  1 Personal  staff      50 Oct 28 09:53 grades.csv\r\n",
      "-rw-r--r--+  1 Personal  staff      38 Oct 28 09:54 shakespeare.txt\r\n"
     ]
    }
   ],
   "source": [
    "!ls -al"
   ]
  },
  {
   "cell_type": "markdown",
   "metadata": {},
   "source": [
    "We can see the contents using the cat command."
   ]
  },
  {
   "cell_type": "code",
   "execution_count": 4,
   "metadata": {
    "collapsed": false
   },
   "outputs": [
    {
     "name": "stdout",
     "output_type": "stream",
     "text": [
      "To be or not to be\r\n",
      "That is a question."
     ]
    }
   ],
   "source": [
    "!cat shakespeare.txt"
   ]
  },
  {
   "cell_type": "markdown",
   "metadata": {},
   "source": [
    "We just now programatically created (or overwrote, if that file was still present) the file shakespeare.txt with the given content."
   ]
  },
  {
   "cell_type": "markdown",
   "metadata": {},
   "source": [
    "Now let's append to the file. We will need to use the \"a\" mode to append."
   ]
  },
  {
   "cell_type": "code",
   "execution_count": 5,
   "metadata": {
    "collapsed": true
   },
   "outputs": [],
   "source": [
    "poem_file = open('shakespeare.txt', 'at')\n",
    "poem_file.write(\"\\n--Written By Shakespeare\")\n",
    "poem_file.close()"
   ]
  },
  {
   "cell_type": "markdown",
   "metadata": {},
   "source": [
    "Let's see what the file looks like now."
   ]
  },
  {
   "cell_type": "code",
   "execution_count": 6,
   "metadata": {
    "collapsed": false
   },
   "outputs": [
    {
     "name": "stdout",
     "output_type": "stream",
     "text": [
      "To be or not to be\r\n",
      "That is a question.\r\n",
      "--Written By Shakespeare"
     ]
    }
   ],
   "source": [
    "!cat shakespeare.txt"
   ]
  },
  {
   "cell_type": "markdown",
   "metadata": {},
   "source": [
    "We add \"\\n\" to force a new line. The function write() writes out all of the characters verbatim."
   ]
  },
  {
   "cell_type": "markdown",
   "metadata": {},
   "source": [
    "Feel free to play around with the different modes to see how they work for you."
   ]
  },
  {
   "cell_type": "markdown",
   "metadata": {},
   "source": [
    "## Read a Text File With read(), readline(), or readlines()"
   ]
  },
  {
   "cell_type": "markdown",
   "metadata": {},
   "source": [
    "Now we will learn to read files, but there are a few caveats."
   ]
  },
  {
   "cell_type": "markdown",
   "metadata": {},
   "source": [
    "The read() function with no arguments will load the entire file into memory, which is great for small files, but it is very easy to have a file that is larger than your memory; in this case, your application will run out of memory. However, if this is desired, you can go the route as shown below. "
   ]
  },
  {
   "cell_type": "code",
   "execution_count": 7,
   "metadata": {
    "collapsed": false
   },
   "outputs": [
    {
     "name": "stdout",
     "output_type": "stream",
     "text": [
      "To be or not to be\n",
      "That is a question.\n",
      "--Written By Shakespeare\n"
     ]
    }
   ],
   "source": [
    "poem_file_read = open('shakespeare.txt', 'rt')\n",
    "poem_read = poem_file_read.read()\n",
    "poem_file_read.close()\n",
    "print(poem_read)"
   ]
  },
  {
   "cell_type": "markdown",
   "metadata": {},
   "source": [
    "You can also use the function readlines() that will also load all of the file in memory and give you a single array populated with each line of the array, as in the following example."
   ]
  },
  {
   "cell_type": "code",
   "execution_count": 8,
   "metadata": {
    "collapsed": false
   },
   "outputs": [
    {
     "name": "stdout",
     "output_type": "stream",
     "text": [
      "['To be or not to be\\n', 'That is a question.\\n', '--Written By Shakespeare']\n"
     ]
    }
   ],
   "source": [
    "poem_file_read = open('shakespeare.txt', 'rt')\n",
    "poem_read_array = poem_file_read.readlines()\n",
    "poem_file_read.close()\n",
    "print(poem_read_array)"
   ]
  },
  {
   "cell_type": "code",
   "execution_count": 9,
   "metadata": {
    "collapsed": false
   },
   "outputs": [
    {
     "name": "stdout",
     "output_type": "stream",
     "text": [
      "To be or not to be\n",
      "\n"
     ]
    }
   ],
   "source": [
    "print(poem_read_array[0])"
   ]
  },
  {
   "cell_type": "markdown",
   "metadata": {},
   "source": [
    "Notice the contents of the file are now in an array. You can now process a file line by line as shown below."
   ]
  },
  {
   "cell_type": "code",
   "execution_count": 10,
   "metadata": {
    "collapsed": false
   },
   "outputs": [
    {
     "name": "stdout",
     "output_type": "stream",
     "text": [
      "To be or not to be\n",
      "\n",
      "That is a question.\n",
      "\n",
      "--Written By Shakespeare\n"
     ]
    }
   ],
   "source": [
    "for line in poem_read_array :\n",
    "    print(line)"
   ]
  },
  {
   "cell_type": "markdown",
   "metadata": {},
   "source": [
    "We now have a nice for loop that lets us access each line of the file one by one and process it, something we would do pretty often. However the issue still remains that we are loading the entire file into memory when we use read() or readlines()."
   ]
  },
  {
   "cell_type": "markdown",
   "metadata": {},
   "source": [
    "The readline() function saves us from doing this. What readline() does is reads a single line from the file every time it is evoked, so we can process a single line without loading the entire file in memory."
   ]
  },
  {
   "cell_type": "code",
   "execution_count": 11,
   "metadata": {
    "collapsed": false
   },
   "outputs": [
    {
     "name": "stdout",
     "output_type": "stream",
     "text": [
      "To be or not to be\n",
      "\n",
      "That is a question.\n",
      "\n",
      "--Written By Shakespeare\n"
     ]
    }
   ],
   "source": [
    "poem_file_read = open('shakespeare.txt', 'rt')\n",
    "\n",
    "while True:\n",
    "    line = poem_file_read.readline()\n",
    "    if not line:\n",
    "        break\n",
    "        \n",
    "    print(line)\n",
    "\n",
    "poem_file_read.close()"
   ]
  },
  {
   "cell_type": "markdown",
   "metadata": {
    "collapsed": true
   },
   "source": [
    "Here we use an infinite loop to continue to read lines one at a time using the readline() function and breaking out of the loop once we are at the end of the line. This way we only retrieve input from the file line by line and do not have to worry about memory issues (unless the line is very long). For text files, a line is only False if it is at the end of the file (EOF character is encountered), so this loop will retrieve all of the text in the file."
   ]
  },
  {
   "cell_type": "markdown",
   "metadata": {},
   "source": [
    "There is an even easier way to read files. The file handle itself is an iterator, so you can write the above loop in an even simplier way."
   ]
  },
  {
   "cell_type": "code",
   "execution_count": 12,
   "metadata": {
    "collapsed": false
   },
   "outputs": [
    {
     "name": "stdout",
     "output_type": "stream",
     "text": [
      "To be or not to be\n",
      "\n",
      "That is a question.\n",
      "\n",
      "--Written By Shakespeare\n"
     ]
    }
   ],
   "source": [
    "poem_file_read = open('shakespeare.txt', 'rt')\n",
    "\n",
    "for line in poem_file_read:\n",
    "    print(line)\n",
    "    \n",
    "poem_file_read.close()"
   ]
  },
  {
   "cell_type": "markdown",
   "metadata": {},
   "source": [
    "## Writing a Binary File Using write()"
   ]
  },
  {
   "cell_type": "markdown",
   "metadata": {},
   "source": [
    "By passing a \"b\" as the second parameter in the `mode` parameter of the function `open` allows you to open a binary file for writing.\n",
    "*Is the first word intended to be \"Bypassing\"? If not, please delete \"By\" and cap \"passing\"."
   ]
  },
  {
   "cell_type": "code",
   "execution_count": 13,
   "metadata": {
    "collapsed": true
   },
   "outputs": [],
   "source": [
    "binary_data = bytes(range(0,255)) # Generating some arbitrary binary data\n",
    "\n",
    "binary_file_write = open('binary', 'wb')\n",
    "binary_file_write.write(binary_data)\n",
    "binary_file_write.close()"
   ]
  },
  {
   "cell_type": "markdown",
   "metadata": {},
   "source": [
    "## Reading a Binary File "
   ]
  },
  {
   "cell_type": "markdown",
   "metadata": {},
   "source": [
    "Similar to text files, you can create a file handle that has read access to the binary file. Please note that since there are typically no newlines in binary data, you should use the read() funciton to read data."
   ]
  },
  {
   "cell_type": "code",
   "execution_count": 14,
   "metadata": {
    "collapsed": false
   },
   "outputs": [
    {
     "name": "stdout",
     "output_type": "stream",
     "text": [
      "b'\\x00\\x01\\x02\\x03\\x04\\x05\\x06\\x07\\x08\\t\\n\\x0b\\x0c\\r\\x0e\\x0f\\x10\\x11\\x12\\x13\\x14\\x15\\x16\\x17\\x18\\x19\\x1a\\x1b\\x1c\\x1d\\x1e\\x1f !\"#$%&\\'()*+,-./0123456789:;<=>?@ABCDEFGHIJKLMNOPQRSTUVWXYZ[\\\\]^_`abcdefghijklmnopqrstuvwxyz{|}~\\x7f\\x80\\x81\\x82\\x83\\x84\\x85\\x86\\x87\\x88\\x89\\x8a\\x8b\\x8c\\x8d\\x8e\\x8f\\x90\\x91\\x92\\x93\\x94\\x95\\x96\\x97\\x98\\x99\\x9a\\x9b\\x9c\\x9d\\x9e\\x9f\\xa0\\xa1\\xa2\\xa3\\xa4\\xa5\\xa6\\xa7\\xa8\\xa9\\xaa\\xab\\xac\\xad\\xae\\xaf\\xb0\\xb1\\xb2\\xb3\\xb4\\xb5\\xb6\\xb7\\xb8\\xb9\\xba\\xbb\\xbc\\xbd\\xbe\\xbf\\xc0\\xc1\\xc2\\xc3\\xc4\\xc5\\xc6\\xc7\\xc8\\xc9\\xca\\xcb\\xcc\\xcd\\xce\\xcf\\xd0\\xd1\\xd2\\xd3\\xd4\\xd5\\xd6\\xd7\\xd8\\xd9\\xda\\xdb\\xdc\\xdd\\xde\\xdf\\xe0\\xe1\\xe2\\xe3\\xe4\\xe5\\xe6\\xe7\\xe8\\xe9\\xea\\xeb\\xec\\xed\\xee\\xef\\xf0\\xf1\\xf2\\xf3\\xf4\\xf5\\xf6\\xf7\\xf8\\xf9\\xfa\\xfb\\xfc\\xfd\\xfe'\n"
     ]
    }
   ],
   "source": [
    "binary_file_read = open('binary', 'rb')\n",
    "print(binary_file_read.read())\n",
    "binary_file_read.close()"
   ]
  },
  {
   "cell_type": "markdown",
   "metadata": {},
   "source": [
    "## Find Position With tell(), Change Position With seek()"
   ]
  },
  {
   "cell_type": "markdown",
   "metadata": {},
   "source": [
    "As you read and write, Python keeps track of where you are in the file. There is a set of functions that allow you to find out and modify your current position in that file.\n",
    "\n",
    "The `tell()` function returns your location from the beginning of the file in bytes.\n",
    "The `seek()` function allows you to jump to another location in the file.\n",
    "\n",
    "For example, let's look at the binary file that we created."
   ]
  },
  {
   "cell_type": "code",
   "execution_count": 15,
   "metadata": {
    "collapsed": true
   },
   "outputs": [],
   "source": [
    "binary_file_read = open('binary', 'rb')"
   ]
  },
  {
   "cell_type": "markdown",
   "metadata": {},
   "source": [
    "Let's find out our current position in the file."
   ]
  },
  {
   "cell_type": "code",
   "execution_count": 16,
   "metadata": {
    "collapsed": false
   },
   "outputs": [
    {
     "data": {
      "text/plain": [
       "0"
      ]
     },
     "execution_count": 16,
     "metadata": {},
     "output_type": "execute_result"
    }
   ],
   "source": [
    "binary_file_read.tell()"
   ]
  },
  {
   "cell_type": "markdown",
   "metadata": {},
   "source": [
    "Now let's go to the offset where we saw printed that capital \"A\".\n",
    "*Is \"saw\" or \"printed\" the desired word?*"
   ]
  },
  {
   "cell_type": "code",
   "execution_count": 17,
   "metadata": {
    "collapsed": false
   },
   "outputs": [
    {
     "name": "stdout",
     "output_type": "stream",
     "text": [
      "b'ABCDEFGHIJKLMNOPQRSTUVWXYZ[\\\\]^_`abcdefghijklmnopqrstuvwxyz{|}~\\x7f\\x80\\x81\\x82\\x83\\x84\\x85\\x86\\x87\\x88\\x89\\x8a\\x8b\\x8c\\x8d\\x8e\\x8f\\x90\\x91\\x92\\x93\\x94\\x95\\x96\\x97\\x98\\x99\\x9a\\x9b\\x9c\\x9d\\x9e\\x9f\\xa0\\xa1\\xa2\\xa3\\xa4\\xa5\\xa6\\xa7\\xa8\\xa9\\xaa\\xab\\xac\\xad\\xae\\xaf\\xb0\\xb1\\xb2\\xb3\\xb4\\xb5\\xb6\\xb7\\xb8\\xb9\\xba\\xbb\\xbc\\xbd\\xbe\\xbf\\xc0\\xc1\\xc2\\xc3\\xc4\\xc5\\xc6\\xc7\\xc8\\xc9\\xca\\xcb\\xcc\\xcd\\xce\\xcf\\xd0\\xd1\\xd2\\xd3\\xd4\\xd5\\xd6\\xd7\\xd8\\xd9\\xda\\xdb\\xdc\\xdd\\xde\\xdf\\xe0\\xe1\\xe2\\xe3\\xe4\\xe5\\xe6\\xe7\\xe8\\xe9\\xea\\xeb\\xec\\xed\\xee\\xef\\xf0\\xf1\\xf2\\xf3\\xf4\\xf5\\xf6\\xf7\\xf8\\xf9\\xfa\\xfb\\xfc\\xfd\\xfe'\n"
     ]
    }
   ],
   "source": [
    "binary_file_read.seek(65)\n",
    "print(binary_file_read.read())"
   ]
  },
  {
   "cell_type": "markdown",
   "metadata": {},
   "source": [
    "You can also seek from your current position. Let's say I want to move five bytes from my current position. I would pass a 1 as a second argument to the seek function."
   ]
  },
  {
   "cell_type": "code",
   "execution_count": 18,
   "metadata": {
    "collapsed": false
   },
   "outputs": [
    {
     "name": "stdout",
     "output_type": "stream",
     "text": [
      "b'FGHIJKLMNOPQRSTUVWXYZ[\\\\]^_`abcdefghijklmnopqrstuvwxyz{|}~\\x7f\\x80\\x81\\x82\\x83\\x84\\x85\\x86\\x87\\x88\\x89\\x8a\\x8b\\x8c\\x8d\\x8e\\x8f\\x90\\x91\\x92\\x93\\x94\\x95\\x96\\x97\\x98\\x99\\x9a\\x9b\\x9c\\x9d\\x9e\\x9f\\xa0\\xa1\\xa2\\xa3\\xa4\\xa5\\xa6\\xa7\\xa8\\xa9\\xaa\\xab\\xac\\xad\\xae\\xaf\\xb0\\xb1\\xb2\\xb3\\xb4\\xb5\\xb6\\xb7\\xb8\\xb9\\xba\\xbb\\xbc\\xbd\\xbe\\xbf\\xc0\\xc1\\xc2\\xc3\\xc4\\xc5\\xc6\\xc7\\xc8\\xc9\\xca\\xcb\\xcc\\xcd\\xce\\xcf\\xd0\\xd1\\xd2\\xd3\\xd4\\xd5\\xd6\\xd7\\xd8\\xd9\\xda\\xdb\\xdc\\xdd\\xde\\xdf\\xe0\\xe1\\xe2\\xe3\\xe4\\xe5\\xe6\\xe7\\xe8\\xe9\\xea\\xeb\\xec\\xed\\xee\\xef\\xf0\\xf1\\xf2\\xf3\\xf4\\xf5\\xf6\\xf7\\xf8\\xf9\\xfa\\xfb\\xfc\\xfd\\xfe'\n"
     ]
    }
   ],
   "source": [
    "binary_file_read.seek(65) #I'm going to go back to the original position\n",
    "binary_file_read.seek(5, 1) # Now I'm reading five bytes after the current position\n",
    "print(binary_file_read.read())"
   ]
  },
  {
   "cell_type": "markdown",
   "metadata": {},
   "source": [
    "Please note: The seek() and tell() functions work best with binary files as you are moving back and forth in byte-like chunks. These functions will also work with text files, but because of variable encoding, one character could use more bytes than another, leading to unexpected side effects."
   ]
  },
  {
   "cell_type": "markdown",
   "metadata": {},
   "source": [
    "In the next section we will learn about structured text files and how to use them in your applications."
   ]
  }
 ],
 "metadata": {
  "kernelspec": {
   "display_name": "Python 3",
   "language": "python",
   "name": "python3"
  },
  "language_info": {
   "codemirror_mode": {
    "name": "ipython",
    "version": 3
   },
   "file_extension": ".py",
   "mimetype": "text/x-python",
   "name": "python",
   "nbconvert_exporter": "python",
   "pygments_lexer": "ipython3",
   "version": "3.4.3"
  }
 },
 "nbformat": 4,
 "nbformat_minor": 0
}
