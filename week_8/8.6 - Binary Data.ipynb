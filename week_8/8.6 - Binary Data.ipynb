{
 "cells": [
  {
   "cell_type": "markdown",
   "metadata": {},
   "source": [
    "# Mangle Data Like A Pro"
   ]
  },
  {
   "cell_type": "markdown",
   "metadata": {},
   "source": [
    "## Binary Data"
   ]
  },
  {
   "cell_type": "markdown",
   "metadata": {},
   "source": [
    "We have gone over several ways to manipulate and search text data. However sometimes you have to dig depper into the actual data. Sometimes characters are too abstract or meaningless to the data that you are trying to process. One good example is if you are trying to detect roads on satellite images. Those pixels will be encoded in a series of bytes. So here are some ways to manage binary data"
   ]
  },
  {
   "cell_type": "markdown",
   "metadata": {},
   "source": [
    "## Bytes and bytearray"
   ]
  },
  {
   "cell_type": "markdown",
   "metadata": {},
   "source": [
    "Python 3 introduced two data types that can handle sequences of bytes with possible values from 0 to 255:\n",
    "\n",
    "- `bytes` is immutable, like a tuple\n",
    "- `bytearray` is mutable, like a list of bytes\n",
    "\n",
    "For example"
   ]
  },
  {
   "cell_type": "code",
   "execution_count": 3,
   "metadata": {
    "collapsed": false
   },
   "outputs": [
    {
     "name": "stdout",
     "output_type": "stream",
     "text": [
      "b'\\x04\\x03\\xf2'\n"
     ]
    }
   ],
   "source": [
    "byte_value_list = [4, 3, 242]\n",
    "bytes_test = bytes(byte_value_list)\n",
    "print(bytes_test)"
   ]
  },
  {
   "cell_type": "code",
   "execution_count": 4,
   "metadata": {
    "collapsed": false
   },
   "outputs": [
    {
     "ename": "TypeError",
     "evalue": "'bytes' object does not support item assignment",
     "output_type": "error",
     "traceback": [
      "\u001b[0;31m---------------------------------------------------------------------------\u001b[0m",
      "\u001b[0;31mTypeError\u001b[0m                                 Traceback (most recent call last)",
      "\u001b[0;32m<ipython-input-4-03bb1292a04c>\u001b[0m in \u001b[0;36m<module>\u001b[0;34m()\u001b[0m\n\u001b[0;32m----> 1\u001b[0;31m \u001b[0mbytes_test\u001b[0m\u001b[0;34m[\u001b[0m\u001b[0;36m1\u001b[0m\u001b[0;34m]\u001b[0m \u001b[0;34m=\u001b[0m \u001b[0;36m129\u001b[0m\u001b[0;34m\u001b[0m\u001b[0m\n\u001b[0m\u001b[1;32m      2\u001b[0m \u001b[0mprint\u001b[0m\u001b[0;34m(\u001b[0m\u001b[0mbytes_test\u001b[0m\u001b[0;34m)\u001b[0m\u001b[0;34m\u001b[0m\u001b[0m\n",
      "\u001b[0;31mTypeError\u001b[0m: 'bytes' object does not support item assignment"
     ]
    }
   ],
   "source": [
    "bytes_test[1] = 129\n",
    "print(bytes_test)"
   ]
  },
  {
   "cell_type": "code",
   "execution_count": 5,
   "metadata": {
    "collapsed": false
   },
   "outputs": [
    {
     "name": "stdout",
     "output_type": "stream",
     "text": [
      "bytearray(b'\\x04\\x03\\xf2')\n"
     ]
    }
   ],
   "source": [
    "bytearray_test = bytearray(byte_value_list)\n",
    "print(bytearray_test)"
   ]
  },
  {
   "cell_type": "code",
   "execution_count": 6,
   "metadata": {
    "collapsed": false
   },
   "outputs": [
    {
     "name": "stdout",
     "output_type": "stream",
     "text": [
      "bytearray(b'\\x04\\x7f\\xf2')\n"
     ]
    }
   ],
   "source": [
    "bytearray_test[1] = 127\n",
    "print(bytearray_test)"
   ]
  },
  {
   "cell_type": "markdown",
   "metadata": {},
   "source": [
    "Note how bytes_test cannot be changed but bytearray can? Also note that when we print out bytes we get \"\\x\" followed by their hexadecimal representation displayed to the screen. If the byte number is printable via the ASCII encoding, then the letter will be printed. For example:"
   ]
  },
  {
   "cell_type": "code",
   "execution_count": 7,
   "metadata": {
    "collapsed": false
   },
   "outputs": [
    {
     "name": "stdout",
     "output_type": "stream",
     "text": [
      "bytearray(b'\\x04\\x7fD')\n"
     ]
    }
   ],
   "source": [
    "bytearray_test[2] = 68\n",
    "print(bytearray_test)"
   ]
  },
  {
   "cell_type": "markdown",
   "metadata": {},
   "source": [
    "The ASCII number for the letter \"D\" is 68 in decimal, so \"D\" was printed to the screen instead of /x44 (base 16)"
   ]
  },
  {
   "cell_type": "markdown",
   "metadata": {},
   "source": [
    "## Convert Binary Data with struct"
   ]
  },
  {
   "cell_type": "markdown",
   "metadata": {},
   "source": [
    "Python also offers tools to directly convert Python data structures into bytes and back to python data structures. This way you would not need to handle the various intricacies that reading bytes from an external source could provide, for example:\n",
    "\n",
    "- Are the bytes stored in big endian (most significant bytes to the left) or little endia (least significant bytes to the left)\n",
    "- What kind of bytes are they? Signed? Unsigned? Short or Long integers?"
   ]
  },
  {
   "cell_type": "markdown",
   "metadata": {},
   "source": [
    "In the book they give an example of how to use python to detect whether an image is a png. We are going to check if the file cal-image.png that is in this curent folder is a png and if so print out the width and the height from the file information itself:"
   ]
  },
  {
   "cell_type": "code",
   "execution_count": 8,
   "metadata": {
    "collapsed": false
   },
   "outputs": [
    {
     "name": "stdout",
     "output_type": "stream",
     "text": [
      " Valid PNG, width 500 height 398\n"
     ]
    }
   ],
   "source": [
    "import struct\n",
    "\n",
    "f = open(\"cal-image.png\", \"rb\")\n",
    "try:\n",
    "    data = f.read(24)\n",
    "finally:\n",
    "    f.close()\n",
    "    \n",
    "png_header = b'\\x89PNG\\r\\n\\x1a\\n'\n",
    "        \n",
    "if data[0:8] == png_header:\n",
    "    width, height = struct.unpack('>LL', data[16:24])\n",
    "    print(' Valid PNG, width', width, 'height', height)\n",
    "else:\n",
    "    print('Not a valid PNG')"
   ]
  },
  {
   "cell_type": "markdown",
   "metadata": {},
   "source": [
    "What's happening is that we first open the file \"cal-image.png\" in read only binary format and read the first 24 bytes in that file. We will go into depth what this is doing in the next section.\n",
    "\n",
    "We then test to see if it is indeed a png file by testing to see if the first eight bytes correspond to the png_header variable, which contains the header that is in every png image.\n",
    "\n",
    "If so, we then inspect the 16 - 24 bytes, load them in big endian style because that is how the integers are stored bytes wise (the most significant bytes are to the left as opposed to to the right if we read each byte as a stream. We have to deal with this because each integer is represented by four bytes)\n",
    "\n",
    "We get the encoded width and height and print them to the screen."
   ]
  },
  {
   "cell_type": "markdown",
   "metadata": {},
   "source": [
    "### Format Specifiers using struct\n",
    "\n",
    "**Endian specifiers**\n",
    "- **<**: little endian\n",
    "- **\\>**: big endian\n",
    "\n",
    "**Format specifiers**: the number in parenthensies is the number of bytes each format specifier is referring to\n",
    "- **x**: skip a byte (1)\n",
    "- **b**: signed byte (1)\n",
    "- **B**: unsigned byte (1)\n",
    "\n",
    "- **h**: signed short integer (2)\n",
    "- **H**: unsigned short integer (2)\n",
    "\n",
    "- **i**: signed integer (4)\n",
    "- **I**: unsigned integer (4)\n",
    "\n",
    "- **l**: signed long integer (4)\n",
    "- **L**: unsigned long integer (4)\n",
    "\n",
    "- **Q**: unsigned long long integer (8)\n",
    "- **f**: single precision float"
   ]
  },
  {
   "cell_type": "markdown",
   "metadata": {},
   "source": [
    "## Other Binary Tools"
   ]
  },
  {
   "cell_type": "markdown",
   "metadata": {},
   "source": [
    "There are other external packages that you can use that may be more easy to use in your case. Some options are:\n",
    "\n",
    "- [bitstring](https://github.com/scott-griffiths/bitstring)\n",
    "- [construct](http://construct.readthedocs.org/en/latest/)\n",
    "- [hachoir](https://bitbucket.org/haypo/hachoir/wiki/Home)\n",
    "- [binio](http://spika.net/py/binio/)\n",
    "\n",
    "Be sure to use pip to install these packages as so:\n",
    "\n",
    "`pip isntall constrcut`"
   ]
  },
  {
   "cell_type": "markdown",
   "metadata": {},
   "source": [
    "## Convert Bytes/Strings with binascii()"
   ]
  },
  {
   "cell_type": "markdown",
   "metadata": {},
   "source": [
    "You can use the standard module binascii to convert binary data to string representations of verious types.\n",
    "\n",
    "Let's say we wanted to see the pure hexadecimal repsentation of the PNG header:"
   ]
  },
  {
   "cell_type": "code",
   "execution_count": 9,
   "metadata": {
    "collapsed": false
   },
   "outputs": [
    {
     "name": "stdout",
     "output_type": "stream",
     "text": [
      "b'\\x89PNG\\r\\n\\x1a\\n'\n"
     ]
    }
   ],
   "source": [
    "print(png_header)"
   ]
  },
  {
   "cell_type": "code",
   "execution_count": 10,
   "metadata": {
    "collapsed": false
   },
   "outputs": [
    {
     "name": "stdout",
     "output_type": "stream",
     "text": [
      "b'89504e470d0a1a0a'\n"
     ]
    }
   ],
   "source": [
    "import binascii\n",
    "png_header_in_hex = binascii.hexlify(png_header)\n",
    "print(png_header_in_hex)"
   ]
  },
  {
   "cell_type": "code",
   "execution_count": 11,
   "metadata": {
    "collapsed": false
   },
   "outputs": [
    {
     "name": "stdout",
     "output_type": "stream",
     "text": [
      "b'\\x89PNG\\r\\n\\x1a\\n'\n"
     ]
    }
   ],
   "source": [
    "print(binascii.unhexlify(png_header_in_hex))"
   ]
  },
  {
   "cell_type": "markdown",
   "metadata": {},
   "source": [
    "## Bit Operators"
   ]
  },
  {
   "cell_type": "markdown",
   "metadata": {},
   "source": [
    "You can also do bit level operations on bytes as well and in case of your application can be extremely useful manipulating large data sets very quickly:\n",
    "\n",
    "| Operator | Description  | Example | Decimal result | Binary result                             |\n",
    "|----------|--------------|---------|----------------|-------------------------------------------|\n",
    "| &        | and          | a & b   | 1              | 0b0001                                    |\n",
    "| &#124;        | or           | a &#124; b   | 5              | 0b0101                                    |\n",
    "| ^        | exclusive or | a ^ b   | 4              | 0b0100                                    |\n",
    "| ~        | flip bits    | ~a      | -6             | binary representation depends on int size |\n",
    "| <<       | left shift   | a << 1  | 10             | 0b1010                                    |\n",
    "| >>       | right shift  | a >> 1  | 2              | 0b0010                                    |"
   ]
  },
  {
   "cell_type": "markdown",
   "metadata": {},
   "source": [
    "So now you can manipualte both bytes as well as text: check out the external packages as well to make your life eaiser in the long run. Next we will go into how we can introduce external data into our applications with File I/O"
   ]
  }
 ],
 "metadata": {
  "kernelspec": {
   "display_name": "Python 3",
   "language": "python",
   "name": "python3"
  },
  "language_info": {
   "codemirror_mode": {
    "name": "ipython",
    "version": 3
   },
   "file_extension": ".py",
   "mimetype": "text/x-python",
   "name": "python",
   "nbconvert_exporter": "python",
   "pygments_lexer": "ipython3",
   "version": "3.4.3"
  }
 },
 "nbformat": 4,
 "nbformat_minor": 0
}
