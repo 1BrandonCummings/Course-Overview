{
 "cells": [
  {
   "cell_type": "markdown",
   "metadata": {
    "collapsed": true
   },
   "source": [
    "# Mangle Data Like a Pro"
   ]
  },
  {
   "cell_type": "markdown",
   "metadata": {},
   "source": [
    "##Python 3 Unicode Strings"
   ]
  },
  {
   "cell_type": "markdown",
   "metadata": {},
   "source": [
    "So we just learned that Python 3 uses Unicode strings, instead of the byte arrays of Python 2. This is important because that means that every Python string can theoretically represent any character or symbol in the world without additional processing. \n",
    "\n",
    "Lets go into how Python 3 handles unicode strings:"
   ]
  },
  {
   "cell_type": "markdown",
   "metadata": {},
   "source": [
    "### Translation between Unicode names, IDs, and values"
   ]
  },
  {
   "cell_type": "markdown",
   "metadata": {},
   "source": [
    "Every Unicode character has a standard name, ID, and of course, value. You can find the standard names for a unicode character in the [Unicode Character Name Index](http://www.unicode.org/charts/charindex.html) and you can find the ID for a unicode character in the [Unicode Code Charts page](http://www.unicode.org/charts/)."
   ]
  },
  {
   "cell_type": "markdown",
   "metadata": {},
   "source": [
    "Let's define a function that can demonstrate the relationship between a Unicode ID, Standard Name, and its value:"
   ]
  },
  {
   "cell_type": "code",
   "execution_count": 1,
   "metadata": {
    "collapsed": false
   },
   "outputs": [
    {
     "name": "stdout",
     "output_type": "stream",
     "text": [
      "value=B, name=LATIN CAPITAL LETTER B\n",
      "value=B, name=LATIN CAPITAL LETTER B\n"
     ]
    }
   ],
   "source": [
    "import unicodedata\n",
    "\n",
    "def unicode_test(value):\n",
    "    name = unicodedata.name(value)\n",
    "    print(\"value=%s, name=%s\" % (value, name))\n",
    "    \n",
    "unicode_test(\"B\")\n",
    "unicode_test(\"\\u0042\")"
   ]
  },
  {
   "cell_type": "markdown",
   "metadata": {},
   "source": [
    "The funciton unicode_test prints out the value of the character that we passed it as well as it's standard unicode name. Please note that passing `\"B\"` and passing `\"\\u0042\"` yields the same result. That is because `\"B\"` and `\"\\u0042\"` are the same character, namely the unicode character for `\"B\"`. The `\"\\u\"` is the escape sequence for when you want to specify a character by its unicode id. You can use unicode id's to represent any character if you wanted to, like the following:"
   ]
  },
  {
   "cell_type": "code",
   "execution_count": 2,
   "metadata": {
    "collapsed": false
   },
   "outputs": [
    {
     "name": "stdout",
     "output_type": "stream",
     "text": [
      "Great!\n",
      "Great!\n"
     ]
    }
   ],
   "source": [
    "print(\"Great!\")\n",
    "print(\"\\u0047\\u0072\\u0065\\u0061\\u0074\\u0021\")"
   ]
  },
  {
   "cell_type": "code",
   "execution_count": 3,
   "metadata": {
    "collapsed": false
   },
   "outputs": [
    {
     "name": "stdout",
     "output_type": "stream",
     "text": [
      "True\n"
     ]
    }
   ],
   "source": [
    "regular_string = \"Great!\"\n",
    "unicode_id_string = \"\\u0047\\u0072\\u0065\\u0061\\u0074\\u0021\"\n",
    "print(regular_string == unicode_id_string)"
   ]
  },
  {
   "cell_type": "markdown",
   "metadata": {},
   "source": [
    "Because Python 3 represents all strings into unicode characters, you could theroetically subsitute all of the characters for their escaped unicode id representations and they would be equivalent.\n",
    "\n",
    "This is useful when you want to represent certain characters that are hard or impossible to type and capture:"
   ]
  },
  {
   "cell_type": "code",
   "execution_count": 4,
   "metadata": {
    "collapsed": false
   },
   "outputs": [
    {
     "name": "stdout",
     "output_type": "stream",
     "text": [
      "This has a\n",
      "newline in the middle of the sentence\n"
     ]
    }
   ],
   "source": [
    "new_line = \"\\u000A\"\n",
    "print(\"This has a\\u000Anewline in the middle of the sentence\")"
   ]
  },
  {
   "cell_type": "markdown",
   "metadata": {},
   "source": [
    "Note that `\"\\u000A\"` could also be represented by the shortcut \"\\n\" (since all strings in python are represented as unicode characters\": "
   ]
  },
  {
   "cell_type": "code",
   "execution_count": 5,
   "metadata": {
    "collapsed": false
   },
   "outputs": [
    {
     "name": "stdout",
     "output_type": "stream",
     "text": [
      "This has a\n",
      "newline in the middle of the sentence\n"
     ]
    }
   ],
   "source": [
    "print(\"This has a\\nnewline in the middle of the sentence\")"
   ]
  },
  {
   "cell_type": "markdown",
   "metadata": {},
   "source": [
    "Now let's look into the standard name: we can do the same with the name as well as we did with the id:"
   ]
  },
  {
   "cell_type": "code",
   "execution_count": 6,
   "metadata": {
    "collapsed": false
   },
   "outputs": [
    {
     "name": "stdout",
     "output_type": "stream",
     "text": [
      "value=B, name=LATIN CAPITAL LETTER B\n",
      "value=B, name=LATIN CAPITAL LETTER B\n",
      "value=B, name=LATIN CAPITAL LETTER B\n"
     ]
    }
   ],
   "source": [
    "unicode_test(\"B\")\n",
    "unicode_test(\"\\u0042\")\n",
    "unicode_test(\"\\N{LATIN CAPITAL LETTER B}\")"
   ]
  },
  {
   "cell_type": "markdown",
   "metadata": {},
   "source": [
    "We can look up the unicode character by its unicode standard name by using the escape sequence \"\\N{*standard name*}\" "
   ]
  },
  {
   "cell_type": "markdown",
   "metadata": {},
   "source": [
    "### Representing hard to type characters in python 3"
   ]
  },
  {
   "cell_type": "markdown",
   "metadata": {},
   "source": [
    "Depending on the system that you are developing for, you may be able to cut and paste the hard to type character right into the code that you are trying to use:"
   ]
  },
  {
   "cell_type": "code",
   "execution_count": 7,
   "metadata": {
    "collapsed": false
   },
   "outputs": [
    {
     "name": "stdout",
     "output_type": "stream",
     "text": [
      "cafè\n"
     ]
    }
   ],
   "source": [
    "place = 'cafè'\n",
    "print(place)"
   ]
  },
  {
   "cell_type": "markdown",
   "metadata": {},
   "source": [
    "In my case this worked because i'm on a computer that uses utf-8 encoding, but it is possible that this did not work for you. However to ensure that you do not have to worry about encoding, you can use the unicode id to represent the character:"
   ]
  },
  {
   "cell_type": "code",
   "execution_count": 8,
   "metadata": {
    "collapsed": false
   },
   "outputs": [
    {
     "name": "stdout",
     "output_type": "stream",
     "text": [
      "café\n"
     ]
    }
   ],
   "source": [
    "place = 'caf\\u00e9'\n",
    "print(place)"
   ]
  },
  {
   "cell_type": "markdown",
   "metadata": {},
   "source": [
    "###The len() function and unicode"
   ]
  },
  {
   "cell_type": "markdown",
   "metadata": {},
   "source": [
    "Also note that the `len()` function counts unicode characters:"
   ]
  },
  {
   "cell_type": "code",
   "execution_count": 9,
   "metadata": {
    "collapsed": false
   },
   "outputs": [
    {
     "data": {
      "text/plain": [
       "4"
      ]
     },
     "execution_count": 9,
     "metadata": {},
     "output_type": "execute_result"
    }
   ],
   "source": [
    "len('cafè')"
   ]
  },
  {
   "cell_type": "code",
   "execution_count": 10,
   "metadata": {
    "collapsed": false
   },
   "outputs": [
    {
     "data": {
      "text/plain": [
       "4"
      ]
     },
     "execution_count": 10,
     "metadata": {},
     "output_type": "execute_result"
    }
   ],
   "source": [
    "len('caf\\u00e9')"
   ]
  },
  {
   "cell_type": "markdown",
   "metadata": {},
   "source": [
    "This is key to understanding that Python 3 treats all strings as unicode characters, regardless of how many bytes are used to store each character.\n",
    "\n",
    "We've introduced how Python stores strings in Unicode format and how we can use Unicode standard names and id's to represent characters. In the next section we will look into encoding and decoding our string data into UTF-8 to ensure that any data that we pass outside our application will be translated properly. "
   ]
  }
 ],
 "metadata": {
  "kernelspec": {
   "display_name": "Python 3",
   "language": "python",
   "name": "python3"
  },
  "language_info": {
   "codemirror_mode": {
    "name": "ipython",
    "version": 3
   },
   "file_extension": ".py",
   "mimetype": "text/x-python",
   "name": "python",
   "nbconvert_exporter": "python",
   "pygments_lexer": "ipython3",
   "version": "3.4.3"
  }
 },
 "nbformat": 4,
 "nbformat_minor": 0
}
