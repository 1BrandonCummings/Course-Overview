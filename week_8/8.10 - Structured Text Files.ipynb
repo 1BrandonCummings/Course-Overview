{
 "cells": [
  {
   "cell_type": "markdown",
   "metadata": {},
   "source": [
    "# Data Has To Go Somewhere"
   ]
  },
  {
   "cell_type": "markdown",
   "metadata": {},
   "source": [
    "Now that we know how to read in a generic text file into our Python modules, we can now look into the different kinds of structured text files that you will encounter regularly. The benefit of having structured text files that everyone agrees upon is the ability to share and consume information from different applications easily. Let's look into some of these formats and how we can access them in Python."
   ]
  },
  {
   "cell_type": "markdown",
   "metadata": {},
   "source": [
    "## CSV: Comma Separated Value"
   ]
  },
  {
   "cell_type": "markdown",
   "metadata": {},
   "source": [
    "CSV files are files that are typically separated by commas for each item, and lines for each row, and they denote a table. To get a good visual, think of Microsoft Excel: Excel can open CSV files and display them to you as a table. \n",
    "\n",
    "However, even though the \"C\" in CSV stands for comma, there can be other delimiters such as ' ', '|', '\\t', and so on. And sometimes the first row stands for the header row and does not denote data. But luckily Python has one object that makes reading and writing CSV files easy: "
   ]
  },
  {
   "cell_type": "code",
   "execution_count": 1,
   "metadata": {
    "collapsed": false
   },
   "outputs": [],
   "source": [
    "import csv\n",
    "\n",
    "grades = [\n",
    "    ['John', 88],\n",
    "    ['Kate', 93],\n",
    "    ['Harry', 93],\n",
    "    ['Linda', 87],\n",
    "    ['Harriet', 91]\n",
    "]\n",
    "\n",
    "grades_csv_write = open('grades.csv', 'wt')\n",
    "csvout = csv.writer(grades_csv_write)\n",
    "csvout.writerows(grades)\n",
    "\n",
    "grades_csv_write.close()"
   ]
  },
  {
   "cell_type": "markdown",
   "metadata": {},
   "source": [
    "Now let's take a look at the file that was just created:"
   ]
  },
  {
   "cell_type": "code",
   "execution_count": 2,
   "metadata": {
    "collapsed": false
   },
   "outputs": [
    {
     "name": "stdout",
     "output_type": "stream",
     "text": [
      "John,88\r",
      "\r\n",
      "Kate,93\r",
      "\r\n",
      "Harry,93\r",
      "\r\n",
      "Linda,87\r",
      "\r\n",
      "Harriet,91\r",
      "\r\n"
     ]
    }
   ],
   "source": [
    "!cat grades.csv"
   ]
  },
  {
   "cell_type": "markdown",
   "metadata": {},
   "source": [
    "We have just created a comma separated file of a 5 by 2 table of names and grades. You could open this file in Excel and see the data in tabular format, but the data itself is just a plain text file.\n",
    "\n",
    "Notice we created a csvout object that is a writer object? This is how Python makes it very simple to write (and read) csv files: just use the functions they provide."
   ]
  },
  {
   "cell_type": "markdown",
   "metadata": {},
   "source": [
    "We can read these files back in just as easily:"
   ]
  },
  {
   "cell_type": "code",
   "execution_count": 3,
   "metadata": {
    "collapsed": false
   },
   "outputs": [
    {
     "name": "stdout",
     "output_type": "stream",
     "text": [
      "['John', '88']\n",
      "['Kate', '93']\n",
      "['Harry', '93']\n",
      "['Linda', '87']\n",
      "['Harriet', '91']\n"
     ]
    }
   ],
   "source": [
    "import csv\n",
    "\n",
    "grades_csv_read = open('grades.csv', 'rt')\n",
    "csvin = csv.reader(grades_csv_read)\n",
    "\n",
    "for row in csvin:\n",
    "    print(row)"
   ]
  },
  {
   "cell_type": "markdown",
   "metadata": {},
   "source": [
    "Here you can see that once you create a csv reader object, you can interate row by row and get each row in the csv file as a list that you can use in your application. No need to write a special parser to split and manipulate the original text file: this is all done for you."
   ]
  }
 ],
 "metadata": {
  "kernelspec": {
   "display_name": "Python 3",
   "language": "python",
   "name": "python3"
  },
  "language_info": {
   "codemirror_mode": {
    "name": "ipython",
    "version": 3
   },
   "file_extension": ".py",
   "mimetype": "text/x-python",
   "name": "python",
   "nbconvert_exporter": "python",
   "pygments_lexer": "ipython3",
   "version": "3.5.0"
  }
 },
 "nbformat": 4,
 "nbformat_minor": 0
}
