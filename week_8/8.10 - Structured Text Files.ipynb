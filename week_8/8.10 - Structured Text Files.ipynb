{
 "cells": [
  {
   "cell_type": "markdown",
   "metadata": {},
   "source": [
    "# Data Has To Go Somewhere"
   ]
  },
  {
   "cell_type": "markdown",
   "metadata": {},
   "source": [
    "Now that we know how to read in a generic text file into our Python modules, we can now look into the different kinds of structured text files that you will encounter regularly. The benefit of having structured text files that everyone agrees upon is the ability to share and consume information from different applications easily. Let's look into some of these formats and how we can access them in Python."
   ]
  },
  {
   "cell_type": "markdown",
   "metadata": {},
   "source": [
    "## CSV: Comma Separated Value"
   ]
  },
  {
   "cell_type": "markdown",
   "metadata": {},
   "source": [
    "CSV files are files that are typically separated by commas for each item, and lines for each row, and they denote a table. To get a good visual, think of Microsoft Excel: Excel can open CSV files and display them to you as a table. \n",
    "\n",
    "However, even though the \"C\" in CSV stands for comma, there can be other delimiters such as ' ', '|', '\\t', and so on. And sometimes the first row stands for the header row and does not denote data. But luckily Python has one object that makes reading and writing CSV files easy: "
   ]
  },
  {
   "cell_type": "code",
   "execution_count": 1,
   "metadata": {
    "collapsed": false
   },
   "outputs": [],
   "source": [
    "import csv\n",
    "\n",
    "grades = [\n",
    "    ['John', 88],\n",
    "    ['Kate', 93],\n",
    "    ['Harry', 93],\n",
    "    ['Linda', 87],\n",
    "    ['Harriet', 91]\n",
    "]\n",
    "\n",
    "grades_csv_write = open('grades.csv', 'wt')\n",
    "csvout = csv.writer(grades_csv_write)\n",
    "csvout.writerows(grades)\n",
    "\n",
    "grades_csv_write.close()"
   ]
  },
  {
   "cell_type": "markdown",
   "metadata": {},
   "source": [
    "Now let's take a look at the file that was just created:"
   ]
  },
  {
   "cell_type": "code",
   "execution_count": 2,
   "metadata": {
    "collapsed": false
   },
   "outputs": [
    {
     "name": "stdout",
     "output_type": "stream",
     "text": [
      "John,88\r",
      "\r\n",
      "Kate,93\r",
      "\r\n",
      "Harry,93\r",
      "\r\n",
      "Linda,87\r",
      "\r\n",
      "Harriet,91\r",
      "\r\n"
     ]
    }
   ],
   "source": [
    "!cat grades.csv"
   ]
  },
  {
   "cell_type": "markdown",
   "metadata": {},
   "source": [
    "We have just created a comma separated file of a 5 by 2 table of names and grades. You could open this file in Excel and see the data in tabular format, but the data itself is just a plain text file.\n",
    "\n",
    "Notice we created a csvout object that is a writer object? This is how Python makes it very simple to write (and read) csv files: just use the functions they provide."
   ]
  },
  {
   "cell_type": "markdown",
   "metadata": {},
   "source": [
    "We can read these files back in just as easily:"
   ]
  },
  {
   "cell_type": "code",
   "execution_count": 3,
   "metadata": {
    "collapsed": false
   },
   "outputs": [
    {
     "name": "stdout",
     "output_type": "stream",
     "text": [
      "['John', '88']\n",
      "['Kate', '93']\n",
      "['Harry', '93']\n",
      "['Linda', '87']\n",
      "['Harriet', '91']\n"
     ]
    }
   ],
   "source": [
    "import csv\n",
    "\n",
    "grades_csv_read = open('grades.csv', 'rt')\n",
    "csvin = csv.reader(grades_csv_read)\n",
    "\n",
    "for row in csvin:\n",
    "    print(row)"
   ]
  },
  {
   "cell_type": "markdown",
   "metadata": {},
   "source": [
    "Here you can see that once you create a csv reader object, you can interate row by row and get each row in the csv file as a list that you can use in your application. No need to write a special parser to split and manipulate the original text file: this is all done for you."
   ]
  },
  {
   "cell_type": "markdown",
   "metadata": {},
   "source": [
    "## XML: eXtensible Markup Language"
   ]
  },
  {
   "cell_type": "markdown",
   "metadata": {},
   "source": [
    "For more structured data, XML is used to be able to represent relationships between data. Python gives us lots of ways to read the data."
   ]
  },
  {
   "cell_type": "markdown",
   "metadata": {},
   "source": [
    "Let's first create our XML text file:"
   ]
  },
  {
   "cell_type": "code",
   "execution_count": 4,
   "metadata": {
    "collapsed": true
   },
   "outputs": [],
   "source": [
    "xml_data = '''<?xml version=\"1.0\"?>\n",
    "<students>\n",
    "\t<student name=\"John\">\n",
    "\t\t<grade value=\"88\" />\n",
    "\t</student>\n",
    "\t<student name=\"Kate\">\n",
    "\t\t<grade value=\"93\" />\n",
    "\t</student>\n",
    "\t<student name=\"Harry\">\n",
    "\t\t<grade value=\"93\" />\n",
    "\t</student>\n",
    "\t<student name=\"Linda\">\n",
    "\t\t<grade value=\"87\" />\n",
    "\t</student>\n",
    "\t<student name=\"Harriet\">\n",
    "\t\t<grade value=\"91\" />\n",
    "\t</student>\n",
    "</students>'''\n",
    "\n",
    "xml_data_file = open('grades.xml', 'wt')\n",
    "xml_data_file.write(xml_data)\n",
    "xml_data_file.close()"
   ]
  },
  {
   "cell_type": "code",
   "execution_count": 5,
   "metadata": {
    "collapsed": false
   },
   "outputs": [
    {
     "name": "stdout",
     "output_type": "stream",
     "text": [
      "<?xml version=\"1.0\"?>\r\n",
      "<students>\r\n",
      "\t<student name=\"John\">\r\n",
      "\t\t<grade value=\"88\" />\r\n",
      "\t</student>\r\n",
      "\t<student name=\"Kate\">\r\n",
      "\t\t<grade value=\"93\" />\r\n",
      "\t</student>\r\n",
      "\t<student name=\"Harry\">\r\n",
      "\t\t<grade value=\"93\" />\r\n",
      "\t</student>\r\n",
      "\t<student name=\"Linda\">\r\n",
      "\t\t<grade value=\"87\" />\r\n",
      "\t</student>\r\n",
      "\t<student name=\"Harriet\">\r\n",
      "\t\t<grade value=\"91\" />\r\n",
      "\t</student>\r\n",
      "</students>"
     ]
    }
   ],
   "source": [
    "!cat grades.xml"
   ]
  },
  {
   "cell_type": "markdown",
   "metadata": {},
   "source": [
    "So this is just a regular text file that happens to be XML. Let's now read in that text file as an XML file so that we can programatically access this xml file "
   ]
  },
  {
   "cell_type": "code",
   "execution_count": 6,
   "metadata": {
    "collapsed": false
   },
   "outputs": [
    {
     "name": "stdout",
     "output_type": "stream",
     "text": [
      "students\n"
     ]
    }
   ],
   "source": [
    "from xml.etree import ElementTree  \n",
    "tree = ElementTree.ElementTree(file='grades.xml')\n",
    "root = tree.getroot()\n",
    "print(root.tag)"
   ]
  },
  {
   "cell_type": "markdown",
   "metadata": {},
   "source": [
    "So we use the module ElementTree from the xml.etree package that gives us the ability to traverse the xml tree programmatically. By creating a tree and retrieving the root, we can get the name of the root tag by accessing the tag property."
   ]
  },
  {
   "cell_type": "markdown",
   "metadata": {},
   "source": [
    "Let's now traverse the tree to demonstrate how you can access xml data:"
   ]
  },
  {
   "cell_type": "code",
   "execution_count": 7,
   "metadata": {
    "collapsed": false
   },
   "outputs": [
    {
     "name": "stdout",
     "output_type": "stream",
     "text": [
      " tag: student attributes: {'name': 'John'}\n",
      "\ttag: grade attributes: {'value': '88'}\n",
      " tag: student attributes: {'name': 'Kate'}\n",
      "\ttag: grade attributes: {'value': '93'}\n",
      " tag: student attributes: {'name': 'Harry'}\n",
      "\ttag: grade attributes: {'value': '93'}\n",
      " tag: student attributes: {'name': 'Linda'}\n",
      "\ttag: grade attributes: {'value': '87'}\n",
      " tag: student attributes: {'name': 'Harriet'}\n",
      "\ttag: grade attributes: {'value': '91'}\n"
     ]
    }
   ],
   "source": [
    "for child in root:\n",
    "    print(' tag:', child.tag, 'attributes:', child.attrib)\n",
    "\n",
    "    for grandchild in child:\n",
    "        print('\\ttag:', grandchild.tag, 'attributes:', grandchild.attrib)"
   ]
  },
  {
   "cell_type": "markdown",
   "metadata": {},
   "source": [
    "The ElementTree objects have tag and attribute properties that gives you assess to the tag name and attributes. The nodes are also lists that give you access to that node's children as well. There are a number of other operations you can use for XML files: check out the [documentation](https://docs.python.org/3.3/library/xml.etree.elementtree.html) for details.\n",
    "\n",
    "You can also try [xml.dom](https://docs.python.org/3/library/xml.dom.html) and [xml.sax](https://docs.python.org/3/library/xml.sax.html) for alternative xml processing libraries. "
   ]
  },
  {
   "cell_type": "markdown",
   "metadata": {},
   "source": [
    "## JSON: Javascript Object Notation"
   ]
  },
  {
   "cell_type": "markdown",
   "metadata": {},
   "source": [
    "JSON has become increasingly the data format of choice for a number of applications outside of the frontend website world. The good thing is that JSON format is very similar in syntax to Python so it will be very easy to understand. \n",
    "\n",
    "Python's support of JSON is very straightforward: there is one library that handles json and it's conveniently called \"json\".\n",
    "\n",
    "Let's first write our test json file:"
   ]
  },
  {
   "cell_type": "code",
   "execution_count": 8,
   "metadata": {
    "collapsed": true
   },
   "outputs": [],
   "source": [
    "json_data = '''{\n",
    "\t\"students\": {\n",
    "\t\t\n",
    "\t\t\"John\": {\n",
    "\t\t\t\"grades\": [88]\n",
    "\t\t},\n",
    "\n",
    "\t\t\"Kate\": {\n",
    "\t\t\t\"grades\": [93]\n",
    "\t\t},\n",
    "\n",
    "\t\t\"Harry\": {\n",
    "\t\t\t\"grades\": [93]\n",
    "\t\t},\n",
    "\n",
    "\t\t\"Linda\": {\n",
    "\t\t\t\"grades\": [87]\n",
    "\t\t},\n",
    "\n",
    "\t\t\"Harriet\": {\n",
    "\t\t\t\"grades\": [91]\n",
    "\t\t}\n",
    "\t}\n",
    "}'''\n",
    "\n",
    "json_data_file = open('grades.json', 'wt')\n",
    "json_data_file.write(json_data)\n",
    "json_data_file.close()"
   ]
  },
  {
   "cell_type": "code",
   "execution_count": 9,
   "metadata": {
    "collapsed": false
   },
   "outputs": [
    {
     "name": "stdout",
     "output_type": "stream",
     "text": [
      "{\r\n",
      "\t\"students\": {\r\n",
      "\t\t\r\n",
      "\t\t\"John\": {\r\n",
      "\t\t\t\"grades\": [88]\r\n",
      "\t\t},\r\n",
      "\r\n",
      "\t\t\"Kate\": {\r\n",
      "\t\t\t\"grades\": [93]\r\n",
      "\t\t},\r\n",
      "\r\n",
      "\t\t\"Harry\": {\r\n",
      "\t\t\t\"grades\": [93]\r\n",
      "\t\t},\r\n",
      "\r\n",
      "\t\t\"Linda\": {\r\n",
      "\t\t\t\"grades\": [87]\r\n",
      "\t\t},\r\n",
      "\r\n",
      "\t\t\"Harriet\": {\r\n",
      "\t\t\t\"grades\": [91]\r\n",
      "\t\t}\r\n",
      "\t}\r\n",
      "}"
     ]
    }
   ],
   "source": [
    "!cat grades.json"
   ]
  },
  {
   "cell_type": "markdown",
   "metadata": {},
   "source": [
    "Please note: json looks a lot like how you would define a dictionary in Python. Anything with quotes are converted to strings, numbers are converted to int or floats, and brakets are interpreted as lists.\n",
    "\n",
    "Let's see this in action:"
   ]
  },
  {
   "cell_type": "code",
   "execution_count": 2,
   "metadata": {
    "collapsed": false
   },
   "outputs": [
    {
     "name": "stdout",
     "output_type": "stream",
     "text": [
      "root: {'students': {'Harry': {'grades': [93]}, 'Harriet': {'grades': [91]}, 'Linda': {'grades': [87]}, 'John': {'grades': [88]}, 'Kate': {'grades': [93]}}}\n",
      "\n",
      "students: {'Harry': {'grades': [93]}, 'Harriet': {'grades': [91]}, 'Linda': {'grades': [87]}, 'John': {'grades': [88]}, 'Kate': {'grades': [93]}}\n"
     ]
    }
   ],
   "source": [
    "import json\n",
    "json_data_file = open(\"grades.json\", \"rt\")\n",
    "json_data = json.loads(json_data_file.read())\n",
    "json_data_file.close()\n",
    "\n",
    "print(\"root:\", json_data)\n",
    "print()\n",
    "print(\"students:\", json_data[\"students\"])"
   ]
  },
  {
   "cell_type": "markdown",
   "metadata": {},
   "source": [
    "We have now loaded our json file from the file system, and used the json.loads() function to convert that text file into a Python object. As we print both the root json_data and the \"students\" property, we can see how Python has coverted that json file into a Python dictionary."
   ]
  },
  {
   "cell_type": "markdown",
   "metadata": {},
   "source": [
    "We can also convert Python dictionaries into json format and write them to disk as well:"
   ]
  },
  {
   "cell_type": "code",
   "execution_count": 11,
   "metadata": {
    "collapsed": true
   },
   "outputs": [],
   "source": [
    "python_dict = {'students': \n",
    "                   {'Harriet': {'grades': [91]}, \n",
    "                    'John': {'grades': [88]}, \n",
    "                    'Kate': {'grades': [93]}, \n",
    "                    'Linda': {'grades': [87]}, \n",
    "                    'Harry': {'grades': [93]}\n",
    "                   }\n",
    "              }\n",
    "python_dict_json = json.dumps(python_dict)\n",
    "\n",
    "python_dict_json_file = open(\"grades_python.json\", \"wt\")\n",
    "python_dict_json_file.write(python_dict_json)\n",
    "python_dict_json_file.close()"
   ]
  },
  {
   "cell_type": "code",
   "execution_count": 12,
   "metadata": {
    "collapsed": false
   },
   "outputs": [
    {
     "name": "stdout",
     "output_type": "stream",
     "text": [
      "{\"students\": {\"Kate\": {\"grades\": [93]}, \"Harry\": {\"grades\": [93]}, \"Linda\": {\"grades\": [87]}, \"Harriet\": {\"grades\": [91]}, \"John\": {\"grades\": [88]}}}"
     ]
    }
   ],
   "source": [
    "!cat grades_python.json"
   ]
  },
  {
   "cell_type": "markdown",
   "metadata": {},
   "source": [
    "We juse the `dumps()` function to convert a python dictionary into a json compliant string. We then write the results to grades_python.json"
   ]
  },
  {
   "cell_type": "markdown",
   "metadata": {},
   "source": [
    "There are a number of other structured file formats, such as HTML, YAML, and INI files that all have specialized modules that handle the reading and writing to those special format. A rule of thumb is to make sure you search for a previously written module before you try to write such a parser yourself! You will save your self a lot of time."
   ]
  }
 ],
 "metadata": {
  "kernelspec": {
   "display_name": "Python 3",
   "language": "python",
   "name": "python3"
  },
  "language_info": {
   "codemirror_mode": {
    "name": "ipython",
    "version": 3
   },
   "file_extension": ".py",
   "mimetype": "text/x-python",
   "name": "python",
   "nbconvert_exporter": "python",
   "pygments_lexer": "ipython3",
   "version": "3.5.0"
  }
 },
 "nbformat": 4,
 "nbformat_minor": 0
}
