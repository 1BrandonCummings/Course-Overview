{
 "cells": [
  {
   "cell_type": "markdown",
   "metadata": {},
   "source": [
    "#Mangle Data Like a Pro"
   ]
  },
  {
   "cell_type": "markdown",
   "metadata": {},
   "source": [
    "##Match With Regular Expressions"
   ]
  },
  {
   "cell_type": "markdown",
   "metadata": {},
   "source": [
    "In text processing we very often need to find out whether a string is present in the text and replace it with another string. Sometimes we also want to ensure that a piece of data follows a particular pattern. Both can be done quickly and efficiently using regular expressions, a powerful pattern-matching tool set that enables you to describe the kind of string you are looking for and try to find that string in a (usually) larger string (the source).\n",
    "\n",
    "Python provides a package `re` to implement regular expressions and their many uses. You first need to define a pattern that we want to search for in the source. Consider this line of code. "
   ]
  },
  {
   "cell_type": "code",
   "execution_count": 1,
   "metadata": {
    "collapsed": false
   },
   "outputs": [
    {
     "name": "stdout",
     "output_type": "stream",
     "text": [
      "<_sre.SRE_Match object; span=(0, 5), match='To be'>\n"
     ]
    }
   ],
   "source": [
    "import re\n",
    "source = \"To be or not to be, that is a question\"\n",
    "pattern = \"To be\"\n",
    "\n",
    "result = re.match(pattern, source)\n",
    "print(result)"
   ]
  },
  {
   "cell_type": "markdown",
   "metadata": {},
   "source": [
    "The match function went through the source string and matched to the beginning of the source string. The match function checks whether the source string begins with the pattern."
   ]
  },
  {
   "cell_type": "markdown",
   "metadata": {},
   "source": [
    "You can precompile pattern to speed up the query. If you have a regular expression that is done multiple times, this approach could provide significant performance gains."
   ]
  },
  {
   "cell_type": "code",
   "execution_count": 2,
   "metadata": {
    "collapsed": true
   },
   "outputs": [],
   "source": [
    "compiled_pattern = re.compile(\"To be\")"
   ]
  },
  {
   "cell_type": "markdown",
   "metadata": {},
   "source": [
    "You can then use the compiled pattern to execute the match query."
   ]
  },
  {
   "cell_type": "code",
   "execution_count": 3,
   "metadata": {
    "collapsed": false
   },
   "outputs": [
    {
     "name": "stdout",
     "output_type": "stream",
     "text": [
      "<_sre.SRE_Match object; span=(0, 5), match='To be'>\n"
     ]
    }
   ],
   "source": [
    "result_compiled = compiled_pattern.match(source)\n",
    "print(result_compiled)"
   ]
  },
  {
   "cell_type": "markdown",
   "metadata": {},
   "source": [
    "There are a few ways to use the `re` package to find patterns in strings:\n",
    "\n",
    "- search(): returns the first match\n",
    "- findall(): returns a list of all nonoverlapping matches\n",
    "- split(): returns a list of strings that were split from the source string at the locations where the pattern was found\n",
    "- sub(): returns a string that has replaced all instances of the pattern with the replacement string passed into the function"
   ]
  },
  {
   "cell_type": "markdown",
   "metadata": {},
   "source": [
    "###Exact match with match()"
   ]
  },
  {
   "cell_type": "markdown",
   "metadata": {},
   "source": [
    "In the previous example we used the `match()` function to determine whether a given pattern matches to the beginning of another string. Let's look at a typical coding snippet that is often used in processing regular expressions. "
   ]
  },
  {
   "cell_type": "code",
   "execution_count": 4,
   "metadata": {
    "collapsed": false
   },
   "outputs": [
    {
     "name": "stdout",
     "output_type": "stream",
     "text": [
      "To be\n"
     ]
    }
   ],
   "source": [
    "import re\n",
    "source = \"To be or not to be, that is the question\"\n",
    "\n",
    "# We are creating a compiled pattern that we can use in multiple searches\n",
    "compiled_pattern = re.compile(\"To be\") \n",
    "\n",
    "# Now we are searching to see if the compiled_pattern is in the front of the source text\n",
    "m = compiled_pattern.match(source)\n",
    "\n",
    "if m: # if there is a match\n",
    "    print(m.group()) # let's print out what was matched"
   ]
  },
  {
   "cell_type": "markdown",
   "metadata": {},
   "source": [
    "What happens if we try to search for the pattern \"that is\"?"
   ]
  },
  {
   "cell_type": "code",
   "execution_count": 5,
   "metadata": {
    "collapsed": false
   },
   "outputs": [],
   "source": [
    "middle_pattern = re.compile(\"that is\")\n",
    "m = middle_pattern.match(source)\n",
    "\n",
    "if m:\n",
    "    print(m.group())"
   ]
  },
  {
   "cell_type": "markdown",
   "metadata": {},
   "source": [
    "This time this coding snippet printed nothing because the pattern \"that is\" is not in the front of the string. However let's look at the following example."
   ]
  },
  {
   "cell_type": "code",
   "execution_count": 6,
   "metadata": {
    "collapsed": false
   },
   "outputs": [
    {
     "name": "stdout",
     "output_type": "stream",
     "text": [
      "To be or not to be, that is\n"
     ]
    }
   ],
   "source": [
    "middle_pattern_with_wildcard = re.compile(\".*that is\")\n",
    "m = middle_pattern_with_wildcard.match(source)\n",
    "if m: \n",
    "    print(m.group())"
   ]
  },
  {
   "cell_type": "markdown",
   "metadata": {},
   "source": [
    "Why did the pattern `\".*that is\"` match with the source string? Let's examine our new pattern:\n",
    "\n",
    "- \".\" matches any single character\n",
    "- \"*\" matches any number of the previous character\n",
    "- So the combination \".*\" means any number of any character (even zero)\n",
    "- \"that is\" is the sring we would like to match\n",
    "\n",
    "Going through the source string \"To be or not to be, that is the question\", the pattern matches in this way:\n",
    "\n",
    "\"**To be or not to be, **that is the question\" matches the **\".\\*\"** part\n",
    "\n",
    "\"To be or not to be, **that is** the question\" matches the **\"that is\"**\n"
   ]
  },
  {
   "cell_type": "markdown",
   "metadata": {},
   "source": [
    "###First match with search()"
   ]
  },
  {
   "cell_type": "markdown",
   "metadata": {},
   "source": [
    "You can use search to find a pattern anywhere within a source string without needing wildcards."
   ]
  },
  {
   "cell_type": "code",
   "execution_count": 7,
   "metadata": {
    "collapsed": false
   },
   "outputs": [
    {
     "name": "stdout",
     "output_type": "stream",
     "text": [
      "that is\n"
     ]
    }
   ],
   "source": [
    "middle_pattern = re.compile(\"that is\")\n",
    "m = middle_pattern.search(\"that is\")\n",
    "\n",
    "if m:\n",
    "    print(m.group())"
   ]
  },
  {
   "cell_type": "markdown",
   "metadata": {},
   "source": [
    "###All matches with findall()"
   ]
  },
  {
   "cell_type": "markdown",
   "metadata": {},
   "source": [
    "You can use findall() to find all of the instances where the source string  matches the pattern."
   ]
  },
  {
   "cell_type": "code",
   "execution_count": 8,
   "metadata": {
    "collapsed": false
   },
   "outputs": [
    {
     "name": "stdout",
     "output_type": "stream",
     "text": [
      "Found 2 matches\n",
      "['n', 'n']\n"
     ]
    }
   ],
   "source": [
    "n_pattern = re.compile(\"n\") #Lets find all of the n's in the source string\n",
    "m = n_pattern.findall(source)\n",
    "print(\"Found\", len(m), \"matches\")\n",
    "print(m)"
   ]
  },
  {
   "cell_type": "markdown",
   "metadata": {},
   "source": [
    "How about 'n' followed by any character?"
   ]
  },
  {
   "cell_type": "code",
   "execution_count": 9,
   "metadata": {
    "collapsed": false
   },
   "outputs": [
    {
     "name": "stdout",
     "output_type": "stream",
     "text": [
      "Found 1 matches\n"
     ]
    }
   ],
   "source": [
    "n_and_character_pattern = re.compile(\"n.\")\n",
    "m = n_and_character_pattern.findall(source)\n",
    "print(\"Found\", len(m), \"matches\")"
   ]
  },
  {
   "cell_type": "markdown",
   "metadata": {},
   "source": [
    "Note how `n_and_character_pattern`  found only one match. This happened because the last \"n\" in the source string does not have a character after it; the string just terminates. If we wanted to find all n's that do or do not have a character after them, we can do as shown below."
   ]
  },
  {
   "cell_type": "code",
   "execution_count": 10,
   "metadata": {
    "collapsed": false
   },
   "outputs": [
    {
     "name": "stdout",
     "output_type": "stream",
     "text": [
      "Found 2 matches\n"
     ]
    }
   ],
   "source": [
    "n_and_character_optional_pattern = re.compile(\"n.?\")\n",
    "m = n_and_character_optional_pattern.findall(source)\n",
    "print(\"Found\", len(m), \"matches\")"
   ]
  },
  {
   "cell_type": "markdown",
   "metadata": {},
   "source": [
    "###Split at matches with split()"
   ]
  },
  {
   "cell_type": "markdown",
   "metadata": {},
   "source": [
    "You can split a string at a pattern's matches (like the normal split function would do)."
   ]
  },
  {
   "cell_type": "code",
   "execution_count": 11,
   "metadata": {
    "collapsed": false
   },
   "outputs": [
    {
     "name": "stdout",
     "output_type": "stream",
     "text": [
      "['To be or ', 'ot to be, that is the questio', '']\n"
     ]
    }
   ],
   "source": [
    "n_pattern = re.compile(\"n\")\n",
    "m = n_pattern.split(source)\n",
    "print(m)"
   ]
  },
  {
   "cell_type": "markdown",
   "metadata": {},
   "source": [
    "###Replace at matches with sub()"
   ]
  },
  {
   "cell_type": "markdown",
   "metadata": {},
   "source": [
    "You can replace a match with another string as well, like the string replace function does."
   ]
  },
  {
   "cell_type": "code",
   "execution_count": 12,
   "metadata": {
    "collapsed": false
   },
   "outputs": [
    {
     "name": "stdout",
     "output_type": "stream",
     "text": [
      "To be or ?ot to be, that is the questio?\n"
     ]
    }
   ],
   "source": [
    "m = n_pattern.sub('?', source)\n",
    "print(m)"
   ]
  },
  {
   "cell_type": "markdown",
   "metadata": {},
   "source": [
    "##Defining Patterns"
   ]
  },
  {
   "cell_type": "markdown",
   "metadata": {},
   "source": [
    "We jumped into the regular expression package that Python provides with its match(), search(), findall(),  split(), and sub() functions. We have gone through simple patterns that used the following features:\n",
    "\n",
    "- Matching literal strings like \"that is\"\n",
    "- Matching any single character other than \\n with \".\"\n",
    "- Matching any number of the previous character with \"*\"\n",
    "- Matching an optional previous character with \"?\"\n",
    "\n",
    "Now we are going to look more in depth on how to build powerful patterns that help you match almost any pattern that you can think of."
   ]
  },
  {
   "cell_type": "markdown",
   "metadata": {},
   "source": [
    "###Special characters"
   ]
  },
  {
   "cell_type": "markdown",
   "metadata": {},
   "source": [
    "Python provides functionality that uses a series of special characters to match common patterns that you will use in your regular expressions:\n",
    "\n",
    "| Pattern | Matches                                                  |\n",
    "|---------|----------------------------------------------------------|\n",
    "| \\d      | a single digit                                           |\n",
    "| \\D      | a single non-digit                                       |\n",
    "| \\w      | an alphanumeric character                                |\n",
    "| \\W      | a non-alphanumeric character                             |\n",
    "| \\s      | a whitespace character                                   |\n",
    "| \\S      | a non-whitespace character                               |\n",
    "| \\b      | a word boundary (between a \\w and a \\W, in either order) |\n",
    "| \\B      | a non-word boundary                                      |"
   ]
  },
  {
   "cell_type": "markdown",
   "metadata": {},
   "source": [
    "To put this to work, we are going to use the string module's printable variable, which contains 100 printable ASCII characters to show the power of these special characters."
   ]
  },
  {
   "cell_type": "code",
   "execution_count": 13,
   "metadata": {
    "collapsed": false
   },
   "outputs": [
    {
     "data": {
      "text/plain": [
       "['0', '1', '2', '3', '4', '5', '6', '7', '8', '9']"
      ]
     },
     "execution_count": 13,
     "metadata": {},
     "output_type": "execute_result"
    }
   ],
   "source": [
    "import string\n",
    "printable = string.printable\n",
    "\n",
    "re.findall(\"\\d\", printable)"
   ]
  },
  {
   "cell_type": "code",
   "execution_count": 14,
   "metadata": {
    "collapsed": false
   },
   "outputs": [
    {
     "data": {
      "text/plain": [
       "['0',\n",
       " '1',\n",
       " '2',\n",
       " '3',\n",
       " '4',\n",
       " '5',\n",
       " '6',\n",
       " '7',\n",
       " '8',\n",
       " '9',\n",
       " 'a',\n",
       " 'b',\n",
       " 'c',\n",
       " 'd',\n",
       " 'e',\n",
       " 'f',\n",
       " 'g',\n",
       " 'h',\n",
       " 'i',\n",
       " 'j',\n",
       " 'k',\n",
       " 'l',\n",
       " 'm',\n",
       " 'n',\n",
       " 'o',\n",
       " 'p',\n",
       " 'q',\n",
       " 'r',\n",
       " 's',\n",
       " 't',\n",
       " 'u',\n",
       " 'v',\n",
       " 'w',\n",
       " 'x',\n",
       " 'y',\n",
       " 'z',\n",
       " 'A',\n",
       " 'B',\n",
       " 'C',\n",
       " 'D',\n",
       " 'E',\n",
       " 'F',\n",
       " 'G',\n",
       " 'H',\n",
       " 'I',\n",
       " 'J',\n",
       " 'K',\n",
       " 'L',\n",
       " 'M',\n",
       " 'N',\n",
       " 'O',\n",
       " 'P',\n",
       " 'Q',\n",
       " 'R',\n",
       " 'S',\n",
       " 'T',\n",
       " 'U',\n",
       " 'V',\n",
       " 'W',\n",
       " 'X',\n",
       " 'Y',\n",
       " 'Z',\n",
       " '_']"
      ]
     },
     "execution_count": 14,
     "metadata": {},
     "output_type": "execute_result"
    }
   ],
   "source": [
    "re.findall(\"\\w\", printable)"
   ]
  },
  {
   "cell_type": "code",
   "execution_count": 15,
   "metadata": {
    "collapsed": false
   },
   "outputs": [
    {
     "data": {
      "text/plain": [
       "[' ', '\\t', '\\n', '\\r', '\\x0b', '\\x0c']"
      ]
     },
     "execution_count": 15,
     "metadata": {},
     "output_type": "execute_result"
    }
   ],
   "source": [
    "re.findall(\"\\s\", printable)"
   ]
  },
  {
   "cell_type": "markdown",
   "metadata": {},
   "source": [
    "###Using specifiers"
   ]
  },
  {
   "cell_type": "markdown",
   "metadata": {},
   "source": [
    "As you may have guessed, \"\\*\", \".\", and \"?\" are not the only characters that have special meaning to the pattern. These characters are called specifiers, and there are several of them to work with in building your powerful patterns."
   ]
  },
  {
   "cell_type": "markdown",
   "metadata": {},
   "source": [
    "| Pattern          | Matches                                      |\n",
    "|------------------|----------------------------------------------|\n",
    "| abc              | literal abc                                  |\n",
    "| ( expr )         | expr                                         |\n",
    "| expr1 &#124; expr2    | expr1 or expr2                               |\n",
    "| .                | any character except \\n                      |\n",
    "| ^                | start of source string                       |\n",
    "| $                | end of source string                         |\n",
    "| prev ?           | zero or one prev                             |\n",
    "| prev *           | zero or more prev, as many as possible       |\n",
    "| prev *?          | zero or more prev, as few as possible        |\n",
    "| prev +           | one or more prev, as many as possible        |\n",
    "| prev +?          | one or more prev, as few as possible         |\n",
    "| prev { m }       | m consecutive prev                           |\n",
    "| prev { m, n }    | m to n consecutive prev, as many as possible |\n",
    "| prev { m, n }?   | m to n consecutive prev, as few as possible  |\n",
    "| [ abc ]          | a or b or c (same as a&#124;b&#124;c)                  |\n",
    "| [^ abc ]         | not (a or b or c)                            |\n",
    "| prev (?= next )  | prev if followed by next                     |\n",
    "| prev (?! next )  | prev if not followed by next                 |\n",
    "| (?<= prev ) next | next if preceded by prev                     |\n",
    "| (?<! prev ) next | next if not preceded by prev                 |"
   ]
  },
  {
   "cell_type": "markdown",
   "metadata": {},
   "source": [
    "Regular expressions are extremely powerful and can make things like finding a U.S. phone number in the middle of a large section of text trival. But you need to write that regular expression, which can be tricky at best."
   ]
  },
  {
   "cell_type": "markdown",
   "metadata": {},
   "source": [
    "Let's try a real-life example. Let's say you would like to extract all U.S. telephone numbers from a source of text. The source would be like that shown below."
   ]
  },
  {
   "cell_type": "code",
   "execution_count": 16,
   "metadata": {
    "collapsed": true
   },
   "outputs": [],
   "source": [
    "large_source = \"\"\"\n",
    "Hi Bianca,\n",
    "It was great to talk to you about regular expressions. I really understand\n",
    "them more than I ever had before. Would you like to work on the next project\n",
    "together? My number is 650-555-3948. Thanks and talk to you soon!\n",
    "\n",
    "-Mary\n",
    "\"\"\""
   ]
  },
  {
   "cell_type": "markdown",
   "metadata": {},
   "source": [
    "What we want to do is build a pattern that would do the folowing: \n",
    "\n",
    "- match three numbers\n",
    "- followed by a dash\n",
    "- then match three more numbers\n",
    "- followed by a dash\n",
    "- and then match four numbers\n",
    "\n",
    "Here's the regular expression you can create."
   ]
  },
  {
   "cell_type": "code",
   "execution_count": 17,
   "metadata": {
    "collapsed": false
   },
   "outputs": [
    {
     "name": "stdout",
     "output_type": "stream",
     "text": [
      "['650-555-3948']\n"
     ]
    }
   ],
   "source": [
    "phone_number_pattern = re.compile(r'[0123456789]{3}-[0123456789]{3}-[0123456789]{4}')\n",
    "m = phone_number_pattern.findall(large_source)\n",
    "print(m)"
   ]
  },
  {
   "cell_type": "markdown",
   "metadata": {},
   "source": [
    "Notice that the string is surrounded with the regular expression `\"r''`. This is Python's representation of a raw string, and that prevents Python from interpreting certain special characters as other characters (like `\"\\b\"` becoming a backspace instead of matching a word boundary). It is safe to surround all of your patterns with `\"r''\"` so that you do not have any unintended side effects in the future.\n",
    "\n",
    "For the first implementation of our phone number regular expression, we used the square bracket notation to mean 0 or 1 or 2, and so on, and the curly bracket to designate how many of that pattern we would like to match. Also note that we could have also written this regular expression as done below."
   ]
  },
  {
   "cell_type": "code",
   "execution_count": 18,
   "metadata": {
    "collapsed": false
   },
   "outputs": [
    {
     "name": "stdout",
     "output_type": "stream",
     "text": [
      "['650-555-3948']\n"
     ]
    }
   ],
   "source": [
    "phone_number_pattern = re.compile(r'\\d{3}-\\d{3}-\\d{4}')\n",
    "m = phone_number_pattern.findall(large_source)\n",
    "print(m)"
   ]
  },
  {
   "cell_type": "markdown",
   "metadata": {},
   "source": [
    "Using wildcards makes this process much easier. I highly recommend checking out [Pythex](http://pythex.org/), which allows you to test your Python regular expressions so that you can be sure that your pattern matches what you expect it to match. "
   ]
  },
  {
   "cell_type": "markdown",
   "metadata": {},
   "source": [
    "###Specifying match output"
   ]
  },
  {
   "cell_type": "markdown",
   "metadata": {},
   "source": [
    "You can also capture arbitary parts of the match that you have written by using parentheses. When using the match() or search() functions, you can use the `group()` function of the match to gain access to the groups that you have designated."
   ]
  },
  {
   "cell_type": "markdown",
   "metadata": {},
   "source": [
    "For example, we can further improve our phone number regular expression by providing the ability to grab the area code and the rest of the number."
   ]
  },
  {
   "cell_type": "code",
   "execution_count": 19,
   "metadata": {
    "collapsed": false
   },
   "outputs": [
    {
     "name": "stdout",
     "output_type": "stream",
     "text": [
      "650-555-3948\n",
      "('650', '555-3948')\n"
     ]
    }
   ],
   "source": [
    "phone_number_pattern = re.compile(r'(\\d{3})-(\\d{3}-\\d{4})')\n",
    "m = phone_number_pattern.search(large_source)\n",
    "\n",
    "if m:\n",
    "    print(m.group())\n",
    "    print(m.groups())"
   ]
  },
  {
   "cell_type": "markdown",
   "metadata": {},
   "source": [
    "`m.groups()` returns a set of all of the groups that were captured based on where you placed the parentheses. You can also name the groups for easy retrieval."
   ]
  },
  {
   "cell_type": "code",
   "execution_count": 20,
   "metadata": {
    "collapsed": false
   },
   "outputs": [
    {
     "name": "stdout",
     "output_type": "stream",
     "text": [
      "650\n",
      "555-3948\n"
     ]
    }
   ],
   "source": [
    "phone_number_pattern = re.compile(r'(?P<areacode>\\d{3})-(?P<number>\\d{3}-\\d{4})')\n",
    "m = phone_number_pattern.search(large_source)\n",
    "\n",
    "if m:\n",
    "    print(m.group(\"areacode\"))\n",
    "    print(m.group(\"number\"))"
   ]
  },
  {
   "cell_type": "markdown",
   "metadata": {},
   "source": [
    "Regular expressions are very powerful and expressive. It is also a language in its own right so be sure to practice and try out your own regular expressions in the beginning. Also check out [Pythex](http://pythex.org/) for a quick way to test your Python regular expressions before you add them to your code.\n",
    "\n",
    "Now that we have discussed manipulating and searching character data, we will cover binary data in the next section."
   ]
  }
 ],
 "metadata": {
  "kernelspec": {
   "display_name": "Python 3",
   "language": "python",
   "name": "python3"
  },
  "language_info": {
   "codemirror_mode": {
    "name": "ipython",
    "version": 3
   },
   "file_extension": ".py",
   "mimetype": "text/x-python",
   "name": "python",
   "nbconvert_exporter": "python",
   "pygments_lexer": "ipython3",
   "version": "3.4.3"
  }
 },
 "nbformat": 4,
 "nbformat_minor": 0
}
