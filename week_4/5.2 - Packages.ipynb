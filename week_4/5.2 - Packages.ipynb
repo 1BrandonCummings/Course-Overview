{
 "cells": [
  {
   "cell_type": "markdown",
   "metadata": {},
   "source": [
    "# Modern Computing in Simple Packages"
   ]
  },
  {
   "cell_type": "markdown",
   "metadata": {},
   "source": [
    "## Packages"
   ]
  },
  {
   "cell_type": "markdown",
   "metadata": {},
   "source": [
    "Sometimes you want to group several modules together: Python gives that capability with packages. Think of a package as a single folder where you can save any number of related modules in. \n",
    "\n",
    "We can use the same import statements to use modules in a package into our program."
   ]
  },
  {
   "cell_type": "markdown",
   "metadata": {},
   "source": [
    "For our example we have two modules: daily and weekly that return daily or weekly forecasts:"
   ]
  },
  {
   "cell_type": "code",
   "execution_count": 1,
   "metadata": {
    "collapsed": true
   },
   "outputs": [],
   "source": [
    "# daily.py\n",
    "\n",
    "def forecast():\n",
    "    \"\"\"\n",
    "    Fake daily forecast\n",
    "    \"\"\"\n",
    "    return \"like yesterday\""
   ]
  },
  {
   "cell_type": "code",
   "execution_count": 2,
   "metadata": {
    "collapsed": true
   },
   "outputs": [],
   "source": [
    "# weekly.py\n",
    "\n",
    "def forecast():\n",
    "    \"\"\"\n",
    "    Fake weekly forecast\n",
    "    \"\"\"\n",
    "    return ['snow', 'more snow', 'sleet', 'freezing rain', 'rain', 'fog', 'hail']"
   ]
  },
  {
   "cell_type": "markdown",
   "metadata": {},
   "source": [
    "These files are in the current folder of this notebook under the folder (and therefore package) named `sources`. Python knows that the sources folder is a package by a special file called `__init__.py` that is placed in the root of the package folder."
   ]
  },
  {
   "cell_type": "markdown",
   "metadata": {},
   "source": [
    "We can use our sources package as follows:"
   ]
  },
  {
   "cell_type": "code",
   "execution_count": 3,
   "metadata": {
    "collapsed": false
   },
   "outputs": [
    {
     "name": "stdout",
     "output_type": "stream",
     "text": [
      "Daily forecast: like yesterday\n",
      "Weekly forecast:\n",
      "1 snow\n",
      "2 more snow\n",
      "3 sleet\n",
      "4 freezing rain\n",
      "5 rain\n",
      "6 fog\n",
      "7 hail\n"
     ]
    }
   ],
   "source": [
    "from sources import daily, weekly\n",
    "\n",
    "print(\"Daily forecast:\", daily.forecast())\n",
    "print(\"Weekly forecast:\")\n",
    "for day_number, outlook in enumerate(weekly.forecast(), 1):\n",
    "    print(day_number, outlook)"
   ]
  },
  {
   "cell_type": "markdown",
   "metadata": {},
   "source": [
    "Note we could accomplish the same thing by importing only what we want from each module, but we will need to create an alias of the method since both daily and weekly modules implement a module with the same name (`forecast`):"
   ]
  },
  {
   "cell_type": "code",
   "execution_count": 4,
   "metadata": {
    "collapsed": false
   },
   "outputs": [
    {
     "name": "stdout",
     "output_type": "stream",
     "text": [
      "Daily forecast: like yesterday\n",
      "Weekly forecast:\n",
      "1 snow\n",
      "2 more snow\n",
      "3 sleet\n",
      "4 freezing rain\n",
      "5 rain\n",
      "6 fog\n",
      "7 hail\n"
     ]
    }
   ],
   "source": [
    "from sources.daily import forecast as daily_forecast\n",
    "from sources.weekly import forecast as weekly_forecast\n",
    "\n",
    "print(\"Daily forecast:\", daily_forecast())\n",
    "print(\"Weekly forecast:\")\n",
    "for day_number, outlook in enumerate(weekly_forecast(), 1):\n",
    "    print(day_number, outlook)"
   ]
  }
 ],
 "metadata": {
  "kernelspec": {
   "display_name": "Python 3",
   "language": "python",
   "name": "python3"
  },
  "language_info": {
   "codemirror_mode": {
    "name": "ipython",
    "version": 3
   },
   "file_extension": ".py",
   "mimetype": "text/x-python",
   "name": "python",
   "nbconvert_exporter": "python",
   "pygments_lexer": "ipython3",
   "version": "3.4.3"
  }
 },
 "nbformat": 4,
 "nbformat_minor": 0
}
