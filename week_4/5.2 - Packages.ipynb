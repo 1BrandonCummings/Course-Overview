{
 "cells": [
  {
   "cell_type": "markdown",
   "metadata": {},
   "source": [
    "# Modern Computing in Simple Packages"
   ]
  },
  {
   "cell_type": "markdown",
   "metadata": {},
   "source": [
    "## Packages"
   ]
  },
  {
   "cell_type": "markdown",
   "metadata": {},
   "source": [
    "In the last section we introduced the concept of modules and how you can store functionality in a module and use that functionality in a separate python script.\n",
    "\n",
    "Sometimes you want to group several modules together in a logical unit: Python provides that capability with packages. Think of a package as a single folder where you can package any number of related modules together. "
   ]
  },
  {
   "cell_type": "markdown",
   "metadata": {},
   "source": [
    "For our example we have two modules: `daily` and `weekly` that return daily or weekly forecasts. We added these modules in a folder called `weather`."
   ]
  },
  {
   "cell_type": "code",
   "execution_count": 1,
   "metadata": {
    "collapsed": false
   },
   "outputs": [
    {
     "name": "stdout",
     "output_type": "stream",
     "text": [
      "# daily.py\r\n",
      "# \r\n",
      "# Provides the weather for Berkeley, CA for today\r\n",
      "\r\n",
      "from urllib.request import urlopen\r\n",
      "import json\r\n",
      "\r\n",
      "def forecast():\r\n",
      "    \"\"\"\r\n",
      "    Returns the daily weather for Berkeley, CA\r\n",
      "    \"\"\"\r\n",
      "    response = urlopen('http://api.openweathermap.org/data/2.5/forecast/daily?q=Berkeley&mode=json&units=Imperial&cnt=1')\r\n",
      "    rawWeatherData = response.read().decode(\"utf-8\")\r\n",
      "    weatherData = json.loads(rawWeatherData)\r\n",
      "\r\n",
      "    forecastStr = \"Forecast for Berkeley, CA: \" + weatherData[\"list\"][0][\"weather\"][0][\"main\"] + \"\\n\" \\\r\n",
      "        \"Current Temp: \" + str(weatherData[\"list\"][0][\"temp\"][\"day\"]) + \" degrees \\n\"  \\\r\n",
      "        \"High Temp: \" + str(weatherData[\"list\"][0][\"temp\"][\"max\"]) + \" degrees \\n\" \\\r\n",
      "        \"Low Temp: \" + str(weatherData[\"list\"][0][\"temp\"][\"min\"]) + \" degrees\"\r\n",
      "\r\n",
      "    return forecastStr"
     ]
    }
   ],
   "source": [
    "!cat weather/daily.py "
   ]
  },
  {
   "cell_type": "code",
   "execution_count": 2,
   "metadata": {
    "collapsed": false
   },
   "outputs": [
    {
     "name": "stdout",
     "output_type": "stream",
     "text": [
      "# weekly.py\r\n",
      "# \r\n",
      "# Provides the weather for Berkeley, CA for the week\r\n",
      "\r\n",
      "from urllib.request import urlopen\r\n",
      "import json\r\n",
      "\r\n",
      "def forecast():\r\n",
      "    \"\"\"\r\n",
      "    Returns the daily weather for Berkeley, CA\r\n",
      "    \"\"\"\r\n",
      "    response = urlopen('http://api.openweathermap.org/data/2.5/forecast/daily?q=Berkeley&mode=json&units=Imperial&cnt=7')\r\n",
      "    rawWeatherData = response.read().decode(\"utf-8\")\r\n",
      "    weatherData = json.loads(rawWeatherData)\r\n",
      "\r\n",
      "    forecastStr = \"\"\r\n",
      "    for i in range(7):\r\n",
      "        forecastStr += _daily_forecast(weatherData, i) + \"\\n\\n\"\r\n",
      "\r\n",
      "    forecastStr = forecastStr[:-2] # Remove the two newlines at the end \r\n",
      "    return forecastStr\r\n",
      "\r\n",
      "\r\n",
      "def _daily_forecast(weatherData,index):\r\n",
      "    \"\"\"\r\n",
      "    Helper function that prints a single day's forecast\r\n",
      "    \"\"\"\r\n",
      "\r\n",
      "    forecastStr = \"Forecast for Berkeley, CA: \" + weatherData[\"list\"][index][\"weather\"][0][\"main\"] + \"\\n\" \\\r\n",
      "    \"Current Temp: \" + str(weatherData[\"list\"][index][\"temp\"][\"day\"]) + \" degrees \\n\"  \\\r\n",
      "    \"High Temp: \" + str(weatherData[\"list\"][index][\"temp\"][\"max\"]) + \" degrees \\n\" \\\r\n",
      "    \"Low Temp: \" + str(weatherData[\"list\"][index][\"temp\"][\"min\"]) + \" degrees\"\r\n",
      "\r\n",
      "    return forecastStr"
     ]
    }
   ],
   "source": [
    "!cat weather/weekly.py"
   ]
  },
  {
   "cell_type": "markdown",
   "metadata": {},
   "source": [
    "Don't worry about all of the code right now: just know that the weather/daily.py module contains the ability to return the forecast at Berkeley, CA today. The weather/weekly.py module contains the ability to return the weekly forecast at Berkeley, CA. We moved those modules into a folder `weather` and added a special empty file: `__init.py__` in the weather folder. By doing that, we made `weather` into a package: a container that can contain modules and other packages."
   ]
  },
  {
   "cell_type": "markdown",
   "metadata": {},
   "source": [
    "We can use our weather package as follows:"
   ]
  },
  {
   "cell_type": "code",
   "execution_count": 5,
   "metadata": {
    "collapsed": false
   },
   "outputs": [
    {
     "name": "stdout",
     "output_type": "stream",
     "text": [
      "Daily:\n",
      "Forecast for Berkeley, CA: Clear\n",
      "Current Temp: 77.77 degrees \n",
      "High Temp: 80.11 degrees \n",
      "Low Temp: 53.78 degrees\n",
      "\n",
      "Weekly:\n",
      "Forecast for Berkeley, CA: Clear\n",
      "Current Temp: 77.43 degrees \n",
      "High Temp: 79.79 degrees \n",
      "Low Temp: 53.49 degrees\n",
      "\n",
      "Forecast for Berkeley, CA: Clear\n",
      "Current Temp: 82.26 degrees \n",
      "High Temp: 86.72 degrees \n",
      "Low Temp: 54.73 degrees\n",
      "\n",
      "Forecast for Berkeley, CA: Clouds\n",
      "Current Temp: 79.88 degrees \n",
      "High Temp: 80.1 degrees \n",
      "Low Temp: 57.79 degrees\n",
      "\n",
      "Forecast for Berkeley, CA: Clear\n",
      "Current Temp: 80.91 degrees \n",
      "High Temp: 82.54 degrees \n",
      "Low Temp: 55.94 degrees\n",
      "\n",
      "Forecast for Berkeley, CA: Rain\n",
      "Current Temp: 73.78 degrees \n",
      "High Temp: 80.29 degrees \n",
      "Low Temp: 53.47 degrees\n",
      "\n",
      "Forecast for Berkeley, CA: Rain\n",
      "Current Temp: 71.44 degrees \n",
      "High Temp: 77.32 degrees \n",
      "Low Temp: 51.3 degrees\n",
      "\n",
      "Forecast for Berkeley, CA: Clear\n",
      "Current Temp: 72.43 degrees \n",
      "High Temp: 82.4 degrees \n",
      "Low Temp: 49.26 degrees\n"
     ]
    }
   ],
   "source": [
    "from weather import daily, weekly\n",
    "\n",
    "print(\"Daily:\")\n",
    "print(daily.forecast())\n",
    "print()\n",
    "\n",
    "print(\"Weekly:\")\n",
    "print(weekly.forecast())"
   ]
  },
  {
   "cell_type": "markdown",
   "metadata": {},
   "source": [
    "Note we could accomplish the same thing by importing only what we want from each module, but we will need to create an alias of the method since both daily and weekly modules implement a module with the same name (`forecast`):"
   ]
  },
  {
   "cell_type": "code",
   "execution_count": 4,
   "metadata": {
    "collapsed": false
   },
   "outputs": [
    {
     "name": "stdout",
     "output_type": "stream",
     "text": [
      "Daily:\n",
      "Forecast for Berkeley, CA: Clear\n",
      "Current Temp: 77.43 degrees \n",
      "High Temp: 79.79 degrees \n",
      "Low Temp: 53.49 degrees\n",
      "\n",
      "\n",
      "Weekly:\n",
      "Forecast for Berkeley, CA: Clear\n",
      "Current Temp: 77.43 degrees \n",
      "High Temp: 79.79 degrees \n",
      "Low Temp: 53.49 degrees\n",
      "\n",
      "Forecast for Berkeley, CA: Clear\n",
      "Current Temp: 82.26 degrees \n",
      "High Temp: 86.72 degrees \n",
      "Low Temp: 54.73 degrees\n",
      "\n",
      "Forecast for Berkeley, CA: Clouds\n",
      "Current Temp: 79.88 degrees \n",
      "High Temp: 80.1 degrees \n",
      "Low Temp: 57.79 degrees\n",
      "\n",
      "Forecast for Berkeley, CA: Clear\n",
      "Current Temp: 80.91 degrees \n",
      "High Temp: 82.54 degrees \n",
      "Low Temp: 55.94 degrees\n",
      "\n",
      "Forecast for Berkeley, CA: Rain\n",
      "Current Temp: 73.78 degrees \n",
      "High Temp: 80.29 degrees \n",
      "Low Temp: 53.47 degrees\n",
      "\n",
      "Forecast for Berkeley, CA: Rain\n",
      "Current Temp: 71.44 degrees \n",
      "High Temp: 77.32 degrees \n",
      "Low Temp: 51.3 degrees\n",
      "\n",
      "Forecast for Berkeley, CA: Clear\n",
      "Current Temp: 72.43 degrees \n",
      "High Temp: 82.4 degrees \n",
      "Low Temp: 49.26 degrees\n"
     ]
    }
   ],
   "source": [
    "from weather.daily import forecast as daily_forecast\n",
    "from weather.weekly import forecast as weekly_forecast\n",
    "\n",
    "print(\"Daily:\")\n",
    "print(daily_forecast())\n",
    "print(\"\\n\")\n",
    "\n",
    "print(\"Weekly:\")\n",
    "print(weekly_forecast())"
   ]
  },
  {
   "cell_type": "code",
   "execution_count": null,
   "metadata": {
    "collapsed": true
   },
   "outputs": [],
   "source": []
  }
 ],
 "metadata": {
  "kernelspec": {
   "display_name": "Python 3",
   "language": "python",
   "name": "python3"
  },
  "language_info": {
   "codemirror_mode": {
    "name": "ipython",
    "version": 3
   },
   "file_extension": ".py",
   "mimetype": "text/x-python",
   "name": "python",
   "nbconvert_exporter": "python",
   "pygments_lexer": "ipython3",
   "version": "3.4.3"
  }
 },
 "nbformat": 4,
 "nbformat_minor": 0
}
