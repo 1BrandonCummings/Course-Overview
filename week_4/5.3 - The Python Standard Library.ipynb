{
 "cells": [
  {
   "cell_type": "markdown",
   "metadata": {},
   "source": [
    "# Modern Computing in Simple Packages"
   ]
  },
  {
   "cell_type": "markdown",
   "metadata": {},
   "source": [
    "## The Python Standard Library"
   ]
  },
  {
   "cell_type": "markdown",
   "metadata": {},
   "source": [
    "The Python Standard Library provides a wealth of builtin packages and modules that can most likely make your life easier. It is really good practice to see if any functionality that you need in your scripts and programs has already been implemented in the Python Standard Library.\n",
    "\n",
    "We are going to go through a number of nice features that the Python Standard Library provides."
   ]
  },
  {
   "cell_type": "markdown",
   "metadata": {},
   "source": [
    "### Handling Missing Keys with setdefault() and defaultdict()"
   ]
  },
  {
   "cell_type": "markdown",
   "metadata": {},
   "source": [
    "### Handle KeyErrors automatically using setdefault()"
   ]
  },
  {
   "cell_type": "markdown",
   "metadata": {},
   "source": [
    "The function setdefault() provides the ability to retun a default value if the given key does not exist in the dictionary. Sometimes you do not want to handle a KeyError every time you attempt to retrieve a value from a dictionary using a key that doesn't exist in the dictionary:"
   ]
  },
  {
   "cell_type": "code",
   "execution_count": 2,
   "metadata": {
    "collapsed": false
   },
   "outputs": [
    {
     "ename": "KeyError",
     "evalue": "'Carbon'",
     "output_type": "error",
     "traceback": [
      "\u001b[0;31m---------------------------------------------------------------------------\u001b[0m",
      "\u001b[0;31mKeyError\u001b[0m                                  Traceback (most recent call last)",
      "\u001b[0;32m<ipython-input-2-ae85935c0fb9>\u001b[0m in \u001b[0;36m<module>\u001b[0;34m()\u001b[0m\n\u001b[1;32m      1\u001b[0m \u001b[0mperiodic_table\u001b[0m \u001b[0;34m=\u001b[0m \u001b[0;34m{\u001b[0m\u001b[0;34m'Hydrogen'\u001b[0m\u001b[0;34m:\u001b[0m \u001b[0;36m1\u001b[0m\u001b[0;34m,\u001b[0m \u001b[0;34m'Helium'\u001b[0m\u001b[0;34m:\u001b[0m \u001b[0;36m2\u001b[0m\u001b[0;34m}\u001b[0m\u001b[0;34m\u001b[0m\u001b[0m\n\u001b[0;32m----> 2\u001b[0;31m \u001b[0mperiodic_table\u001b[0m\u001b[0;34m[\u001b[0m\u001b[0;34m'Carbon'\u001b[0m\u001b[0;34m]\u001b[0m\u001b[0;34m\u001b[0m\u001b[0m\n\u001b[0m",
      "\u001b[0;31mKeyError\u001b[0m: 'Carbon'"
     ]
    }
   ],
   "source": [
    "periodic_table = {'Hydrogen': 1, 'Helium': 2}\n",
    "periodic_table['Carbon']"
   ]
  },
  {
   "cell_type": "markdown",
   "metadata": {},
   "source": [
    "In order to prevent the above KeyError, you can use the dictionary function setdefault that will return the value of the key that you are referencing if it exists, and the value you specified as a default if not. For example:"
   ]
  },
  {
   "cell_type": "code",
   "execution_count": 3,
   "metadata": {
    "collapsed": false
   },
   "outputs": [
    {
     "data": {
      "text/plain": [
       "1"
      ]
     },
     "execution_count": 3,
     "metadata": {},
     "output_type": "execute_result"
    }
   ],
   "source": [
    "periodic_table.setdefault('Hydrogen', 12)"
   ]
  },
  {
   "cell_type": "code",
   "execution_count": 4,
   "metadata": {
    "collapsed": false
   },
   "outputs": [
    {
     "data": {
      "text/plain": [
       "2"
      ]
     },
     "execution_count": 4,
     "metadata": {},
     "output_type": "execute_result"
    }
   ],
   "source": [
    "periodic_table.setdefault('Helium', 12)"
   ]
  },
  {
   "cell_type": "code",
   "execution_count": 5,
   "metadata": {
    "collapsed": false
   },
   "outputs": [
    {
     "data": {
      "text/plain": [
       "12"
      ]
     },
     "execution_count": 5,
     "metadata": {},
     "output_type": "execute_result"
    }
   ],
   "source": [
    "periodic_table.setdefault('Carbon', 12)"
   ]
  },
  {
   "cell_type": "markdown",
   "metadata": {},
   "source": [
    "Also note that setdefault() will also add the key that was not previously in the dictionary to the dictionary with the default value."
   ]
  },
  {
   "cell_type": "code",
   "execution_count": 6,
   "metadata": {
    "collapsed": false
   },
   "outputs": [
    {
     "data": {
      "text/plain": [
       "{'Carbon': 12, 'Helium': 2, 'Hydrogen': 1}"
      ]
     },
     "execution_count": 6,
     "metadata": {},
     "output_type": "execute_result"
    }
   ],
   "source": [
    "periodic_table"
   ]
  },
  {
   "cell_type": "markdown",
   "metadata": {},
   "source": [
    "### Create a dictionary with a default value using defaultdict()"
   ]
  },
  {
   "cell_type": "markdown",
   "metadata": {},
   "source": [
    "The function defaultdict() can be used to provide a created dictionary a default value for nonexistent keys. defaultdict() takes in a function that will be called when a key does not exist in the database. It must be defined at the initialization of the dictionary:"
   ]
  },
  {
   "cell_type": "code",
   "execution_count": 7,
   "metadata": {
    "collapsed": false
   },
   "outputs": [],
   "source": [
    "from collections import defaultdict\n",
    "\n",
    "def not_an_element():\n",
    "    return int()\n",
    "\n",
    "no_error_periodic_table = defaultdict(not_an_element)\n",
    "no_error_periodic_table['Hydrogen'] = 1\n",
    "no_error_periodic_table['Helium'] = 2"
   ]
  },
  {
   "cell_type": "code",
   "execution_count": 8,
   "metadata": {
    "collapsed": false
   },
   "outputs": [
    {
     "data": {
      "text/plain": [
       "1"
      ]
     },
     "execution_count": 8,
     "metadata": {},
     "output_type": "execute_result"
    }
   ],
   "source": [
    "no_error_periodic_table['Hydrogen']"
   ]
  },
  {
   "cell_type": "code",
   "execution_count": 9,
   "metadata": {
    "collapsed": false
   },
   "outputs": [
    {
     "data": {
      "text/plain": [
       "2"
      ]
     },
     "execution_count": 9,
     "metadata": {},
     "output_type": "execute_result"
    }
   ],
   "source": [
    "no_error_periodic_table['Helium']"
   ]
  },
  {
   "cell_type": "code",
   "execution_count": 10,
   "metadata": {
    "collapsed": false
   },
   "outputs": [
    {
     "data": {
      "text/plain": [
       "0"
      ]
     },
     "execution_count": 10,
     "metadata": {},
     "output_type": "execute_result"
    }
   ],
   "source": [
    "no_error_periodic_table['Blastium']"
   ]
  },
  {
   "cell_type": "markdown",
   "metadata": {},
   "source": [
    "Constructors like int(), list(), or dict() provide default emtpy values of their respective data types and can be handy for creating empty objects. One handy way of using defaultdict() is if you want to create a counter that can count the number of occurences a key has in a given list of data.\n",
    "\n",
    "For example, we are going to pull the first forty books that Google Books has that is related to \"Berkeley\" and count how many books were published by a particular publisher:"
   ]
  },
  {
   "cell_type": "code",
   "execution_count": 11,
   "metadata": {
    "collapsed": false
   },
   "outputs": [
    {
     "name": "stdout",
     "output_type": "stream",
     "text": [
      "U of Nebraska Press 1\n",
      "Oxford University Press on Demand 1\n",
      "None 8\n",
      "Wm. B. Eerdmans Publishing 1\n",
      "Stanford University Press 1\n",
      "University Press of Kentucky 1\n",
      "Transaction Publishers 1\n",
      "Frog Books 1\n",
      "Manchester University Press 1\n",
      "Basic Books 1\n",
      "Psychology Press 1\n",
      "Filiquarian Publishing, LLC. 1\n",
      "LSU Press 1\n",
      "Springer Science & Business Media 1\n",
      "Princeton Architectural Press 1\n",
      "Yale University Press 1\n",
      "North Atlantic Books 2\n",
      "McGraw-Hill College 1\n",
      "Oxford ; New York : Oxford University Press 1\n",
      "Oxford University Press 1\n",
      "Heritage Books 1\n",
      "Oxford University Press, USA 2\n",
      "University of Chicago Press 1\n",
      "Cambridge University Press 1\n",
      "Lexington Books 1\n",
      "Genealogical Publishing Com 1\n",
      "Columbia University Press 1\n",
      "Indiana University Press 1\n",
      "Cornell University Press 2\n",
      "Arcadia Publishing 1\n"
     ]
    }
   ],
   "source": [
    "from collections import defaultdict\n",
    "from urllib.request import urlopen\n",
    "import json\n",
    "\n",
    "response = urlopen('https://www.googleapis.com/books/v1/volumes?q=berkeley&maxResults=40')\n",
    "rawData = response.read().decode(\"utf-8\")\n",
    "book_data = json.loads(rawData)\n",
    "\n",
    "# Here we create a dictionary whose default is int(), or zero\n",
    "publisher_counter = defaultdict(int)\n",
    "\n",
    "# We will go through all of the books that are related to berkeley and count\n",
    "# how many books were published from a particular publisher\n",
    "for item in book_data[\"items\"]:\n",
    "    \n",
    "    # Note how we use the function setdefault to set publisher to None if there's no\n",
    "    # publisher in the response\n",
    "    publisher = item[\"volumeInfo\"].setdefault(\"publisher\", \"None\")\n",
    "    \n",
    "    # The default nature of publisher_counter enables us to do this without any raised\n",
    "    # exceptions\n",
    "    publisher_counter[publisher] += 1\n",
    "    \n",
    "for publisher, count in publisher_counter.items():\n",
    "    print(publisher, count)"
   ]
  },
  {
   "cell_type": "markdown",
   "metadata": {},
   "source": [
    "In addition to using regular functions and default constructors you can also use a lambda function to set the default value of the dictionary:"
   ]
  },
  {
   "cell_type": "code",
   "execution_count": 12,
   "metadata": {
    "collapsed": false
   },
   "outputs": [
    {
     "data": {
      "text/plain": [
       "999999"
      ]
     },
     "execution_count": 12,
     "metadata": {},
     "output_type": "execute_result"
    }
   ],
   "source": [
    "no_error_periodic_table = defaultdict(lambda: 999999)\n",
    "no_error_periodic_table['Hydrogen'] = 1\n",
    "no_error_periodic_table['Helium'] = 2\n",
    "no_error_periodic_table['Blastium']"
   ]
  },
  {
   "cell_type": "markdown",
   "metadata": {},
   "source": [
    "### Count Items with Counter()"
   ]
  },
  {
   "cell_type": "markdown",
   "metadata": {},
   "source": [
    "Counter() prodces a dictionary with the values and the number of times they are present in the list. We are going to use our api example above to demonstrate how to use Counter to create a dictionary that is used for counting:"
   ]
  },
  {
   "cell_type": "code",
   "execution_count": 13,
   "metadata": {
    "collapsed": false
   },
   "outputs": [
    {
     "name": "stdout",
     "output_type": "stream",
     "text": [
      "Counter({'None': 8, 'North Atlantic Books': 2, 'Oxford University Press, USA': 2, 'Cornell University Press': 2, 'U of Nebraska Press': 1, 'Oxford University Press on Demand': 1, 'Wm. B. Eerdmans Publishing': 1, 'Stanford University Press': 1, 'University Press of Kentucky': 1, 'Transaction Publishers': 1, 'Frog Books': 1, 'Manchester University Press': 1, 'Basic Books': 1, 'Psychology Press': 1, 'Filiquarian Publishing, LLC.': 1, 'LSU Press': 1, 'Springer Science & Business Media': 1, 'Princeton Architectural Press': 1, 'Yale University Press': 1, 'McGraw-Hill College': 1, 'Oxford ; New York : Oxford University Press': 1, 'Oxford University Press': 1, 'Heritage Books': 1, 'University of Chicago Press': 1, 'Cambridge University Press': 1, 'Lexington Books': 1, 'Genealogical Publishing Com': 1, 'Columbia University Press': 1, 'Indiana University Press': 1, 'Arcadia Publishing': 1})\n"
     ]
    }
   ],
   "source": [
    "from collections import Counter\n",
    "from urllib.request import urlopen\n",
    "import json\n",
    "\n",
    "response = urlopen('https://www.googleapis.com/books/v1/volumes?q=berkeley&maxResults=40')\n",
    "rawData = response.read().decode(\"utf-8\")\n",
    "book_data = json.loads(rawData)\n",
    "\n",
    "# We will go through all of the books that are related to berkeley to create a list of all\n",
    "# of the publishers of the lists we pulled\n",
    "berkeley_list = list()\n",
    "for item in book_data[\"items\"]:\n",
    "    berkeley_list.append(item[\"volumeInfo\"].setdefault(\"publisher\", \"None\"))\n",
    "\n",
    "# Create a Counter object based on the list of publishers we have created\n",
    "berkeley_counter = Counter(berkeley_list)\n",
    "print(berkeley_counter)"
   ]
  },
  {
   "cell_type": "markdown",
   "metadata": {},
   "source": [
    "Notice now we have a dictionary that has the list of the publishers as keys and their counts as values. This is another way we can count the publishers in the given selection of books. "
   ]
  },
  {
   "cell_type": "markdown",
   "metadata": {},
   "source": [
    "We can easily find the most common of the list by using the counter's most_common function:"
   ]
  },
  {
   "cell_type": "code",
   "execution_count": 14,
   "metadata": {
    "collapsed": false
   },
   "outputs": [
    {
     "data": {
      "text/plain": [
       "[('None', 8), ('North Atlantic Books', 2), ('Oxford University Press, USA', 2)]"
      ]
     },
     "execution_count": 14,
     "metadata": {},
     "output_type": "execute_result"
    }
   ],
   "source": [
    "berkeley_counter.most_common(3)"
   ]
  },
  {
   "cell_type": "markdown",
   "metadata": {},
   "source": [
    "We just received the three most common publishers in our list."
   ]
  },
  {
   "cell_type": "markdown",
   "metadata": {},
   "source": [
    "You can also do some operations on two or more counters. Lets make a counter for the first forty books that Google Books has related to Stanford:"
   ]
  },
  {
   "cell_type": "code",
   "execution_count": 15,
   "metadata": {
    "collapsed": false
   },
   "outputs": [
    {
     "name": "stdout",
     "output_type": "stream",
     "text": [
      "Counter({'None': 17, 'On The Mark Press': 6, 'Springer Science & Business Media': 4, 'AuthorHouse': 2, 'CRC Press': 2, 'A&C Black': 1, 'Stanford University Press': 1, 'Pickpocket Publishing': 1, 'Cambridge University Press': 1, 'John Wiley & Sons': 1, 'Lexington Books': 1, 'Genealogical Publishing Com': 1, 'BiblioBazaar, LLC': 1, 'Xlibris Corporation': 1})\n"
     ]
    }
   ],
   "source": [
    "from collections import Counter\n",
    "from urllib.request import urlopen\n",
    "import json\n",
    "\n",
    "response = urlopen('https://www.googleapis.com/books/v1/volumes?q=standford&maxResults=40')\n",
    "rawData = response.read().decode(\"utf-8\")\n",
    "book_data = json.loads(rawData)\n",
    "\n",
    "# We will go through all of the books that are related to berkeley to create a list of all\n",
    "# of the publishers of the lists we pulled\n",
    "\n",
    "stanford_list = list()\n",
    "for item in book_data[\"items\"]:\n",
    "    stanford_list.append(item[\"volumeInfo\"].setdefault(\"publisher\", \"None\"))\n",
    "\n",
    "stanford_counter = Counter(stanford_list)\n",
    "print(stanford_counter)"
   ]
  },
  {
   "cell_type": "markdown",
   "metadata": {},
   "source": [
    "We can now do some interesting operations such as combine two counter:"
   ]
  },
  {
   "cell_type": "code",
   "execution_count": 16,
   "metadata": {
    "collapsed": false
   },
   "outputs": [
    {
     "data": {
      "text/plain": [
       "Counter({'None': 25, 'On The Mark Press': 6, 'Springer Science & Business Media': 5, 'Genealogical Publishing Com': 2, 'Stanford University Press': 2, 'North Atlantic Books': 2, 'Cornell University Press': 2, 'Oxford University Press, USA': 2, 'AuthorHouse': 2, 'Cambridge University Press': 2, 'CRC Press': 2, 'Lexington Books': 2, 'Oxford University Press on Demand': 1, 'McGraw-Hill College': 1, 'Wm. B. Eerdmans Publishing': 1, 'University Press of Kentucky': 1, 'Transaction Publishers': 1, 'Frog Books': 1, 'Manchester University Press': 1, 'Psychology Press': 1, 'Basic Books': 1, 'A&C Black': 1, 'Princeton Architectural Press': 1, 'Pickpocket Publishing': 1, 'Oxford ; New York : Oxford University Press': 1, 'Oxford University Press': 1, 'University of Chicago Press': 1, 'LSU Press': 1, 'Heritage Books': 1, 'BiblioBazaar, LLC': 1, 'Xlibris Corporation': 1, 'Yale University Press': 1, 'Columbia University Press': 1, 'Filiquarian Publishing, LLC.': 1, 'Indiana University Press': 1, 'U of Nebraska Press': 1, 'Arcadia Publishing': 1, 'John Wiley & Sons': 1})"
      ]
     },
     "execution_count": 16,
     "metadata": {},
     "output_type": "execute_result"
    }
   ],
   "source": [
    "berkeley_counter + stanford_counter"
   ]
  },
  {
   "cell_type": "markdown",
   "metadata": {},
   "source": [
    "Which publishers publish for both Berkeley and Stanford?"
   ]
  },
  {
   "cell_type": "code",
   "execution_count": 17,
   "metadata": {
    "collapsed": false
   },
   "outputs": [
    {
     "data": {
      "text/plain": [
       "Counter({'None': 8, 'Cambridge University Press': 1, 'Lexington Books': 1, 'Springer Science & Business Media': 1, 'Genealogical Publishing Com': 1, 'Stanford University Press': 1})"
      ]
     },
     "execution_count": 17,
     "metadata": {},
     "output_type": "execute_result"
    }
   ],
   "source": [
    "berkeley_counter & stanford_counter"
   ]
  },
  {
   "cell_type": "markdown",
   "metadata": {},
   "source": [
    "What are all of the publishers that publish for either Stanford or Berkeley or both? Note this also combines counts for publishers that are found in both collections:"
   ]
  },
  {
   "cell_type": "code",
   "execution_count": 18,
   "metadata": {
    "collapsed": false
   },
   "outputs": [
    {
     "data": {
      "text/plain": [
       "Counter({'None': 17, 'On The Mark Press': 6, 'Springer Science & Business Media': 4, 'North Atlantic Books': 2, 'Cornell University Press': 2, 'Oxford University Press, USA': 2, 'AuthorHouse': 2, 'CRC Press': 2, 'Oxford University Press on Demand': 1, 'McGraw-Hill College': 1, 'Wm. B. Eerdmans Publishing': 1, 'Genealogical Publishing Com': 1, 'Stanford University Press': 1, 'University Press of Kentucky': 1, 'Transaction Publishers': 1, 'Frog Books': 1, 'Manchester University Press': 1, 'Psychology Press': 1, 'Basic Books': 1, 'A&C Black': 1, 'Princeton Architectural Press': 1, 'Pickpocket Publishing': 1, 'Oxford ; New York : Oxford University Press': 1, 'Oxford University Press': 1, 'University of Chicago Press': 1, 'LSU Press': 1, 'Heritage Books': 1, 'BiblioBazaar, LLC': 1, 'Xlibris Corporation': 1, 'Yale University Press': 1, 'Cambridge University Press': 1, 'Columbia University Press': 1, 'Filiquarian Publishing, LLC.': 1, 'Lexington Books': 1, 'Indiana University Press': 1, 'U of Nebraska Press': 1, 'Arcadia Publishing': 1, 'John Wiley & Sons': 1})"
      ]
     },
     "execution_count": 18,
     "metadata": {},
     "output_type": "execute_result"
    }
   ],
   "source": [
    "berkeley_counter | stanford_counter"
   ]
  },
  {
   "cell_type": "markdown",
   "metadata": {},
   "source": [
    "### Ordering dictionaries with OrderedDict()"
   ]
  },
  {
   "cell_type": "markdown",
   "metadata": {},
   "source": [
    "A standard dictionary entries will not save the order where they were inserted into the dictionary. If you want to create a dictionary that iterates through in a particular order use OrderedDict:"
   ]
  },
  {
   "cell_type": "code",
   "execution_count": 19,
   "metadata": {
    "collapsed": false
   },
   "outputs": [
    {
     "name": "stdout",
     "output_type": "stream",
     "text": [
      "U of Nebraska Press\n",
      "Oxford University Press on Demand\n",
      "None\n",
      "Wm. B. Eerdmans Publishing\n",
      "Stanford University Press\n",
      "University Press of Kentucky\n",
      "Transaction Publishers\n",
      "Frog Books\n",
      "Manchester University Press\n",
      "Basic Books\n",
      "Psychology Press\n",
      "Filiquarian Publishing, LLC.\n",
      "LSU Press\n",
      "Springer Science & Business Media\n",
      "Princeton Architectural Press\n",
      "Yale University Press\n",
      "North Atlantic Books\n",
      "McGraw-Hill College\n",
      "Oxford ; New York : Oxford University Press\n",
      "Oxford University Press\n",
      "Heritage Books\n",
      "Oxford University Press, USA\n",
      "University of Chicago Press\n",
      "Cambridge University Press\n",
      "Lexington Books\n",
      "Genealogical Publishing Com\n",
      "Columbia University Press\n",
      "Indiana University Press\n",
      "Cornell University Press\n",
      "Arcadia Publishing\n"
     ]
    }
   ],
   "source": [
    "from collections import OrderedDict\n",
    "berkeley_publishers = OrderedDict(berkeley_counter)\n",
    "\n",
    "for publisher in berkeley_publishers:\n",
    "    print(publisher)"
   ]
  },
  {
   "cell_type": "markdown",
   "metadata": {},
   "source": [
    "If you notice this order is the same order as the publishers were added earlier in this section. The dictionary `berkeley_publishers` will return publishers in that order every time it is called and iterated through. This can be useful if you want to preserve the order that the api returned the data in."
   ]
  },
  {
   "cell_type": "markdown",
   "metadata": {},
   "source": [
    "### Using deques"
   ]
  },
  {
   "cell_type": "markdown",
   "metadata": {},
   "source": [
    "Let's say now in we want to create a list of publishers that are in order of how many books that they have published in our sample list. We could get the list of publishers in order of how many books they have published in our sample:"
   ]
  },
  {
   "cell_type": "code",
   "execution_count": 20,
   "metadata": {
    "collapsed": false
   },
   "outputs": [
    {
     "name": "stdout",
     "output_type": "stream",
     "text": [
      "['None', 'North Atlantic Books', 'Oxford University Press, USA', 'Cornell University Press', 'U of Nebraska Press', 'Oxford University Press on Demand', 'Wm. B. Eerdmans Publishing', 'Stanford University Press', 'University Press of Kentucky', 'Transaction Publishers', 'Frog Books', 'Manchester University Press', 'Basic Books', 'Psychology Press', 'Filiquarian Publishing, LLC.', 'LSU Press', 'Springer Science & Business Media', 'Princeton Architectural Press', 'Yale University Press', 'McGraw-Hill College', 'Oxford ; New York : Oxford University Press', 'Oxford University Press', 'Heritage Books', 'University of Chicago Press', 'Cambridge University Press', 'Lexington Books', 'Genealogical Publishing Com', 'Columbia University Press', 'Indiana University Press', 'Arcadia Publishing']\n"
     ]
    }
   ],
   "source": [
    "berkeley_publisher_list_ordered = list()\n",
    "for key, value in berkeley_counter.most_common():\n",
    "    berkeley_publisher_list_ordered.append(key)\n",
    "\n",
    "print(berkeley_publisher_list_ordered)"
   ]
  },
  {
   "cell_type": "markdown",
   "metadata": {},
   "source": [
    "Let's say we want to remove the most common and the least common publishers from our list. One way we can do it is to convert `berkeley_publisher_list_ordered` into a deque that allows us to pop elements from it from the beginning and the end:"
   ]
  },
  {
   "cell_type": "code",
   "execution_count": 21,
   "metadata": {
    "collapsed": false
   },
   "outputs": [
    {
     "name": "stdout",
     "output_type": "stream",
     "text": [
      "deque(['North Atlantic Books', 'Oxford University Press, USA', 'Cornell University Press', 'U of Nebraska Press', 'Oxford University Press on Demand', 'Wm. B. Eerdmans Publishing', 'Stanford University Press', 'University Press of Kentucky', 'Transaction Publishers', 'Frog Books', 'Manchester University Press', 'Basic Books', 'Psychology Press', 'Filiquarian Publishing, LLC.', 'LSU Press', 'Springer Science & Business Media', 'Princeton Architectural Press', 'Yale University Press', 'McGraw-Hill College', 'Oxford ; New York : Oxford University Press', 'Oxford University Press', 'Heritage Books', 'University of Chicago Press', 'Cambridge University Press', 'Lexington Books', 'Genealogical Publishing Com', 'Columbia University Press', 'Indiana University Press'])\n"
     ]
    }
   ],
   "source": [
    "from collections import deque\n",
    "\n",
    "berkeley_publisher_list_ordered_deque = deque(berkeley_publisher_list_ordered)\n",
    "berkeley_publisher_list_ordered_deque.pop()\n",
    "berkeley_publisher_list_ordered_deque.popleft()\n",
    "print(berkeley_publisher_list_ordered_deque)"
   ]
  },
  {
   "cell_type": "markdown",
   "metadata": {},
   "source": [
    "Notice that the most popular publisher and the least popular publisher (\"None\" and \"University of Chicago Press\" respectively) was removed from the dequeue. The function pop() removes the last element inserted in the list (\"University of Chicago Press\") and popleft() removes the first element of the list (\"None\")."
   ]
  },
  {
   "cell_type": "markdown",
   "metadata": {},
   "source": [
    "Dequeues are useful for a variety of cases, but also know that you can always use slices to remove elements from the beginning and end of lists."
   ]
  },
  {
   "cell_type": "code",
   "execution_count": 22,
   "metadata": {
    "collapsed": false
   },
   "outputs": [
    {
     "name": "stdout",
     "output_type": "stream",
     "text": [
      "['North Atlantic Books', 'Oxford University Press, USA', 'Cornell University Press', 'U of Nebraska Press', 'Oxford University Press on Demand', 'Wm. B. Eerdmans Publishing', 'Stanford University Press', 'University Press of Kentucky', 'Transaction Publishers', 'Frog Books', 'Manchester University Press', 'Basic Books', 'Psychology Press', 'Filiquarian Publishing, LLC.', 'LSU Press', 'Springer Science & Business Media', 'Princeton Architectural Press', 'Yale University Press', 'McGraw-Hill College', 'Oxford ; New York : Oxford University Press', 'Oxford University Press', 'Heritage Books', 'University of Chicago Press', 'Cambridge University Press', 'Lexington Books', 'Genealogical Publishing Com', 'Columbia University Press', 'Indiana University Press']\n"
     ]
    }
   ],
   "source": [
    "berkeley_publisher_list_ordered_copy = list(berkeley_publisher_list_ordered)\n",
    "berkeley_publisher_list_ordered_copy = berkeley_publisher_list_ordered_copy[1:-1]\n",
    "print(berkeley_publisher_list_ordered_copy)"
   ]
  },
  {
   "cell_type": "markdown",
   "metadata": {},
   "source": [
    "### Pretty print with pprint"
   ]
  },
  {
   "cell_type": "markdown",
   "metadata": {},
   "source": [
    "We have been exclusively using the function `print()` to print out our lists and dictionaries, however pprint can format our elements in such a way to make it easier to read. Let's print that Berkeley publisher list in a better way:"
   ]
  },
  {
   "cell_type": "code",
   "execution_count": 23,
   "metadata": {
    "collapsed": false
   },
   "outputs": [
    {
     "name": "stdout",
     "output_type": "stream",
     "text": [
      "['None',\n",
      " 'North Atlantic Books',\n",
      " 'Oxford University Press, USA',\n",
      " 'Cornell University Press',\n",
      " 'U of Nebraska Press',\n",
      " 'Oxford University Press on Demand',\n",
      " 'Wm. B. Eerdmans Publishing',\n",
      " 'Stanford University Press',\n",
      " 'University Press of Kentucky',\n",
      " 'Transaction Publishers',\n",
      " 'Frog Books',\n",
      " 'Manchester University Press',\n",
      " 'Basic Books',\n",
      " 'Psychology Press',\n",
      " 'Filiquarian Publishing, LLC.',\n",
      " 'LSU Press',\n",
      " 'Springer Science & Business Media',\n",
      " 'Princeton Architectural Press',\n",
      " 'Yale University Press',\n",
      " 'McGraw-Hill College',\n",
      " 'Oxford ; New York : Oxford University Press',\n",
      " 'Oxford University Press',\n",
      " 'Heritage Books',\n",
      " 'University of Chicago Press',\n",
      " 'Cambridge University Press',\n",
      " 'Lexington Books',\n",
      " 'Genealogical Publishing Com',\n",
      " 'Columbia University Press',\n",
      " 'Indiana University Press',\n",
      " 'Arcadia Publishing']\n"
     ]
    }
   ],
   "source": [
    "from pprint import pprint\n",
    "\n",
    "pprint(berkeley_publisher_list_ordered)"
   ]
  },
  {
   "cell_type": "markdown",
   "metadata": {},
   "source": [
    "This is just a sampling of the extremely useful modules and packages available in the Python standard library where you can find here: https://docs.python.org/3/library/. And if you can't find the functionaltiy in the Python standard library, check the large open source community driven library PyPi at https://pypi.python.org/pypi."
   ]
  }
 ],
 "metadata": {
  "kernelspec": {
   "display_name": "Python 3",
   "language": "python",
   "name": "python3"
  },
  "language_info": {
   "codemirror_mode": {
    "name": "ipython",
    "version": 3
   },
   "file_extension": ".py",
   "mimetype": "text/x-python",
   "name": "python",
   "nbconvert_exporter": "python",
   "pygments_lexer": "ipython3",
   "version": "3.4.3"
  }
 },
 "nbformat": 4,
 "nbformat_minor": 0
}
