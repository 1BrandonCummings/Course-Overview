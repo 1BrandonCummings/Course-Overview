{
 "cells": [
  {
   "cell_type": "markdown",
   "metadata": {},
   "source": [
    "# Modern Computing in Simple Packages"
   ]
  },
  {
   "cell_type": "markdown",
   "metadata": {},
   "source": [
    "## Standalone Programs"
   ]
  },
  {
   "cell_type": "markdown",
   "metadata": {},
   "source": [
    "We have currently focusing on running single statements one after the other within these iPython notebook like so:"
   ]
  },
  {
   "cell_type": "code",
   "execution_count": 1,
   "metadata": {
    "collapsed": false
   },
   "outputs": [
    {
     "name": "stdout",
     "output_type": "stream",
     "text": [
      "This IPython notebook will print out this sentence\n"
     ]
    }
   ],
   "source": [
    "print(\"This IPython notebook will print out this sentence\")"
   ]
  },
  {
   "cell_type": "markdown",
   "metadata": {},
   "source": [
    "Now we want to move to creating our own python files that can be executed as standalone programs. In the sources folder of the directory where this iPython notebook is saved is a file called \"firstprogram.py\". We can run this file by doing the following (please note an exclamation mark at the beginning of an iPython script runs a command on the command line):"
   ]
  },
  {
   "cell_type": "code",
   "execution_count": 2,
   "metadata": {
    "collapsed": false
   },
   "outputs": [
    {
     "name": "stdout",
     "output_type": "stream",
     "text": [
      "Hello World, revisited\r\n"
     ]
    }
   ],
   "source": [
    "!python3 sources/firstprogram.py"
   ]
  },
  {
   "cell_type": "markdown",
   "metadata": {},
   "source": [
    "Let's look into what firstprogram.py looks like (note that the `cat` unix command just prints out the contents of the file to the screen)."
   ]
  },
  {
   "cell_type": "code",
   "execution_count": 3,
   "metadata": {
    "collapsed": false
   },
   "outputs": [
    {
     "name": "stdout",
     "output_type": "stream",
     "text": [
      "print(\"Hello World, revisited\")"
     ]
    }
   ],
   "source": [
    "!cat sources/firstprogram.py"
   ]
  },
  {
   "cell_type": "markdown",
   "metadata": {},
   "source": [
    "Python will also give you access to what is called \"program arguments,\" or additional data that you would like to pass to the program from the command line. There is a second program: secondprogram.py in the sources folder that demonstrates this:"
   ]
  },
  {
   "cell_type": "code",
   "execution_count": 4,
   "metadata": {
    "collapsed": false
   },
   "outputs": [
    {
     "name": "stdout",
     "output_type": "stream",
     "text": [
      "Program arguments: ['sources/secondprogram.py']\r\n"
     ]
    }
   ],
   "source": [
    "!python3 sources/secondprogram.py"
   ]
  },
  {
   "cell_type": "code",
   "execution_count": 5,
   "metadata": {
    "collapsed": false
   },
   "outputs": [
    {
     "name": "stdout",
     "output_type": "stream",
     "text": [
      "Program arguments: ['sources/secondprogram.py', 'firstArg', 'secondArg', 'thirdArg']\r\n"
     ]
    }
   ],
   "source": [
    "!python3 sources/secondprogram.py firstArg secondArg thirdArg"
   ]
  },
  {
   "cell_type": "markdown",
   "metadata": {},
   "source": [
    "These arguments would now be available to your application."
   ]
  },
  {
   "cell_type": "markdown",
   "metadata": {},
   "source": [
    "## Modules and the import Statement"
   ]
  },
  {
   "cell_type": "markdown",
   "metadata": {},
   "source": [
    "So let's go right into building our first module. We will now have a module that will return the actual weather report for Berkeley, California. The script does this by sending a request to openweathermap.org to get weather information for Berkeley. This is saved in `sources/weatherman.py`:"
   ]
  },
  {
   "cell_type": "code",
   "execution_count": 6,
   "metadata": {
    "collapsed": false
   },
   "outputs": [
    {
     "name": "stdout",
     "output_type": "stream",
     "text": [
      "from urllib.request import urlopen\r\n",
      "import json\r\n",
      "\r\n",
      "def get_report():\r\n",
      "    response = urlopen('http://api.openweathermap.org/data/2.5/weather?q=Berkeley,ca')\r\n",
      "    rawWeatherData = response.read().decode(\"utf-8\")\r\n",
      "    weatherData = json.loads(rawWeatherData)\r\n",
      "    return weatherData[\"weather\"][0][\"main\"]"
     ]
    }
   ],
   "source": [
    "!cat sources/weatherman.py"
   ]
  },
  {
   "cell_type": "markdown",
   "metadata": {},
   "source": [
    "So if we execute our gen_report function here we can do the following"
   ]
  },
  {
   "cell_type": "code",
   "execution_count": 7,
   "metadata": {
    "collapsed": false
   },
   "outputs": [
    {
     "name": "stdout",
     "output_type": "stream",
     "text": [
      "Clear\n"
     ]
    }
   ],
   "source": [
    "import sources.weatherman\n",
    "\n",
    "print(sources.weatherman.get_report())"
   ]
  },
  {
   "cell_type": "markdown",
   "metadata": {},
   "source": [
    "Here we have used imports in three places: the first two instances can be found int the sources/weatherman.py file itself. We imported the urlopen function from the urllib.request module in order to make the request to the openweather.org servers. We then included the json module to enable us to create json. Then in this iPython notebook we then imported the weatherman module from the sources/weatherman.py file to use it above. Since the weatherman module is in the sources folder, we have to add the full path to the modules using periods instead of slashes for directories.\n",
    "\n",
    "This feature gives us the power to be able to easily use powerful modules that other people have written within our own applications. It also allows us to write our own packages or modules and use our code over and over again. That way we don't have to reinvent the wheel everytime."
   ]
  },
  {
   "cell_type": "markdown",
   "metadata": {},
   "source": [
    "There are several ways to import an external module:\n",
    "\n",
    "### 1. Import the actual function directly from the external module"
   ]
  },
  {
   "cell_type": "code",
   "execution_count": 8,
   "metadata": {
    "collapsed": false
   },
   "outputs": [
    {
     "name": "stdout",
     "output_type": "stream",
     "text": [
      "Clear\n"
     ]
    }
   ],
   "source": [
    "from sources.weatherman import get_report\n",
    "\n",
    "print(get_report())"
   ]
  },
  {
   "cell_type": "markdown",
   "metadata": {},
   "source": [
    "In this case, we imported the specific function from the weatherman module that we wanted to use and it worked like a charm. However doing this, can cause you to run into name collisions if you have two different modules that have a function that has the same name. \n",
    "\n",
    "What ends up being a bit safer is:\n",
    "\n",
    "### 2. Import the module name to avoid naming conlficts"
   ]
  },
  {
   "cell_type": "code",
   "execution_count": 9,
   "metadata": {
    "collapsed": false
   },
   "outputs": [
    {
     "name": "stdout",
     "output_type": "stream",
     "text": [
      "Clear\n"
     ]
    }
   ],
   "source": [
    "import sources.weatherman\n",
    "\n",
    "print(sources.weatherman.get_report())"
   ]
  },
  {
   "cell_type": "markdown",
   "metadata": {},
   "source": [
    "When we import the weatherman module in this way we are protected by potential naming conflicts because we can only access the method through the `module import weatherman`. However you would have to import everything within the module `weatherman` which you may not want.\n",
    "\n",
    "### 3. Import only what you want from a module by renaming the function"
   ]
  },
  {
   "cell_type": "code",
   "execution_count": 10,
   "metadata": {
    "collapsed": false
   },
   "outputs": [
    {
     "name": "stdout",
     "output_type": "stream",
     "text": [
      "Clear\n"
     ]
    }
   ],
   "source": [
    "from sources.weatherman import get_report as do_it\n",
    "\n",
    "print(do_it())"
   ]
  },
  {
   "cell_type": "markdown",
   "metadata": {},
   "source": [
    "Now we can import only what we need from the weatherman module (get_report) and then rename it (to do_it) to avoid any naming conflicts. However, be careful that you don't confuse yourself in trying to determine which alias corresponds to which function. It's best practice not to rename functions as much as you can."
   ]
  },
  {
   "cell_type": "markdown",
   "metadata": {},
   "source": [
    "## Note on Module Search Path"
   ]
  },
  {
   "cell_type": "markdown",
   "metadata": {},
   "source": [
    "Python has a list of areas where it searches for potential modules that you can use in your applications. First, python will look at your current directory to see if there are any modules and packages (more on packages in the nex t section). After that, python will look at the file paths that are in a particular module: sys.path.\n",
    "\n",
    "We can take a look at what is in my computer's sys.path with the following code:"
   ]
  },
  {
   "cell_type": "code",
   "execution_count": 11,
   "metadata": {
    "collapsed": false
   },
   "outputs": [
    {
     "name": "stdout",
     "output_type": "stream",
     "text": [
      "\n",
      "/Library/Frameworks/Python.framework/Versions/3.4/lib/python34.zip\n",
      "/Library/Frameworks/Python.framework/Versions/3.4/lib/python3.4\n",
      "/Library/Frameworks/Python.framework/Versions/3.4/lib/python3.4/plat-darwin\n",
      "/Library/Frameworks/Python.framework/Versions/3.4/lib/python3.4/lib-dynload\n",
      "/Library/Frameworks/Python.framework/Versions/3.4/lib/python3.4/site-packages\n",
      "/Library/Frameworks/Python.framework/Versions/3.4/lib/python3.4/site-packages/IPython/extensions\n"
     ]
    }
   ],
   "source": [
    "import sys\n",
    "for place in sys.path:\n",
    "    print(place)"
   ]
  },
  {
   "cell_type": "markdown",
   "metadata": {},
   "source": [
    "Python can find modules and packages in directories or even in zip files as well. Remember though that your packages that are in the same directory get precedence over the system included packages. We will be going over how to create your own pacakges in the next section."
   ]
  }
 ],
 "metadata": {
  "kernelspec": {
   "display_name": "Python 3",
   "language": "python",
   "name": "python3"
  },
  "language_info": {
   "codemirror_mode": {
    "name": "ipython",
    "version": 3
   },
   "file_extension": ".py",
   "mimetype": "text/x-python",
   "name": "python",
   "nbconvert_exporter": "python",
   "pygments_lexer": "ipython3",
   "version": "3.4.3"
  }
 },
 "nbformat": 4,
 "nbformat_minor": 0
}
