{
 "cells": [
  {
   "cell_type": "markdown",
   "metadata": {},
   "source": [
    "# Project Jupyter and the Jupyter Notebook"
   ]
  },
  {
   "cell_type": "markdown",
   "metadata": {},
   "source": [
    "You've made it through a week or two of the course, now it's time to introduce more of the tools that you'll be using throughout the course and throughout your time at the School of Information.\n",
    "\n",
    "Starting this week, we're going to make frequent use of Jupyter notebooks. The IPython/Jupyter notebook (they're really the same thing) is a part of the anaconda distribution that you all should have set up on your computer."
   ]
  },
  {
   "cell_type": "markdown",
   "metadata": {},
   "source": [
    "IPython is an interactive computing interface for python that adds some extremely helpful tools for communicating code and results.\n",
    "\n",
    "It's a bit like the python interpreter crossed with a .py file, and loaded with a ton of extra features.  These include helper commands, tab completion, and general tools to make developers happy.\n",
    "\n",
    "We start the IPython Notebook from the command line by just typing in `ipython notebook`. It has a lower level interface, IPython, but I won't be covering that in this course."
   ]
  },
  {
   "cell_type": "markdown",
   "metadata": {},
   "source": [
    "An IPython notebook is made up of cells. There are different types of cells and you can select what kind you want from the top menu labelled Cell. This text is located in a *Markdown* cell, used to display text.  You can use these cells to explain what your code does and what your results mean.\n",
    "\n",
    "Below, we'll insert a *Code* cell, which can hold Python statements.  To execute it, click on it so that it is surrounded by a black border, then select \"Run\" from the Cell menu."
   ]
  },
  {
   "cell_type": "code",
   "execution_count": 2,
   "metadata": {
    "collapsed": false
   },
   "outputs": [
    {
     "name": "stdout",
     "output_type": "stream",
     "text": [
      "Hello Jupyter\n"
     ]
    }
   ],
   "source": [
    "print(\"Hello Jupyter\")"
   ]
  },
  {
   "cell_type": "markdown",
   "metadata": {},
   "source": [
    "You'll see that we can see the output of any command that we execute in these cells. Now cells all share the same global environment. This means that if we set a variable in one cell, we can print it out in another."
   ]
  },
  {
   "cell_type": "code",
   "execution_count": 3,
   "metadata": {
    "collapsed": false
   },
   "outputs": [],
   "source": [
    "x = 5"
   ]
  },
  {
   "cell_type": "code",
   "execution_count": 4,
   "metadata": {
    "collapsed": false
   },
   "outputs": [
    {
     "name": "stdout",
     "output_type": "stream",
     "text": [
      "5\n"
     ]
    }
   ],
   "source": [
    "print(x)"
   ]
  },
  {
   "cell_type": "markdown",
   "metadata": {},
   "source": [
    "We can also define functions in one cell and then access them in others.  "
   ]
  },
  {
   "cell_type": "code",
   "execution_count": 5,
   "metadata": {
    "collapsed": false
   },
   "outputs": [],
   "source": [
    "def square(input_var):\n",
    "    return input_var * input_var"
   ]
  },
  {
   "cell_type": "markdown",
   "metadata": {},
   "source": [
    "Try editing the function body above.  Type in the first few letters of \"input_var\" and then press the tab button.  You'll see that Ipython will make a suggestion for what variable you're trying to type.  Tab completion is another handy thing about the IPython notebook.\n",
    "\n",
    "Now that we've defined our function, let's use it in another cell."
   ]
  },
  {
   "cell_type": "code",
   "execution_count": 6,
   "metadata": {
    "collapsed": false
   },
   "outputs": [
    {
     "data": {
      "text/plain": [
       "25"
      ]
     },
     "execution_count": 6,
     "metadata": {},
     "output_type": "execute_result"
    }
   ],
   "source": [
    "square(x)"
   ]
  },
  {
   "cell_type": "markdown",
   "metadata": {},
   "source": [
    "Remember all those shell commands that we learned earlier? We can also get access to some common shell commands.  For example, we can use \"ls\" to list everything in the current directory."
   ]
  },
  {
   "cell_type": "code",
   "execution_count": 7,
   "metadata": {
    "collapsed": false
   },
   "outputs": [
    {
     "name": "stdout",
     "output_type": "stream",
     "text": [
      "3.1 The Jupyter Notebook.ipynb\r\n",
      "3.2 Github.md\r\n",
      "3.3 Github Setup Reading Card.md\r\n",
      "3.4 The Course Workflow.pptx\r\n",
      "3.5 Using Git and Github.md\r\n",
      "3.6 Completing your First Exercise with Git Reading Card.md\r\n",
      "3.6.1_GitHub_Exercise.ipynb\r\n",
      "3.7 - Dictionaries.ipynb\r\n",
      "3.8 - Arrays & Vectors.ipynb\r\n",
      "4.1 - Control.ipynb\r\n",
      "4.1.1 - If Statement Exercises.ipynb\r\n",
      "4.1_Git_Branches.md\r\n",
      "4.2 - Iteration.ipynb\r\n",
      "4.2.1 - Iteration Exercises.ipynb\r\n",
      "4.3 - Algorithms.ipynb\r\n",
      "4.3.1 Algorithms Exercises.ipynb\r\n",
      "4.4 Comprehensions.ipynb\r\n",
      "4.4.1 Comprehension Exercises.ipynb\r\n",
      "Bill_git_lesson_2_old.md\r\n"
     ]
    }
   ],
   "source": [
    "ls"
   ]
  },
  {
   "cell_type": "markdown",
   "metadata": {},
   "source": [
    "We also get access to some \"magic commands\". These commands are baked into IPython and provide us some really, really helpful ways of writing code without having to google things all the time.\n",
    "\n",
    "For example, quickref"
   ]
  },
  {
   "cell_type": "code",
   "execution_count": 8,
   "metadata": {
    "collapsed": false
   },
   "outputs": [],
   "source": [
    "%quickref"
   ]
  },
  {
   "cell_type": "markdown",
   "metadata": {},
   "source": [
    "Quickref brings up the quickreference for IPython, and we can see all the magic commands that are made available to us.\n",
    "\n",
    "Some of my favorites are the ? and %timeit commands\n",
    "\n",
    "Here's a demonstration of the ? helper. Say I've forgotten the order of arguments I need to create a new range.  I can use the following command to get help."
   ]
  },
  {
   "cell_type": "code",
   "execution_count": 13,
   "metadata": {
    "collapsed": false
   },
   "outputs": [],
   "source": [
    "?range"
   ]
  },
  {
   "cell_type": "markdown",
   "metadata": {},
   "source": [
    "All I have to do is put a question mark either before or after the name and it will bring up the documentation for that specific module or function."
   ]
  },
  {
   "cell_type": "code",
   "execution_count": 27,
   "metadata": {
    "collapsed": false
   },
   "outputs": [],
   "source": [
    "?square"
   ]
  },
  {
   "cell_type": "markdown",
   "metadata": {},
   "source": [
    "This is super handy and something you'll be seeing through out this course because I use it a lot when I'm working in IPython notebooks.  \n",
    "\n",
    "Timeit is another useful magic command.  It allows us to check how long it takes the Python interpreter to run code."
   ]
  },
  {
   "cell_type": "code",
   "execution_count": 26,
   "metadata": {
    "collapsed": false
   },
   "outputs": [
    {
     "name": "stdout",
     "output_type": "stream",
     "text": [
      "The slowest run took 12.57 times longer than the fastest. This could mean that an intermediate result is being cached \n",
      "10000000 loops, best of 3: 116 ns per loop\n"
     ]
    }
   ],
   "source": [
    "%timeit square(x)"
   ]
  },
  {
   "cell_type": "markdown",
   "metadata": {},
   "source": [
    "Now I will warn you, Jupyter Notebooks are great for some things but not others.  They are perfect for rapid prototyping, one-time analysis of a data set, and sharing of scientific analysis.  On the other hand, notebooks are not appropriate for writing production systems.  Fortunately, if your program starts to grow into something more professional, the notebook interface allows you to save a .py file so that you may turn your basic prototype into a production system. \n",
    "\n",
    "How can you create your own Jupyter notebooks?  Go to a new command window and type in\n",
    "\n",
    "```\n",
    "jupyter notebook\n",
    "```\n",
    "\n",
    "This will start the Jupyter notebook process and open an interface in your browser window.  From there, you can navigate to different directories.  In the upper right, you'll see a dropdown box marked \"new.\"  If you click on it, you'll see an option to create a new notebook.\n",
    "\n",
    "There's a lot of functionality built in to the Jupyter notebook and its basic features will soon become familiar to you.  With time, we hope you enjoy working with notebooks as much as we do."
   ]
  }
 ],
 "metadata": {
  "kernelspec": {
   "display_name": "Python 3",
   "language": "python",
   "name": "python3"
  },
  "language_info": {
   "codemirror_mode": {
    "name": "ipython",
    "version": 3
   },
   "file_extension": ".py",
   "mimetype": "text/x-python",
   "name": "python",
   "nbconvert_exporter": "python",
   "pygments_lexer": "ipython3",
   "version": "3.5.0"
  }
 },
 "nbformat": 4,
 "nbformat_minor": 0
}
