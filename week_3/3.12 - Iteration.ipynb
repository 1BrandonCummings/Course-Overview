{
 "cells": [
  {
   "cell_type": "markdown",
   "metadata": {},
   "source": [
    "## Loops\n",
    "\n",
    "A loop is a control structure that allows statements to be executed multiple times.  The uses for loops in data science are endless.  We may want to perform an operation on every entry in a data table.  We may want to process a user request, then prepare for the next request to come in.  We may want to keep guessing at model coefficents that fit a data set until the accuracy we get is good enough.  In fact, almost all interesting algorithms we will implement involve loops in some way. Python provides two main ways to create loops."
   ]
  },
  {
   "cell_type": "markdown",
   "metadata": {},
   "source": [
    "### While Statements\n",
    "\n",
    "The most general type of loop in Python is a `while` loop. This control structure repeatedly executes a block of code as long as a condition evaluates to True. Here is a simple example."
   ]
  },
  {
   "cell_type": "code",
   "execution_count": 3,
   "metadata": {
    "collapsed": false
   },
   "outputs": [
    {
     "name": "stdout",
     "output_type": "stream",
     "text": [
      "5\n",
      "4\n",
      "3\n",
      "2\n",
      "1\n",
      "Blast off!\n"
     ]
    }
   ],
   "source": [
    "countdown = 5\n",
    "while countdown > 0:\n",
    "    print(countdown)\n",
    "    countdown -= 1\n",
    "print(\"Blast off!\")"
   ]
  },
  {
   "cell_type": "markdown",
   "metadata": {},
   "source": [
    "When control reaches the `while` statement for the first time, it evaluates the expression after the `while` keyword. This is called the looping condition. If it evaluates to True, control then enters the indented `while` code suite and executes it. When this is done, control goes back up to the `while` statement and reevaluates the looping condition. As long as the condition evaluates to True, the process repeats. If, however, the condition evaluates to False, control skips the indented `while` suite and proceeds to the rest of the program.\n",
    "\n",
    "With the right looping condition, `while` loops can do some useful things. Here is an example in which we factor out all of the 2s from an integer."
   ]
  },
  {
   "cell_type": "code",
   "execution_count": 5,
   "metadata": {
    "collapsed": false
   },
   "outputs": [
    {
     "name": "stdout",
     "output_type": "stream",
     "text": [
      "enter an integer: 10\n",
      "Your number with all 2's factored out it 5.0\n"
     ]
    }
   ],
   "source": [
    "x = int(input(\"enter an integer: \"))\n",
    "while x % 2 == 0 and x > 0:\n",
    "    x = x / 2\n",
    "print(\"Your number with all 2's factored out it\", x)"
   ]
  },
  {
   "cell_type": "markdown",
   "metadata": {},
   "source": [
    "What is the purpose of the x > 0 in the condition?  Try to determine what could go wrong without it."
   ]
  },
  {
   "cell_type": "markdown",
   "metadata": {},
   "source": [
    "While loops can also be nested inside each other.  To understand the following example, first notice that there is an outer loop that counts down to 0 using the counter variable `row`.  Examine the inner loop and try to determine what this program will print."
   ]
  },
  {
   "cell_type": "code",
   "execution_count": 5,
   "metadata": {
    "collapsed": false
   },
   "outputs": [
    {
     "name": "stdout",
     "output_type": "stream",
     "text": [
      "enter an integer: 5\n",
      "0 1 2 3 4 5 \n",
      "0 1 2 3 4 \n",
      "0 1 2 3 \n",
      "0 1 2 \n",
      "0 1 \n",
      "0 \n"
     ]
    }
   ],
   "source": [
    "row = int(input(\"enter an integer: \"))\n",
    "\n",
    "while row >= 0:\n",
    "\n",
    "    # inner loop\n",
    "    j = 0\n",
    "    while j <= row:\n",
    "        print(j, end=\" \")\n",
    "        j += 1\n",
    "        \n",
    "    print(\"\")\n",
    "    row -= 1"
   ]
  },
  {
   "cell_type": "markdown",
   "metadata": {},
   "source": [
    "As a more interesting example, suppose that we want to write a program to see if an integer is a square number and display its square root if it is. Our strategy will be to start with a guess of zero and test to see if  squaring it gives the right answer. If not, we will add one to our guess and try squaring it again. We can stop looping when the square of our guess exceeds the number we are aiming for. This is shown in the following program."
   ]
  },
  {
   "cell_type": "code",
   "execution_count": 7,
   "metadata": {
    "collapsed": false
   },
   "outputs": [
    {
     "name": "stdout",
     "output_type": "stream",
     "text": [
      "Enter an integer: 13\n",
      "0 squared is 0 which is less than x. 13 to go\n",
      "1 squared is 1 which is less than x. 12 to go\n",
      "2 squared is 4 which is less than x. 9 to go\n",
      "3 squared is 9 which is less than x. 4 to go\n",
      "13  is not a perfect square.\n"
     ]
    }
   ],
   "source": [
    "x = int(input('Enter an integer: '))\n",
    "ans = 0\n",
    "while ans*ans < x:\n",
    "    print(ans, \"squared is\", ans*ans, \"which is less than x.\", x-ans*ans, \"to go\")\n",
    "    ans += 1\n",
    "    \n",
    "if ans*ans == x:\n",
    "    print(\"the square root of \",x,\" is \", ans)\n",
    "else:\n",
    "    print(x, \" is not a perfect square.\")"
   ]
  },
  {
   "cell_type": "markdown",
   "metadata": {},
   "source": [
    "### For Loops\n",
    "\n",
    "The other major type of loop in Python is a `for` loop. A `for` loop is not as flexible as a `while` loop, but it has an intuitive and easy-to-read syntax.  A `for` loop is also safer to use because it is virtually gauranteed to complete.   Much of the time, you'll be able to create your loops more elegantly usi `for` loops instead of `while` loops.\n",
    "\n",
    "Here is our countdown script revised using a `for` loop."
   ]
  },
  {
   "cell_type": "code",
   "execution_count": 2,
   "metadata": {
    "collapsed": false
   },
   "outputs": [
    {
     "name": "stdout",
     "output_type": "stream",
     "text": [
      "5\n",
      "4\n",
      "3\n",
      "2\n",
      "1\n",
      "Blast off!\n"
     ]
    }
   ],
   "source": [
    "countdown = 5\n",
    "for x in range(countdown, 0, -1):\n",
    "    print(x)\n",
    "print(\"Blast off!\")"
   ]
  },
  {
   "cell_type": "markdown",
   "metadata": {},
   "source": [
    "Notice that there is no statement that explicitly decrements x. Instead, every time control reaches the `for` statement, it sets x equal to the next item in the `range` object. Here is our nested loop program, also revised using `for` statements."
   ]
  },
  {
   "cell_type": "code",
   "execution_count": 4,
   "metadata": {
    "collapsed": false
   },
   "outputs": [
    {
     "name": "stdout",
     "output_type": "stream",
     "text": [
      "enter an integer (0 to 20 please!) : 12\n",
      "0 1 2 3 4 5 6 7 8 9 10 11 12 \n",
      "0 1 2 3 4 5 6 7 8 9 10 11 \n",
      "0 1 2 3 4 5 6 7 8 9 10 \n",
      "0 1 2 3 4 5 6 7 8 9 \n",
      "0 1 2 3 4 5 6 7 8 \n",
      "0 1 2 3 4 5 6 7 \n",
      "0 1 2 3 4 5 6 \n",
      "0 1 2 3 4 5 \n",
      "0 1 2 3 4 \n",
      "0 1 2 3 \n",
      "0 1 2 \n",
      "0 1 \n",
      "0 \n"
     ]
    }
   ],
   "source": [
    "row = int(input(\"enter an integer (0 to 20 please!) : \"))\n",
    "\n",
    "for x in range(row, -1, -1):\n",
    "    for j in range(x+1):\n",
    "        print(j, end=\" \")\n",
    "        \n",
    "    print(\"\")"
   ]
  },
  {
   "cell_type": "markdown",
   "metadata": {},
   "source": [
    "The object in a `for` loop does not have to be a range. In fact, it can be a wide variety of Python types, including all sequences. (The technical requirement is that the object be an *iterable*. We will explain this class of objects in more detail later.) Here is an example in which we use a `for` loop to remove all vowels from a name."
   ]
  },
  {
   "cell_type": "code",
   "execution_count": 6,
   "metadata": {
    "collapsed": false
   },
   "outputs": [
    {
     "name": "stdout",
     "output_type": "stream",
     "text": [
      "Enter your name: 12\n",
      "12"
     ]
    }
   ],
   "source": [
    "x = input(\"Enter your name: \")\n",
    "for char in x:\n",
    "    if char not in \"aeiouAEIOU\":\n",
    "        print(char, end=\"\")"
   ]
  },
  {
   "cell_type": "markdown",
   "metadata": {},
   "source": [
    "As another example, we can use a `for` loop to iterate through the items of a list."
   ]
  },
  {
   "cell_type": "code",
   "execution_count": 7,
   "metadata": {
    "collapsed": false
   },
   "outputs": [
    {
     "name": "stdout",
     "output_type": "stream",
     "text": [
      "Paul, as himself\n",
      "Bill, as himself\n",
      "Kay, as himself\n"
     ]
    }
   ],
   "source": [
    "x = [\"Paul\", \"Bill\", \"Kay\"]\n",
    "for name in x:\n",
    "    print(name + \", as himself\")"
   ]
  },
  {
   "cell_type": "markdown",
   "metadata": {},
   "source": [
    "Although `for` loops are an attractive way to create loops, it is worth remembering that they are not as flexible as `while` loops.  There are many `while` loops that cannot be written using a `for` statement.  On the other hand, every `for` loop can be rewritten using a `while` loop."
   ]
  },
  {
   "cell_type": "markdown",
   "metadata": {},
   "source": [
    "### Fancy Loop Exits\n",
    "\n",
    "There are times when we want to exit a loop earlier than we expect. As an example, suppose you want to test if a number, $x$, is prime or not. You could start checking if there are any numbers that are factors of $x$, starting from 2 and counting up. When you leave the loop, you will want to know whether you found any factors of $x$. To do this, you might use a Boolean variable and set it to `False` whenever you find a factor. We might call such a variable a flag; we trip it to store some information we will need later. The following script demonstrates this strategy."
   ]
  },
  {
   "cell_type": "code",
   "execution_count": 8,
   "metadata": {
    "collapsed": false
   },
   "outputs": [
    {
     "name": "stdout",
     "output_type": "stream",
     "text": [
      "Enter a number:7\n",
      "7 is prime.\n"
     ]
    }
   ],
   "source": [
    "x = int(input(\"Enter a number:\"))\n",
    "prime = True\n",
    "for i in range(2,x):\n",
    "    if x % i == 0:\n",
    "        prime = False\n",
    "if prime == True:\n",
    "    print(x,\"is prime.\")\n",
    "else:\n",
    "    print(x,\"is not prime.\")"
   ]
  },
  {
   "cell_type": "markdown",
   "metadata": {},
   "source": [
    "Notice that once we find a single factor, there is no need to continue looping; we already know $x$ is not prime. For this reason, we might prefer to exit the loop immediately. One way to do this would be to use a `while` loop with a looping condition that checks if prime has been changed to `False`. Try to refactor the script above to work in this way."
   ]
  },
  {
   "cell_type": "markdown",
   "metadata": {},
   "source": [
    "While that strategy works, it is a bit messy and makes the code harder to read. Python gives us a cleaner solution though: we can immediately exit a loop using the `break` keyword.  Notice how we do this in the code below."
   ]
  },
  {
   "cell_type": "code",
   "execution_count": 21,
   "metadata": {
    "collapsed": false
   },
   "outputs": [
    {
     "name": "stdout",
     "output_type": "stream",
     "text": [
      "Enter a number:25\n",
      "checking potential factor: 2\n",
      "checking potential factor: 3\n",
      "checking potential factor: 4\n",
      "checking potential factor: 5\n",
      "25 is not prime.\n"
     ]
    }
   ],
   "source": [
    "x = int(input(\"Enter a number:\"))\n",
    "prime = True\n",
    "for i in range(2,x):\n",
    "    print(\"checking potential factor:\",i)\n",
    "    if x % i == 0:\n",
    "        prime = False\n",
    "        break\n",
    "if prime == True:\n",
    "    print(x,\"is prime.\")\n",
    "else:\n",
    "    print(x,\"is not prime.\")"
   ]
  },
  {
   "cell_type": "markdown",
   "metadata": {},
   "source": [
    "Try running the script on 25, and notice how many times the loop executes.\n",
    "\n",
    "A `break` statement will work with either a `for` loop or a `while` loop.  Using breaks is a matter of programming style. It is possible to use too many breaks, making it hard to predict how a loop will behave. In our prime number checker, adding a `break` statement seems to make our code more understandable. You will need to use your discretion when deciding on whether to use a `break` statement or not.\n",
    "\n",
    "A `break` statement is often paired with an `else` clause after the loop. This is a clause that is only executed if the loop ends normally. If the `break` statement executes, control skips the `else` clause. We can use an `else` clause to make our prime number checker even more compact."
   ]
  },
  {
   "cell_type": "code",
   "execution_count": 23,
   "metadata": {
    "collapsed": false
   },
   "outputs": [
    {
     "name": "stdout",
     "output_type": "stream",
     "text": [
      "Enter a number:10\n",
      "checking potential factor: 2\n",
      "10 is not prime.\n"
     ]
    }
   ],
   "source": [
    "x = int(input(\"Enter a number:\"))\n",
    "for i in range(2,x):\n",
    "    print(\"checking potential factor:\",i)\n",
    "    if x % i == 0:\n",
    "        print(x,\"is not prime.\")\n",
    "        break\n",
    "else:\n",
    "    print(x,\"is prime.\")"
   ]
  },
  {
   "cell_type": "markdown",
   "metadata": {},
   "source": [
    "Notice that this script does not need a Boolean flag at all to work. The `else` clause lets us print the correct information if a factor of $x$ is never found."
   ]
  },
  {
   "cell_type": "markdown",
   "metadata": {},
   "source": [
    "One last variation on loops deserves mention.  There are times when we want to perform some checks at the start of each loop iteration before performing some computation.  Suppose you want to see if the vowels of a word are in alphabetical order.  You might use a script like the following."
   ]
  },
  {
   "cell_type": "code",
   "execution_count": 32,
   "metadata": {
    "collapsed": false
   },
   "outputs": [
    {
     "name": "stdout",
     "output_type": "stream",
     "text": [
      "Enter a word: Pual\n",
      "The vowels in pual are not ordered.\n"
     ]
    }
   ],
   "source": [
    "word = input(\"Enter a word: \").lower()\n",
    "last = \"a\"\n",
    "\n",
    "for letter in word:\n",
    "    if letter in \"aeiou\":\n",
    "        if letter < last:\n",
    "            print(\"The vowels in\", word, \"are not ordered.\")\n",
    "            break\n",
    "        last = letter\n",
    "else:\n",
    "    print(\"The vowels in\", word, \"are ordered.\")"
   ]
  },
  {
   "cell_type": "markdown",
   "metadata": {},
   "source": [
    "Inside the `for` loop, we first have to see if we are looking at a vowel. Only if we have a vowel do we need to do further processing to see if the vowel is in alphabetical order after the previous vowel. You can see that the inner `if` statement is indented twice to allow for this extra check. In this case, our script might be made clearer with the help of a `continue` statement."
   ]
  },
  {
   "cell_type": "code",
   "execution_count": 35,
   "metadata": {
    "collapsed": false
   },
   "outputs": [
    {
     "name": "stdout",
     "output_type": "stream",
     "text": [
      "Enter a word: Pual\n",
      "The vowels in pual are not ordered.\n"
     ]
    }
   ],
   "source": [
    "word = input(\"Enter a word: \").lower()\n",
    "last = \"a\"\n",
    "\n",
    "for letter in word:\n",
    "    if letter not in \"aeiou\":\n",
    "        continue\n",
    "    if letter < last:\n",
    "        print(\"The vowels in\", word, \"are not ordered.\")\n",
    "        break\n",
    "    last = letter\n",
    "else:\n",
    "    print(\"The vowels in\", word, \"are ordered.\")"
   ]
  },
  {
   "cell_type": "markdown",
   "metadata": {},
   "source": [
    "When control reaches a `continue`, it skips the rest of the statements in the loop and moves immediately to the next loop iteration. In this example, when we reach a consonant, we do not want to check to see if it is in alphabetical order, so the continue skips that part of the code and returns to the `for` statement so we can examine the next letter.\n",
    "\n",
    "Like the `break` statement, the `continue` statement works with both `for` loops and `while` loops.  Also like breaks, you never need to use `continues` to accomplish a programming task, but this can sometimes make your code clearer. This is especialy true when you have to perform a lot of preliminary checks before getting down to the main business of your loop."
   ]
  }
 ],
 "metadata": {
  "kernelspec": {
   "display_name": "Python 3",
   "language": "python",
   "name": "python3"
  },
  "language_info": {
   "codemirror_mode": {
    "name": "ipython",
    "version": 3
   },
   "file_extension": ".py",
   "mimetype": "text/x-python",
   "name": "python",
   "nbconvert_exporter": "python",
   "pygments_lexer": "ipython3",
   "version": "3.4.3"
  }
 },
 "nbformat": 4,
 "nbformat_minor": 0
}
