{
 "cells": [
  {
   "cell_type": "markdown",
   "metadata": {},
   "source": [
    "#Dictionaries\n",
    "\n",
    "A dictionary is an important Python type that gives us a rather different way of organizing objects.  Unlike sequences, dictionaries can hold objects that don't have a natural ordering - when there's no obvious object to call number 0, or number 1, and so forth.  Instead, dictionaries implement what we call a *map* or *hashmap*.  They let us access one set of objects - called the *values* - from another set of objects - called the *keys*.\n",
    "\n",
    "A dictionary for the English language can help make this clearer.  In this case, the definitions of words are the values.  It wouldn't be very helpful to number the definitions 0, 1, 2, etc.  Instead, we want to be able to retrieve the definition associated with a particular English word - these are the keys.  This is just one obvious use for a Python dictionary; as you'll see, dictionaries can be helpful in a great variety of scenarios.\n",
    "\n",
    "Creating a dictionary can be done in several ways.\n",
    "\n",
    "The most common is by using {} brackets.  We put in a set of key-value pairs, with a colon between each key and the corresponding value."
   ]
  },
  {
   "cell_type": "code",
   "execution_count": 7,
   "metadata": {
    "collapsed": false
   },
   "outputs": [
    {
     "name": "stdout",
     "output_type": "stream",
     "text": [
      "{'two': 2, 'three': 3, 'one': 1}\n"
     ]
    }
   ],
   "source": [
    "a = {'one': 1, 'two': 2, 'three': 3}\n",
    "print(a)"
   ]
  },
  {
   "cell_type": "markdown",
   "metadata": {},
   "source": [
    "Notice that the order of the key-value pairs changed when we printed the dictionary. That's because, unlike lists and tuples, dictionaries have no order.  It doesn't matter if we enter our key-value pairs in a different order."
   ]
  },
  {
   "cell_type": "code",
   "execution_count": 11,
   "metadata": {
    "collapsed": false
   },
   "outputs": [
    {
     "data": {
      "text/plain": [
       "True"
      ]
     },
     "execution_count": 11,
     "metadata": {},
     "output_type": "execute_result"
    }
   ],
   "source": [
    "b = {'two':2,'three':3,'one':1}\n",
    "a == b"
   ]
  },
  {
   "cell_type": "markdown",
   "metadata": {},
   "source": [
    "We can also create dictionaries using the *dict* constructor, which will try to intelligently convert the arguments we give it into a dictionary."
   ]
  },
  {
   "cell_type": "code",
   "execution_count": 12,
   "metadata": {
    "collapsed": false
   },
   "outputs": [],
   "source": [
    "c = dict(one=1, two=2, three=3)\n",
    "d = dict(zip(['one', 'two', 'three'], [1, 2, 3]))\n",
    "e = dict([('two', 2), ('one', 1), ('three', 3)])\n",
    "f = dict({'three': 3, 'one': 1, 'two': 2})"
   ]
  },
  {
   "cell_type": "markdown",
   "metadata": {},
   "source": [
    "You'll see that all of the dictionaries we created so far are equal, even though we created them in different ways."
   ]
  },
  {
   "cell_type": "code",
   "execution_count": 13,
   "metadata": {
    "collapsed": false
   },
   "outputs": [
    {
     "data": {
      "text/plain": [
       "True"
      ]
     },
     "execution_count": 13,
     "metadata": {},
     "output_type": "execute_result"
    }
   ],
   "source": [
    "a == b == c == d == e == f"
   ]
  },
  {
   "cell_type": "markdown",
   "metadata": {},
   "source": [
    "Manipulating dictionaries is pretty straightfoward. To insert or access a value, place its key inside square brackets.  This looks similar to the way we access objects in a list, except the key takes the place of an integer index.\n",
    "\n",
    "In this example, we'll create a dictionary to represent a rolodex.  The keys will be phone numbers and the values will be names.  We'll start by creating an empty dictionary, then inserting two values."
   ]
  },
  {
   "cell_type": "code",
   "execution_count": 22,
   "metadata": {
    "collapsed": false
   },
   "outputs": [
    {
     "name": "stdout",
     "output_type": "stream",
     "text": [
      "{5563321: 'Mary', 8884433: 'John'}\n"
     ]
    }
   ],
   "source": [
    "rolodex = {}\n",
    "rolodex[5563321] = \"Mary\"\n",
    "rolodex[8884433] = \"John\"\n",
    "print(rolodex)"
   ]
  },
  {
   "cell_type": "markdown",
   "metadata": {},
   "source": [
    "Now when we get a phone call and we want to see who it is, we just enter in the phone number in the same format."
   ]
  },
  {
   "cell_type": "code",
   "execution_count": 23,
   "metadata": {
    "collapsed": false
   },
   "outputs": [
    {
     "name": "stdout",
     "output_type": "stream",
     "text": [
      "Mary\n"
     ]
    }
   ],
   "source": [
    "print(rolodex[5563321])"
   ]
  },
  {
   "cell_type": "markdown",
   "metadata": {},
   "source": [
    "Now what happens if we were to enter in another number? Or we tried to pull out a key that wasn't there?"
   ]
  },
  {
   "cell_type": "code",
   "execution_count": 24,
   "metadata": {
    "collapsed": false
   },
   "outputs": [
    {
     "ename": "KeyError",
     "evalue": "3331212",
     "output_type": "error",
     "traceback": [
      "\u001b[0;31m---------------------------------------------------------------------------\u001b[0m",
      "\u001b[0;31mKeyError\u001b[0m                                  Traceback (most recent call last)",
      "\u001b[0;32m<ipython-input-24-afa933a2efdf>\u001b[0m in \u001b[0;36m<module>\u001b[0;34m()\u001b[0m\n\u001b[0;32m----> 1\u001b[0;31m \u001b[0mrolodex\u001b[0m\u001b[0;34m[\u001b[0m\u001b[0;36m3331212\u001b[0m\u001b[0;34m]\u001b[0m\u001b[0;34m\u001b[0m\u001b[0m\n\u001b[0m",
      "\u001b[0;31mKeyError\u001b[0m: 3331212"
     ]
    }
   ],
   "source": [
    "rolodex[3331212]"
   ]
  },
  {
   "cell_type": "markdown",
   "metadata": {},
   "source": [
    "We got a KeyError, because that key doesn't exist. Obviously the keys are an important part of every dictionary - if you lose them, you could be in trouble.\n",
    "\n",
    "We can delete values in a dictionary, much as we deleted objects in a list, simply using the key in place of an integer index."
   ]
  },
  {
   "cell_type": "code",
   "execution_count": 25,
   "metadata": {
    "collapsed": false
   },
   "outputs": [],
   "source": [
    "del rolodex[5563321]"
   ]
  },
  {
   "cell_type": "code",
   "execution_count": 26,
   "metadata": {
    "collapsed": false
   },
   "outputs": [
    {
     "name": "stdout",
     "output_type": "stream",
     "text": [
      "{8884433: 'John'}\n"
     ]
    }
   ],
   "source": [
    "print(rolodex)"
   ]
  },
  {
   "cell_type": "markdown",
   "metadata": {},
   "source": [
    "we can also use the pop method that we learned with lists as well. It allows us to remove a certain key. If that key doesn't exist, then we can set a default value."
   ]
  },
  {
   "cell_type": "code",
   "execution_count": 27,
   "metadata": {
    "collapsed": false
   },
   "outputs": [
    {
     "data": {
      "text/plain": [
       "'John'"
      ]
     },
     "execution_count": 27,
     "metadata": {},
     "output_type": "execute_result"
    }
   ],
   "source": [
    "rolodex.pop(8884433, \"José\")"
   ]
  },
  {
   "cell_type": "code",
   "execution_count": 28,
   "metadata": {
    "collapsed": false
   },
   "outputs": [
    {
     "data": {
      "text/plain": [
       "'José'"
      ]
     },
     "execution_count": 28,
     "metadata": {},
     "output_type": "execute_result"
    }
   ],
   "source": [
    "rolodex.pop(2223456, \"José\")"
   ]
  },
  {
   "cell_type": "markdown",
   "metadata": {},
   "source": [
    "We can also get the number of keys in dictionary using the len command."
   ]
  },
  {
   "cell_type": "code",
   "execution_count": 29,
   "metadata": {
    "collapsed": false
   },
   "outputs": [
    {
     "data": {
      "text/plain": [
       "0"
      ]
     },
     "execution_count": 29,
     "metadata": {},
     "output_type": "execute_result"
    }
   ],
   "source": [
    "len(rolodex)"
   ]
  },
  {
   "cell_type": "markdown",
   "metadata": {},
   "source": [
    "One thing that's cool about dictionaries is that the values can be basically any type. They can be lists, tuples, other dictionaries.  The rules for keys, however, are more restrictive.  Keys must be immutable objects.  That means that tuples can be dictionary keys, but lists can't.  This is because of the way dictionaries are implemented in python.  \n",
    "\n",
    "Dictionaries use an underlying data structure called a hash table.  As you'll learn in your data structures course, the amazing thing about hash tables is that adding or finding a value takes roughly the same amount of time, no matter how many objects are in the table.  But hash tables use a mathematical function called a hash to process each key, and the keys must be immutable for the hash to yield the same results over time."
   ]
  },
  {
   "cell_type": "markdown",
   "metadata": {},
   "source": [
    "Here's another example, in which we use a dictionary to translate from English to Spanish.  We can use strings as keys since strings are immutable."
   ]
  },
  {
   "cell_type": "code",
   "execution_count": 85,
   "metadata": {
    "collapsed": false
   },
   "outputs": [],
   "source": [
    "eng_spanish = {\"Greetings\": [\"Hola\", \"Buenos Dias\"], \"Goodbye\": \"Adios\"}"
   ]
  },
  {
   "cell_type": "code",
   "execution_count": 86,
   "metadata": {
    "collapsed": false
   },
   "outputs": [
    {
     "name": "stdout",
     "output_type": "stream",
     "text": [
      "{'Goodbye': 'Adios', 'Greetings': ['Hola', 'Buenos Dias']}\n"
     ]
    }
   ],
   "source": [
    "print(eng_spanish)"
   ]
  },
  {
   "cell_type": "code",
   "execution_count": 87,
   "metadata": {
    "collapsed": false
   },
   "outputs": [],
   "source": [
    "eng_spanish['Goodbye'] = {\"Traditional\":\"Adios\",\"Friendly\":\"Nos vemos\"}"
   ]
  },
  {
   "cell_type": "code",
   "execution_count": 88,
   "metadata": {
    "collapsed": false
   },
   "outputs": [
    {
     "data": {
      "text/plain": [
       "{'Goodbye': {'Friendly': 'Nos vemos', 'Traditional': 'Adios'},\n",
       " 'Greetings': ['Hola', 'Buenos Dias']}"
      ]
     },
     "execution_count": 88,
     "metadata": {},
     "output_type": "execute_result"
    }
   ],
   "source": [
    "eng_spanish"
   ]
  },
  {
   "cell_type": "markdown",
   "metadata": {},
   "source": [
    "In this example, we used a dictionary to store another dictionary.  \n",
    "\n",
    "We can use the in operator to see if a key is in the dictionary.  We may want to do this before we try retrieving the value."
   ]
  },
  {
   "cell_type": "code",
   "execution_count": 89,
   "metadata": {
    "collapsed": false
   },
   "outputs": [
    {
     "data": {
      "text/plain": [
       "True"
      ]
     },
     "execution_count": 89,
     "metadata": {},
     "output_type": "execute_result"
    }
   ],
   "source": [
    "\"Greetings\" in eng_spanish"
   ]
  },
  {
   "cell_type": "code",
   "execution_count": 90,
   "metadata": {
    "collapsed": false
   },
   "outputs": [
    {
     "data": {
      "text/plain": [
       "True"
      ]
     },
     "execution_count": 90,
     "metadata": {},
     "output_type": "execute_result"
    }
   ],
   "source": [
    "\"Interactions\" not in eng_spanish"
   ]
  },
  {
   "cell_type": "markdown",
   "metadata": {},
   "source": [
    "Much like lists, dictionaries can be copied using the copy method. However, we remember that this creates a `shallow copy` so we have to pay attention when we mutate objects in the dictionaries!"
   ]
  },
  {
   "cell_type": "code",
   "execution_count": 91,
   "metadata": {
    "collapsed": false
   },
   "outputs": [],
   "source": [
    "eng_copy = eng_spanish.copy()"
   ]
  },
  {
   "cell_type": "code",
   "execution_count": 92,
   "metadata": {
    "collapsed": false
   },
   "outputs": [
    {
     "data": {
      "text/plain": [
       "{'Goodbye': {'Friendly': 'Nos vemos', 'Traditional': 'Adios'},\n",
       " 'Greetings': ['Hola', 'Buenos Dias']}"
      ]
     },
     "execution_count": 92,
     "metadata": {},
     "output_type": "execute_result"
    }
   ],
   "source": [
    "eng_copy"
   ]
  },
  {
   "cell_type": "code",
   "execution_count": 93,
   "metadata": {
    "collapsed": false
   },
   "outputs": [],
   "source": [
    "eng_copy['Goodbye'].clear()"
   ]
  },
  {
   "cell_type": "code",
   "execution_count": 94,
   "metadata": {
    "collapsed": false
   },
   "outputs": [
    {
     "name": "stdout",
     "output_type": "stream",
     "text": [
      "{'Goodbye': {}, 'Greetings': ['Hola', 'Buenos Dias']}\n"
     ]
    }
   ],
   "source": [
    "print(eng_spanish)"
   ]
  },
  {
   "cell_type": "markdown",
   "metadata": {},
   "source": [
    "The clear method removes all key-value pairs from a dictionary.  In this case we've applied it to the dictionary object that's stored in eng_copy.  This is the same object that's stored in eng_spanish, so eng_spanish shows an empty dictionary when we print it."
   ]
  },
  {
   "cell_type": "markdown",
   "metadata": {},
   "source": [
    "One of the most helpful dictionary methods is the `get` method.  This method attempts to retrieve a value based on a key, but it allows us to set a default value as well.  This means that if a key we want is not in the dictionary, we'll get the default value back. Here, we try to get a Spanish phrase back from our translation dictionary, but we include a helpful error message in case the phrase isn't in the dictionary."
   ]
  },
  {
   "cell_type": "code",
   "execution_count": 95,
   "metadata": {
    "collapsed": false
   },
   "outputs": [
    {
     "data": {
      "text/plain": [
       "'Phrase not in dictionary'"
      ]
     },
     "execution_count": 95,
     "metadata": {},
     "output_type": "execute_result"
    }
   ],
   "source": [
    "eng_spanish.get(\"How are you?\", \"Phrase not in dictionary\")"
   ]
  },
  {
   "cell_type": "markdown",
   "metadata": {},
   "source": [
    "At times, you may need to get all the keys and values in a dictionary. We've got a variety of methods to help us out with this."
   ]
  },
  {
   "cell_type": "code",
   "execution_count": 96,
   "metadata": {
    "collapsed": false
   },
   "outputs": [
    {
     "data": {
      "text/plain": [
       "dict_keys(['Goodbye', 'Greetings'])"
      ]
     },
     "execution_count": 96,
     "metadata": {},
     "output_type": "execute_result"
    }
   ],
   "source": [
    "eng_spanish.keys()"
   ]
  },
  {
   "cell_type": "code",
   "execution_count": 97,
   "metadata": {
    "collapsed": false
   },
   "outputs": [
    {
     "data": {
      "text/plain": [
       "dict_values([{}, ['Hola', 'Buenos Dias']])"
      ]
     },
     "execution_count": 97,
     "metadata": {},
     "output_type": "execute_result"
    }
   ],
   "source": [
    "eng_spanish.values()"
   ]
  },
  {
   "cell_type": "markdown",
   "metadata": {},
   "source": [
    "If we want to see all the keys paired with all the values, we can use the items() method."
   ]
  },
  {
   "cell_type": "code",
   "execution_count": 98,
   "metadata": {
    "collapsed": false
   },
   "outputs": [
    {
     "data": {
      "text/plain": [
       "dict_items([('Goodbye', {}), ('Greetings', ['Hola', 'Buenos Dias'])])"
      ]
     },
     "execution_count": 98,
     "metadata": {},
     "output_type": "execute_result"
    }
   ],
   "source": [
    "eng_copy.items()"
   ]
  },
  {
   "cell_type": "markdown",
   "metadata": {},
   "source": [
    "If we want to merge two dictionaries together, we could use the update method.  Note that this will overwrite any keys that are shared by the dictionaries."
   ]
  },
  {
   "cell_type": "code",
   "execution_count": 99,
   "metadata": {
    "collapsed": false
   },
   "outputs": [],
   "source": [
    "eng_copy.update({\"Something\":\"Else\", \"Larry\":\"Bird\", \"Goodbye\":\"Felicia\"})"
   ]
  },
  {
   "cell_type": "code",
   "execution_count": 100,
   "metadata": {
    "collapsed": false
   },
   "outputs": [
    {
     "data": {
      "text/plain": [
       "{'Goodbye': 'Felicia',\n",
       " 'Greetings': ['Hola', 'Buenos Dias'],\n",
       " 'Larry': 'Bird',\n",
       " 'Something': 'Else'}"
      ]
     },
     "execution_count": 100,
     "metadata": {},
     "output_type": "execute_result"
    }
   ],
   "source": [
    "eng_copy"
   ]
  },
  {
   "cell_type": "markdown",
   "metadata": {},
   "source": [
    "At this point, we've introduced the most important of dictionary methods. We've seen different ways to create a dictionary, to add values, and to retrieve values. Under the hood, the hash table that the Python dictionary is based on is a vastly important and fascinating data structure.  You'll learn more about it in your data structures course, and this will help you use dictionaries even more effectively."
   ]
  }
 ],
 "metadata": {
  "kernelspec": {
   "display_name": "Python 3",
   "language": "python",
   "name": "python3"
  },
  "language_info": {
   "codemirror_mode": {
    "name": "ipython",
    "version": 3
   },
   "file_extension": ".py",
   "mimetype": "text/x-python",
   "name": "python",
   "nbconvert_exporter": "python",
   "pygments_lexer": "ipython3",
   "version": "3.3.2"
  }
 },
 "nbformat": 4,
 "nbformat_minor": 0
}
