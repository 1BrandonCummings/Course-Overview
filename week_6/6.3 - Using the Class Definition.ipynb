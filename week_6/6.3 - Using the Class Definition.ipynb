{
 "cells": [
  {
   "cell_type": "markdown",
   "metadata": {},
   "source": [
    "# Using the Class Definition\n",
    "\n",
    "We have seen how to add attributes to classes and instances manually, after they have been created.  This is occasionally useful, but most of the time, we actually create attributes inside the definition of a class.  This makes our code more organized and ensures that all instances share the attributes we really want them to share.\n",
    "\n",
    "Let's see how to do this now.  Here, we will define our Drone class again, including a data attribute and a method inside the definition."
   ]
  },
  {
   "cell_type": "code",
   "execution_count": 1,
   "metadata": {
    "collapsed": true
   },
   "outputs": [],
   "source": [
    "class Drone:\n",
    "    \n",
    "    power_system = \"battery\"\n",
    "    \n",
    "    def fly(self):\n",
    "        return \"The drone is flying\""
   ]
  },
  {
   "cell_type": "markdown",
   "metadata": {},
   "source": [
    "In the first line of the class definition, we create a class data attribute, power_system.  Notice that it looks just like a variable assignment, but because it occurs inside the class definition, it creates a class attribute instead of a regular variable.\n",
    "\n",
    "Next, we have a method definition.  This looks a lot like a definition of a function, but notice that there is an unusual argument in the method header: self.  We will see what that does in just a moment.  \n",
    "\n",
    "Now that we have defined the fly method, we can call it on a particular instance of the class."
   ]
  },
  {
   "cell_type": "code",
   "execution_count": 2,
   "metadata": {
    "collapsed": false
   },
   "outputs": [
    {
     "name": "stdout",
     "output_type": "stream",
     "text": [
      "The drone is flying\n"
     ]
    }
   ],
   "source": [
    "d = Drone()\n",
    "print(d.fly())"
   ]
  },
  {
   "cell_type": "markdown",
   "metadata": {},
   "source": [
    "In the first line, we create a new instance of the `Drone` class and assign it to the variable `d`. Next, we call d's fly method and print out the result.\n",
    "\n",
    "Let's go back to that mysterious self argument we put in the method header.  This is actually a way to access the attributes of the specific instance we are working in.  Since we call the fly method on the instance d, self is a name that points to the object d.\n",
    "\n",
    "To see how this is useful, let's revise our fly method so that it accesses the power_system attribute."
   ]
  },
  {
   "cell_type": "code",
   "execution_count": 8,
   "metadata": {
    "collapsed": false
   },
   "outputs": [],
   "source": [
    "class Drone:\n",
    "    power_system = \"battery\"\n",
    "    \n",
    "    def fly(self):\n",
    "        return \"The %s-powered drone is flying\" % (self.power_system)"
   ]
  },
  {
   "cell_type": "markdown",
   "metadata": {},
   "source": [
    "Here self.power_system means that we want the power_system attribute for the specific instance that we are in.  You can think of self as meaning \"this instance.\"  Let's create some instances and use this revised method."
   ]
  },
  {
   "cell_type": "code",
   "execution_count": 11,
   "metadata": {
    "collapsed": false
   },
   "outputs": [
    {
     "name": "stdout",
     "output_type": "stream",
     "text": [
      "The dream-powered drone is flying\n",
      "The battery-powered drone is flying\n"
     ]
    }
   ],
   "source": [
    "d1 = Drone()\n",
    "d2 = Drone()\n",
    "d1.power_system = \"dream\"\n",
    "print(d1.fly())\n",
    "print(d2.fly())"
   ]
  },
  {
   "cell_type": "markdown",
   "metadata": {},
   "source": [
    "Notice that we gave d1 an instance attribute named power_system.  When we call self.power_system, we get this instance attribute.  On the other hand, d2 does not have a power_system instance attribute, so self.power_system defaults to the class attribute.\n",
    "\n",
    "Let's add a new method to our class, one that takes a parameter."
   ]
  },
  {
   "cell_type": "code",
   "execution_count": 12,
   "metadata": {
    "collapsed": false
   },
   "outputs": [
    {
     "name": "stdout",
     "output_type": "stream",
     "text": [
      "The drone is flying at 0 feet.\n",
      "The drone is flying at 100 feet.\n"
     ]
    }
   ],
   "source": [
    "class Drone:\n",
    "    \n",
    "    def fly(self):\n",
    "        print(\"The drone is flying at\", self.altitude, \"feet.\")\n",
    "    \n",
    "    def ascend(self, change):\n",
    "        self.altitude += change\n",
    "    \n",
    "d = Drone()\n",
    "d.altitude = 0\n",
    "d.fly()\n",
    "d.ascend(100)\n",
    "d.fly()"
   ]
  },
  {
   "cell_type": "markdown",
   "metadata": {},
   "source": [
    "Basically the method is being called from the class definition (note how Drone is capitalized), and we are passing in which Drone object (or instance) we want it to refer to. While this is just convention, it is how everyone writes their Python code and how you should as well."
   ]
  },
  {
   "cell_type": "markdown",
   "metadata": {},
   "source": [
    "Now that we have covered the use of `self`, let's move on to `__init__`. Many times you will want to create a class with certain attributes. Above we added the power system variable. But we set it to \"battery'. What if we had a gas powered drone? We would have to do something like the following:\n",
    "*There is a double quote before \"batterY' and a single quote after. Which is correct? Or is it not possible to correct, since this just happened here too?*"
   ]
  },
  {
   "cell_type": "code",
   "execution_count": 8,
   "metadata": {
    "collapsed": false
   },
   "outputs": [
    {
     "data": {
      "text/plain": [
       "'The gas-powered drone is flying'"
      ]
     },
     "execution_count": 8,
     "metadata": {},
     "output_type": "execute_result"
    }
   ],
   "source": [
    "d = Drone()\n",
    "d.power_system = \"gas\"\n",
    "d.fly()"
   ]
  },
  {
   "cell_type": "markdown",
   "metadata": {},
   "source": [
    "Now clearly this would cause all kinds of errors because the default is not necessarily what you would want, so along comes the `__init__` helper to the rescue. The init method allows you to set up the constructor for your class. This means that when you create that instance of the class, certain things will happen.\n",
    "*STARTING HERE, THE REMAINING TEXT IS IDENTICAL TO 6.2.1. INTENTIONAL?*"
   ]
  },
  {
   "cell_type": "code",
   "execution_count": 9,
   "metadata": {
    "collapsed": false
   },
   "outputs": [],
   "source": [
    "class Drone:\n",
    "    def __init__(self):\n",
    "        self.power_system = \"battery\"\n",
    "        self.aircraft_type = \"plane\"\n",
    "    def fly(self):\n",
    "        return \"The %s-powered drone is flying\" % (self.power_system)"
   ]
  },
  {
   "cell_type": "code",
   "execution_count": 10,
   "metadata": {
    "collapsed": false
   },
   "outputs": [
    {
     "name": "stdout",
     "output_type": "stream",
     "text": [
      "battery\n",
      "plane\n"
     ]
    }
   ],
   "source": [
    "d = Drone()\n",
    "print(d.power_system)\n",
    "print(d.aircraft_type)"
   ]
  },
  {
   "cell_type": "markdown",
   "metadata": {},
   "source": [
    "Remember `__init__` is just a function attached to the Drone class so we can change the variables as we see fit. This allows us to make things extremely abstract so that our objects are flexible and we can write the least amount of code possible."
   ]
  },
  {
   "cell_type": "code",
   "execution_count": 11,
   "metadata": {
    "collapsed": false
   },
   "outputs": [],
   "source": [
    "class Drone:\n",
    "    def __init__(self, power_system, drone_type):\n",
    "        print(\"Instantiating a drone\")\n",
    "        self.power_system = power_system\n",
    "        self.drone_type = drone_type\n",
    "        self.move_count = 0\n",
    "        \n",
    "    def move(self):\n",
    "        self.move_count += 1\n",
    "        if self.drone_type == \"plane\":\n",
    "            return \"the %s-powered %s drone is flying\" % (self.power_system, self.drone_type)\n",
    "        elif self.drone_type == \"submarine\":\n",
    "            return \"the %s-powered %s drone is moving underwater\" % (self.power_system, self.drone_type)\n",
    "        else:\n",
    "            return \"the %s-powered %s drone is moving\" % (self.power_system, self.drone_type)"
   ]
  },
  {
   "cell_type": "code",
   "execution_count": 12,
   "metadata": {
    "collapsed": false
   },
   "outputs": [
    {
     "name": "stdout",
     "output_type": "stream",
     "text": [
      "Instantiating a drone\n"
     ]
    }
   ],
   "source": [
    "airplane = Drone(\"gas\", \"plane\")"
   ]
  },
  {
   "cell_type": "code",
   "execution_count": 13,
   "metadata": {
    "collapsed": false
   },
   "outputs": [
    {
     "name": "stdout",
     "output_type": "stream",
     "text": [
      "Instantiating a drone\n"
     ]
    }
   ],
   "source": [
    "submarine = Drone(\"diesel\", \"submarine\")"
   ]
  },
  {
   "cell_type": "code",
   "execution_count": 14,
   "metadata": {
    "collapsed": false
   },
   "outputs": [
    {
     "name": "stdout",
     "output_type": "stream",
     "text": [
      "the gas-powered plane drone is flying\n",
      "the diesel-powered submarine drone is moving underwater\n",
      "the gas-powered plane drone is flying\n"
     ]
    }
   ],
   "source": [
    "print(airplane.move())\n",
    "print(submarine.move())\n",
    "print(airplane.move())"
   ]
  },
  {
   "cell_type": "code",
   "execution_count": 15,
   "metadata": {
    "collapsed": false
   },
   "outputs": [
    {
     "name": "stdout",
     "output_type": "stream",
     "text": [
      "Airplane Move Count:\n",
      "2\n",
      "Submarine Move Count:\n",
      "1\n"
     ]
    }
   ],
   "source": [
    "print(\"Airplane Move Count:\")\n",
    "print(airplane.move_count)\n",
    "print(\"Submarine Move Count:\")\n",
    "print(submarine.move_count)"
   ]
  },
  {
   "cell_type": "markdown",
   "metadata": {},
   "source": [
    "Notice how we are able to update the `move_count` whenever we move the drone and that that count describes only that instance."
   ]
  },
  {
   "cell_type": "markdown",
   "metadata": {},
   "source": [
    "This is one of the key concepts of object-oriented programming. Notice how now we have a general Drone class; however, this can now apply to submersibles or to airplane drones. As you might have guessed, taking this to an extreme can make things really inflexible because everything becomes too abstract. There are always trade-offs, and it is up to you as the programmer to understand those trade-offs when you make certain design decisions."
   ]
  },
  {
   "cell_type": "markdown",
   "metadata": {},
   "source": [
    "Another common choice surrounds how to set and get attributes or properties. The `drone_type` variable is a property of the Drone instance. It is one of the fundamental descriptors of an instance, and it is important that we control how it is accessed and set.\n",
    "\n",
    "For example, sometimes you might want to get a value and you accidentally set it; other times you may want to make sure that it cannot be changed in the future. In this setting, once a drone is created, its type should never change. One way of controlling this is through getter and setter methods."
   ]
  },
  {
   "cell_type": "code",
   "execution_count": 16,
   "metadata": {
    "collapsed": false
   },
   "outputs": [],
   "source": [
    "class Drone:\n",
    "    def __init__(self, power_system, drone_type):\n",
    "        print(\"Instantiating a drone\")\n",
    "        self.power_system = power_system\n",
    "        self.hidden_dtype = drone_type\n",
    "        self.move_count = 0\n",
    "        \n",
    "    def set_dtype(self, new_type):\n",
    "        print(\"Alert, changing drone type!\")\n",
    "        self.hidden_dtype = new_type\n",
    "        \n",
    "    def get_dtype(self):\n",
    "        print(\"Alert, accessing drone type!\")\n",
    "        return self.hidden_dtype\n",
    "        \n",
    "    def move(self):\n",
    "        self.move_count += 1\n",
    "        if self.hidden_dtype == \"plane\":\n",
    "            return \"the %s-powered %s drone is flying\" % (self.power_system, self.hidden_dtype)\n",
    "        elif self.hidden_dtype == \"submarine\":\n",
    "            return \"the %s-powered %s drone is moving underwater\" % (self.power_system, self.hidden_dtype)\n",
    "        else:\n",
    "            return \"the %s-powered %s drone is moving\" % (self.power_system, self.hidden_dtype)"
   ]
  },
  {
   "cell_type": "markdown",
   "metadata": {},
   "source": [
    "Now that we have seen how we can make this Drone class a bit more abstract, let's explore another topic: **Inheritance**."
   ]
  },
  {
   "cell_type": "code",
   "execution_count": 17,
   "metadata": {
    "collapsed": false
   },
   "outputs": [
    {
     "name": "stdout",
     "output_type": "stream",
     "text": [
      "Instantiating a drone\n"
     ]
    }
   ],
   "source": [
    "d = Drone(\"battery\",\"plane\")"
   ]
  },
  {
   "cell_type": "code",
   "execution_count": 18,
   "metadata": {
    "collapsed": false
   },
   "outputs": [
    {
     "name": "stdout",
     "output_type": "stream",
     "text": [
      "Alert, accessing drone type!\n"
     ]
    },
    {
     "data": {
      "text/plain": [
       "'plane'"
      ]
     },
     "execution_count": 18,
     "metadata": {},
     "output_type": "execute_result"
    }
   ],
   "source": [
    "d.get_dtype()"
   ]
  },
  {
   "cell_type": "markdown",
   "metadata": {},
   "source": [
    "Now we are controlling how this is accessed. However, we can bypass this and never know it, or we might be setting a different property than we think we are."
   ]
  },
  {
   "cell_type": "code",
   "execution_count": 19,
   "metadata": {
    "collapsed": false
   },
   "outputs": [],
   "source": [
    "d.hidden_dtype = \"shoe\""
   ]
  },
  {
   "cell_type": "code",
   "execution_count": 20,
   "metadata": {
    "collapsed": false
   },
   "outputs": [
    {
     "name": "stdout",
     "output_type": "stream",
     "text": [
      "Alert, accessing drone type!\n"
     ]
    },
    {
     "data": {
      "text/plain": [
       "'shoe'"
      ]
     },
     "execution_count": 20,
     "metadata": {},
     "output_type": "execute_result"
    }
   ],
   "source": [
    "d.get_dtype()"
   ]
  },
  {
   "cell_type": "markdown",
   "metadata": {},
   "source": [
    "You might be wondering, when this would actually happen since you know you should never set your drone to be of type shoe. You are right; *you* might not. But you don't know how you will be using the class you create in the future. If you create something that other people are going to use, how would they know that they are not supposed to access or change the type this way?\n",
    "\n",
    "This is a key point: you should always code defensively. You never know how something might be used in the future, and for the most part you want to control access to certain parts of your code and classes."
   ]
  },
  {
   "cell_type": "code",
   "execution_count": 21,
   "metadata": {
    "collapsed": false
   },
   "outputs": [],
   "source": [
    "class Drone:\n",
    "    def __init__(self, power_system, drone_type):\n",
    "        print(\"Instantiating a drone\")\n",
    "        self.power_system = power_system\n",
    "        self.hidden_dtype = drone_type\n",
    "        self.move_count = 0\n",
    "        \n",
    "    def set_dtype(self, new_type):\n",
    "        print(\"Alert, changing drone type!\")\n",
    "        self.hidden_dtype = new_type\n",
    "        \n",
    "    def get_dtype(self):\n",
    "        print(\"Alert, accessing drone type!\")\n",
    "        return self.hidden_dtype\n",
    "    \n",
    "    #adding this line\n",
    "    dtype = property(get_dtype, set_dtype)\n",
    "        \n",
    "    def move(self):\n",
    "        self.move_count += 1\n",
    "        if self.hidden_dtype == \"plane\":\n",
    "            return \"the %s-powered %s drone is flying\" % (self.power_system, self.hidden_dtype)\n",
    "        elif self.hidden_dtype == \"submarine\":\n",
    "            return \"the %s-powered %s drone is moving underwater\" % (self.power_system, self.hidden_dtype)\n",
    "        else:\n",
    "            return \"the %s-powered %s drone is moving\" % (self.power_system, self.hidden_dtype)"
   ]
  },
  {
   "cell_type": "code",
   "execution_count": 22,
   "metadata": {
    "collapsed": false
   },
   "outputs": [
    {
     "name": "stdout",
     "output_type": "stream",
     "text": [
      "Instantiating a drone\n",
      "Alert, accessing drone type!\n",
      "plane\n",
      "Alert, accessing drone type!\n",
      "plane\n"
     ]
    }
   ],
   "source": [
    "d = Drone(\"battery\",\"plane\")\n",
    "print(d.get_dtype())\n",
    "print(d.dtype)"
   ]
  },
  {
   "cell_type": "code",
   "execution_count": 23,
   "metadata": {
    "collapsed": false
   },
   "outputs": [
    {
     "name": "stdout",
     "output_type": "stream",
     "text": [
      "Alert, changing drone type!\n",
      "Alert, changing drone type!\n"
     ]
    }
   ],
   "source": [
    "d.set_dtype(\"tank\")\n",
    "d.dtype = \"submarine\""
   ]
  },
  {
   "cell_type": "code",
   "execution_count": 24,
   "metadata": {
    "collapsed": false
   },
   "outputs": [
    {
     "name": "stdout",
     "output_type": "stream",
     "text": [
      "the battery-powered submarine drone is moving underwater\n"
     ]
    }
   ],
   "source": [
    "print(d.move())"
   ]
  },
  {
   "cell_type": "markdown",
   "metadata": {},
   "source": [
    "A similar topic is covered in the book, but basically we are now creating this idea of a property. Again, it is an attribute that describes this specific instance, except now we are controlling how it is accessed. Unfortunately, as we saw above, someone can hijack this if not careful. "
   ]
  },
  {
   "cell_type": "code",
   "execution_count": 25,
   "metadata": {
    "collapsed": false
   },
   "outputs": [],
   "source": [
    "d.hidden_dtype = \"chicken\""
   ]
  },
  {
   "cell_type": "code",
   "execution_count": 26,
   "metadata": {
    "collapsed": false
   },
   "outputs": [
    {
     "name": "stdout",
     "output_type": "stream",
     "text": [
      "the battery-powered chicken drone is moving\n"
     ]
    }
   ],
   "source": [
    "print(d.move())"
   ]
  },
  {
   "cell_type": "markdown",
   "metadata": {},
   "source": [
    "Naming something as \"hidden\" is not the best way to actually hide a variable. Instead we want to use something called a *decorator*. Don't worry about exactly what this is right now; just know that it gives you control over exactly how something is created, set, and get. \n",
    "*Please confirm that \"get\" works in this context. (In \"normal\" English it sounds like it might be \"gotten.\") Thanks.*"
   ]
  },
  {
   "cell_type": "code",
   "execution_count": 27,
   "metadata": {
    "collapsed": false
   },
   "outputs": [],
   "source": [
    "class Drone:\n",
    "    def __init__(self, power_system, drone_type):\n",
    "        print(\"Instantiating a drone\")\n",
    "        self.power_system = power_system\n",
    "        self.__dtype = drone_type\n",
    "        self.move_count = 0\n",
    "        \n",
    "    @property\n",
    "    def dtype(self):\n",
    "        print(\"The dtype property getter\")\n",
    "        return self.__dtype\n",
    "        \n",
    "    @dtype.setter\n",
    "    def dtype(self, new_type):\n",
    "        print(\"Sorry, you can never change the drone type once created\")\n",
    "        \n",
    "    def move(self):\n",
    "        self.move_count += 1\n",
    "        if self.__dtype == \"plane\":\n",
    "            return \"the %s-powered %s drone is flying\" % (self.power_system, self.__dtype)\n",
    "        elif self.__dtype == \"submarine\":\n",
    "            return \"the %s-powered %s drone is moving underwater\" % (self.power_system, self.__dtype)\n",
    "        else:\n",
    "            return \"the %s-powered %s drone is moving\" % (self.power_system, self.__dtype)"
   ]
  },
  {
   "cell_type": "code",
   "execution_count": 28,
   "metadata": {
    "collapsed": false
   },
   "outputs": [
    {
     "name": "stdout",
     "output_type": "stream",
     "text": [
      "Instantiating a drone\n",
      "Sorry, you can never change the drone type once created\n"
     ]
    }
   ],
   "source": [
    "d = Drone(\"battery\",\"plane\")\n",
    "d.dtype = \"shoe\""
   ]
  },
  {
   "cell_type": "code",
   "execution_count": 29,
   "metadata": {
    "collapsed": false
   },
   "outputs": [
    {
     "name": "stdout",
     "output_type": "stream",
     "text": [
      "The dtype property getter\n"
     ]
    },
    {
     "data": {
      "text/plain": [
       "'plane'"
      ]
     },
     "execution_count": 29,
     "metadata": {},
     "output_type": "execute_result"
    }
   ],
   "source": [
    "d.dtype"
   ]
  },
  {
   "cell_type": "code",
   "execution_count": 30,
   "metadata": {
    "collapsed": false
   },
   "outputs": [],
   "source": [
    "d.__name = \"shoe\""
   ]
  },
  {
   "cell_type": "code",
   "execution_count": 31,
   "metadata": {
    "collapsed": false
   },
   "outputs": [
    {
     "name": "stdout",
     "output_type": "stream",
     "text": [
      "The dtype property getter\n"
     ]
    },
    {
     "data": {
      "text/plain": [
       "'plane'"
      ]
     },
     "execution_count": 31,
     "metadata": {},
     "output_type": "execute_result"
    }
   ],
   "source": [
    "d.dtype"
   ]
  },
  {
   "cell_type": "code",
   "execution_count": 32,
   "metadata": {
    "collapsed": false
   },
   "outputs": [
    {
     "data": {
      "text/plain": [
       "'the battery-powered plane drone is flying'"
      ]
     },
     "execution_count": 32,
     "metadata": {},
     "output_type": "execute_result"
    }
   ],
   "source": [
    "d.move()"
   ]
  },
  {
   "cell_type": "markdown",
   "metadata": {},
   "source": [
    "Impressive isn't it? We could not change it even if we wanted to. This follows a principle called *encapsulation*. You are coding defensively and understanding exactly how people can and will access certain attributes of your object. This is important  to do because it keeps your internal use of the code separate from the outside use of your class. Do you see how we can still access the hidden property by its actual name in the `move` method? This effectively makes this value *immutable*; it cannot be changed once it is created."
   ]
  },
  {
   "cell_type": "markdown",
   "metadata": {
    "collapsed": false
   },
   "source": [
    "Before we move beyond the basics, we should delve a bit deeper into different method and attribute types. With classes you can have two basic method types and one accessory type.\n",
    "\n",
    "The method types are:\n",
    "\n",
    "- Instance methods\n",
    "- Class methods\n",
    "- Static methods"
   ]
  },
  {
   "cell_type": "markdown",
   "metadata": {},
   "source": [
    "Instance methods affect only that instance. For example `move` in the Drone class above only affects that specific instance; no other Drones are affected.\n",
    "\n",
    "Class methods we have not explored yet, but let's rewrite our Drone class to introduce it."
   ]
  },
  {
   "cell_type": "code",
   "execution_count": 8,
   "metadata": {
    "collapsed": true
   },
   "outputs": [],
   "source": [
    "class Drone:\n",
    "    drone_count = 0\n",
    "    def __init__(self, power_system, drone_type):\n",
    "        print(\"Instantiating a drone\")\n",
    "        self.power_system = power_system\n",
    "        self.__dtype = drone_type\n",
    "        self.move_count = 0\n",
    "        Drone.drone_count += 1\n",
    "        \n",
    "    @classmethod\n",
    "    def get_num_drones_created(cls):\n",
    "        return Drone.drone_count\n",
    "        \n",
    "    @property\n",
    "    def dtype(self):\n",
    "        print(\"The dtype property getter\")\n",
    "        return self.__dtype\n",
    "        \n",
    "    @dtype.setter\n",
    "    def dtype(self, new_type):\n",
    "        print(\"Sorry, you can never change the drone type once created\")\n",
    "        \n",
    "    def move(self):\n",
    "        self.move_count += 1\n",
    "        if self.__dtype == \"plane\":\n",
    "            return \"the %s-powered %s drone is flying\" % (self.power_system, self.__dtype)\n",
    "        elif self.__dtype == \"submarine\":\n",
    "            return \"the %s-powered %s drone is moving underwater\" % (self.power_system, self.__dtype)\n",
    "        else:\n",
    "            return \"the %s-powered %s drone is moving\" % (self.power_system, self.__dtype)"
   ]
  },
  {
   "cell_type": "code",
   "execution_count": 9,
   "metadata": {
    "collapsed": false
   },
   "outputs": [
    {
     "name": "stdout",
     "output_type": "stream",
     "text": [
      "Instantiating a drone\n",
      "Instantiating a drone\n",
      "Instantiating a drone\n",
      "Instantiating a drone\n",
      "4\n"
     ]
    }
   ],
   "source": [
    "d = Drone(\"battery\",\"plane\")\n",
    "d2 = Drone(\"battery\",\"plane\")\n",
    "d3 = Drone(\"battery\",\"plane\")\n",
    "d4 = Drone(\"battery\",\"plane\")\n",
    "print(Drone.get_num_drones_created())"
   ]
  },
  {
   "cell_type": "markdown",
   "metadata": {},
   "source": [
    "Did you notice how that works? We made the `drone_count` an attribute of the overall class and we access it from the `classmethod` `get_num_drones_created`. This is a good way of keeping track of the number of instances. For example if you are writing a poker game and you want to make sure that no one is cheating, you could check how many instances of \"card\" have been created; if it ever changes, you know someone could be adding to the deck."
   ]
  },
  {
   "cell_type": "markdown",
   "metadata": {
    "collapsed": true
   },
   "source": [
    "The last method type are `staticmethods`. These methods don't do much--they are static after all. They do not modify anything (or should not) and might do something like printing a message to your user.\n",
    "\n",
    "For example, let's modify our Drone class again."
   ]
  },
  {
   "cell_type": "code",
   "execution_count": 1,
   "metadata": {
    "collapsed": true
   },
   "outputs": [],
   "source": [
    "class Drone:\n",
    "    drone_count = 0\n",
    "    def __init__(self, power_system, drone_type):\n",
    "        print(\"Instantiating a drone\")\n",
    "        self.power_system = power_system\n",
    "        self.__dtype = drone_type\n",
    "        self.move_count = 0\n",
    "        Drone.drone_count += 1\n",
    "        \n",
    "    @classmethod\n",
    "    def get_num_drones_created(cls):\n",
    "        return Drone.drone_count\n",
    "        \n",
    "    @staticmethod\n",
    "    def about():\n",
    "        print(\"Amazon wants to deliver packages with drones.\")\n",
    "    @property\n",
    "    def dtype(self):\n",
    "        print(\"The dtype property getter\")\n",
    "        return self.__dtype\n",
    "        \n",
    "    @dtype.setter\n",
    "    def dtype(self, new_type):\n",
    "        print(\"Sorry, you can never change the drone type once created\")\n",
    "        \n",
    "    def move(self):\n",
    "        self.move_count += 1\n",
    "        if self.__dtype == \"plane\":\n",
    "            return \"the %s-powered %s drone is flying\" % (self.power_system, self.__dtype)\n",
    "        elif self.__dtype == \"submarine\":\n",
    "            return \"the %s-powered %s drone is moving underwater\" % (self.power_system, self.__dtype)\n",
    "        else:\n",
    "            return \"the %s-powered %s drone is moving\" % (self.power_system, self.__dtype)"
   ]
  },
  {
   "cell_type": "code",
   "execution_count": 2,
   "metadata": {
    "collapsed": false
   },
   "outputs": [
    {
     "name": "stdout",
     "output_type": "stream",
     "text": [
      "Amazon wants to deliver packages with drones.\n"
     ]
    }
   ],
   "source": [
    "Drone.about()"
   ]
  },
  {
   "cell_type": "markdown",
   "metadata": {},
   "source": [
    "That wraps up the basics of classes. You have learned a lot in this section; you have been introduced to some new concepts and material. Let's prepare to move onto the next section."
   ]
  }
 ],
 "metadata": {
  "kernelspec": {
   "display_name": "Python 3",
   "language": "python",
   "name": "python3"
  },
  "language_info": {
   "codemirror_mode": {
    "name": "ipython",
    "version": 3
   },
   "file_extension": ".py",
   "mimetype": "text/x-python",
   "name": "python",
   "nbconvert_exporter": "python",
   "pygments_lexer": "ipython3",
   "version": "3.4.3"
  }
 },
 "nbformat": 4,
 "nbformat_minor": 0
}
