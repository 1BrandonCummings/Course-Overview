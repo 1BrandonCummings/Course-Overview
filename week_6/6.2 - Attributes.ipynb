{
 "cells": [
  {
   "cell_type": "markdown",
   "metadata": {},
   "source": [
    "# Attributes\n",
    "\n",
    "Before we delve into writing our own class definitions, we will begin by discussing the attributes that objects in Python have.  Understanding these will be helpful as we decide what to include in our class definitions.\n",
    "\n",
    "Attributes define the outward behavior of python objects.  They include methods and data attributes.  We've already seen many examples of attributes in this course.  \n",
    "\n",
    "An attribute is any name that goes after a dot after the name of an object.\n",
    "\n",
    "As an example, a list object has many important attributes.  One is append, which is an example of a method.  We can see confirm this by checking its type below."
   ]
  },
  {
   "cell_type": "code",
   "execution_count": 20,
   "metadata": {
    "collapsed": false
   },
   "outputs": [
    {
     "data": {
      "text/plain": [
       "builtin_function_or_method"
      ]
     },
     "execution_count": 20,
     "metadata": {},
     "output_type": "execute_result"
    }
   ],
   "source": [
    "l = [\"Paul\", \"Bill\"]\n",
    "x = l.append\n",
    "type(x)"
   ]
  },
  {
   "cell_type": "markdown",
   "metadata": {},
   "source": [
    "Normally, we would call this method immediately by placing parentheses after it.  We can do that even after we assign the variable x to it."
   ]
  },
  {
   "cell_type": "code",
   "execution_count": 22,
   "metadata": {
    "collapsed": false
   },
   "outputs": [
    {
     "name": "stdout",
     "output_type": "stream",
     "text": [
      "['Paul', 'Bill', 'Kay', 'Kay']\n"
     ]
    }
   ],
   "source": [
    "x(\"Kay\")\n",
    "print(l)"
   ]
  },
  {
   "cell_type": "markdown",
   "metadata": {},
   "source": [
    "The other type of attribute is a data attribute.  You can't call a data attribute by placing parentheses after it, it just points to an object, like a variable.  One example is the data attribute, \\_\\_class\\_\\_, which stores the type of every object in Python."
   ]
  },
  {
   "cell_type": "code",
   "execution_count": 29,
   "metadata": {
    "collapsed": false
   },
   "outputs": [
    {
     "data": {
      "text/plain": [
       "list"
      ]
     },
     "execution_count": 29,
     "metadata": {},
     "output_type": "execute_result"
    }
   ],
   "source": [
    "l.__class__"
   ]
  },
  {
   "cell_type": "markdown",
   "metadata": {},
   "source": [
    "Notice that you can't call the \\_\\_class\\_\\_ attribute.  It's a data attribute, not a method."
   ]
  },
  {
   "cell_type": "markdown",
   "metadata": {},
   "source": [
    "One way to see all the attributes of an object in python is with the dir function.  As you can see, a list object has quite a few attributes.  Most of these are methods."
   ]
  },
  {
   "cell_type": "code",
   "execution_count": 27,
   "metadata": {
    "collapsed": false
   },
   "outputs": [
    {
     "data": {
      "text/plain": [
       "['__add__',\n",
       " '__class__',\n",
       " '__contains__',\n",
       " '__delattr__',\n",
       " '__delitem__',\n",
       " '__dir__',\n",
       " '__doc__',\n",
       " '__eq__',\n",
       " '__format__',\n",
       " '__ge__',\n",
       " '__getattribute__',\n",
       " '__getitem__',\n",
       " '__gt__',\n",
       " '__hash__',\n",
       " '__iadd__',\n",
       " '__imul__',\n",
       " '__init__',\n",
       " '__iter__',\n",
       " '__le__',\n",
       " '__len__',\n",
       " '__lt__',\n",
       " '__mul__',\n",
       " '__ne__',\n",
       " '__new__',\n",
       " '__reduce__',\n",
       " '__reduce_ex__',\n",
       " '__repr__',\n",
       " '__reversed__',\n",
       " '__rmul__',\n",
       " '__setattr__',\n",
       " '__setitem__',\n",
       " '__sizeof__',\n",
       " '__str__',\n",
       " '__subclasshook__',\n",
       " 'append',\n",
       " 'clear',\n",
       " 'copy',\n",
       " 'count',\n",
       " 'extend',\n",
       " 'index',\n",
       " 'insert',\n",
       " 'pop',\n",
       " 'remove',\n",
       " 'reverse',\n",
       " 'sort']"
      ]
     },
     "execution_count": 27,
     "metadata": {},
     "output_type": "execute_result"
    }
   ],
   "source": [
    "dir(l)"
   ]
  },
  {
   "cell_type": "markdown",
   "metadata": {},
   "source": [
    "## Data Attributes"
   ]
  },
  {
   "cell_type": "markdown",
   "metadata": {},
   "source": [
    "To take a closer look at data attributes, let's create our own simple class to work with.  Classes are constructed with the `class` keyword.  Here's the simplest possible class definition, one that is pretty much empty."
   ]
  },
  {
   "cell_type": "code",
   "execution_count": 30,
   "metadata": {
    "collapsed": false
   },
   "outputs": [],
   "source": [
    "class Student:\n",
    "    \"\"\"A Representation of a Student to Demonstrate Attributes.\n",
    "    The class initially defines no attributes.\"\"\""
   ]
  },
  {
   "cell_type": "markdown",
   "metadata": {},
   "source": [
    "Notice that I've placed a python multiline string below the class definition.\n",
    "\n",
    "Remember that multiline strings start with `\"\"\"` and signify that all text should be included until the next `\"\"\"` is encountered, even if it appears several lines later. In this case, this string is a description of the class, called a Docstring. Later, when we forget what the class is for, we can access the doctring using the IPython Notebook."
   ]
  },
  {
   "cell_type": "code",
   "execution_count": 33,
   "metadata": {
    "collapsed": false
   },
   "outputs": [],
   "source": [
    "?Student"
   ]
  },
  {
   "cell_type": "markdown",
   "metadata": {},
   "source": [
    "Which will print out:\n",
    "```\n",
    "Type:       type\n",
    "Docstring:\n",
    "A Representation of a Student to Demonstrate Attributes.\n",
    "The class initially defines no attributes.\n",
    "```"
   ]
  },
  {
   "cell_type": "markdown",
   "metadata": {},
   "source": [
    "We cannot stress the importance of good documentation enough, and it is especially important when creating new classes.  It is very difficult to understand the purpose of classes that somebody else wrote (or that you wrote a long time ago).  By cultivating the habit of documenting everything clearly, you will save other programmers hours of time so they can jump right in and start using classes that you write."
   ]
  },
  {
   "cell_type": "markdown",
   "metadata": {},
   "source": [
    "Now that we have a Student class, we can use it to make several Student instances.  The class is the template, which can be used to make any number of identical instances.  Notice that the instances have type Student."
   ]
  },
  {
   "cell_type": "code",
   "execution_count": 44,
   "metadata": {
    "collapsed": false
   },
   "outputs": [
    {
     "name": "stdout",
     "output_type": "stream",
     "text": [
      "<class '__main__.Student'>\n"
     ]
    }
   ],
   "source": [
    "s1 = Student()\n",
    "s2 = Student()\n",
    "print(type(s1))"
   ]
  },
  {
   "cell_type": "markdown",
   "metadata": {},
   "source": [
    "Now we have one Student class with two Student instances.  Let's continue by adding attributes.  Creating a new data attribute can be done much like creating a new variable."
   ]
  },
  {
   "cell_type": "code",
   "execution_count": 34,
   "metadata": {
    "collapsed": false
   },
   "outputs": [],
   "source": [
    "Student.maxGPA = 4.0"
   ]
  },
  {
   "cell_type": "markdown",
   "metadata": {},
   "source": [
    "We've just created what we call a class attribute.  Notice that maximum GPA is something that applies to all students - that's why we put it in the Student class, not in an instance.  Notice, however, that we can still access the attribute from the instances."
   ]
  },
  {
   "cell_type": "code",
   "execution_count": 39,
   "metadata": {
    "collapsed": false
   },
   "outputs": [
    {
     "name": "stdout",
     "output_type": "stream",
     "text": [
      "4.0\n",
      "4.0\n",
      "4.0\n"
     ]
    }
   ],
   "source": [
    "print(s1.maxGPA)\n",
    "print(s2.maxGPA)\n",
    "print(Student.maxGPA)"
   ]
  },
  {
   "cell_type": "markdown",
   "metadata": {},
   "source": [
    "Our class definition allows us to easily make lots of copies of our object.  Once they are created, though, we can individualize them.  Suppose that s1 is at a university where GPA is measured on a 15-point scale.  We can change maxGPA for just s1."
   ]
  },
  {
   "cell_type": "code",
   "execution_count": 41,
   "metadata": {
    "collapsed": true
   },
   "outputs": [],
   "source": [
    "s1.maxGPA = 15.0"
   ]
  },
  {
   "cell_type": "markdown",
   "metadata": {},
   "source": [
    "We just created what we call an instance attribute.  This is an attribute that is attached to a specific instance object.  We didn't change the attribute for the Student class, but when we try to access s1.maxGPA, the instance attribute will override the class attribute.  You can see this below."
   ]
  },
  {
   "cell_type": "code",
   "execution_count": 42,
   "metadata": {
    "collapsed": false
   },
   "outputs": [
    {
     "name": "stdout",
     "output_type": "stream",
     "text": [
      "15.0\n",
      "4.0\n",
      "4.0\n"
     ]
    }
   ],
   "source": [
    "print(s1.maxGPA)\n",
    "print(s2.maxGPA)\n",
    "print(Student.maxGPA)"
   ]
  },
  {
   "cell_type": "markdown",
   "metadata": {},
   "source": [
    "We can also add attributes to represent actual GPA.  These should clearly be instance attributes, since GPA is really a property of each individual student, not students as a whole."
   ]
  },
  {
   "cell_type": "code",
   "execution_count": 43,
   "metadata": {
    "collapsed": true
   },
   "outputs": [],
   "source": [
    "s1.GPA = 13.3\n",
    "s2.GPA = 3.3"
   ]
  },
  {
   "cell_type": "markdown",
   "metadata": {},
   "source": [
    "This is an important takeaway: class attributes are useful for things that describe all instances of a class (although they can be overridden for specific instances), instance attributes are useful for things that make each instance unique."
   ]
  },
  {
   "cell_type": "markdown",
   "metadata": {},
   "source": [
    "## Methods\n",
    "\n",
    "A method is a function that's stored as a class attribute.  You can call a method, much as you'd call a function.  Although methods are similar to data attributes, they work a little bit differently.  For one thing, we will only us methods as class attributes, not instance attributes.  Here's how we might add a method to our Student class."
   ]
  },
  {
   "cell_type": "code",
   "execution_count": 55,
   "metadata": {
    "collapsed": true
   },
   "outputs": [],
   "source": [
    "def setGPA(self, newGPA):\n",
    "    self.GPA = newGPA\n",
    "    \n",
    "Student.setGPA = setGPA"
   ]
  },
  {
   "cell_type": "markdown",
   "metadata": {},
   "source": [
    "All that we did was create a function, then assign it to a class attribute like we did before.  Notice that the function has a peculiar first argument, self.  We will say more about this soon.  First, let's actually use our method."
   ]
  },
  {
   "cell_type": "code",
   "execution_count": 56,
   "metadata": {
    "collapsed": false
   },
   "outputs": [
    {
     "ename": "TypeError",
     "evalue": "setGPA() missing 1 required positional argument: 'newGPA'",
     "output_type": "error",
     "traceback": [
      "\u001b[0;31m---------------------------------------------------------------------------\u001b[0m",
      "\u001b[0;31mTypeError\u001b[0m                                 Traceback (most recent call last)",
      "\u001b[0;32m<ipython-input-56-d2eeda61f83c>\u001b[0m in \u001b[0;36m<module>\u001b[0;34m()\u001b[0m\n\u001b[0;32m----> 1\u001b[0;31m \u001b[0ms1\u001b[0m\u001b[0;34m.\u001b[0m\u001b[0msetGPA\u001b[0m\u001b[0;34m(\u001b[0m\u001b[0;36m12\u001b[0m\u001b[0;34m)\u001b[0m\u001b[0;34m\u001b[0m\u001b[0m\n\u001b[0m\u001b[1;32m      2\u001b[0m \u001b[0mprint\u001b[0m\u001b[0;34m(\u001b[0m\u001b[0ms1\u001b[0m\u001b[0;34m.\u001b[0m\u001b[0mGPA\u001b[0m\u001b[0;34m)\u001b[0m\u001b[0;34m\u001b[0m\u001b[0m\n",
      "\u001b[0;31mTypeError\u001b[0m: setGPA() missing 1 required positional argument: 'newGPA'"
     ]
    }
   ],
   "source": [
    "s1.setGPA(12)\n",
    "print(s1.GPA)"
   ]
  },
  {
   "cell_type": "code",
   "execution_count": 50,
   "metadata": {
    "collapsed": false
   },
   "outputs": [
    {
     "data": {
      "text/plain": [
       "<function __main__.setGPA>"
      ]
     },
     "execution_count": 50,
     "metadata": {},
     "output_type": "execute_result"
    }
   ],
   "source": [
    "s1.setGPA"
   ]
  },
  {
   "cell_type": "markdown",
   "metadata": {},
   "source": [
    "Now at this point you should have noticed a couple of things. We can pretty much attach whatever we want to this drone class, variable and methods. \n",
    "\n",
    "You can think of an object, like `d` as almost like a dictionary. You can get and set values, you can store almost any other type and keep information local to that object. Obviously this is a simplification but it's a simple way of thinking about it.\n",
    "\n",
    "\n"
   ]
  },
  {
   "cell_type": "code",
   "execution_count": 9,
   "metadata": {
    "collapsed": false
   },
   "outputs": [],
   "source": [
    "class Drone:\n",
    "    def __init__(self):\n",
    "        self.power_system = \"battery\"\n",
    "        self.aircraft_type = \"plane\"\n",
    "    def fly(self):\n",
    "        return \"The %s-powered drone is flying\" % (self.power_system)"
   ]
  },
  {
   "cell_type": "code",
   "execution_count": 10,
   "metadata": {
    "collapsed": false
   },
   "outputs": [
    {
     "name": "stdout",
     "output_type": "stream",
     "text": [
      "battery\n",
      "plane\n"
     ]
    }
   ],
   "source": [
    "d = Drone()\n",
    "print(d.power_system)\n",
    "print(d.aircraft_type)"
   ]
  },
  {
   "cell_type": "markdown",
   "metadata": {},
   "source": [
    "Now remember `__init__` is just a function attached to the Drone class so we can change the variables as we see fit. This allows us to make things extremely abstract so that our objects are flexible and we have to write the least amount of code possible."
   ]
  },
  {
   "cell_type": "code",
   "execution_count": 11,
   "metadata": {
    "collapsed": false
   },
   "outputs": [],
   "source": [
    "class Drone:\n",
    "    def __init__(self, power_system, drone_type):\n",
    "        print(\"Instantiating a drone\")\n",
    "        self.power_system = power_system\n",
    "        self.drone_type = drone_type\n",
    "        self.move_count = 0\n",
    "        \n",
    "    def move(self):\n",
    "        self.move_count += 1\n",
    "        if self.drone_type == \"plane\":\n",
    "            return \"the %s-powered %s drone is flying\" % (self.power_system, self.drone_type)\n",
    "        elif self.drone_type == \"submarine\":\n",
    "            return \"the %s-powered %s drone is moving underwater\" % (self.power_system, self.drone_type)\n",
    "        else:\n",
    "            return \"the %s-powered %s drone is moving\" % (self.power_system, self.drone_type)"
   ]
  },
  {
   "cell_type": "code",
   "execution_count": 12,
   "metadata": {
    "collapsed": false
   },
   "outputs": [
    {
     "name": "stdout",
     "output_type": "stream",
     "text": [
      "Instantiating a drone\n"
     ]
    }
   ],
   "source": [
    "airplane = Drone(\"gas\", \"plane\")"
   ]
  },
  {
   "cell_type": "code",
   "execution_count": 13,
   "metadata": {
    "collapsed": false
   },
   "outputs": [
    {
     "name": "stdout",
     "output_type": "stream",
     "text": [
      "Instantiating a drone\n"
     ]
    }
   ],
   "source": [
    "submarine = Drone(\"diesel\", \"submarine\")"
   ]
  },
  {
   "cell_type": "code",
   "execution_count": 14,
   "metadata": {
    "collapsed": false
   },
   "outputs": [
    {
     "name": "stdout",
     "output_type": "stream",
     "text": [
      "the gas-powered plane drone is flying\n",
      "the diesel-powered submarine drone is moving underwater\n",
      "the gas-powered plane drone is flying\n"
     ]
    }
   ],
   "source": [
    "print(airplane.move())\n",
    "print(submarine.move())\n",
    "print(airplane.move())"
   ]
  },
  {
   "cell_type": "code",
   "execution_count": 15,
   "metadata": {
    "collapsed": false
   },
   "outputs": [
    {
     "name": "stdout",
     "output_type": "stream",
     "text": [
      "Airplane Move Count:\n",
      "2\n",
      "Submarine Move Count:\n",
      "1\n"
     ]
    }
   ],
   "source": [
    "print(\"Airplane Move Count:\")\n",
    "print(airplane.move_count)\n",
    "print(\"Submarine Move Count:\")\n",
    "print(submarine.move_count)"
   ]
  },
  {
   "cell_type": "markdown",
   "metadata": {},
   "source": [
    "Notice how we are able to update the `move_count` whenever we move the drone and that that count describes only that instance."
   ]
  },
  {
   "cell_type": "markdown",
   "metadata": {},
   "source": [
    "This is one of they key concepts of object oriented programming. Notice how now we have a general Drone class, however this can now apply to submersibles or to airplane drones. Now as you might have guessed, taking this to an extreme can make things really inflexible because everything becomes to abstract. There are always trade offs and it's up to you as the programmer to understand those trade-offs when you make certain design decisions."
   ]
  },
  {
   "cell_type": "markdown",
   "metadata": {},
   "source": [
    "Another common choice surrounds how to set and get attributes or properties. Now the `drone_type` variable is a property of the Drone instance. It is one of the fundamental descriptors of an instance and it's important that we control how it is accessed and set.\n",
    "\n",
    "For example, sometimes you might want to get a value and you accidentally set it or other times you may want to make sure that it cannot be changed in the future. In this setting, once a drone is created, it's type should never change. One way of controlling this is through getter and setter methods."
   ]
  },
  {
   "cell_type": "code",
   "execution_count": 16,
   "metadata": {
    "collapsed": false
   },
   "outputs": [],
   "source": [
    "class Drone:\n",
    "    def __init__(self, power_system, drone_type):\n",
    "        print(\"Instantiating a drone\")\n",
    "        self.power_system = power_system\n",
    "        self.hidden_dtype = drone_type\n",
    "        self.move_count = 0\n",
    "        \n",
    "    def set_dtype(self, new_type):\n",
    "        print(\"Alert, changing drone type!\")\n",
    "        self.hidden_dtype = new_type\n",
    "        \n",
    "    def get_dtype(self):\n",
    "        print(\"Alert, accessing drone type!\")\n",
    "        return self.hidden_dtype\n",
    "        \n",
    "    def move(self):\n",
    "        self.move_count += 1\n",
    "        if self.hidden_dtype == \"plane\":\n",
    "            return \"the %s-powered %s drone is flying\" % (self.power_system, self.hidden_dtype)\n",
    "        elif self.hidden_dtype == \"submarine\":\n",
    "            return \"the %s-powered %s drone is moving underwater\" % (self.power_system, self.hidden_dtype)\n",
    "        else:\n",
    "            return \"the %s-powered %s drone is moving\" % (self.power_system, self.hidden_dtype)"
   ]
  },
  {
   "cell_type": "markdown",
   "metadata": {},
   "source": [
    "Now that we've seen how we can make this Drone class a bit more abstract, let's explore another topic. **Inheritance.**"
   ]
  },
  {
   "cell_type": "code",
   "execution_count": 17,
   "metadata": {
    "collapsed": false
   },
   "outputs": [
    {
     "name": "stdout",
     "output_type": "stream",
     "text": [
      "Instantiating a drone\n"
     ]
    }
   ],
   "source": [
    "d = Drone(\"battery\",\"plane\")"
   ]
  },
  {
   "cell_type": "code",
   "execution_count": 18,
   "metadata": {
    "collapsed": false
   },
   "outputs": [
    {
     "name": "stdout",
     "output_type": "stream",
     "text": [
      "Alert, accessing drone type!\n"
     ]
    },
    {
     "data": {
      "text/plain": [
       "'plane'"
      ]
     },
     "execution_count": 18,
     "metadata": {},
     "output_type": "execute_result"
    }
   ],
   "source": [
    "d.get_dtype()"
   ]
  },
  {
   "cell_type": "markdown",
   "metadata": {},
   "source": [
    "Now we're controlling how this is accessed. However, it's still a bit hacky because we can bypass this and never know it. Or we might be setting a different property than we think we are."
   ]
  },
  {
   "cell_type": "code",
   "execution_count": 19,
   "metadata": {
    "collapsed": false
   },
   "outputs": [],
   "source": [
    "d.hidden_dtype = \"shoe\""
   ]
  },
  {
   "cell_type": "code",
   "execution_count": 20,
   "metadata": {
    "collapsed": false
   },
   "outputs": [
    {
     "name": "stdout",
     "output_type": "stream",
     "text": [
      "Alert, accessing drone type!\n"
     ]
    },
    {
     "data": {
      "text/plain": [
       "'shoe'"
      ]
     },
     "execution_count": 20,
     "metadata": {},
     "output_type": "execute_result"
    }
   ],
   "source": [
    "d.get_dtype()"
   ]
  },
  {
   "cell_type": "markdown",
   "metadata": {},
   "source": [
    "Now you might be wondering, when would this actually ever happen. I know I shouldn't ever set my drone to be of type shoe and you're right, *you* might not. But you don't know how you're going to be using the class you create in the future. What if you're creating something that other people are going to use? How would they know that they aren't supposed to access or change the type this way?\n",
    "\n",
    "This is a key point, you always want to code defensively. You never know how something might be used in the future and for the most part you want to control access to certain parts of your code and classes."
   ]
  },
  {
   "cell_type": "code",
   "execution_count": 21,
   "metadata": {
    "collapsed": false
   },
   "outputs": [],
   "source": [
    "class Drone:\n",
    "    def __init__(self, power_system, drone_type):\n",
    "        print(\"Instantiating a drone\")\n",
    "        self.power_system = power_system\n",
    "        self.hidden_dtype = drone_type\n",
    "        self.move_count = 0\n",
    "        \n",
    "    def set_dtype(self, new_type):\n",
    "        print(\"Alert, changing drone type!\")\n",
    "        self.hidden_dtype = new_type\n",
    "        \n",
    "    def get_dtype(self):\n",
    "        print(\"Alert, accessing drone type!\")\n",
    "        return self.hidden_dtype\n",
    "    \n",
    "    #adding this line\n",
    "    dtype = property(get_dtype, set_dtype)\n",
    "        \n",
    "    def move(self):\n",
    "        self.move_count += 1\n",
    "        if self.hidden_dtype == \"plane\":\n",
    "            return \"the %s-powered %s drone is flying\" % (self.power_system, self.hidden_dtype)\n",
    "        elif self.hidden_dtype == \"submarine\":\n",
    "            return \"the %s-powered %s drone is moving underwater\" % (self.power_system, self.hidden_dtype)\n",
    "        else:\n",
    "            return \"the %s-powered %s drone is moving\" % (self.power_system, self.hidden_dtype)"
   ]
  },
  {
   "cell_type": "code",
   "execution_count": 22,
   "metadata": {
    "collapsed": false
   },
   "outputs": [
    {
     "name": "stdout",
     "output_type": "stream",
     "text": [
      "Instantiating a drone\n",
      "Alert, accessing drone type!\n",
      "plane\n",
      "Alert, accessing drone type!\n",
      "plane\n"
     ]
    }
   ],
   "source": [
    "d = Drone(\"battery\",\"plane\")\n",
    "print(d.get_dtype())\n",
    "print(d.dtype)"
   ]
  },
  {
   "cell_type": "code",
   "execution_count": 23,
   "metadata": {
    "collapsed": false
   },
   "outputs": [
    {
     "name": "stdout",
     "output_type": "stream",
     "text": [
      "Alert, changing drone type!\n",
      "Alert, changing drone type!\n"
     ]
    }
   ],
   "source": [
    "d.set_dtype(\"tank\")\n",
    "d.dtype = \"submarine\""
   ]
  },
  {
   "cell_type": "code",
   "execution_count": 24,
   "metadata": {
    "collapsed": false
   },
   "outputs": [
    {
     "name": "stdout",
     "output_type": "stream",
     "text": [
      "the battery-powered submarine drone is moving underwater\n"
     ]
    }
   ],
   "source": [
    "print(d.move())"
   ]
  },
  {
   "cell_type": "markdown",
   "metadata": {},
   "source": [
    "Now a similar topic is covered in the book. But basically we're now creating this idea of a property. Again, it's an attribute that describes this specific instance except now we're controlling how it's accessed. Unfortunately, as we saw above. Someone can hijack this if they aren't careful. "
   ]
  },
  {
   "cell_type": "code",
   "execution_count": 25,
   "metadata": {
    "collapsed": false
   },
   "outputs": [],
   "source": [
    "d.hidden_dtype = \"chicken\""
   ]
  },
  {
   "cell_type": "code",
   "execution_count": 26,
   "metadata": {
    "collapsed": false
   },
   "outputs": [
    {
     "name": "stdout",
     "output_type": "stream",
     "text": [
      "the battery-powered chicken drone is moving\n"
     ]
    }
   ],
   "source": [
    "print(d.move())"
   ]
  },
  {
   "cell_type": "markdown",
   "metadata": {},
   "source": [
    "So naming something as \"hidden\" isn't the best way to actually hide a variable. What we want to do is use something called a decorator. Now don't worry about exactly what this is right now. But basically it gives you control over exactly how something is created, set, and get."
   ]
  },
  {
   "cell_type": "code",
   "execution_count": 27,
   "metadata": {
    "collapsed": false
   },
   "outputs": [],
   "source": [
    "class Drone:\n",
    "    def __init__(self, power_system, drone_type):\n",
    "        print(\"Instantiating a drone\")\n",
    "        self.power_system = power_system\n",
    "        self.__dtype = drone_type\n",
    "        self.move_count = 0\n",
    "        \n",
    "    @property\n",
    "    def dtype(self):\n",
    "        print(\"The dtype property getter\")\n",
    "        return self.__dtype\n",
    "        \n",
    "    @dtype.setter\n",
    "    def dtype(self, new_type):\n",
    "        print(\"Sorry, you can never change the drone type once created\")\n",
    "        \n",
    "    def move(self):\n",
    "        self.move_count += 1\n",
    "        if self.__dtype == \"plane\":\n",
    "            return \"the %s-powered %s drone is flying\" % (self.power_system, self.__dtype)\n",
    "        elif self.__dtype == \"submarine\":\n",
    "            return \"the %s-powered %s drone is moving underwater\" % (self.power_system, self.__dtype)\n",
    "        else:\n",
    "            return \"the %s-powered %s drone is moving\" % (self.power_system, self.__dtype)"
   ]
  },
  {
   "cell_type": "code",
   "execution_count": 28,
   "metadata": {
    "collapsed": false
   },
   "outputs": [
    {
     "name": "stdout",
     "output_type": "stream",
     "text": [
      "Instantiating a drone\n",
      "Sorry, you can never change the drone type once created\n"
     ]
    }
   ],
   "source": [
    "d = Drone(\"battery\",\"plane\")\n",
    "d.dtype = \"shoe\""
   ]
  },
  {
   "cell_type": "code",
   "execution_count": 29,
   "metadata": {
    "collapsed": false
   },
   "outputs": [
    {
     "name": "stdout",
     "output_type": "stream",
     "text": [
      "The dtype property getter\n"
     ]
    },
    {
     "data": {
      "text/plain": [
       "'plane'"
      ]
     },
     "execution_count": 29,
     "metadata": {},
     "output_type": "execute_result"
    }
   ],
   "source": [
    "d.dtype"
   ]
  },
  {
   "cell_type": "code",
   "execution_count": 30,
   "metadata": {
    "collapsed": false
   },
   "outputs": [],
   "source": [
    "d.__name = \"shoe\""
   ]
  },
  {
   "cell_type": "code",
   "execution_count": 31,
   "metadata": {
    "collapsed": false
   },
   "outputs": [
    {
     "name": "stdout",
     "output_type": "stream",
     "text": [
      "The dtype property getter\n"
     ]
    },
    {
     "data": {
      "text/plain": [
       "'plane'"
      ]
     },
     "execution_count": 31,
     "metadata": {},
     "output_type": "execute_result"
    }
   ],
   "source": [
    "d.dtype"
   ]
  },
  {
   "cell_type": "code",
   "execution_count": 32,
   "metadata": {
    "collapsed": false
   },
   "outputs": [
    {
     "data": {
      "text/plain": [
       "'the battery-powered plane drone is flying'"
      ]
     },
     "execution_count": 32,
     "metadata": {},
     "output_type": "execute_result"
    }
   ],
   "source": [
    "d.move()"
   ]
  },
  {
   "cell_type": "markdown",
   "metadata": {},
   "source": [
    "Pretty cool huh? We can't change it even if we wanted to. This follows a principle called encapsulation. You're coding defensively and understand exactly how people can and will access certain attributes of your object. This is an important thing to do because it keeps your internal use of the code seperate from the outside use of your class. See how we can still access the hidden property by it's actual name in the `move` method? This effectively makes this value *immutable* it can't be changed once it's created."
   ]
  },
  {
   "cell_type": "markdown",
   "metadata": {
    "collapsed": false
   },
   "source": [
    "Now before we move beyond the basics we should dive a bit deeper into different method and attribute types. With classes you can have 2 basic method types and 1 accessory type.\n",
    "\n",
    "The Method Types are:\n",
    "\n",
    "- Instance Methods\n",
    "- Class Methods\n",
    "- Static Methods"
   ]
  },
  {
   "cell_type": "markdown",
   "metadata": {},
   "source": [
    "Instance methods are ones that affect only that instance. For example `move` in the Drone class above only affects that specific instance, no other Drones are affected.\n",
    "\n",
    "Class Methods are methods we haven't explored yet, but let's just rewrite our Drone class to introduce it."
   ]
  },
  {
   "cell_type": "code",
   "execution_count": 8,
   "metadata": {
    "collapsed": true
   },
   "outputs": [],
   "source": [
    "class Drone:\n",
    "    drone_count = 0\n",
    "    def __init__(self, power_system, drone_type):\n",
    "        print(\"Instantiating a drone\")\n",
    "        self.power_system = power_system\n",
    "        self.__dtype = drone_type\n",
    "        self.move_count = 0\n",
    "        Drone.drone_count += 1\n",
    "        \n",
    "    @classmethod\n",
    "    def get_num_drones_created(cls):\n",
    "        return Drone.drone_count\n",
    "        \n",
    "    @property\n",
    "    def dtype(self):\n",
    "        print(\"The dtype property getter\")\n",
    "        return self.__dtype\n",
    "        \n",
    "    @dtype.setter\n",
    "    def dtype(self, new_type):\n",
    "        print(\"Sorry, you can never change the drone type once created\")\n",
    "        \n",
    "    def move(self):\n",
    "        self.move_count += 1\n",
    "        if self.__dtype == \"plane\":\n",
    "            return \"the %s-powered %s drone is flying\" % (self.power_system, self.__dtype)\n",
    "        elif self.__dtype == \"submarine\":\n",
    "            return \"the %s-powered %s drone is moving underwater\" % (self.power_system, self.__dtype)\n",
    "        else:\n",
    "            return \"the %s-powered %s drone is moving\" % (self.power_system, self.__dtype)"
   ]
  },
  {
   "cell_type": "code",
   "execution_count": 9,
   "metadata": {
    "collapsed": false
   },
   "outputs": [
    {
     "name": "stdout",
     "output_type": "stream",
     "text": [
      "Instantiating a drone\n",
      "Instantiating a drone\n",
      "Instantiating a drone\n",
      "Instantiating a drone\n",
      "4\n"
     ]
    }
   ],
   "source": [
    "d = Drone(\"battery\",\"plane\")\n",
    "d2 = Drone(\"battery\",\"plane\")\n",
    "d3 = Drone(\"battery\",\"plane\")\n",
    "d4 = Drone(\"battery\",\"plane\")\n",
    "print(Drone.get_num_drones_created())"
   ]
  },
  {
   "cell_type": "markdown",
   "metadata": {},
   "source": [
    "Do you notice how that works? We made the `drone_count` an attribute of the overall class and we access it from the `classmethod` `get_num_drones_created`. This is a great way of keep track of the number of instances. For example if you're writing a poker game and you want to make sure that no one is cheating, you could check how many instances of \"card\" have been created, if it ever changes you know someone could be adding to the deck!"
   ]
  },
  {
   "cell_type": "markdown",
   "metadata": {
    "collapsed": true
   },
   "source": [
    "The last method type we have to cover are `staticmethods`. These methods are pretty boring because they don't do much (they are static after all). They only provide some niceties, that might print a message to your user. They don't modify anything (or shouldn't) and might do something like print a message.\n",
    "\n",
    "For example, let's modify out drone class again."
   ]
  },
  {
   "cell_type": "code",
   "execution_count": 1,
   "metadata": {
    "collapsed": true
   },
   "outputs": [],
   "source": [
    "class Drone:\n",
    "    drone_count = 0\n",
    "    def __init__(self, power_system, drone_type):\n",
    "        print(\"Instantiating a drone\")\n",
    "        self.power_system = power_system\n",
    "        self.__dtype = drone_type\n",
    "        self.move_count = 0\n",
    "        Drone.drone_count += 1\n",
    "        \n",
    "    @classmethod\n",
    "    def get_num_drones_created(cls):\n",
    "        return Drone.drone_count\n",
    "        \n",
    "    @staticmethod\n",
    "    def about():\n",
    "        print(\"Amazon wants to deliver packages with drones.\")\n",
    "    @property\n",
    "    def dtype(self):\n",
    "        print(\"The dtype property getter\")\n",
    "        return self.__dtype\n",
    "        \n",
    "    @dtype.setter\n",
    "    def dtype(self, new_type):\n",
    "        print(\"Sorry, you can never change the drone type once created\")\n",
    "        \n",
    "    def move(self):\n",
    "        self.move_count += 1\n",
    "        if self.__dtype == \"plane\":\n",
    "            return \"the %s-powered %s drone is flying\" % (self.power_system, self.__dtype)\n",
    "        elif self.__dtype == \"submarine\":\n",
    "            return \"the %s-powered %s drone is moving underwater\" % (self.power_system, self.__dtype)\n",
    "        else:\n",
    "            return \"the %s-powered %s drone is moving\" % (self.power_system, self.__dtype)"
   ]
  },
  {
   "cell_type": "code",
   "execution_count": 2,
   "metadata": {
    "collapsed": false
   },
   "outputs": [
    {
     "name": "stdout",
     "output_type": "stream",
     "text": [
      "Amazon wants to deliver packages with drones.\n"
     ]
    }
   ],
   "source": [
    "Drone.about()"
   ]
  },
  {
   "cell_type": "markdown",
   "metadata": {},
   "source": [
    "And with that we've wrapped up the basics of classes. You've learned a lot in this section, it introduces some new concepts and material. Let's prepare to move onto the next section!"
   ]
  }
 ],
 "metadata": {
  "kernelspec": {
   "display_name": "Python 3",
   "language": "python",
   "name": "python3"
  },
  "language_info": {
   "codemirror_mode": {
    "name": "ipython",
    "version": 3
   },
   "file_extension": ".py",
   "mimetype": "text/x-python",
   "name": "python",
   "nbconvert_exporter": "python",
   "pygments_lexer": "ipython3",
   "version": "3.4.3"
  }
 },
 "nbformat": 4,
 "nbformat_minor": 0
}
