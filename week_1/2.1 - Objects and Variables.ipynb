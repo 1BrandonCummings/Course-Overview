{
 "cells": [
  {
   "cell_type": "markdown",
   "metadata": {},
   "source": [
    "# Basic Objects"
   ]
  },
  {
   "cell_type": "markdown",
   "metadata": {},
   "source": [
    "Everything in python is what we call an object: You can think of it as a generic \"box\" - one that can hold anything from the word \"Book\" to a list of books, to something that can tell you what the 37th page of the book \"Tale of Two Cities\" is. But let's start by understanding the most basic of objects you can create in python."
   ]
  },
  {
   "cell_type": "markdown",
   "metadata": {},
   "source": [
    "Here are some of Python's most basic data types where we will start to create our simplest objects:\n",
    "\n",
    "- **booleans (bool):** which can have the value of either be `True` or `False`\n",
    "- **integers (int):** whole numbers like `4`, `-345`, and `10000000`\n",
    "- **floats (float):** numbers that have a decimal point like `847.5`, `3.14159`, and any number written in scientific notation, i.e. `2e8` or `200000000.0`\n",
    "- **strings (str):** sequences of text characters (like \"Book\")"
   ]
  },
  {
   "cell_type": "markdown",
   "metadata": {},
   "source": [
    "So now we'll go into our python interactive shell and create some of these objects. First, lets just enter the number -345 and see what happens:"
   ]
  },
  {
   "cell_type": "code",
   "execution_count": 1,
   "metadata": {
    "collapsed": false
   },
   "outputs": [
    {
     "data": {
      "text/plain": [
       "-345"
      ]
     },
     "execution_count": 1,
     "metadata": {},
     "output_type": "execute_result"
    }
   ],
   "source": [
    "-345"
   ]
  },
  {
   "cell_type": "markdown",
   "metadata": {},
   "source": [
    "So right now, python is telling us that the expression `-345`, which is an object, has a value of `-345`: something we would expect.\n",
    "\n",
    "When you press run, the python interpreter creates a type of object called an integer (or `int`).  We can double-check this by putting our `-345` inside the type function."
   ]
  },
  {
   "cell_type": "code",
   "execution_count": 2,
   "metadata": {
    "collapsed": false
   },
   "outputs": [
    {
     "data": {
      "text/plain": [
       "int"
      ]
     },
     "execution_count": 2,
     "metadata": {},
     "output_type": "execute_result"
    }
   ],
   "source": [
    "type(-345)"
   ]
  },
  {
   "cell_type": "markdown",
   "metadata": {},
   "source": [
    "This part is important: what we did is put in the object (`-345`) into the function (`type`) (more on functions later in the course) and Python told us what kind of object this is (`int`). The object `-345` contains more than just the value `-345` which we will demonstrate throughout this course. The key thing to understand is that every thing is an object, even simple integers."
   ]
  },
  {
   "cell_type": "markdown",
   "metadata": {},
   "source": [
    "Lets use this `type` function to verify examples of all of the different data types that we have learned about so far:"
   ]
  },
  {
   "cell_type": "code",
   "execution_count": 3,
   "metadata": {
    "collapsed": false
   },
   "outputs": [
    {
     "data": {
      "text/plain": [
       "int"
      ]
     },
     "execution_count": 3,
     "metadata": {},
     "output_type": "execute_result"
    }
   ],
   "source": [
    "type(-345)"
   ]
  },
  {
   "cell_type": "code",
   "execution_count": 4,
   "metadata": {
    "collapsed": false
   },
   "outputs": [
    {
     "data": {
      "text/plain": [
       "bool"
      ]
     },
     "execution_count": 4,
     "metadata": {},
     "output_type": "execute_result"
    }
   ],
   "source": [
    "type(True)"
   ]
  },
  {
   "cell_type": "code",
   "execution_count": 5,
   "metadata": {
    "collapsed": false
   },
   "outputs": [
    {
     "data": {
      "text/plain": [
       "float"
      ]
     },
     "execution_count": 5,
     "metadata": {},
     "output_type": "execute_result"
    }
   ],
   "source": [
    "type(847.5)"
   ]
  },
  {
   "cell_type": "code",
   "execution_count": 6,
   "metadata": {
    "collapsed": false
   },
   "outputs": [
    {
     "data": {
      "text/plain": [
       "str"
      ]
     },
     "execution_count": 6,
     "metadata": {},
     "output_type": "execute_result"
    }
   ],
   "source": [
    "type(\"Book\")"
   ]
  },
  {
   "cell_type": "markdown",
   "metadata": {},
   "source": [
    "Note: Python provides the shortened version of the data type (i.e. bool instead of boolean) "
   ]
  },
  {
   "cell_type": "markdown",
   "metadata": {},
   "source": [
    "# Variables"
   ]
  },
  {
   "cell_type": "markdown",
   "metadata": {
    "collapsed": false
   },
   "source": [
    "Variables are simply names we give to objects, and you can change what object they refer to during the program's execution, which can be extremely useful. These names refer to specific locations in the computer's memory, and when you assign a value to a variable that value is stored in that specific location in memory. The assignment operator is \"=\""
   ]
  },
  {
   "cell_type": "markdown",
   "metadata": {},
   "source": [
    "Let's try a simple example:"
   ]
  },
  {
   "cell_type": "code",
   "execution_count": 7,
   "metadata": {
    "collapsed": true
   },
   "outputs": [],
   "source": [
    "a = 7"
   ]
  },
  {
   "cell_type": "markdown",
   "metadata": {},
   "source": [
    "Notice that there is no output in this iPython notebook. Now *a reference* to the object 7 has been saved in the memory address that the variable `a` points to. \n",
    "\n",
    "*Please note:* Assignment does not copy a value. The object `7` was created and then the variable `a` was assignned to be a name that points to that `7` object. This is important to understand this difference as we move on to more complex objects like lists, dictionaries, and even your own custom objects."
   ]
  },
  {
   "cell_type": "markdown",
   "metadata": {},
   "source": [
    "Let's create a few variables and see how we can use variables instead of using literal objects:"
   ]
  },
  {
   "cell_type": "code",
   "execution_count": 8,
   "metadata": {
    "collapsed": false
   },
   "outputs": [
    {
     "data": {
      "text/plain": [
       "35"
      ]
     },
     "execution_count": 8,
     "metadata": {},
     "output_type": "execute_result"
    }
   ],
   "source": [
    "a = 7\n",
    "b = 5\n",
    "a * b"
   ]
  },
  {
   "cell_type": "markdown",
   "metadata": {},
   "source": [
    "In this example we created two objects: the integer `7` and then integer `5`. We then assigned  a and b to `7` and `5` respectively. We then multiplied the two integers.\n",
    "\n",
    "Becase we used variables, we can use the same statement \"`a*b`\" to multiply any two numbers we would like. Here's another example creating different integer objects:"
   ]
  },
  {
   "cell_type": "code",
   "execution_count": 9,
   "metadata": {
    "collapsed": false
   },
   "outputs": [
    {
     "data": {
      "text/plain": [
       "18"
      ]
     },
     "execution_count": 9,
     "metadata": {},
     "output_type": "execute_result"
    }
   ],
   "source": [
    "a = 6\n",
    "b = 3\n",
    "a * b"
   ]
  },
  {
   "cell_type": "markdown",
   "metadata": {},
   "source": [
    "These examples showcase some of the power of variables. Instead of typing `7*5` or `6*3` every time we want to multiply two numbers, we could simply assign the numbers we want to multiply to variables `a` and `b` and then run `a*b`. This also enables us to change the variables while our program is running, enabling us to implement more abstract and complicated algorithms."
   ]
  },
  {
   "cell_type": "markdown",
   "metadata": {},
   "source": [
    "Here's a real world example that uses variables that point to integers and floats to calculate how much your money will be worth if you leave it in a bank that pays interest: "
   ]
  },
  {
   "cell_type": "code",
   "execution_count": 10,
   "metadata": {
    "collapsed": false
   },
   "outputs": [
    {
     "data": {
      "text/plain": [
       "148984.5708301605"
      ]
     },
     "execution_count": 10,
     "metadata": {},
     "output_type": "execute_result"
    }
   ],
   "source": [
    "initial_balance = 100000\n",
    "interest_rate = .08\n",
    "number_of_years = 5\n",
    "\n",
    "# Note we will go over the ** operator in the next section, which is the exponent operator\n",
    "initial_balance * (1 + interest_rate/12) ** (12*number_of_years)"
   ]
  },
  {
   "cell_type": "markdown",
   "metadata": {},
   "source": [
    "We can use that same expression `initial_balance * (1 + interest_rate/12) ** (12*number_of_years)` to calculate future balances for a wide variety of banks. That is the power of variables. In addition, because we have great flexability in what we can name our variables, we can describe what the variable is to make coding easier. For example, the `initial_balance` variable holds the starting balance of the account."
   ]
  },
  {
   "cell_type": "markdown",
   "metadata": {},
   "source": [
    "## Note on Constructors"
   ]
  },
  {
   "cell_type": "markdown",
   "metadata": {},
   "source": [
    "For many builtin Python types, Python provides a way of creating objects simply by writing out the value of the object. Demonstrate, let's go back to our first object:"
   ]
  },
  {
   "cell_type": "code",
   "execution_count": 11,
   "metadata": {
    "collapsed": false
   },
   "outputs": [
    {
     "data": {
      "text/plain": [
       "7"
      ]
     },
     "execution_count": 11,
     "metadata": {},
     "output_type": "execute_result"
    }
   ],
   "source": [
    "7"
   ]
  },
  {
   "cell_type": "markdown",
   "metadata": {},
   "source": [
    "When we type the number `7` in python, an integer object with the value 7 is created. However, as we move towards more complicated objects (including how to create our own kind of object), we would have to figure out how we would create that kind of complicated object. We would need a method that could create an object of a particular type.\n",
    "\n",
    "Python offers this functionality by using *constructors.* A constructor is a specialized method that creates an object of a particular type. All of the built in datatypes have their own constructor that you can use."
   ]
  },
  {
   "cell_type": "markdown",
   "metadata": {},
   "source": [
    "For example, here is how you can create an integer object of value 7 using its constructor:"
   ]
  },
  {
   "cell_type": "code",
   "execution_count": 12,
   "metadata": {
    "collapsed": false
   },
   "outputs": [
    {
     "data": {
      "text/plain": [
       "7"
      ]
     },
     "execution_count": 12,
     "metadata": {},
     "output_type": "execute_result"
    }
   ],
   "source": [
    "int(7)"
   ]
  },
  {
   "cell_type": "markdown",
   "metadata": {},
   "source": [
    "Note that Python returned the object 7 as it did in the previous example. To further demonstrate constructors, let's go back to our expression that calculates how much money you will make if you leave your money in the bank for a period of time:"
   ]
  },
  {
   "cell_type": "code",
   "execution_count": 13,
   "metadata": {
    "collapsed": false
   },
   "outputs": [
    {
     "data": {
      "text/plain": [
       "148984.5708301605"
      ]
     },
     "execution_count": 13,
     "metadata": {},
     "output_type": "execute_result"
    }
   ],
   "source": [
    "initial_balance = int(100000)\n",
    "interest_rate = float(.08)\n",
    "number_of_years = int(5)\n",
    "\n",
    "# Note we will go over the ** operator in the next section, which is the exponent operator\n",
    "initial_balance * (1 + interest_rate/12) ** (12*number_of_years)"
   ]
  },
  {
   "cell_type": "markdown",
   "metadata": {},
   "source": [
    "Note how the result is the same as when we previously calculated the effects of compound interest. We used constructors here to create the integer and float objects that would go into our expression. Every data type has a constructor that helps you create objects of that type."
   ]
  },
  {
   "cell_type": "markdown",
   "metadata": {},
   "source": [
    "Constructors can be really helpful in creating objects from other objects that are not the same data type. For example, let's say we had this in a variable:"
   ]
  },
  {
   "cell_type": "code",
   "execution_count": 14,
   "metadata": {
    "collapsed": false
   },
   "outputs": [
    {
     "name": "stdout",
     "output_type": "stream",
     "text": [
      "75\n"
     ]
    },
    {
     "data": {
      "text/plain": [
       "str"
      ]
     },
     "execution_count": 14,
     "metadata": {},
     "output_type": "execute_result"
    }
   ],
   "source": [
    "number_string = \"75\"\n",
    "print(number_string)\n",
    "type(number_string)"
   ]
  },
  {
   "cell_type": "markdown",
   "metadata": {},
   "source": [
    "In this example number_string is of type string (as shown from the last statement). Because it is a string, we would not be able to do mathematical operations on it as we would expect:"
   ]
  },
  {
   "cell_type": "code",
   "execution_count": 16,
   "metadata": {
    "collapsed": false
   },
   "outputs": [
    {
     "ename": "TypeError",
     "evalue": "can't multiply sequence by non-int of type 'str'",
     "output_type": "error",
     "traceback": [
      "\u001b[0;31m---------------------------------------------------------------------------\u001b[0m",
      "\u001b[0;31mTypeError\u001b[0m                                 Traceback (most recent call last)",
      "\u001b[0;32m<ipython-input-16-8f9159ef96b0>\u001b[0m in \u001b[0;36m<module>\u001b[0;34m()\u001b[0m\n\u001b[0;32m----> 1\u001b[0;31m \u001b[0mnumber_string\u001b[0m \u001b[0;34m*\u001b[0m \u001b[0mnumber_string\u001b[0m\u001b[0;34m\u001b[0m\u001b[0m\n\u001b[0m",
      "\u001b[0;31mTypeError\u001b[0m: can't multiply sequence by non-int of type 'str'"
     ]
    }
   ],
   "source": [
    "number_string * number_string"
   ]
  },
  {
   "cell_type": "markdown",
   "metadata": {},
   "source": [
    "However, we use constructors to create the integer objects that we can then use for mathematical operation:"
   ]
  },
  {
   "cell_type": "code",
   "execution_count": 17,
   "metadata": {
    "collapsed": false
   },
   "outputs": [
    {
     "data": {
      "text/plain": [
       "5625"
      ]
     },
     "execution_count": 17,
     "metadata": {},
     "output_type": "execute_result"
    }
   ],
   "source": [
    "number = int(number_string)\n",
    "number * number"
   ]
  },
  {
   "cell_type": "markdown",
   "metadata": {},
   "source": [
    "In Python, the int() constructor can take a string and attempt to create an integer out of what it finds. So when it received an object that points to the string `\"75\"`, the constructor tries to infer what integer object the string `\"75\"` would represent. For our human minds this is a seamless conversion, but for a computer we would need run an algorithm to convert a string to a number, and have a process of failing if the string could not be converted:"
   ]
  },
  {
   "cell_type": "code",
   "execution_count": 18,
   "metadata": {
    "collapsed": false
   },
   "outputs": [
    {
     "ename": "ValueError",
     "evalue": "invalid literal for int() with base 10: '948+9'",
     "output_type": "error",
     "traceback": [
      "\u001b[0;31m---------------------------------------------------------------------------\u001b[0m",
      "\u001b[0;31mValueError\u001b[0m                                Traceback (most recent call last)",
      "\u001b[0;32m<ipython-input-18-baeda3b44e71>\u001b[0m in \u001b[0;36m<module>\u001b[0;34m()\u001b[0m\n\u001b[0;32m----> 1\u001b[0;31m \u001b[0mint\u001b[0m\u001b[0;34m(\u001b[0m\u001b[0;34m\"948+9\"\u001b[0m\u001b[0;34m)\u001b[0m\u001b[0;34m\u001b[0m\u001b[0m\n\u001b[0m",
      "\u001b[0;31mValueError\u001b[0m: invalid literal for int() with base 10: '948+9'"
     ]
    }
   ],
   "source": [
    "int(\"948+9\")"
   ]
  },
  {
   "cell_type": "markdown",
   "metadata": {},
   "source": [
    "The book provides several examples of how we can use constructors for data type conversions. The important part to understand is that every type has a constructor that can create an object of that particular type. This understanding will help demonstrate the connection from the simplest objects: booleans, ints, and floats to the most complicated objects that we will go over in later sections.\n",
    "\n",
    "But for the next section we are going to focus more on the special operations you perform on numbers, namely integers and floats and how useful those data types can be."
   ]
  }
 ],
 "metadata": {
  "kernelspec": {
   "display_name": "Python 3",
   "language": "python",
   "name": "python3"
  },
  "language_info": {
   "codemirror_mode": {
    "name": "ipython",
    "version": 3
   },
   "file_extension": ".py",
   "mimetype": "text/x-python",
   "name": "python",
   "nbconvert_exporter": "python",
   "pygments_lexer": "ipython3",
   "version": "3.4.3"
  }
 },
 "nbformat": 4,
 "nbformat_minor": 0
}
