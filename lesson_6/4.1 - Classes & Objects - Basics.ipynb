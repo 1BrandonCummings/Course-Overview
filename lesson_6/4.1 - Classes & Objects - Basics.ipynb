{
 "metadata": {
  "name": ""
 },
 "nbformat": 3,
 "nbformat_minor": 0,
 "worksheets": [
  {
   "cells": [
    {
     "cell_type": "markdown",
     "metadata": {},
     "source": [
      "# Classes\n",
      "\n",
      "Classes are some of the fundamental building blocks of python programs. We've learned about functions and how we have to execute them to have an effect, now we're going to learn about classes. Classes operate in a similar fashion in that they have to be instantiated prior to have an effect. Let's start playing around with them to learn more about them."
     ]
    },
    {
     "cell_type": "markdown",
     "metadata": {},
     "source": [
      "Classes are constracted with the `class` keyword."
     ]
    },
    {
     "cell_type": "code",
     "collapsed": false,
     "input": [
      "class Drone:\n",
      "    \"\"\"Base class for all drone aircraft\"\"\""
     ],
     "language": "python",
     "metadata": {},
     "outputs": [],
     "prompt_number": 2
    },
    {
     "cell_type": "markdown",
     "metadata": {},
     "source": [
      "You'll see above that I have below the class definition a python multiline string.\n",
      "\n",
      "Multiline strings start with `\"\"\"` and signify that this text should all be included as one. In reality what this is is a description (or Docstring) of the class and what it is. We can see this within the IPython Notebook through."
     ]
    },
    {
     "cell_type": "code",
     "collapsed": false,
     "input": [
      "?Drone"
     ],
     "language": "python",
     "metadata": {},
     "outputs": [],
     "prompt_number": 4
    },
    {
     "cell_type": "markdown",
     "metadata": {},
     "source": [
      "Which will print out:\n",
      "```\n",
      "Type:       type\n",
      "String Form:<class '__main__.Drone'>\n",
      "Docstring:  Base class for all drone aircraft\n",
      "```"
     ]
    },
    {
     "cell_type": "markdown",
     "metadata": {},
     "source": [
      "This is an important part of programming, documenting what you're doing. In reality you should be documenting functions and classes as well as methods. Now what are methods you might ask? Methods are basically functions that are attached to classes."
     ]
    },
    {
     "cell_type": "code",
     "collapsed": false,
     "input": [
      "class Drone:\n",
      "    def fly(self):\n",
      "        return \"The Drone is Flying\""
     ],
     "language": "python",
     "metadata": {},
     "outputs": [],
     "prompt_number": 5
    },
    {
     "cell_type": "code",
     "collapsed": false,
     "input": [
      "d = Drone()\n",
      "print(d.fly())"
     ],
     "language": "python",
     "metadata": {},
     "outputs": [
      {
       "output_type": "stream",
       "stream": "stdout",
       "text": [
        "The Drone is Flying\n"
       ]
      }
     ],
     "prompt_number": 7
    },
    {
     "cell_type": "markdown",
     "metadata": {},
     "source": [
      "What we did above is a couple of important things. We defined the drone class with one method, `fly`. We had this return a string `The Drone is Flying`.\n",
      "\n",
      "In the line after, we created a new instance of the `Drone` class and assigned it to `d`. Then printed out the result of the fly method.\n",
      "\n",
      "An instance is just a realization of an abstract concept. `d` is the realization of the idea of `Drone`. `d` is an object.\n",
      "\n",
      "An object refers to a particular instance of a class. A class (and object) can include methods, variables, and other information. In this example, `d` is our object. This allows is to very easily make lots of copies of certain objects and individualize them from there rather than having to make them one by one. This is because things of a certain class all hold certain variables and methods for us that are common operations, things that belong to that class of objects. For example, all drones have some sort of power system. What we'd like to do is a simple way of storing that information."
     ]
    },
    {
     "cell_type": "code",
     "collapsed": false,
     "input": [
      "class Drone:\n",
      "    power_system = \"battery\"\n",
      "    def fly(self):\n",
      "        return \"The %s-powered drone is flying\" % (self.power_system)"
     ],
     "language": "python",
     "metadata": {},
     "outputs": [],
     "prompt_number": 15
    },
    {
     "cell_type": "code",
     "collapsed": false,
     "input": [
      "d = Drone()\n",
      "print(d.power_system)\n",
      "print(d.fly())"
     ],
     "language": "python",
     "metadata": {},
     "outputs": [
      {
       "ename": "TypeError",
       "evalue": "fly() takes 0 positional arguments but 1 was given",
       "output_type": "pyerr",
       "traceback": [
        "\u001b[0;31m---------------------------------------------------------------------------\u001b[0m\n\u001b[0;31mTypeError\u001b[0m                                 Traceback (most recent call last)",
        "\u001b[0;32m<ipython-input-14-a0d597da4986>\u001b[0m in \u001b[0;36m<module>\u001b[0;34m()\u001b[0m\n\u001b[1;32m      1\u001b[0m \u001b[0md\u001b[0m \u001b[0;34m=\u001b[0m \u001b[0mDrone\u001b[0m\u001b[0;34m(\u001b[0m\u001b[0;34m)\u001b[0m\u001b[0;34m\u001b[0m\u001b[0m\n\u001b[1;32m      2\u001b[0m \u001b[0mprint\u001b[0m\u001b[0;34m(\u001b[0m\u001b[0md\u001b[0m\u001b[0;34m.\u001b[0m\u001b[0mpower_system\u001b[0m\u001b[0;34m)\u001b[0m\u001b[0;34m\u001b[0m\u001b[0m\n\u001b[0;32m----> 3\u001b[0;31m \u001b[0mprint\u001b[0m\u001b[0;34m(\u001b[0m\u001b[0md\u001b[0m\u001b[0;34m.\u001b[0m\u001b[0mfly\u001b[0m\u001b[0;34m(\u001b[0m\u001b[0;34m)\u001b[0m\u001b[0;34m)\u001b[0m\u001b[0;34m\u001b[0m\u001b[0m\n\u001b[0m",
        "\u001b[0;31mTypeError\u001b[0m: fly() takes 0 positional arguments but 1 was given"
       ]
      },
      {
       "output_type": "stream",
       "stream": "stdout",
       "text": [
        "battery\n"
       ]
      }
     ],
     "prompt_number": 14
    },
    {
     "cell_type": "markdown",
     "metadata": {},
     "source": [
      "Now at this point you should have noticed a couple of things. We can pretty much attach whatever we want to this drone class, variable and methods. \n",
      "\n",
      "You can think of an object, like `d` as almost like a dictionary. You can get and set values, you can store almost any other type and keep information local to that object. Obviously this is a simplification but it's a simple way of thinking about it.\n",
      "\n",
      "Another thing that likely jumped out at you is how we include the `self` keyword. Now I promise that the self keyword will take some time for you to wrap your head around. But at it's most basic level it's the easiest way to reference that specific instance's attributes.  What's really happening under the hood is:\n",
      "\n"
     ]
    },
    {
     "cell_type": "code",
     "collapsed": false,
     "input": [
      "Drone.fly(d)"
     ],
     "language": "python",
     "metadata": {},
     "outputs": [
      {
       "metadata": {},
       "output_type": "pyout",
       "prompt_number": 16,
       "text": [
        "'The battery-powered drone is flying'"
       ]
      }
     ],
     "prompt_number": 16
    },
    {
     "cell_type": "markdown",
     "metadata": {},
     "source": [
      "Basically the method is being called from the class definition (note how Drone is capitalized), and we're passing in which Drone object (or instance) we want it to refer to. While this is just convention, it's how everyone writes their python code and how you should as well."
     ]
    },
    {
     "cell_type": "markdown",
     "metadata": {},
     "source": [
      "Now that we've covered te use `self`. Let's move on to `__init__`. Many times you're going to want to create a class with certain attributes. Above we added the power system variable. But we set it to \"battery'. What if we had a gas powered drone? We'd have to do something like:"
     ]
    },
    {
     "cell_type": "code",
     "collapsed": false,
     "input": [
      "d = Drone()\n",
      "d.power_system = \"gas\"\n",
      "d.fly()"
     ],
     "language": "python",
     "metadata": {},
     "outputs": [
      {
       "metadata": {},
       "output_type": "pyout",
       "prompt_number": 18,
       "text": [
        "'The gas-powered drone is flying'"
       ]
      }
     ],
     "prompt_number": 18
    },
    {
     "cell_type": "markdown",
     "metadata": {},
     "source": [
      "Now clearly this would cause all kinds of errors because the default isn't necessarily what you would want, so along comes the `__init__` helper to the rescue. The init method allows you to set up the constructor for your class. This means that when you create that instance of the class, certain things will happen."
     ]
    },
    {
     "cell_type": "code",
     "collapsed": false,
     "input": [
      "class Drone:\n",
      "    def __init__(self):\n",
      "        self.power_system = \"battery\"\n",
      "        self.aircraft_type = \"plane\"\n",
      "    def fly(self):\n",
      "        return \"The %s-powered drone is flying\" % (self.power_system)"
     ],
     "language": "python",
     "metadata": {},
     "outputs": [],
     "prompt_number": 22
    },
    {
     "cell_type": "code",
     "collapsed": false,
     "input": [
      "d = Drone()\n",
      "print(d.power_system)\n",
      "print(d.aircraft_type)"
     ],
     "language": "python",
     "metadata": {},
     "outputs": [
      {
       "output_type": "stream",
       "stream": "stdout",
       "text": [
        "battery\n",
        "plane\n"
       ]
      }
     ],
     "prompt_number": 23
    },
    {
     "cell_type": "markdown",
     "metadata": {},
     "source": [
      "Now remember `__init__` is just a function attached to the Drone class so we can change the variables as we see fit. This allows us to make things extremely abstract so that our objects are flexible and we have to write the least amount of code possible."
     ]
    },
    {
     "cell_type": "code",
     "collapsed": false,
     "input": [
      "class Drone:\n",
      "    def __init__(self, power_system, drone_type):\n",
      "        print(\"Instantiating a drone\")\n",
      "        self.power_system = power_system\n",
      "        self.drone_type = drone_type\n",
      "        self.move_count = 0\n",
      "        \n",
      "    def move(self):\n",
      "        self.move_count += 1\n",
      "        if self.drone_type == \"plane\":\n",
      "            return \"the %s-powered %s drone is flying\" % (self.power_system, self.drone_type)\n",
      "        elif self.drone_type == \"submarine\":\n",
      "            return \"the %s-powered %s drone is moving underwater\" % (self.power_system, self.drone_type)\n",
      "        else:\n",
      "            return \"the %s-powered %s drone is moving\" % (self.power_system, self.drone_type)"
     ],
     "language": "python",
     "metadata": {},
     "outputs": [],
     "prompt_number": 53
    },
    {
     "cell_type": "code",
     "collapsed": false,
     "input": [
      "airplane = Drone(\"gas\", \"plane\")"
     ],
     "language": "python",
     "metadata": {},
     "outputs": [
      {
       "output_type": "stream",
       "stream": "stdout",
       "text": [
        "Instantiating a drone\n"
       ]
      }
     ],
     "prompt_number": 54
    },
    {
     "cell_type": "code",
     "collapsed": false,
     "input": [
      "submarine = Drone(\"diesel\", \"submarine\")"
     ],
     "language": "python",
     "metadata": {},
     "outputs": [
      {
       "output_type": "stream",
       "stream": "stdout",
       "text": [
        "Instantiating a drone\n"
       ]
      }
     ],
     "prompt_number": 55
    },
    {
     "cell_type": "code",
     "collapsed": false,
     "input": [
      "print(airplane.move())\n",
      "print(submarine.move())\n",
      "print(airplane.move())"
     ],
     "language": "python",
     "metadata": {},
     "outputs": [
      {
       "output_type": "stream",
       "stream": "stdout",
       "text": [
        "the gas-powered plane drone is flying\n",
        "the diesel-powered submarine drone is moving underwater\n",
        "the gas-powered plane drone is flying\n"
       ]
      }
     ],
     "prompt_number": 61
    },
    {
     "cell_type": "code",
     "collapsed": false,
     "input": [
      "print(\"Airplane Move Count:\")\n",
      "print(airplane.move_count)\n",
      "print(\"Submarine Move Count:\")\n",
      "print(submarine.move_count)"
     ],
     "language": "python",
     "metadata": {},
     "outputs": [
      {
       "output_type": "stream",
       "stream": "stdout",
       "text": [
        "Airplane Move Count:\n",
        "7\n",
        "Submarine Move Count:\n",
        "3\n"
       ]
      }
     ],
     "prompt_number": 62
    },
    {
     "cell_type": "markdown",
     "metadata": {},
     "source": [
      "Notice how we are able to update the `move_count` whenever we move the drone and that that count describes only that instance."
     ]
    },
    {
     "cell_type": "markdown",
     "metadata": {},
     "source": [
      "This is one of they key concepts of object oriented programming. Notice how now we have a general Drone class, however this can now apply to submersibles or to airplane drones. Now as you might have guessed, taking this to an extreme can make things really inflexible because everything becomes to abstract. There are always trade offs and it's up to you as the programmer to understand those trade-offs when you make certain design decisions."
     ]
    },
    {
     "cell_type": "markdown",
     "metadata": {},
     "source": [
      "Another common choice surrounds how to set and get attributes or properties. Now the `drone_type` variable is a property of the Drone instance. It is one of the fundamental descriptors of an instance and it's important that we control how it is accessed and set.\n",
      "\n",
      "For example, sometimes you might want to get a value and you accidentally set it or other times you may want to make sure that it cannot be changed in the future. In this setting, once a drone is created, it's type should never change. One way of controlling this is through getter and setter methods."
     ]
    },
    {
     "cell_type": "code",
     "collapsed": false,
     "input": [
      "class Drone:\n",
      "    def __init__(self, power_system, drone_type):\n",
      "        print(\"Instantiating a drone\")\n",
      "        self.power_system = power_system\n",
      "        self.hidden_dtype = drone_type\n",
      "        self.move_count = 0\n",
      "        \n",
      "    def set_dtype(self, new_type):\n",
      "        print(\"Alert, changing drone type!\")\n",
      "        self.hidden_dtype = new_type\n",
      "        \n",
      "    def get_dtype(self):\n",
      "        print(\"Alert, accessing drone type!\")\n",
      "        return self.hidden_dtype\n",
      "        \n",
      "    def move(self):\n",
      "        self.move_count += 1\n",
      "        if self.hidden_dtype == \"plane\":\n",
      "            return \"the %s-powered %s drone is flying\" % (self.power_system, self.hidden_dtype)\n",
      "        elif self.hidden_dtype == \"submarine\":\n",
      "            return \"the %s-powered %s drone is moving underwater\" % (self.power_system, self.hidden_dtype)\n",
      "        else:\n",
      "            return \"the %s-powered %s drone is moving\" % (self.power_system, self.hidden_dtype)"
     ],
     "language": "python",
     "metadata": {},
     "outputs": [],
     "prompt_number": 100
    },
    {
     "cell_type": "markdown",
     "metadata": {},
     "source": [
      "Now that we've seen how we can make this Drone class a bit more abstract, let's explore another topic. **Inheritance.**"
     ]
    },
    {
     "cell_type": "code",
     "collapsed": false,
     "input": [
      "d = Drone(\"battery\",\"plane\")"
     ],
     "language": "python",
     "metadata": {},
     "outputs": [
      {
       "output_type": "stream",
       "stream": "stdout",
       "text": [
        "Instantiating a drone\n"
       ]
      }
     ],
     "prompt_number": 101
    },
    {
     "cell_type": "code",
     "collapsed": false,
     "input": [
      "d.get_dtype()"
     ],
     "language": "python",
     "metadata": {},
     "outputs": [
      {
       "output_type": "stream",
       "stream": "stdout",
       "text": [
        "Alert, accessing drone type!\n"
       ]
      },
      {
       "metadata": {},
       "output_type": "pyout",
       "prompt_number": 102,
       "text": [
        "'plane'"
       ]
      }
     ],
     "prompt_number": 102
    },
    {
     "cell_type": "markdown",
     "metadata": {},
     "source": [
      "Now we're controlling how this is accessed. However, it's still a bit hacky because we can bypass this and never know it. Or we might be setting a different property than we think we are."
     ]
    },
    {
     "cell_type": "code",
     "collapsed": false,
     "input": [
      "d.hidden_dtype = \"shoe\""
     ],
     "language": "python",
     "metadata": {},
     "outputs": [],
     "prompt_number": 104
    },
    {
     "cell_type": "code",
     "collapsed": false,
     "input": [
      "d.get_dtype()"
     ],
     "language": "python",
     "metadata": {},
     "outputs": [
      {
       "output_type": "stream",
       "stream": "stdout",
       "text": [
        "Alert, accessing drone type!\n"
       ]
      },
      {
       "metadata": {},
       "output_type": "pyout",
       "prompt_number": 105,
       "text": [
        "'shoe'"
       ]
      }
     ],
     "prompt_number": 105
    },
    {
     "cell_type": "markdown",
     "metadata": {},
     "source": [
      "Now you might be wondering, when would this actually ever happen. I know I shouldn't ever set my drone to be of type shoe and you're right, *you* might not. But you don't know how you're going to be using the class you create in the future. What if you're creating something that other people are going to use? How would they know that they aren't supposed to access or change the type this way?\n",
      "\n",
      "This is a key point, you always want to code defensively. You never know how something might be used in the future and for the most part you want to control access to certain parts of your code and classes."
     ]
    },
    {
     "cell_type": "code",
     "collapsed": false,
     "input": [
      "class Drone:\n",
      "    def __init__(self, power_system, drone_type):\n",
      "        print(\"Instantiating a drone\")\n",
      "        self.power_system = power_system\n",
      "        self.hidden_dtype = drone_type\n",
      "        self.move_count = 0\n",
      "        \n",
      "    def set_dtype(self, new_type):\n",
      "        print(\"Alert, changing drone type!\")\n",
      "        self.hidden_dtype = new_type\n",
      "        \n",
      "    def get_dtype(self):\n",
      "        print(\"Alert, accessing drone type!\")\n",
      "        return self.hidden_dtype\n",
      "    \n",
      "    #adding this line\n",
      "    dtype = property(get_dtype, set_dtype)\n",
      "        \n",
      "    def move(self):\n",
      "        self.move_count += 1\n",
      "        if self.hidden_dtype == \"plane\":\n",
      "            return \"the %s-powered %s drone is flying\" % (self.power_system, self.hidden_dtype)\n",
      "        elif self.hidden_dtype == \"submarine\":\n",
      "            return \"the %s-powered %s drone is moving underwater\" % (self.power_system, self.hidden_dtype)\n",
      "        else:\n",
      "            return \"the %s-powered %s drone is moving\" % (self.power_system, self.hidden_dtype)"
     ],
     "language": "python",
     "metadata": {},
     "outputs": [],
     "prompt_number": 106
    },
    {
     "cell_type": "code",
     "collapsed": false,
     "input": [
      "d = Drone(\"battery\",\"plane\")\n",
      "print(d.get_dtype())\n",
      "print(d.dtype)"
     ],
     "language": "python",
     "metadata": {},
     "outputs": [
      {
       "output_type": "stream",
       "stream": "stdout",
       "text": [
        "Instantiating a drone\n",
        "Alert, accessing drone type!\n",
        "plane\n",
        "Alert, accessing drone type!\n",
        "plane\n"
       ]
      }
     ],
     "prompt_number": 107
    },
    {
     "cell_type": "code",
     "collapsed": false,
     "input": [
      "d.set_dtype(\"tank\")\n",
      "d.dtype = \"submarine\""
     ],
     "language": "python",
     "metadata": {},
     "outputs": [
      {
       "output_type": "stream",
       "stream": "stdout",
       "text": [
        "Alert, changing drone type!\n",
        "Alert, changing drone type!\n"
       ]
      }
     ],
     "prompt_number": 113
    },
    {
     "cell_type": "code",
     "collapsed": false,
     "input": [
      "print(d.move())"
     ],
     "language": "python",
     "metadata": {},
     "outputs": [
      {
       "output_type": "stream",
       "stream": "stdout",
       "text": [
        "the battery-powered submarine drone is moving underwater\n"
       ]
      }
     ],
     "prompt_number": 114
    },
    {
     "cell_type": "markdown",
     "metadata": {},
     "source": [
      "Now a similar topic is covered in the book. But basically we're now creating this idea of a property. Again, it's an attribute that describes this specific instance except now we're controlling how it's accessed. Unfortunately, as we saw above. Someone can hijack this if they aren't careful. "
     ]
    },
    {
     "cell_type": "code",
     "collapsed": false,
     "input": [
      "d.hidden_dtype = \"chicken\""
     ],
     "language": "python",
     "metadata": {},
     "outputs": [],
     "prompt_number": 115
    },
    {
     "cell_type": "code",
     "collapsed": false,
     "input": [
      "print(d.move())"
     ],
     "language": "python",
     "metadata": {},
     "outputs": [
      {
       "output_type": "stream",
       "stream": "stdout",
       "text": [
        "the battery-powered chicken drone is moving\n"
       ]
      }
     ],
     "prompt_number": 116
    },
    {
     "cell_type": "markdown",
     "metadata": {},
     "source": [
      "So naming something as \"hidden\" isn't the best way to actually hide a variable. What we want to do is use something called a decorator. Now don't worry about exactly what this is right now. But basically it gives you control over exactly how something is created, set, and get."
     ]
    },
    {
     "cell_type": "code",
     "collapsed": false,
     "input": [
      "class Drone:\n",
      "    def __init__(self, power_system, drone_type):\n",
      "        print(\"Instantiating a drone\")\n",
      "        self.power_system = power_system\n",
      "        self.__dtype = drone_type\n",
      "        self.move_count = 0\n",
      "        \n",
      "    @property\n",
      "    def dtype(self):\n",
      "        print(\"The dtype property getter\")\n",
      "        return self.__dtype\n",
      "        \n",
      "    @dtype.setter\n",
      "    def dtype(self, new_type):\n",
      "        print(\"Sorry, you can never change the drone type once created\")\n",
      "        \n",
      "    def move(self):\n",
      "        self.move_count += 1\n",
      "        if self.__dtype == \"plane\":\n",
      "            return \"the %s-powered %s drone is flying\" % (self.power_system, self.__dtype)\n",
      "        elif self.__dtype == \"submarine\":\n",
      "            return \"the %s-powered %s drone is moving underwater\" % (self.power_system, self.__dtype)\n",
      "        else:\n",
      "            return \"the %s-powered %s drone is moving\" % (self.power_system, self.__dtype)"
     ],
     "language": "python",
     "metadata": {},
     "outputs": [],
     "prompt_number": 128
    },
    {
     "cell_type": "code",
     "collapsed": false,
     "input": [
      "d = Drone(\"battery\",\"plane\")\n",
      "d.dtype = \"shoe\""
     ],
     "language": "python",
     "metadata": {},
     "outputs": [
      {
       "output_type": "stream",
       "stream": "stdout",
       "text": [
        "Instantiating a drone\n",
        "Sorry, you can never change the drone type once created\n"
       ]
      }
     ],
     "prompt_number": 129
    },
    {
     "cell_type": "code",
     "collapsed": false,
     "input": [
      "d.dtype"
     ],
     "language": "python",
     "metadata": {},
     "outputs": [
      {
       "output_type": "stream",
       "stream": "stdout",
       "text": [
        "The dtype property getter\n"
       ]
      },
      {
       "metadata": {},
       "output_type": "pyout",
       "prompt_number": 130,
       "text": [
        "'plane'"
       ]
      }
     ],
     "prompt_number": 130
    },
    {
     "cell_type": "code",
     "collapsed": false,
     "input": [
      "d.__name = \"shoe\""
     ],
     "language": "python",
     "metadata": {},
     "outputs": [],
     "prompt_number": 131
    },
    {
     "cell_type": "code",
     "collapsed": false,
     "input": [
      "d.dtype"
     ],
     "language": "python",
     "metadata": {},
     "outputs": [
      {
       "output_type": "stream",
       "stream": "stdout",
       "text": [
        "The dtype property getter\n"
       ]
      },
      {
       "metadata": {},
       "output_type": "pyout",
       "prompt_number": 132,
       "text": [
        "'plane'"
       ]
      }
     ],
     "prompt_number": 132
    },
    {
     "cell_type": "code",
     "collapsed": false,
     "input": [
      "d.move()"
     ],
     "language": "python",
     "metadata": {},
     "outputs": [
      {
       "metadata": {},
       "output_type": "pyout",
       "prompt_number": 134,
       "text": [
        "'the battery-powered plane drone is flying'"
       ]
      }
     ],
     "prompt_number": 134
    },
    {
     "cell_type": "markdown",
     "metadata": {},
     "source": [
      "Pretty cool huh? We can't change it even if we wanted to. This follows a principle called encapsulation. You're coding defensively and understand exactly how people can and will access certain attributes of your object. This is an important thing to do because it keeps your internal use of the code seperate from the outside use of your class. See how we can still access the hidden property by it's actual name in the `move` method? This effectively makes this value *immutable* it can't be changed once it's created."
     ]
    },
    {
     "cell_type": "code",
     "collapsed": false,
     "input": [],
     "language": "python",
     "metadata": {},
     "outputs": []
    }
   ],
   "metadata": {}
  }
 ]
}