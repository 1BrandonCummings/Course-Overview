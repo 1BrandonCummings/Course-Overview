{
 "cells": [
  {
   "cell_type": "markdown",
   "metadata": {},
   "source": [
    "#Magic Methods"
   ]
  },
  {
   "cell_type": "markdown",
   "metadata": {},
   "source": [
    "Now at this point we've covered a ton about python classes but there is one last thing that we need to cover to make sure that you know what's made available to you. Let's start out with some basic classes. We're going to make some parts of a poker program."
   ]
  },
  {
   "cell_type": "code",
   "execution_count": 2,
   "metadata": {
    "collapsed": false
   },
   "outputs": [],
   "source": [
    "class Card:\n",
    "    def __init__(self, value, suit):\n",
    "        self.value = value\n",
    "        self.suit = suit\n",
    "        \n",
    "    def __eq__(self, other):\n",
    "        if self.value == other.value:\n",
    "            return True\n",
    "        else:\n",
    "            return False\n",
    "        \n",
    "    def __lt__(self, other):\n",
    "        if self.value < other.value:\n",
    "            return True\n",
    "        else:\n",
    "            return False\n",
    "        \n",
    "    def __gt__(self, other):\n",
    "        if self.value > other.value:\n",
    "            return True\n",
    "        else:\n",
    "            return False"
   ]
  },
  {
   "cell_type": "code",
   "execution_count": 3,
   "metadata": {
    "collapsed": true
   },
   "outputs": [],
   "source": [
    "cards = []\n",
    "for suit in ['Hearts', 'Spades', 'Diamonds', 'Clubs']:\n",
    "    for value in range(13):\n",
    "        cards.append(Card(value, suit))"
   ]
  },
  {
   "cell_type": "markdown",
   "metadata": {},
   "source": [
    "Great, we've created our methods. Now at this point, these methods should be looking pretty daunting. What exactly are we looking at?\n",
    "\n",
    "Well each of those magic methods (listed on 138 and 139 of your book) allow us to do card comparisons!"
   ]
  },
  {
   "cell_type": "code",
   "execution_count": 10,
   "metadata": {
    "collapsed": false
   },
   "outputs": [
    {
     "name": "stdout",
     "output_type": "stream",
     "text": [
      "False\n",
      "False\n"
     ]
    }
   ],
   "source": [
    "print(Card(10, \"Hearts\") < Card(6, \"Diamonds\"))\n",
    "print(Card(10, \"Hearts\") == Card(6, \"Diamonds\"))"
   ]
  },
  {
   "cell_type": "markdown",
   "metadata": {},
   "source": [
    "That's awesome, we can do comparisons now! Let's start playing with our deck of cards!"
   ]
  },
  {
   "cell_type": "code",
   "execution_count": 15,
   "metadata": {
    "collapsed": false
   },
   "outputs": [
    {
     "name": "stdout",
     "output_type": "stream",
     "text": [
      "10 of Hearts\n"
     ]
    }
   ],
   "source": [
    "print(Card(10, \"Hearts\"))"
   ]
  },
  {
   "cell_type": "code",
   "execution_count": 7,
   "metadata": {
    "collapsed": false
   },
   "outputs": [
    {
     "name": "stdout",
     "output_type": "stream",
     "text": [
      "[<__main__.Card object at 0x104d8b690>, <__main__.Card object at 0x104d8b6d0>, <__main__.Card object at 0x104d8b710>, <__main__.Card object at 0x104d8b750>, <__main__.Card object at 0x104d8b790>, <__main__.Card object at 0x104d8b7d0>, <__main__.Card object at 0x104d8b810>, <__main__.Card object at 0x104d8b850>, <__main__.Card object at 0x104d8b890>, <__main__.Card object at 0x104d8b8d0>, <__main__.Card object at 0x104d8b910>, <__main__.Card object at 0x104d8b950>, <__main__.Card object at 0x104d8b990>, <__main__.Card object at 0x104d8b9d0>, <__main__.Card object at 0x104d8ba10>, <__main__.Card object at 0x104d8ba50>, <__main__.Card object at 0x104d8ba90>, <__main__.Card object at 0x104d8bad0>, <__main__.Card object at 0x104d8bb10>, <__main__.Card object at 0x104d8bb50>, <__main__.Card object at 0x104d8bb90>, <__main__.Card object at 0x104d8bbd0>, <__main__.Card object at 0x104d8bc10>, <__main__.Card object at 0x104d8bc50>, <__main__.Card object at 0x104d8bc90>, <__main__.Card object at 0x104d8bcd0>, <__main__.Card object at 0x104d8bd10>, <__main__.Card object at 0x104d8bd50>, <__main__.Card object at 0x104d8bd90>, <__main__.Card object at 0x104d8bdd0>, <__main__.Card object at 0x104d8be10>, <__main__.Card object at 0x104d8be50>, <__main__.Card object at 0x104d8be90>, <__main__.Card object at 0x104d8bed0>, <__main__.Card object at 0x104d8bf10>, <__main__.Card object at 0x104d8bf50>, <__main__.Card object at 0x104d8bf90>, <__main__.Card object at 0x104d8bfd0>, <__main__.Card object at 0x104d8e050>, <__main__.Card object at 0x104d8e090>, <__main__.Card object at 0x104d8e0d0>, <__main__.Card object at 0x104d8e110>, <__main__.Card object at 0x104d8e150>, <__main__.Card object at 0x104d8e190>, <__main__.Card object at 0x104d8e1d0>, <__main__.Card object at 0x104d8e210>, <__main__.Card object at 0x104d8e250>, <__main__.Card object at 0x104d8e290>, <__main__.Card object at 0x104d8e2d0>, <__main__.Card object at 0x104d8e310>, <__main__.Card object at 0x104d8e350>, <__main__.Card object at 0x104d8e390>]\n"
     ]
    }
   ],
   "source": [
    "print(cards)"
   ]
  },
  {
   "cell_type": "markdown",
   "metadata": {},
   "source": [
    "Wow, that's hideous isn't it? How are we humans supposed to interpret that? Well frankly we're not, those are memory addresses four or card objects. And that's python, by default, prints out when we go to print a Card. Luckily, we can change that!"
   ]
  },
  {
   "cell_type": "code",
   "execution_count": 14,
   "metadata": {
    "collapsed": true
   },
   "outputs": [],
   "source": [
    "class Card:\n",
    "    def __init__(self, value, suit):\n",
    "        self.value = value\n",
    "        self.suit = suit\n",
    "        \n",
    "    def __eq__(self, other):\n",
    "        if self.value == other.value:\n",
    "            return True\n",
    "        else:\n",
    "            return False\n",
    "        \n",
    "    def __lt__(self, other):\n",
    "        if self.value < other.value:\n",
    "            return True\n",
    "        else:\n",
    "            return False\n",
    "        \n",
    "    def __gt__(self, other):\n",
    "        if self.value > other.value:\n",
    "            return True\n",
    "        else:\n",
    "            return False\n",
    "        \n",
    "    def __repr__(self):\n",
    "        return \"%i of %s\" % (self.value, self.suit)"
   ]
  },
  {
   "cell_type": "code",
   "execution_count": 13,
   "metadata": {
    "collapsed": false
   },
   "outputs": [
    {
     "name": "stdout",
     "output_type": "stream",
     "text": [
      "10 of hearts\n"
     ]
    }
   ],
   "source": [
    "print(Card(10, \"hearts\"))"
   ]
  },
  {
   "cell_type": "markdown",
   "metadata": {},
   "source": [
    "Wow, that's awesome, we can make it print out whatever we like!"
   ]
  },
  {
   "cell_type": "markdown",
   "metadata": {},
   "source": [
    "Let's create our deck again."
   ]
  },
  {
   "cell_type": "code",
   "execution_count": 18,
   "metadata": {
    "collapsed": true
   },
   "outputs": [],
   "source": [
    "cards = []\n",
    "for suit in ['Hearts', 'Spades', 'Diamonds', 'Clubs']:\n",
    "    for value in range(1,14):\n",
    "        cards.append(Card(value, suit))"
   ]
  },
  {
   "cell_type": "code",
   "execution_count": 20,
   "metadata": {
    "collapsed": false
   },
   "outputs": [
    {
     "name": "stdout",
     "output_type": "stream",
     "text": [
      "[1 of Hearts, 2 of Hearts, 3 of Hearts, 4 of Hearts, 5 of Hearts, 6 of Hearts, 7 of Hearts, 8 of Hearts, 9 of Hearts, 10 of Hearts, 11 of Hearts, 12 of Hearts, 13 of Hearts, 1 of Spades, 2 of Spades, 3 of Spades, 4 of Spades, 5 of Spades, 6 of Spades, 7 of Spades, 8 of Spades, 9 of Spades, 10 of Spades, 11 of Spades, 12 of Spades, 13 of Spades, 1 of Diamonds, 2 of Diamonds, 3 of Diamonds, 4 of Diamonds, 5 of Diamonds, 6 of Diamonds, 7 of Diamonds, 8 of Diamonds, 9 of Diamonds, 10 of Diamonds, 11 of Diamonds, 12 of Diamonds, 13 of Diamonds, 1 of Clubs, 2 of Clubs, 3 of Clubs, 4 of Clubs, 5 of Clubs, 6 of Clubs, 7 of Clubs, 8 of Clubs, 9 of Clubs, 10 of Clubs, 11 of Clubs, 12 of Clubs, 13 of Clubs]\n"
     ]
    }
   ],
   "source": [
    "print(cards)"
   ]
  },
  {
   "cell_type": "code",
   "execution_count": 21,
   "metadata": {
    "collapsed": false
   },
   "outputs": [
    {
     "name": "stdout",
     "output_type": "stream",
     "text": [
      "[1 of Hearts, 1 of Spades, 1 of Diamonds, 1 of Clubs, 2 of Hearts, 2 of Spades, 2 of Diamonds, 2 of Clubs, 3 of Hearts, 3 of Spades, 3 of Diamonds, 3 of Clubs, 4 of Hearts, 4 of Spades, 4 of Diamonds, 4 of Clubs, 5 of Hearts, 5 of Spades, 5 of Diamonds, 5 of Clubs, 6 of Hearts, 6 of Spades, 6 of Diamonds, 6 of Clubs, 7 of Hearts, 7 of Spades, 7 of Diamonds, 7 of Clubs, 8 of Hearts, 8 of Spades, 8 of Diamonds, 8 of Clubs, 9 of Hearts, 9 of Spades, 9 of Diamonds, 9 of Clubs, 10 of Hearts, 10 of Spades, 10 of Diamonds, 10 of Clubs, 11 of Hearts, 11 of Spades, 11 of Diamonds, 11 of Clubs, 12 of Hearts, 12 of Spades, 12 of Diamonds, 12 of Clubs, 13 of Hearts, 13 of Spades, 13 of Diamonds, 13 of Clubs]\n"
     ]
    }
   ],
   "source": [
    "print(sorted(cards))"
   ]
  },
  {
   "cell_type": "markdown",
   "metadata": {},
   "source": [
    "How awesome is that? it prints out beautifully and is the representation that we choose. This is the power of magic methods - they allow us to determing exactly what a `==` or a `!=` to mean. This makes it great because we can do things like detail out how we'd like to multiply two vectors.\n",
    "\n",
    "Now remember we talked about Vectors in a previous lesson, but in this case they're just immutable lists of numbers with certain mathematical properties."
   ]
  },
  {
   "cell_type": "markdown",
   "metadata": {},
   "source": [
    "One of these properties is a dot product or inner product. This product is the summation of all the values in each vector. Here's the math for it."
   ]
  },
  {
   "cell_type": "markdown",
   "metadata": {},
   "source": [
    "Given `A` and `B` of length `N`\n",
    "\n",
    "$$A\\cdot B = \\sum_{i=1}^n A_iB_i = A_1B_1 + A_2B_2 + \\cdots + A_nB_n$$"
   ]
  },
  {
   "cell_type": "markdown",
   "metadata": {},
   "source": [
    "Now let's define the `Vector` class!"
   ]
  },
  {
   "cell_type": "code",
   "execution_count": 48,
   "metadata": {
    "collapsed": false
   },
   "outputs": [],
   "source": [
    "class Vector:\n",
    "    def __init__(self, numbers):\n",
    "        self.__numbers = numbers\n",
    "        \n",
    "    @property\n",
    "    def numbers(self):\n",
    "        return self.__numbers\n",
    "        \n",
    "    def dot(self, other):\n",
    "        values = []\n",
    "        if len(self.__numbers) != len(other.numbers):\n",
    "            return \"Cannot Multiply Different Sized Vectors with this Class.\"\n",
    "        for x in range(len(self.__numbers)):\n",
    "            this_number = self.__numbers[x]\n",
    "            other_number = other.numbers[x]\n",
    "            values.append(this_number * other_number)\n",
    "        return sum(values)\n",
    "    \n",
    "    def __mul__(self, other):\n",
    "        return self.dot(other)"
   ]
  },
  {
   "cell_type": "markdown",
   "metadata": {},
   "source": [
    "Notice how we use the `__mul__` magic method. This determines the result of the `*` multiplication operator."
   ]
  },
  {
   "cell_type": "markdown",
   "metadata": {},
   "source": [
    "Now let's make sure that it works!"
   ]
  },
  {
   "cell_type": "code",
   "execution_count": 50,
   "metadata": {
    "collapsed": false
   },
   "outputs": [
    {
     "name": "stdout",
     "output_type": "stream",
     "text": [
      "12\n",
      "12\n"
     ]
    }
   ],
   "source": [
    "a = Vector([1,10,4])\n",
    "b = Vector([2,-1,5])\n",
    "print(a*b)\n",
    "print(a.dot(b))"
   ]
  },
  {
   "cell_type": "markdown",
   "metadata": {},
   "source": [
    "What's awesome is that this is how a lot of packages work! Including Numpy! While it may not be the same implementation, it is the same result!"
   ]
  },
  {
   "cell_type": "code",
   "execution_count": 43,
   "metadata": {
    "collapsed": true
   },
   "outputs": [],
   "source": [
    "from numpy import array"
   ]
  },
  {
   "cell_type": "code",
   "execution_count": 45,
   "metadata": {
    "collapsed": false
   },
   "outputs": [
    {
     "data": {
      "text/plain": [
       "12"
      ]
     },
     "execution_count": 45,
     "metadata": {},
     "output_type": "execute_result"
    }
   ],
   "source": [
    "array([1,10,4]).dot(array([2,-1,5]))"
   ]
  },
  {
   "cell_type": "markdown",
   "metadata": {},
   "source": [
    "This is a truly powerful abstraction but it does require you to think thoroughly about your use case as well as your users. Does it make sense to add to animals together? Probably not so you shouldn't implement that method."
   ]
  },
  {
   "cell_type": "markdown",
   "metadata": {},
   "source": [
    "At this point we have covered basically everything about classes. You've certainly used a lot of object oriented programming in these last couple of notebooks. You should have a firm grasp on what object oriented programming is and what objects and classes are! That being said, don't be afraid if you're still confused, these things can be extremely confusing and take some time to adjust to - in no time you should be able to think about things using this abstraction!"
   ]
  }
 ],
 "metadata": {
  "kernelspec": {
   "display_name": "Python 3",
   "language": "python",
   "name": "python3"
  },
  "language_info": {
   "codemirror_mode": {
    "name": "ipython",
    "version": 3
   },
   "file_extension": ".py",
   "mimetype": "text/x-python",
   "name": "python",
   "nbconvert_exporter": "python",
   "pygments_lexer": "ipython3",
   "version": "3.3.2"
  }
 },
 "nbformat": 4,
 "nbformat_minor": 0
}
