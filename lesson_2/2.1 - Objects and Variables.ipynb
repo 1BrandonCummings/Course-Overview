{
 "cells": [
  {
   "cell_type": "markdown",
   "metadata": {},
   "source": [
    "# Basic Objects"
   ]
  },
  {
   "cell_type": "markdown",
   "metadata": {},
   "source": [
    "Everything in python is what we call an object: You can think of it as a generic \"box\" - one that can hold anything from the word \"Book\" to a list of books, to something that can tell you what the 37th page of the book \"Tale of Two Cities\" is. But let's start by understanding the most basic objects: the built in data types that ship with Python"
   ]
  },
  {
   "cell_type": "markdown",
   "metadata": {},
   "source": [
    "Here are some of Python's most basic data types where we will start to create our simplest objects:\n",
    "\n",
    "- **booleans (bool):** which can have the value of either be `True` or `False`\n",
    "- **integers (int):** whole numbers like `4`, `-345`, and `10000000`\n",
    "- **floats (float):** numbers that have a decimal point like `847.5`, `3.14159`, and any number written in scientific notation, i.e. `2e8` or `200000000.0`\n",
    "- **strings (str):** sequences of text characters (like \"Book\")"
   ]
  },
  {
   "cell_type": "markdown",
   "metadata": {},
   "source": [
    "So now we'll go into our python interactive shell and create some of these objects. First, lets just enter the number -345 and see what happens:"
   ]
  },
  {
   "cell_type": "code",
   "execution_count": 1,
   "metadata": {
    "collapsed": false
   },
   "outputs": [
    {
     "data": {
      "text/plain": [
       "-345"
      ]
     },
     "execution_count": 1,
     "metadata": {},
     "output_type": "execute_result"
    }
   ],
   "source": [
    "-345"
   ]
  },
  {
   "cell_type": "markdown",
   "metadata": {},
   "source": [
    "So right now, python is telling us that the expression `-345`, which is an object, has a value of `-345`: something we would expect. If it had a different value, we may be in a lot of trouble. \n",
    "\n",
    "When you press run, the python interpreter creates a type of object called an integer (or `int`).  We can double-check this by putting our `-345` inside the type function."
   ]
  },
  {
   "cell_type": "code",
   "execution_count": 2,
   "metadata": {
    "collapsed": false
   },
   "outputs": [
    {
     "data": {
      "text/plain": [
       "int"
      ]
     },
     "execution_count": 2,
     "metadata": {},
     "output_type": "execute_result"
    }
   ],
   "source": [
    "type(-345)"
   ]
  },
  {
   "cell_type": "markdown",
   "metadata": {},
   "source": [
    "This part is important: what we did is put in the object (`-345`) into the function (`type`) (more on functions later in the course) and Python told us what kind of object this is (`int`). The object `-345` contains more than just the value `-345` which we will demonstrate throughout this course. The key thing to understand is that every thing is an object, even simple integers."
   ]
  },
  {
   "cell_type": "markdown",
   "metadata": {},
   "source": [
    "Lets use this `type` function to verify examples of all of the different data types that we have learned about so far:"
   ]
  },
  {
   "cell_type": "code",
   "execution_count": 3,
   "metadata": {
    "collapsed": false
   },
   "outputs": [
    {
     "data": {
      "text/plain": [
       "int"
      ]
     },
     "execution_count": 3,
     "metadata": {},
     "output_type": "execute_result"
    }
   ],
   "source": [
    "type(-345)"
   ]
  },
  {
   "cell_type": "code",
   "execution_count": 4,
   "metadata": {
    "collapsed": false
   },
   "outputs": [
    {
     "data": {
      "text/plain": [
       "bool"
      ]
     },
     "execution_count": 4,
     "metadata": {},
     "output_type": "execute_result"
    }
   ],
   "source": [
    "type(True)"
   ]
  },
  {
   "cell_type": "code",
   "execution_count": 5,
   "metadata": {
    "collapsed": false
   },
   "outputs": [
    {
     "data": {
      "text/plain": [
       "float"
      ]
     },
     "execution_count": 5,
     "metadata": {},
     "output_type": "execute_result"
    }
   ],
   "source": [
    "type(847.5)"
   ]
  },
  {
   "cell_type": "code",
   "execution_count": 6,
   "metadata": {
    "collapsed": false
   },
   "outputs": [
    {
     "data": {
      "text/plain": [
       "str"
      ]
     },
     "execution_count": 6,
     "metadata": {},
     "output_type": "execute_result"
    }
   ],
   "source": [
    "type(\"Book\")"
   ]
  },
  {
   "cell_type": "markdown",
   "metadata": {},
   "source": [
    "Note: Python provides the shortened version of the data type (i.e. bool instead of boolean) "
   ]
  },
  {
   "cell_type": "markdown",
   "metadata": {},
   "source": [
    "# Variables"
   ]
  },
  {
   "cell_type": "markdown",
   "metadata": {
    "collapsed": false
   },
   "source": [
    "Variables are simply names we give to objects, and you can change what object they refer to on the fly, which can be extremely useful. \n",
    "\n",
    "There are several naming guidelines that are mentioned in the book, but essentially you have a lot of freedom in what you want to name your variables.\n",
    "\n",
    "Let's create a few variables and see how we can use variables instead of using literal objects:"
   ]
  },
  {
   "cell_type": "code",
   "execution_count": 7,
   "metadata": {
    "collapsed": false
   },
   "outputs": [
    {
     "data": {
      "text/plain": [
       "35"
      ]
     },
     "execution_count": 7,
     "metadata": {},
     "output_type": "execute_result"
    }
   ],
   "source": [
    "a = 7\n",
    "b = 5\n",
    "a * b"
   ]
  },
  {
   "cell_type": "markdown",
   "metadata": {},
   "source": [
    "What just happpend above? We set a and b to different numbers and then calculated their product. I can change the value of a and b and the result changes automatically."
   ]
  },
  {
   "cell_type": "code",
   "execution_count": 8,
   "metadata": {
    "collapsed": false
   },
   "outputs": [
    {
     "data": {
      "text/plain": [
       "18"
      ]
     },
     "execution_count": 8,
     "metadata": {},
     "output_type": "execute_result"
    }
   ],
   "source": [
    "a = 6\n",
    "b = 3\n",
    "a * b"
   ]
  },
  {
   "cell_type": "markdown",
   "metadata": {},
   "source": [
    "What we were able to do is significant: instead of typing `7*5` or `6*3` every time we want to calculate a product, we could just assign the numbers we want to multiply to variables `a` and `b` and then run `a*b`"
   ]
  },
  {
   "cell_type": "markdown",
   "metadata": {},
   "source": [
    "For simple examples like above it wouldn't be a big deal to type out `7*5`, but what if the formula you are trying to calculate was more complicated? How about figuring out how much money you would have in 5 years if you put $100 in the bank at 5% interest:"
   ]
  },
  {
   "cell_type": "code",
   "execution_count": 9,
   "metadata": {
    "collapsed": false
   },
   "outputs": [
    {
     "data": {
      "text/plain": [
       "148.9845708301605"
      ]
     },
     "execution_count": 9,
     "metadata": {},
     "output_type": "execute_result"
    }
   ],
   "source": [
    "money_you_put_in = 100\n",
    "interest_rate = .08\n",
    "years_you_leave_money_in = 5\n",
    "\n",
    "# Note we will go over the ** operator in the next section, which is who you represent exponents in python\n",
    "money_you_put_in * (1 + interest_rate/12) ** (12*years_you_leave_money_in)"
   ]
  },
  {
   "cell_type": "markdown",
   "metadata": {},
   "source": [
    "You wouldn't want to type that formula in every time right? Since variables are simply names of objects you can just change the object a variable is representing and run the same forumla again to get the answer that you are looking for. That's the nice thing about variables."
   ]
  },
  {
   "cell_type": "markdown",
   "metadata": {},
   "source": [
    "And just to demonstrate that using variables referring to an object is the same as interacting with the object directly:"
   ]
  },
  {
   "cell_type": "code",
   "execution_count": 10,
   "metadata": {
    "collapsed": false
   },
   "outputs": [],
   "source": [
    "d = -345"
   ]
  },
  {
   "cell_type": "code",
   "execution_count": 11,
   "metadata": {
    "collapsed": false
   },
   "outputs": [
    {
     "data": {
      "text/plain": [
       "-345"
      ]
     },
     "execution_count": 11,
     "metadata": {},
     "output_type": "execute_result"
    }
   ],
   "source": [
    "d"
   ]
  },
  {
   "cell_type": "code",
   "execution_count": 12,
   "metadata": {
    "collapsed": false
   },
   "outputs": [
    {
     "data": {
      "text/plain": [
       "int"
      ]
     },
     "execution_count": 12,
     "metadata": {},
     "output_type": "execute_result"
    }
   ],
   "source": [
    "type(d)"
   ]
  },
  {
   "cell_type": "markdown",
   "metadata": {},
   "source": [
    "Once we assigned the object -345 to `d` (until `d` is assigned to another object) the variable `d` functions as if `d` is the object `-345`."
   ]
  }
 ],
 "metadata": {
  "kernelspec": {
   "display_name": "Python 3",
   "language": "python",
   "name": "python3"
  },
  "language_info": {
   "codemirror_mode": {
    "name": "ipython",
    "version": 3
   },
   "file_extension": ".py",
   "mimetype": "text/x-python",
   "name": "python",
   "nbconvert_exporter": "python",
   "pygments_lexer": "ipython3",
   "version": "3.4.3"
  }
 },
 "nbformat": 4,
 "nbformat_minor": 0
}
