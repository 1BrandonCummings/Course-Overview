{
 "cells": [
  {
   "cell_type": "markdown",
   "metadata": {},
   "source": [
    "#Strings"
   ]
  },
  {
   "cell_type": "markdown",
   "metadata": {},
   "source": [
    "String manipulation is a crucial ability in software engineering, and Python comes with an extremely powerful set of tools that makes modifying and creating strings easy."
   ]
  },
  {
   "cell_type": "markdown",
   "metadata": {},
   "source": [
    "##Creating Strings"
   ]
  },
  {
   "cell_type": "markdown",
   "metadata": {},
   "source": [
    "You can create a string in Python using either single or double quotes:"
   ]
  },
  {
   "cell_type": "code",
   "execution_count": 1,
   "metadata": {
    "collapsed": false
   },
   "outputs": [
    {
     "name": "stdout",
     "output_type": "stream",
     "text": [
      "This is a single quote string\n"
     ]
    }
   ],
   "source": [
    "single_quote_string = 'This is a single quote string'\n",
    "print(single_quote_string)"
   ]
  },
  {
   "cell_type": "code",
   "execution_count": 2,
   "metadata": {
    "collapsed": false
   },
   "outputs": [
    {
     "name": "stdout",
     "output_type": "stream",
     "text": [
      "This is a double quote string\n"
     ]
    }
   ],
   "source": [
    "double_quote_string = \"This is a double quote string\"\n",
    "print(double_quote_string)"
   ]
  },
  {
   "cell_type": "markdown",
   "metadata": {},
   "source": [
    "Single and double quotes can only be used to create a single line string. To create a multi-line string use triple quotes (single or double):"
   ]
  },
  {
   "cell_type": "code",
   "execution_count": 3,
   "metadata": {
    "collapsed": false
   },
   "outputs": [
    {
     "name": "stdout",
     "output_type": "stream",
     "text": [
      "To be or not to be\n",
      "that is the question\n"
     ]
    }
   ],
   "source": [
    "multiline_string = \"\"\"To be or not to be\n",
    "that is the question\"\"\"\n",
    "print(multiline_string)"
   ]
  },
  {
   "cell_type": "markdown",
   "metadata": {},
   "source": [
    "###String Constructor: `str()`"
   ]
  },
  {
   "cell_type": "markdown",
   "metadata": {},
   "source": [
    "In addition to using quotes to create strings, we can use constructors to create a new string. Just like integers and floats have constructors that can create integers and floats, strings has its own constructor `str()`. For example:"
   ]
  },
  {
   "cell_type": "code",
   "execution_count": 4,
   "metadata": {
    "collapsed": false
   },
   "outputs": [
    {
     "name": "stdout",
     "output_type": "stream",
     "text": [
      "This is a double quote string\n"
     ]
    }
   ],
   "source": [
    "constructor_string = str(\"This is a double quote string\")\n",
    "print(constructor_string)"
   ]
  },
  {
   "cell_type": "markdown",
   "metadata": {},
   "source": [
    "`str()`, just like its number counterparts, can convert other Python data types to strings:"
   ]
  },
  {
   "cell_type": "code",
   "execution_count": 5,
   "metadata": {
    "collapsed": false
   },
   "outputs": [
    {
     "name": "stdout",
     "output_type": "stream",
     "text": [
      "98.6\n"
     ]
    }
   ],
   "source": [
    "float_string = str(98.6)\n",
    "print(float_string)"
   ]
  },
  {
   "cell_type": "code",
   "execution_count": 6,
   "metadata": {
    "collapsed": false
   },
   "outputs": [
    {
     "name": "stdout",
     "output_type": "stream",
     "text": [
      "True\n"
     ]
    }
   ],
   "source": [
    "bool_string = str(True)\n",
    "print(bool_string)"
   ]
  },
  {
   "cell_type": "markdown",
   "metadata": {},
   "source": [
    "##Using escape character `\\`"
   ]
  },
  {
   "cell_type": "markdown",
   "metadata": {},
   "source": [
    "Python has a mechanism to be able to include special characters and effects into strings that would otherwise be very difficult to represent. By preceeding a character with the backslash (\\) character, you give it a special meaning. Here are some uses for the escape character: "
   ]
  },
  {
   "cell_type": "markdown",
   "metadata": {},
   "source": [
    "###Newline  (`\\n`)"
   ]
  },
  {
   "cell_type": "markdown",
   "metadata": {},
   "source": [
    "Insert a newline even in a single line string."
   ]
  },
  {
   "cell_type": "code",
   "execution_count": 7,
   "metadata": {
    "collapsed": false
   },
   "outputs": [
    {
     "name": "stdout",
     "output_type": "stream",
     "text": [
      "To be or not to be\n",
      "That is a question\n"
     ]
    }
   ],
   "source": [
    "newline_string = \"To be or not to be\\nThat is a question\"\n",
    "print(newline_string)"
   ]
  },
  {
   "cell_type": "markdown",
   "metadata": {},
   "source": [
    "###Tab (`\\t`)"
   ]
  },
  {
   "cell_type": "markdown",
   "metadata": {},
   "source": [
    "Insert a tab inside a string."
   ]
  },
  {
   "cell_type": "code",
   "execution_count": 8,
   "metadata": {
    "collapsed": false
   },
   "outputs": [
    {
     "name": "stdout",
     "output_type": "stream",
     "text": [
      "To be or not to be\tThat is a question\n"
     ]
    }
   ],
   "source": [
    "tab_string = \"To be or not to be\\tThat is a question\"\n",
    "print(tab_string)"
   ]
  },
  {
   "cell_type": "markdown",
   "metadata": {},
   "source": [
    "###Single or double quotes (`\\'`), (`\\\"`)"
   ]
  },
  {
   "cell_type": "code",
   "execution_count": 9,
   "metadata": {
    "collapsed": false
   },
   "outputs": [
    {
     "name": "stdout",
     "output_type": "stream",
     "text": [
      "Shakespeare said: \"To be or not to be, that is a question.\"\n"
     ]
    }
   ],
   "source": [
    "quote_within_quote = \"Shakespeare said: \\\"To be or not to be, that is a question.\\\"\"\n",
    "print(quote_within_quote)"
   ]
  },
  {
   "cell_type": "markdown",
   "metadata": {},
   "source": [
    "###Backslash (`\\\\`)"
   ]
  },
  {
   "cell_type": "code",
   "execution_count": 10,
   "metadata": {
    "collapsed": false
   },
   "outputs": [
    {
     "name": "stdout",
     "output_type": "stream",
     "text": [
      "I just wanted to use this backslash \\ in this example\n"
     ]
    }
   ],
   "source": [
    "escaped_backslash_string = \"I just wanted to use this backslash \\\\ in this example\"\n",
    "print(escaped_backslash_string)"
   ]
  },
  {
   "cell_type": "markdown",
   "metadata": {},
   "source": [
    "##String Operators"
   ]
  },
  {
   "cell_type": "markdown",
   "metadata": {},
   "source": [
    "Python has a host of operators that you can use for string manipulation that is at your disposoal. Strings can utilize these features because string are Python sequences. A string in Python is represented as a sequence of characters. Because of this, strings can be manipulated in ways that other kinds of objects cannot be manipulated."
   ]
  },
  {
   "cell_type": "markdown",
   "metadata": {},
   "source": [
    "###Concatenation (`+`)"
   ]
  },
  {
   "cell_type": "code",
   "execution_count": 11,
   "metadata": {
    "collapsed": false
   },
   "outputs": [
    {
     "name": "stdout",
     "output_type": "stream",
     "text": [
      "To be or not to bethat is a question\n"
     ]
    }
   ],
   "source": [
    "concat_string = \"To be or not to be\" + \"that is a question\"\n",
    "print(concat_string)"
   ]
  },
  {
   "cell_type": "markdown",
   "metadata": {},
   "source": [
    "Notice the concatentation operator did what you would expect: combine those two strings together. A new string was created and assigned to the variable `concat_string`. Also note that there is no space between the words \"be\" and \"that\": that's because string concatentation combines the two strings together exactly as is. Later on in this lesson we will go over helper functions that can make concatentation easier."
   ]
  },
  {
   "cell_type": "markdown",
   "metadata": {},
   "source": [
    "###Duplication (`*`)\n",
    "\n",
    "Duplicates the string the specified number of times"
   ]
  },
  {
   "cell_type": "code",
   "execution_count": 12,
   "metadata": {
    "collapsed": false
   },
   "outputs": [
    {
     "name": "stdout",
     "output_type": "stream",
     "text": [
      "To be or not to be To be or not to be To be or not to be \n"
     ]
    }
   ],
   "source": [
    "duplicate_string = \"To be or not to be \" * 3\n",
    "print(duplicate_string)"
   ]
  },
  {
   "cell_type": "markdown",
   "metadata": {},
   "source": [
    "###Character Extraction (`[]`)\n",
    "\n",
    "Retrive the nth character of a list (and you count from zero). This is possible because strings are a Python sequence. Note: negative numbers start from the end of the string, with index -1 being the last character in the string, -2 being the second to last character, and so on."
   ]
  },
  {
   "cell_type": "code",
   "execution_count": 13,
   "metadata": {
    "collapsed": false
   },
   "outputs": [
    {
     "name": "stdout",
     "output_type": "stream",
     "text": [
      "concat_string[0] : T\n",
      "concat_string[4] : e\n",
      "concat_string[-1]: n\n"
     ]
    }
   ],
   "source": [
    "concat_string = \"To be or not to be\" + \"that is a question\"\n",
    "print(\"concat_string[0] : \" + concat_string[0])\n",
    "print(\"concat_string[4] : \" + concat_string[4])\n",
    "print(\"concat_string[-1]: \" + concat_string[-1])"
   ]
  },
  {
   "cell_type": "markdown",
   "metadata": {},
   "source": [
    "###Slice (`[start:end:step]`)\n",
    "\n",
    "Extract a substring from a string:\n",
    "\n",
    "1. [:] extracts the entire sequence from start to end. \n",
    "2. [ start :] specifies from the start offset to the end. \n",
    "3. [: end ] specifies from the beginning to the end offset minus 1. \n",
    "4. [ start : end ] indicates from the start offset to the end offset minus 1. \n",
    "5. [ start : end : step ] extracts from the start offset to the end offset minus 1, skipping characters by step."
   ]
  },
  {
   "cell_type": "code",
   "execution_count": 14,
   "metadata": {
    "collapsed": false
   },
   "outputs": [
    {
     "name": "stdout",
     "output_type": "stream",
     "text": [
      "abcdefghijklmnopqrstuvwxyz\n"
     ]
    }
   ],
   "source": [
    "letters = 'abcdefghijklmnopqrstuvwxyz'\n",
    "print(letters[:])"
   ]
  },
  {
   "cell_type": "markdown",
   "metadata": {},
   "source": [
    "Print all of the characters from after the 5th character onwards to the end"
   ]
  },
  {
   "cell_type": "code",
   "execution_count": 15,
   "metadata": {
    "collapsed": false
   },
   "outputs": [
    {
     "name": "stdout",
     "output_type": "stream",
     "text": [
      "fghijklmnopqrstuvwxyz\n"
     ]
    }
   ],
   "source": [
    "print(letters[5:])"
   ]
  },
  {
   "cell_type": "markdown",
   "metadata": {},
   "source": [
    "Print all of the characters from the beginning to the 20th character"
   ]
  },
  {
   "cell_type": "code",
   "execution_count": 16,
   "metadata": {
    "collapsed": false
   },
   "outputs": [
    {
     "name": "stdout",
     "output_type": "stream",
     "text": [
      "abcdefghijklmnopqrst\n"
     ]
    }
   ],
   "source": [
    "print(letters[:20])"
   ]
  },
  {
   "cell_type": "markdown",
   "metadata": {},
   "source": [
    "Print all of the characters from after the 5th letter onwards to the 20th character"
   ]
  },
  {
   "cell_type": "code",
   "execution_count": 17,
   "metadata": {
    "collapsed": false
   },
   "outputs": [
    {
     "name": "stdout",
     "output_type": "stream",
     "text": [
      "fghijklmnopqrst\n"
     ]
    }
   ],
   "source": [
    "print(letters[5:20])"
   ]
  },
  {
   "cell_type": "markdown",
   "metadata": {},
   "source": [
    "Print every other character from beginning to end starting with the first caracther"
   ]
  },
  {
   "cell_type": "code",
   "execution_count": 18,
   "metadata": {
    "collapsed": false
   },
   "outputs": [
    {
     "name": "stdout",
     "output_type": "stream",
     "text": [
      "acegikmoqsuwy\n"
     ]
    }
   ],
   "source": [
    "print(letters[0:26:2])"
   ]
  },
  {
   "cell_type": "markdown",
   "metadata": {},
   "source": [
    "Combine all of these techniques and you have a powerful arsenal to manipulate strings to build the dataset that you need. We will now look into how to package some of the code that we have been writing into a single module so that we can use it in real life situations."
   ]
  }
 ],
 "metadata": {
  "kernelspec": {
   "display_name": "Python 3",
   "language": "python",
   "name": "python3"
  },
  "language_info": {
   "codemirror_mode": {
    "name": "ipython",
    "version": 3
   },
   "file_extension": ".py",
   "mimetype": "text/x-python",
   "name": "python",
   "nbconvert_exporter": "python",
   "pygments_lexer": "ipython3",
   "version": "3.4.3"
  }
 },
 "nbformat": 4,
 "nbformat_minor": 0
}
