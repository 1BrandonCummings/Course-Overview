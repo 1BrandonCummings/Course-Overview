{
 "cells": [
  {
   "cell_type": "markdown",
   "metadata": {},
   "source": [
    "## Packages"
   ]
  },
  {
   "cell_type": "markdown",
   "metadata": {},
   "source": [
    "In the last section we saw how to store useful code in a module and then use that functionality in a separate python script.\n",
    "\n",
    "Sometimes you want to group several modules together in a logical unit: Python provides that capability with packages. Think of a package as a single folder where you can package any number of related modules together. "
   ]
  },
  {
   "cell_type": "markdown",
   "metadata": {},
   "source": [
    "For this example, we've written two modules: `daily` and `weekly` that return daily or weekly forecasts. We placed these modules in a folder called `weather` in the same directory as this notebook."
   ]
  },
  {
   "cell_type": "code",
   "execution_count": 1,
   "metadata": {
    "collapsed": false
   },
   "outputs": [
    {
     "name": "stdout",
     "output_type": "stream",
     "text": [
      "# daily.py\r\n",
      "# \r\n",
      "# Provides the weather for Berkeley, CA for today\r\n",
      "\r\n",
      "from urllib.request import urlopen\r\n",
      "import json\r\n",
      "\r\n",
      "def forecast():\r\n",
      "    \"\"\"\r\n",
      "    Returns the daily weather for Berkeley, CA\r\n",
      "    \"\"\"\r\n",
      "    response = urlopen('http://api.openweathermap.org/data/2.5/forecast/daily?q=Berkeley&mode=json&units=Imperial&cnt=1')\r\n",
      "    rawWeatherData = response.read().decode(\"utf-8\")\r\n",
      "    weatherData = json.loads(rawWeatherData)\r\n",
      "\r\n",
      "    forecastStr = \"Forecast for Berkeley, CA: \" + weatherData[\"list\"][0][\"weather\"][0][\"main\"] + \"\\n\" \\\r\n",
      "        \"Current Temp: \" + str(weatherData[\"list\"][0][\"temp\"][\"day\"]) + \" degrees \\n\"  \\\r\n",
      "        \"High Temp: \" + str(weatherData[\"list\"][0][\"temp\"][\"max\"]) + \" degrees \\n\" \\\r\n",
      "        \"Low Temp: \" + str(weatherData[\"list\"][0][\"temp\"][\"min\"]) + \" degrees\"\r\n",
      "\r\n",
      "    return forecastStr"
     ]
    }
   ],
   "source": [
    "!cat weather/daily.py "
   ]
  },
  {
   "cell_type": "code",
   "execution_count": 2,
   "metadata": {
    "collapsed": false
   },
   "outputs": [
    {
     "name": "stdout",
     "output_type": "stream",
     "text": [
      "# weekly.py\r\n",
      "# \r\n",
      "# Provides the weather for Berkeley, CA for the week\r\n",
      "\r\n",
      "from urllib.request import urlopen\r\n",
      "import json\r\n",
      "import datetime\r\n",
      "\r\n",
      "def forecast():\r\n",
      "    \"\"\"\r\n",
      "    Returns the daily weather for Berkeley, CA\r\n",
      "    \"\"\"\r\n",
      "    response = urlopen('http://api.openweathermap.org/data/2.5/forecast/daily?q=Berkeley&mode=json&units=Imperial&cnt=7')\r\n",
      "    rawWeatherDataList = response.read().decode(\"utf-8\")\r\n",
      "    weatherDataList = json.loads(rawWeatherDataList)\r\n",
      "\r\n",
      "    forecastStr = \"\"\r\n",
      "    for i in range(7):\r\n",
      "        forecastStr += _daily_forecast(weatherDataList[\"list\"][i]) + \"\\n\\n\"\r\n",
      "\r\n",
      "    forecastStr = forecastStr[:-2] # Remove the two newlines at the end \r\n",
      "    return forecastStr\r\n",
      "\r\n",
      "\r\n",
      "def _daily_forecast(weatherData):\r\n",
      "    \"\"\"\r\n",
      "    Helper function that prints a single day's forecast\r\n",
      "    \"\"\"\r\n",
      "\r\n",
      "    # Using python datetime support to convert a timestamp into a full date\r\n",
      "    \r\n",
      "    # First need to define the UTC offset for Berkeley, CA (UTC - 8:00)\r\n",
      "    current_utc_offset = -datetime.timedelta(hours=8)\r\n",
      "\r\n",
      "    # Next we create a timezone based on the utc offset for Pacific Standard Time\r\n",
      "    current_timezone = datetime.timezone(current_utc_offset)\r\n",
      "\r\n",
      "    # Last we create a datetime object based on the timestamp provided by the response, and\r\n",
      "    # we localize the timezone to make it \"aware\"\r\n",
      "    current_datetime = datetime.datetime.fromtimestamp(weatherData[\"dt\"], current_timezone)\r\n",
      "\r\n",
      "    # Printing of the forecast\r\n",
      "    \r\n",
      "    # Note we use strftime to format how we would like to print out the datetime\r\n",
      "    forecastStr = \"Forecast for Berkeley, CA on \" + current_datetime.strftime(\"%A, %B %d, %Y %H:%M %p\") + \" local time\\n\" \\\r\n",
      "    \"Weather: \"  + weatherData[\"weather\"][0][\"main\"] + \"\\n\" \\\r\n",
      "    \"Current Temp: \" + str(weatherData[\"temp\"][\"day\"]) + \" degrees \\n\"  \\\r\n",
      "    \"High Temp: \" + str(weatherData[\"temp\"][\"max\"]) + \" degrees \\n\" \\\r\n",
      "    \"Low Temp: \" + str(weatherData[\"temp\"][\"min\"]) + \" degrees\"\r\n",
      "\r\n",
      "    return forecastStr\r\n"
     ]
    }
   ],
   "source": [
    "!cat weather/weekly.py"
   ]
  },
  {
   "cell_type": "markdown",
   "metadata": {},
   "source": [
    "The weather/daily.py module contains the ability to return the forecast at Berkeley, CA today. The weather/weekly.py module contains the ability to return the weekly forecast at Berkeley, CA. We moved those modules into a folder `weather`.  As a last step, we need to add an empty file named `__init.py__` to the weather folder.  We can do that with the following shell command."
   ]
  },
  {
   "cell_type": "code",
   "execution_count": 3,
   "metadata": {
    "collapsed": true
   },
   "outputs": [],
   "source": [
    "!touch weather/__init__.py"
   ]
  },
  {
   "cell_type": "markdown",
   "metadata": {},
   "source": [
    "By doing that, we made `weather` into a package: a container that can contain modules and other packages.  We can import it into this notebook as follows:"
   ]
  },
  {
   "cell_type": "code",
   "execution_count": 4,
   "metadata": {
    "collapsed": false
   },
   "outputs": [
    {
     "name": "stdout",
     "output_type": "stream",
     "text": [
      "Daily:\n",
      "Forecast for Berkeley, CA: Clear\n",
      "Current Temp: 92.43 degrees \n",
      "High Temp: 93.33 degrees \n",
      "Low Temp: 63.75 degrees\n",
      "\n",
      "Weekly:\n",
      "Forecast for Berkeley, CA on Saturday, August 22, 2015 12:00 PM local time\n",
      "Weather: Clear\n",
      "Current Temp: 81.14 degrees \n",
      "High Temp: 82.67 degrees \n",
      "Low Temp: 54.97 degrees\n",
      "\n",
      "Forecast for Berkeley, CA on Sunday, August 23, 2015 12:00 PM local time\n",
      "Weather: Clear\n",
      "Current Temp: 82.22 degrees \n",
      "High Temp: 83.41 degrees \n",
      "Low Temp: 56.59 degrees\n",
      "\n",
      "Forecast for Berkeley, CA on Monday, August 24, 2015 12:00 PM local time\n",
      "Weather: Clear\n",
      "Current Temp: 83.01 degrees \n",
      "High Temp: 85.73 degrees \n",
      "Low Temp: 57.34 degrees\n",
      "\n",
      "Forecast for Berkeley, CA on Tuesday, August 25, 2015 12:00 PM local time\n",
      "Weather: Clear\n",
      "Current Temp: 86.61 degrees \n",
      "High Temp: 88.48 degrees \n",
      "Low Temp: 57.87 degrees\n",
      "\n",
      "Forecast for Berkeley, CA on Wednesday, August 26, 2015 12:00 PM local time\n",
      "Weather: Rain\n",
      "Current Temp: 74.66 degrees \n",
      "High Temp: 84.61 degrees \n",
      "Low Temp: 52.2 degrees\n",
      "\n",
      "Forecast for Berkeley, CA on Thursday, August 27, 2015 12:00 PM local time\n",
      "Weather: Clear\n",
      "Current Temp: 79.74 degrees \n",
      "High Temp: 86.45 degrees \n",
      "Low Temp: 57.51 degrees\n",
      "\n",
      "Forecast for Berkeley, CA on Friday, August 28, 2015 12:00 PM local time\n",
      "Weather: Clear\n",
      "Current Temp: 81 degrees \n",
      "High Temp: 87.69 degrees \n",
      "Low Temp: 60.3 degrees\n"
     ]
    }
   ],
   "source": [
    "from weather import daily, weekly\n",
    "\n",
    "print(\"Daily:\")\n",
    "print(daily.forecast())\n",
    "print()\n",
    "\n",
    "print(\"Weekly:\")\n",
    "print(weekly.forecast())"
   ]
  },
  {
   "cell_type": "markdown",
   "metadata": {},
   "source": [
    "Note we could accomplish the same thing by importing only what we want from each module, but we will need to create an alias for each method since both the daily and weekly modules implement a module with the same name (`forecast`):"
   ]
  },
  {
   "cell_type": "code",
   "execution_count": 5,
   "metadata": {
    "collapsed": false
   },
   "outputs": [
    {
     "name": "stdout",
     "output_type": "stream",
     "text": [
      "Daily:\n",
      "Forecast for Berkeley, CA: Clear\n",
      "Current Temp: 81.14 degrees \n",
      "High Temp: 82.67 degrees \n",
      "Low Temp: 54.97 degrees\n",
      "\n",
      "\n",
      "Weekly:\n",
      "Forecast for Berkeley, CA on Saturday, August 22, 2015 12:00 PM local time\n",
      "Weather: Clear\n",
      "Current Temp: 81.14 degrees \n",
      "High Temp: 82.67 degrees \n",
      "Low Temp: 54.97 degrees\n",
      "\n",
      "Forecast for Berkeley, CA on Sunday, August 23, 2015 12:00 PM local time\n",
      "Weather: Clear\n",
      "Current Temp: 82.22 degrees \n",
      "High Temp: 83.41 degrees \n",
      "Low Temp: 56.59 degrees\n",
      "\n",
      "Forecast for Berkeley, CA on Monday, August 24, 2015 12:00 PM local time\n",
      "Weather: Clear\n",
      "Current Temp: 83.01 degrees \n",
      "High Temp: 85.73 degrees \n",
      "Low Temp: 57.34 degrees\n",
      "\n",
      "Forecast for Berkeley, CA on Tuesday, August 25, 2015 12:00 PM local time\n",
      "Weather: Clear\n",
      "Current Temp: 86.61 degrees \n",
      "High Temp: 88.48 degrees \n",
      "Low Temp: 57.87 degrees\n",
      "\n",
      "Forecast for Berkeley, CA on Wednesday, August 26, 2015 12:00 PM local time\n",
      "Weather: Rain\n",
      "Current Temp: 74.66 degrees \n",
      "High Temp: 84.61 degrees \n",
      "Low Temp: 52.2 degrees\n",
      "\n",
      "Forecast for Berkeley, CA on Thursday, August 27, 2015 12:00 PM local time\n",
      "Weather: Clear\n",
      "Current Temp: 79.74 degrees \n",
      "High Temp: 86.45 degrees \n",
      "Low Temp: 57.51 degrees\n",
      "\n",
      "Forecast for Berkeley, CA on Friday, August 28, 2015 12:00 PM local time\n",
      "Weather: Clear\n",
      "Current Temp: 81 degrees \n",
      "High Temp: 87.69 degrees \n",
      "Low Temp: 60.3 degrees\n"
     ]
    }
   ],
   "source": [
    "from weather.daily import forecast as daily_forecast\n",
    "from weather.weekly import forecast as weekly_forecast\n",
    "\n",
    "print(\"Daily:\")\n",
    "print(daily_forecast())\n",
    "print(\"\\n\")\n",
    "\n",
    "print(\"Weekly:\")\n",
    "print(weekly_forecast())"
   ]
  },
  {
   "cell_type": "markdown",
   "metadata": {},
   "source": [
    "##Note on datetimes in Python 3"
   ]
  },
  {
   "cell_type": "markdown",
   "metadata": {},
   "source": [
    "You may have noticed that the weather/weekly module had a number of lines of code to handle the date and time for the forecast. Time may be a simple concept for humans to understand, but there are so many different nuances that need to be explicitly built out in code. Here are a few of the nuances that need to be handled:\n",
    "\n",
    "1. Time zones: the same point in time can be a different date somewhere else in the world\n",
    "2. Calendars: there are different calendars other than the Gregorian calendar that we use\n",
    "3. Formatting time: how do you want to display the date and time? for example 8/21/15 3 pm, or 2015-08-15 15:00?\n",
    "4. Time deltas: If you add two days to August 30th, the object needs to be smart enough to know that the new date is September 1st and not August 32nd\n",
    "\n",
    "We're are introducing the core datetime object in Python 3 that will give you the ability to manipulate datetimes in python which will prove very useful in data mining. Let's focus on the pieces of code in the weather/weekly module that handle these issues:"
   ]
  },
  {
   "cell_type": "code",
   "execution_count": 7,
   "metadata": {
    "collapsed": false
   },
   "outputs": [
    {
     "ename": "TypeError",
     "evalue": "list indices must be integers, not str",
     "output_type": "error",
     "traceback": [
      "\u001b[0;31m---------------------------------------------------------------------------\u001b[0m",
      "\u001b[0;31mTypeError\u001b[0m                                 Traceback (most recent call last)",
      "\u001b[0;32m<ipython-input-7-8adebfca56c5>\u001b[0m in \u001b[0;36m<module>\u001b[0;34m()\u001b[0m\n\u001b[1;32m      1\u001b[0m \u001b[0;31m# Adding this line to ensure that this code works outside its context:\u001b[0m\u001b[0;34m\u001b[0m\u001b[0;34m\u001b[0m\u001b[0m\n\u001b[1;32m      2\u001b[0m \u001b[0mweatherData\u001b[0m \u001b[0;34m=\u001b[0m \u001b[0;34m[\u001b[0m\u001b[0;34m]\u001b[0m\u001b[0;34m\u001b[0m\u001b[0m\n\u001b[0;32m----> 3\u001b[0;31m \u001b[0mweatherData\u001b[0m\u001b[0;34m[\u001b[0m\u001b[0;34m\"dt\"\u001b[0m\u001b[0;34m]\u001b[0m \u001b[0;34m=\u001b[0m \u001b[0;36m1440270976\u001b[0m\u001b[0;34m\u001b[0m\u001b[0m\n\u001b[0m\u001b[1;32m      4\u001b[0m \u001b[0;34m\u001b[0m\u001b[0m\n\u001b[1;32m      5\u001b[0m \u001b[0;31m# First need to define the UTC offset for Berkeley, CA (UTC - 8:00)\u001b[0m\u001b[0;34m\u001b[0m\u001b[0;34m\u001b[0m\u001b[0m\n",
      "\u001b[0;31mTypeError\u001b[0m: list indices must be integers, not str"
     ]
    }
   ],
   "source": [
    "# Adding this line to ensure that this code works outside its context:\n",
    "weatherData = {}\n",
    "weatherData[\"dt\"] = 1440270976\n",
    "\n",
    "# First need to define the UTC offset for Berkeley, CA (UTC - 8:00)\n",
    "current_utc_offset = -datetime.timedelta(hours=8)\n",
    "\n",
    "# Next we create a timezone based on the utc offset for Pacific Standard Time\n",
    "current_timezone = datetime.timezone(current_utc_offset)\n",
    "\n",
    "# Last we create a datetime object based on the timestamp provided by the response, and\n",
    "# we localize the timezone to make it \"aware\"\n",
    "current_datetime = datetime.datetime.fromtimestamp(weatherData[\"dt\"], current_timezone)\n",
    "\n",
    "# Printing of the forecast\n",
    "\n",
    "# Note we use strftime to format how we would like to print out the datetime\n",
    "forecastStr = \"Forecast for Berkeley, CA on \" + current_datetime.strftime(\"%A, %B %d, %Y %H:%M %p\") + \" local time\\n\" \\"
   ]
  },
  {
   "cell_type": "code",
   "execution_count": null,
   "metadata": {
    "collapsed": true
   },
   "outputs": [],
   "source": []
  }
 ],
 "metadata": {
  "kernelspec": {
   "display_name": "Python 3",
   "language": "python",
   "name": "python3"
  },
  "language_info": {
   "codemirror_mode": {
    "name": "ipython",
    "version": 3
   },
   "file_extension": ".py",
   "mimetype": "text/x-python",
   "name": "python",
   "nbconvert_exporter": "python",
   "pygments_lexer": "ipython3",
   "version": "3.4.3"
  }
 },
 "nbformat": 4,
 "nbformat_minor": 0
}
