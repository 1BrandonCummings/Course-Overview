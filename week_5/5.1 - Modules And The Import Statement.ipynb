{
 "cells": [
  {
   "cell_type": "markdown",
   "metadata": {},
   "source": [
    "# Modules\n",
    "\n",
    "We have been focusing on running short scripts that fit into a single notebook or .py file.  As programs get more complicated, it becomes impractical to keep everything in one file.  Large programming teams need to be organized, with different people in charge of different files.  Even if you're working on your own, you may want to divide up your code into separate files in an intelligent way, so different functionality goes in different places.\n",
    "\n",
    "The main way that Python lets us use code in different places is with the import statement.  You've already used the import statement, for example, to import the string package, or numpy.  When you do this, you are bringing code that somebody else wrote into your own program.  Now we'll see how to modularize your own code so that you can use it in other scripts, or so that other programmers can use it."
   ]
  },
  {
   "cell_type": "markdown",
   "metadata": {},
   "source": [
    "## Standalone Programs"
   ]
  },
  {
   "cell_type": "markdown",
   "metadata": {},
   "source": [
    "First, let's review standalone programs.  Remember that we can create a .py file by using any text editor. In the directory where this iPython notebook is saved is a file called \"helloworld.py\". We could open a terminal window and run this by typing \n",
    "```\n",
    "python helloworld.py\n",
    "```"
   ]
  },
  {
   "cell_type": "markdown",
   "metadata": {},
   "source": [
    "Let's look into what helloworld.py looks like:"
   ]
  },
  {
   "cell_type": "code",
   "execution_count": 1,
   "metadata": {
    "collapsed": false
   },
   "outputs": [
    {
     "name": "stdout",
     "output_type": "stream",
     "text": [
      "Hello World, revisited\n"
     ]
    }
   ],
   "source": [
    "# helloworld.py\n",
    "# \n",
    "# This is our frist python script run from the command line as a standalone\n",
    "# application\n",
    "\n",
    "print(\"Hello World, revisited\")"
   ]
  },
  {
   "cell_type": "markdown",
   "metadata": {},
   "source": [
    "Python will also give you access to what are called \"program arguments,\" or additional data that you would like to pass to the program from the command line. There is a second program: showarguments.py in this same folder."
   ]
  },
  {
   "cell_type": "code",
   "execution_count": 2,
   "metadata": {
    "collapsed": false
   },
   "outputs": [
    {
     "name": "stdout",
     "output_type": "stream",
     "text": [
      "Program arguments: ['C:\\\\Python34\\\\lib\\\\site-packages\\\\ipykernel\\\\__main__.py', '-f', 'C:\\\\Users\\\\Kay Ashaolu\\\\AppData\\\\Roaming\\\\jupyter\\\\runtime\\\\kernel-902783f5-f50b-448c-b3c0-e2fac1188d4f.json']\n"
     ]
    }
   ],
   "source": [
    "# showargmuments.py\n",
    "# \n",
    "# Prints out the program arguments that have been passed into this standalone\n",
    "# application\n",
    "\n",
    "import sys # We need to import the sys module in order to gain access to the arguments\n",
    "\n",
    "print(\"Program arguments:\", sys.argv)"
   ]
  },
  {
   "cell_type": "markdown",
   "metadata": {},
   "source": [
    "Note the arguments that you see above. Every time this iPython notebook runs a python script it invokes python with a number of program arguments. It essentially runs in the shell the output of the following script:"
   ]
  },
  {
   "cell_type": "code",
   "execution_count": 3,
   "metadata": {
    "collapsed": false
   },
   "outputs": [
    {
     "name": "stdout",
     "output_type": "stream",
     "text": [
      "python C:\\Python34\\lib\\site-packages\\ipykernel\\__main__.py -f C:\\Users\\Kay Ashaolu\\AppData\\Roaming\\jupyter\\runtime\\kernel-902783f5-f50b-448c-b3c0-e2fac1188d4f.json \n"
     ]
    }
   ],
   "source": [
    "command_str = \"python \"\n",
    "for arg in sys.argv:\n",
    "    command_str += arg + \" \"\n",
    "\n",
    "print(command_str)"
   ]
  },
  {
   "cell_type": "markdown",
   "metadata": {},
   "source": [
    "The first path after the `python` command is the location of the python module, and the following paths and options are all program arguments passed to the running script."
   ]
  },
  {
   "cell_type": "markdown",
   "metadata": {},
   "source": [
    "## Modules and the import Statement"
   ]
  },
  {
   "cell_type": "markdown",
   "metadata": {},
   "source": [
    "In Python, a module is just another name for a .py file - we use the word module when we import the file into another script.  To demonstrate this, let's create a more useful module, one that returns the weather report for Berkeley, California. In this directory, you'll find the weatherman.py script.  It defines a get_report function that sends a request to openweathermap.org to get weather information for Berkeley. We haven't covered sending requests over the Internet or dealing with the JSON file format, so this code may be a bit confusing for the time being."
   ]
  },
  {
   "cell_type": "code",
   "execution_count": 4,
   "metadata": {
    "collapsed": false
   },
   "outputs": [],
   "source": [
    "# weatherman.py\n",
    "# \n",
    "# Provides the current forecast for the weather in Berkeley, California\n",
    "\n",
    "from urllib.request import urlopen\n",
    "import json\n",
    "\n",
    "def get_report():\n",
    "    \"\"\"\n",
    "    Returns the current forecast of Berkeley right now\n",
    "    \"\"\"\n",
    "    response = urlopen(\n",
    "        'http://api.openweathermap.org/data/2.5/weather?q=Berkeley,ca')\n",
    "    rawWeatherData = response.read().decode(\"utf-8\")\n",
    "    weatherData = json.loads(rawWeatherData)\n",
    "\n",
    "    forecast = \"Berkeley, CA Forecast: \" + weatherData[\"weather\"][0][\"main\"]\n",
    "    return forecast"
   ]
  },
  {
   "cell_type": "markdown",
   "metadata": {},
   "source": [
    "Now let's try importing our weatherman module into this notebook and using it to print the weather."
   ]
  },
  {
   "cell_type": "code",
   "execution_count": 5,
   "metadata": {
    "collapsed": false
   },
   "outputs": [
    {
     "name": "stdout",
     "output_type": "stream",
     "text": [
      "Berkeley, CA Forecast: Rain\n"
     ]
    }
   ],
   "source": [
    "import weatherman\n",
    "\n",
    "print(weatherman.get_report())"
   ]
  },
  {
   "cell_type": "markdown",
   "metadata": {},
   "source": [
    "Notice that we actually used imports in three places: the first two instances can be found in the weatherman.py file itself. We imported the urlopen function from the urllib.request module in order to make the request to the openweather.org servers. We then included the json module to enable us to create json objects from strings. We need this functionality to convert the response from the openweather.org servers to a set of dictionaries that we can navgate with python. Then in this iPython notebook, we  imported the weatherman module from the weatherman.py file to use it above.\n",
    "\n",
    "The import statement makes it easy for us to use powerful modules that other people have written in our own applications. It also allows us to write our own modules and use the same code over and over again. That way we don't have to copy code into many places."
   ]
  },
  {
   "cell_type": "markdown",
   "metadata": {},
   "source": [
    "There are several ways to import an external module:\n",
    "\n",
    "### 1. Import a specific function directly from the external module"
   ]
  },
  {
   "cell_type": "code",
   "execution_count": 6,
   "metadata": {
    "collapsed": false
   },
   "outputs": [
    {
     "name": "stdout",
     "output_type": "stream",
     "text": [
      "Berkeley, CA Forecast: Rain\n"
     ]
    }
   ],
   "source": [
    "from weatherman import get_report\n",
    "\n",
    "print(get_report())"
   ]
  },
  {
   "cell_type": "markdown",
   "metadata": {},
   "source": [
    "In this case, we imported the specific function that we need from the weatherman module.  Notice that we can then call it without writing weatherman in front of it, as though we defined it in the same script.  You should be careful when doing this, however.  If two different modules both have a function with the same name, you'll have a conflict.\n",
    "\n",
    "### 2. Import the module name to avoid naming conlficts"
   ]
  },
  {
   "cell_type": "code",
   "execution_count": 7,
   "metadata": {
    "collapsed": false
   },
   "outputs": [
    {
     "name": "stdout",
     "output_type": "stream",
     "text": [
      "Berkeley, CA Forecast: Rain\n"
     ]
    }
   ],
   "source": [
    "import weatherman\n",
    "\n",
    "print(weatherman.get_report())"
   ]
  },
  {
   "cell_type": "markdown",
   "metadata": {},
   "source": [
    "This is a safer way to import modules.  When we import the weatherman module as a whole, we are protected from potential naming conflicts because we can only access a method by writing the name of the module first. On the other hand, this strategy imports everything within the module `weatherman` which may include things you don't want.\n",
    "\n",
    "### 3. Import only what you want from a module by renaming the function"
   ]
  },
  {
   "cell_type": "code",
   "execution_count": 8,
   "metadata": {
    "collapsed": false
   },
   "outputs": [
    {
     "name": "stdout",
     "output_type": "stream",
     "text": [
      "Berkeley, CA Forecast: Rain\n"
     ]
    }
   ],
   "source": [
    "from weatherman import get_report as do_it\n",
    "\n",
    "print(do_it())"
   ]
  },
  {
   "cell_type": "markdown",
   "metadata": {},
   "source": [
    "Here, we import only what we need from the weatherman module (get_report) and then rename it (to do_it) to avoid any naming conflicts.  Be aware that renaming functions can make it harder to read your code - it's usually best to avoid this unless you really have a naming conflict."
   ]
  },
  {
   "cell_type": "markdown",
   "metadata": {},
   "source": [
    "## Note on Module Search Path"
   ]
  },
  {
   "cell_type": "markdown",
   "metadata": {},
   "source": [
    "When you use an import statement, Python has a list of places that it looks to find the module you want. First, python will look at your current directory to see if there are any modules and packages there with the right name (more on packages in the next section). After that, python will look at a set of directories that are defined in a special module: `sys.path`.\n",
    "\n",
    "We can take a look at what is in my computer's sys.path with the following code:"
   ]
  },
  {
   "cell_type": "code",
   "execution_count": 9,
   "metadata": {
    "collapsed": false
   },
   "outputs": [
    {
     "name": "stdout",
     "output_type": "stream",
     "text": [
      "\n",
      "C:\\Windows\\SYSTEM32\\python34.zip\n",
      "C:\\Python34\\DLLs\n",
      "C:\\Python34\\lib\n",
      "C:\\Python34\n",
      "C:\\Python34\\lib\\site-packages\n",
      "C:\\Python34\\lib\\site-packages\\IPython\\extensions\n",
      "C:\\Users\\Kay Ashaolu\\.ipython\n"
     ]
    }
   ],
   "source": [
    "import sys\n",
    "for place in sys.path:\n",
    "    print(place)"
   ]
  },
  {
   "cell_type": "markdown",
   "metadata": {},
   "source": [
    "Python can find modules and packages in directories or even in zip files as well. Remember though that your packages that are in the same directory get precedence over the system included packages. We will go over how to create your own pacakges in the next section."
   ]
  }
 ],
 "metadata": {
  "kernelspec": {
   "display_name": "Python 3",
   "language": "python",
   "name": "python3"
  },
  "language_info": {
   "codemirror_mode": {
    "name": "ipython",
    "version": 3
   },
   "file_extension": ".py",
   "mimetype": "text/x-python",
   "name": "python",
   "nbconvert_exporter": "python",
   "pygments_lexer": "ipython3",
   "version": "3.4.3"
  }
 },
 "nbformat": 4,
 "nbformat_minor": 0
}
