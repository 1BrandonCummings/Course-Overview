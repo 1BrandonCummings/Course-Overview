{
 "cells": [
  {
   "cell_type": "markdown",
   "metadata": {},
   "source": [
    "## Namespaces"
   ]
  },
  {
   "cell_type": "code",
   "execution_count": null,
   "metadata": {
    "collapsed": true
   },
   "outputs": [],
   "source": [
    "## Demonstrates that local variables and global variables\n",
    "## can have the same name.  This can be confusing!\n",
    "def add_one(x):\n",
    "    x = x + 1 # a parameter is always a local variable\n",
    "    y = x + 1 # assignment: this creates a local variable, y\n",
    "    print('In the function, x =', x)\n",
    "    print('In the function, y =', y)\n",
    "    return x\n",
    "\n",
    "x = 3\n",
    "y = 3\n",
    "result = add_one(x)\n",
    "print('the function returns', result)\n",
    "print('outside the function, x =', x)\n",
    "print('outside the function, y =', y)\n",
    "\n",
    "\n",
    "##Demonstrates reading global variables from inside function\n",
    "def add_y(x):\n",
    "    x = x + y # there is no local y, so the global value is used\n",
    "    print('In the function, x =', x)\n",
    "    print('In the function, y =', y)\n",
    "    return x\n",
    "\n",
    "x = 3\n",
    "y = 5\n",
    "result = add_y(x)\n",
    "print('the function returns', result)\n",
    "print('outside the function, x =', x)\n",
    "print('outside the function, y =', y)"
   ]
  }
 ],
 "metadata": {
  "kernelspec": {
   "display_name": "Python 3",
   "language": "python",
   "name": "python3"
  },
  "language_info": {
   "codemirror_mode": {
    "name": "ipython",
    "version": 3
   },
   "file_extension": ".py",
   "mimetype": "text/x-python",
   "name": "python",
   "nbconvert_exporter": "python",
   "pygments_lexer": "ipython3",
   "version": "3.4.3"
  }
 },
 "nbformat": 4,
 "nbformat_minor": 0
}
