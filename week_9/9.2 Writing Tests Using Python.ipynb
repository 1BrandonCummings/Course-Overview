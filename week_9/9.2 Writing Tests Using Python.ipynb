{
 "cells": [
  {
   "cell_type": "markdown",
   "metadata": {},
   "source": [
    "# Basic Testing Using Python"
   ]
  },
  {
   "cell_type": "markdown",
   "metadata": {},
   "source": [
    "As we have mentioned in the previous module, we want to write automated tests because it ensures that current funcitonality is working as expected as we continue to update the code for future requirements. Also the practice of writing tests forces us to write easy to maintain code since you are forced to architect your code in a modular way.\n",
    "\n",
    "In this section we are going to talk about how to write tests for the code that you write."
   ]
  },
  {
   "cell_type": "markdown",
   "metadata": {},
   "source": [
    "## Simple Class"
   ]
  },
  {
   "cell_type": "markdown",
   "metadata": {},
   "source": [
    "Consider the following module:"
   ]
  },
  {
   "cell_type": "code",
   "execution_count": 4,
   "metadata": {
    "collapsed": false
   },
   "outputs": [],
   "source": [
    "class StringUtility(object):\n",
    "    \n",
    "    def reverse(self, data):\n",
    "        \"\"\"\n",
    "        Return the reverse of the string\n",
    "        \"\"\"\n",
    "        return data[::-1]\n",
    "    \n",
    "    def char_frequency(self, data, char):\n",
    "        \"\"\"\n",
    "        Return the number times char is in data\n",
    "        \"\"\"\n",
    "        return data.count(char)\n",
    "    \n",
    "    def is_palindrone(self, data):\n",
    "        \"\"\"\n",
    "        Returns true if data is a palidrone, false otherwise\n",
    "        \"\"\"\n",
    "        return data == data[::-1]"
   ]
  },
  {
   "cell_type": "markdown",
   "metadata": {},
   "source": [
    "We have here a simple class StringUtility that has three functions: reverse, char_frequency, and is_palidrone. We can do this in a few ways as so:"
   ]
  },
  {
   "cell_type": "code",
   "execution_count": 5,
   "metadata": {
    "collapsed": false
   },
   "outputs": [
    {
     "name": "stdout",
     "output_type": "stream",
     "text": [
      "gnirtS tseT\n"
     ]
    }
   ],
   "source": [
    "stringUtil = StringUtility()\n",
    "\n",
    "print(stringUtil.reverse(\"Test String\"))"
   ]
  },
  {
   "cell_type": "code",
   "execution_count": 6,
   "metadata": {
    "collapsed": false
   },
   "outputs": [
    {
     "name": "stdout",
     "output_type": "stream",
     "text": [
      "2\n"
     ]
    }
   ],
   "source": [
    "print(stringUtil.char_frequency(\"Test String\", \"t\"))"
   ]
  },
  {
   "cell_type": "markdown",
   "metadata": {},
   "source": [
    "Note: the char \"t\" is different from the char \"T\", so the count is 2 instead of 3"
   ]
  },
  {
   "cell_type": "code",
   "execution_count": 7,
   "metadata": {
    "collapsed": false
   },
   "outputs": [
    {
     "name": "stdout",
     "output_type": "stream",
     "text": [
      "False\n"
     ]
    }
   ],
   "source": [
    "print(stringUtil.is_palindrone(\"Test String\"))"
   ]
  },
  {
   "cell_type": "code",
   "execution_count": 8,
   "metadata": {
    "collapsed": false
   },
   "outputs": [
    {
     "name": "stdout",
     "output_type": "stream",
     "text": [
      "True\n"
     ]
    }
   ],
   "source": [
    "print(stringUtil.is_palindrone(\"otto\"))"
   ]
  },
  {
   "cell_type": "markdown",
   "metadata": {},
   "source": [
    "## Simple Test Class"
   ]
  },
  {
   "cell_type": "markdown",
   "metadata": {},
   "source": [
    "This module already has the above StringUtility "
   ]
  },
  {
   "cell_type": "markdown",
   "metadata": {},
   "source": [
    "Let's test this simple class with a simple test module:"
   ]
  },
  {
   "cell_type": "code",
   "execution_count": 17,
   "metadata": {
    "collapsed": false
   },
   "outputs": [
    {
     "name": "stderr",
     "output_type": "stream",
     "text": [
      "..."
     ]
    },
    {
     "name": "stdout",
     "output_type": "stream",
     "text": [
      "test\n",
      "test\n",
      "test\n"
     ]
    },
    {
     "name": "stderr",
     "output_type": "stream",
     "text": [
      "\n",
      "----------------------------------------------------------------------\n",
      "Ran 3 tests in 0.001s\n",
      "\n",
      "OK\n"
     ]
    }
   ],
   "source": [
    "import unittest\n",
    "\n",
    "class TestStringUtility(unittest.TestCase):\n",
    "    \n",
    "    def setUp(self):\n",
    "        self.stringUtil = StringUtility()\n",
    "    \n",
    "    def test_reverse(self):\n",
    "        self.assertEqual(self.stringUtil.reverse(\"Test String\"), \"gnirtS tseT\")\n",
    "        self.assertEqual(self.stringUtil.reverse(\"Otto\"), \"ottO\")\n",
    "        self.assertEqual(self.stringUtil.reverse(\"\"), \"\")\n",
    "        self.assertEqual(self.stringUtil.reverse(\"  \"), \"  \")\n",
    "        \n",
    "    def test_char_frequency(self):\n",
    "        self.assertEqual(self.stringUtil.char_frequency(\"Test String\", \"t\"), 2)\n",
    "        \n",
    "    def test_is_palindrone(self):\n",
    "        self.assertTrue(self.stringUtil.is_palindrone(\"otto\"))\n",
    "\n",
    "\n",
    "if __name__ == \"__main__\":\n",
    "    testStringUtil = TestStringUtility()\n",
    "    suite = unittest.TestLoader().loadTestsFromModule(testStringUtil)\n",
    "    unittest.TextTestRunner().run(suite)\n"
   ]
  },
  {
   "cell_type": "markdown",
   "metadata": {
    "collapsed": false
   },
   "source": [
    "This module is dedicated to testing the StringUtility module. We import the unittest module that is in the Python Standard Library in order to have access to the modules that we need in order to create the tests that we want to create.\n",
    "\n",
    "We subclass the class unittest.TestCase in order to create a testcase for our module.\n",
    "\n",
    "### Builtin classes of TestCase\n",
    "\n",
    "We first use one of the builtin classes of TestCase: \n",
    "\n",
    "`setUp(self)`\n",
    "\n",
    "That runs before any tests that are done, and it is run for each individual test. You can use this function to create any objects that you need in order to run your test. In this case we create an instance of the StringUtility class so that our test can test the StringUtility class.\n",
    "\n",
    "There is also a class that runs at the end of every test: `tearDown(self)` that is run at the end of every test. You can use this function to do any cleanup you need to do, such as close a connection to a database.\n",
    "\n",
    "### Test functions\n",
    "\n",
    "We then create functions by appending \"test_\" to the function in order to test that particular function. I.e: \"test_reverse(self)\" is testing the StringUtility.reverse(self) function.\n",
    "\n",
    "We then use assertions to verify the StringUtility functions are functioning correctly. \n",
    "\n",
    "self.assertEqual tests whether two expression are equal and passes a test if they are and fails the test if they are not equal.\n",
    "\n",
    "So with the statement: \n",
    "`self.assertEqual(self.stringUtil.reverse(\"Test String\"), \"gnirtS tseT\")`\n",
    "\n",
    "We are testing wether the stringUtil.reverse function's result is what the expected result should be, which we add to the second operand of the function call. There are a whole set of [assert functions that you can use](https://docs.python.org/3/library/unittest.html#unittest.TestCase.assertEqual)\n",
    "\n",
    "### Running tests\n",
    "\n",
    "There are a few ways that we can run our TestCases: we can explicitly create our TestSuite:\n",
    "\n",
    "`suite = unittest.TestLoader().loadTestsFromModule(testStringUtil)`\n",
    "\n",
    "that we pass to a TestRunner to run our tests.\n",
    "\n",
    "`unittest.TextTestRunner().run(suite)`\n",
    "\n",
    "Typically we use the TextTestRunner to run our tests and prints out the results in plain text.\n",
    "\n",
    "Next we will get into a more advanced example where we have to create fake objects in order to test functions."
   ]
  }
 ],
 "metadata": {
  "kernelspec": {
   "display_name": "Python 3",
   "language": "python",
   "name": "python3"
  },
  "language_info": {
   "codemirror_mode": {
    "name": "ipython",
    "version": 3
   },
   "file_extension": ".py",
   "mimetype": "text/x-python",
   "name": "python",
   "nbconvert_exporter": "python",
   "pygments_lexer": "ipython3",
   "version": "3.5.0"
  }
 },
 "nbformat": 4,
 "nbformat_minor": 0
}
