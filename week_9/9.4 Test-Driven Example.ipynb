{
 "cells": [
  {
   "cell_type": "markdown",
   "metadata": {},
   "source": [
    "# Basic Testing Using Python"
   ]
  },
  {
   "cell_type": "markdown",
   "metadata": {},
   "source": [
    "As we have mentioned in the previous module, we want to write automated tests because it ensures that current functionality is working as expected as we continue to update the code for future requirements. Also, the practice of writing tests forces us to write easy-to-maintain code since you are forced to architect your code in a modular way.\n",
    "\n",
    "In this section we are going to talk about how to write tests for the code that you write."
   ]
  },
  {
   "cell_type": "markdown",
   "metadata": {},
   "source": [
    "## Simple Class"
   ]
  },
  {
   "cell_type": "markdown",
   "metadata": {},
   "source": [
    "Consider the module below."
   ]
  },
  {
   "cell_type": "code",
   "execution_count": 1,
   "metadata": {
    "collapsed": false
   },
   "outputs": [],
   "source": [
    "class StringUtility(object):\n",
    "    \n",
    "    def reverse(self, data):\n",
    "        \"\"\"\n",
    "        Return the reverse of the string\n",
    "        \"\"\"\n",
    "        return data[::-1]\n",
    "    \n",
    "    def char_frequency(self, data, char):\n",
    "        \"\"\"\n",
    "        Return the number times char is in data\n",
    "        \"\"\"\n",
    "        return data.count(char)\n",
    "    \n",
    "    def is_palindrone(self, data):\n",
    "        \"\"\"\n",
    "        Returns true if data is a palidrone, false otherwise\n",
    "        \"\"\"\n",
    "        return data == data[::-1]"
   ]
  },
  {
   "cell_type": "markdown",
   "metadata": {},
   "source": [
    "We have here a simple class StringUtility that has three functions: reverse, char_frequency, and is_palidrone. We can do this in a few ways, as shown below."
   ]
  },
  {
   "cell_type": "code",
   "execution_count": 2,
   "metadata": {
    "collapsed": false
   },
   "outputs": [
    {
     "name": "stdout",
     "output_type": "stream",
     "text": [
      "gnirtS tseT\n"
     ]
    }
   ],
   "source": [
    "stringUtil = StringUtility()\n",
    "\n",
    "print(stringUtil.reverse(\"Test String\"))"
   ]
  },
  {
   "cell_type": "code",
   "execution_count": 3,
   "metadata": {
    "collapsed": false
   },
   "outputs": [
    {
     "name": "stdout",
     "output_type": "stream",
     "text": [
      "2\n"
     ]
    }
   ],
   "source": [
    "print(stringUtil.char_frequency(\"Test String\", \"t\"))"
   ]
  },
  {
   "cell_type": "markdown",
   "metadata": {},
   "source": [
    "Note: The char \"t\" is different from the char \"T\", so the count is 2 instead of 3."
   ]
  },
  {
   "cell_type": "code",
   "execution_count": 4,
   "metadata": {
    "collapsed": false
   },
   "outputs": [
    {
     "name": "stdout",
     "output_type": "stream",
     "text": [
      "False\n"
     ]
    }
   ],
   "source": [
    "print(stringUtil.is_palindrone(\"Test String\"))"
   ]
  },
  {
   "cell_type": "code",
   "execution_count": 5,
   "metadata": {
    "collapsed": false
   },
   "outputs": [
    {
     "name": "stdout",
     "output_type": "stream",
     "text": [
      "True\n"
     ]
    }
   ],
   "source": [
    "print(stringUtil.is_palindrone(\"otto\"))"
   ]
  },
  {
   "cell_type": "markdown",
   "metadata": {},
   "source": [
    "## Simple Test Class"
   ]
  },
  {
   "cell_type": "markdown",
   "metadata": {},
   "source": [
    "This module already has the above StringUtility. "
   ]
  },
  {
   "cell_type": "markdown",
   "metadata": {},
   "source": [
    "Let's test this simple class with a simple test module."
   ]
  },
  {
   "cell_type": "code",
   "execution_count": 6,
   "metadata": {
    "collapsed": false
   },
   "outputs": [
    {
     "name": "stderr",
     "output_type": "stream",
     "text": [
      "...\n",
      "----------------------------------------------------------------------\n",
      "Ran 3 tests in 0.001s\n",
      "\n",
      "OK\n"
     ]
    }
   ],
   "source": [
    "import unittest\n",
    "\n",
    "class TestStringUtility(unittest.TestCase):\n",
    "    \n",
    "    def setUp(self):\n",
    "        self.stringUtil = StringUtility()\n",
    "    \n",
    "    def test_reverse(self):\n",
    "        self.assertEqual(self.stringUtil.reverse(\"Test String\"), \"gnirtS tseT\")\n",
    "        self.assertEqual(self.stringUtil.reverse(\"Otto\"), \"ottO\")\n",
    "        self.assertEqual(self.stringUtil.reverse(\"\"), \"\")\n",
    "        self.assertEqual(self.stringUtil.reverse(\"  \"), \"  \")\n",
    "        \n",
    "    def test_char_frequency(self):\n",
    "        self.assertEqual(self.stringUtil.char_frequency(\"Test String\", \"t\"), 2)\n",
    "        \n",
    "    def test_is_palindrone(self):\n",
    "        self.assertTrue(self.stringUtil.is_palindrone(\"otto\"))\n",
    "\n",
    "\n",
    "if __name__ == \"__main__\":\n",
    "    testStringUtil = TestStringUtility()\n",
    "    suite = unittest.TestLoader().loadTestsFromModule(testStringUtil)\n",
    "    unittest.TextTestRunner().run(suite)\n"
   ]
  },
  {
   "cell_type": "markdown",
   "metadata": {
    "collapsed": false
   },
   "source": [
    "This module is dedicated to testing the StringUtility module. We import the unittest module that is in the Python standard library in order to have access to the modules that we need so we can create the tests that we want to create.\n",
    "\n",
    "We subclass the class unittest.TestCase in order to create a testcase for our module.\n",
    "\n",
    "### Built-in classes of TestCase\n",
    "\n",
    "We first use one of the built-in classes of TestCase: \n",
    "\n",
    "`setUp(self)`\n",
    "\n",
    "That runs before any tests are done, and it is run for each individual test. You can use this function to create any objects that you need in order to run your test. In this case, we create an instance of the StringUtility class so that our test can test the StringUtility class.\n",
    "\n",
    "There is also a class that runs at the end of every test: `tearDown(self)`. You can use this function to do any needed cleanup, such as closing a connection to a database.\n",
    "\n",
    "### Test functions\n",
    "\n",
    "We then create functions by appending \"test_\" to the function in order to test that particular function. For example, \"test_reverse(self)\" is testing the StringUtility.reverse(self) function.\n",
    "*Italic generated but not wanted.*\n",
    "\n",
    "We then use assertions to verify that the StringUtility functions are functioning correctly. \n",
    "\n",
    "self.assertEqual tests whether two expressions are equal and passes a test if they are and fails the test if they are not.\n",
    "\n",
    "With the statement: \n",
    "`self.assertEqual(self.stringUtil.reverse(\"Test String\"), \"gnirtS tseT\")`\n",
    "\n",
    "we are testing whether the stringUtil.reverse function's result is what the expected result should be, which we add to the second operand of the function call. There is a whole set of [assert functions that you can use](https://docs.python.org/3/library/unittest.html#unittest.TestCase.assertEqual)."
   ]
  },
  {
   "cell_type": "markdown",
   "metadata": {},
   "source": [
    "### Running tests from the command line\n",
    "\n",
    "There are a few ways that we can run test cases. We can explicitly create our TestSuite:\n",
    "\n",
    "`suite = unittest.TestLoader().loadTestsFromModule(testStringUtil)`\n",
    "\n",
    "that we pass to a TestRunner to run our tests.\n",
    "\n",
    "`unittest.TextTestRunner().run(suite)`\n",
    "\n",
    "Typically we use the TextTestRunner to run our tests and print out the results in plaintext."
   ]
  },
  {
   "cell_type": "markdown",
   "metadata": {},
   "source": [
    "Typically you would run your test cases from the command line, so the StringUtility and TestStringUtility classes have been saved in the stringutility folder."
   ]
  },
  {
   "cell_type": "code",
   "execution_count": 7,
   "metadata": {
    "collapsed": false
   },
   "outputs": [
    {
     "name": "stdout",
     "output_type": "stream",
     "text": [
      "class StringUtility(object):\r\n",
      "    \r\n",
      "    def reverse(self, data):\r\n",
      "        \"\"\"\r\n",
      "        Return the reverse of the string\r\n",
      "        \"\"\"\r\n",
      "        return data[::-1]\r\n",
      "    \r\n",
      "    def char_frequency(self, data, char):\r\n",
      "        \"\"\"\r\n",
      "        Return the number times char is in data\r\n",
      "        \"\"\"\r\n",
      "        return data.count(char)\r\n",
      "    \r\n",
      "    def is_palindrone(self, data):\r\n",
      "        \"\"\"\r\n",
      "        Returns true if data is a palidrone, false otherwise\r\n",
      "        \"\"\"\r\n",
      "        return data == data[::-1]"
     ]
    }
   ],
   "source": [
    "!cat stringutility/stringutility.py"
   ]
  },
  {
   "cell_type": "code",
   "execution_count": 8,
   "metadata": {
    "collapsed": false
   },
   "outputs": [
    {
     "name": "stdout",
     "output_type": "stream",
     "text": [
      "import unittest\r\n",
      "from stringutility import StringUtility\r\n",
      "\r\n",
      "class TestStringUtility(unittest.TestCase):\r\n",
      "    \r\n",
      "    def setUp(self):\r\n",
      "        self.stringUtil = StringUtility()\r\n",
      "    \r\n",
      "    def test_reverse(self):\r\n",
      "        self.assertEqual(self.stringUtil.reverse(\"Test String\"), \"gnirtS tseT\")\r\n",
      "        self.assertEqual(self.stringUtil.reverse(\"Otto\"), \"ottO\")\r\n",
      "        self.assertEqual(self.stringUtil.reverse(\"\"), \"\")\r\n",
      "        self.assertEqual(self.stringUtil.reverse(\"  \"), \"  \")\r\n",
      "        \r\n",
      "    def test_char_frequency(self):\r\n",
      "        self.assertEqual(self.stringUtil.char_frequency(\"Test String\", \"t\"), 2)\r\n",
      "        \r\n",
      "    def test_is_palindrone(self):\r\n",
      "        self.assertTrue(self.stringUtil.is_palindrone(\"otto\"))\r\n",
      "\r\n",
      "\r\n",
      "if __name__ == \"__main__\":\r\n",
      "    testStringUtil = TestStringUtility()\r\n",
      "    suite = unittest.TestLoader().loadTestsFromModule(testStringUtil)\r\n",
      "    unittest.TextTestRunner().run(suite)"
     ]
    }
   ],
   "source": [
    "!cat stringutility/test_stringutility.py"
   ]
  },
  {
   "cell_type": "markdown",
   "metadata": {},
   "source": [
    "Note one difference between this code and the code in this IPython Notebook: In test_stringutility.py, we had to import the module explicitly as we would normally have to do for any regular module. We did not have to do that with the IPython Notebook because the StringUtility class was loaded into memory when we first defined it."
   ]
  },
  {
   "cell_type": "markdown",
   "metadata": {},
   "source": [
    "We can now run the same test we ran within the IPython Notebook using the commands below."
   ]
  },
  {
   "cell_type": "code",
   "execution_count": 9,
   "metadata": {
    "collapsed": false
   },
   "outputs": [
    {
     "name": "stdout",
     "output_type": "stream",
     "text": [
      "...\r\n",
      "----------------------------------------------------------------------\r\n",
      "Ran 3 tests in 0.000s\r\n",
      "\r\n",
      "OK\r\n"
     ]
    }
   ],
   "source": [
    "!python -m unittest discover stringutility"
   ]
  },
  {
   "cell_type": "markdown",
   "metadata": {},
   "source": [
    "This command is using Python's built-in unittest discovery functionality that will automatically seek out Python files that have the word \"test\" in front of them and run them together as tests. After we invoke `unittest discover`, we have to specify the root folder where we want Python to look for tests."
   ]
  },
  {
   "cell_type": "markdown",
   "metadata": {},
   "source": [
    "This was a simple introduction to how to write tests for code. Another aspect to look into is mock objects, which are fake objects that you can create to help you isloate your tests and not require you to re-create every object your code may need to execute. For example, if you wanted to write a test for a function that sends an HTTP request to the GitHub API, you can create a mock object that simulates that call but never actually makes an HTTP request. If you are interested, you can take a look at the [Python standard library](https://docs.python.org/3/library/unittest.mock.html) for how Python supports mock objects.\n",
    "\n",
    "Now that you can write robust tests for your code, let's look into the project."
   ]
  }
 ],
 "metadata": {
  "kernelspec": {
   "display_name": "Python 3",
   "language": "python",
   "name": "python3"
  },
  "language_info": {
   "codemirror_mode": {
    "name": "ipython",
    "version": 3
   },
   "file_extension": ".py",
   "mimetype": "text/x-python",
   "name": "python",
   "nbconvert_exporter": "python",
   "pygments_lexer": "ipython3",
   "version": "3.4.3"
  }
 },
 "nbformat": 4,
 "nbformat_minor": 0
}
